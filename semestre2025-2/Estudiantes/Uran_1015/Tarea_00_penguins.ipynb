{
  "nbformat": 4,
  "nbformat_minor": 0,
  "metadata": {
    "colab": {
      "private_outputs": true,
      "provenance": []
    },
    "kernelspec": {
      "name": "python3",
      "display_name": "Python 3"
    },
    "language_info": {
      "name": "python"
    }
  },
  "cells": [
    {
      "cell_type": "markdown",
      "source": [
        "#**Salomon Uran Parra C.C. 1015068767**"
      ],
      "metadata": {
        "id": "sOmDY3oTpO1S"
      }
    },
    {
      "cell_type": "markdown",
      "source": [
        "#**Tarea 0 de Aprendizaje Estadístico: Dataset de pingüinos y Pandas**"
      ],
      "metadata": {
        "id": "pImi8okwpUKZ"
      }
    },
    {
      "cell_type": "code",
      "source": [
        "import pandas as pd\n",
        "import seaborn as sns\n",
        "from scipy.stats import pearsonr\n",
        "import numpy as np\n",
        "import matplotlib.pyplot as plt\n",
        "\n",
        "df = sns.load_dataset('penguins')"
      ],
      "metadata": {
        "id": "CTnreKaMpo3C"
      },
      "execution_count": null,
      "outputs": []
    },
    {
      "cell_type": "markdown",
      "source": [
        "## **Primera aproximación a los datos de forma general y su limpieza:**"
      ],
      "metadata": {
        "id": "nP9UlCNDppXC"
      }
    },
    {
      "cell_type": "markdown",
      "source": [
        "### **1. ¿Cuántas especies diferentes de pingüinos hay en el dataset? ¿Que caracteristicas de los pinguinos se dan para cada especie?**"
      ],
      "metadata": {
        "id": "R66GUdylptqJ"
      }
    },
    {
      "cell_type": "markdown",
      "source": [
        "La función unique() de pandas arroja una lista con los elementos que se repiten a lo largo de la columna seleccionada del dataframe 'species'. En este caso, al usar unique().tolist() se obtiene una lista con las únicas especies que se nombra en la columna."
      ],
      "metadata": {
        "id": "oXhdJiDSpv0p"
      }
    },
    {
      "cell_type": "code",
      "source": [
        "df['species'].unique().tolist()"
      ],
      "metadata": {
        "id": "d2kKZXk0p1K7"
      },
      "execution_count": null,
      "outputs": []
    },
    {
      "cell_type": "markdown",
      "source": [
        "Así, según el output anterior, las 3 especies de pingüinos presentes en el dataframe son Adelie, Chinstrap y Gentoo.\n",
        "\n",
        "Además, las características dadas para los pingüinos en cada registro se pueden obtener al imprimir los nombres de las columnas del dataframe. Esto se hace con columns:"
      ],
      "metadata": {
        "id": "Lf20-TSrp3IS"
      }
    },
    {
      "cell_type": "code",
      "source": [
        "df.columns.tolist()"
      ],
      "metadata": {
        "id": "NvOd4aJ9qBFa"
      },
      "execution_count": null,
      "outputs": []
    },
    {
      "cell_type": "markdown",
      "source": [
        "Así, para cada pingüino, se está dando su especie, isla en donde fue observado, la longitud y profundidad del pico en mm (milímetros), longitud de la aleta en mm, masa del cuerpo en g (gramos) y sexo."
      ],
      "metadata": {
        "id": "ga3ipXm7qCsT"
      }
    },
    {
      "cell_type": "markdown",
      "source": [
        "### **2. ¿Hay valores faltantes en las variables? Determine una estrategie de limpieza y apliquela.**"
      ],
      "metadata": {
        "id": "v-i7lAzlqHrL"
      }
    },
    {
      "cell_type": "markdown",
      "source": [
        "Para saber si en el dataframe hay datos nulos o faltantes, se usa la función isnull(), que para cada dato del df arroja False si hay un dato no nulo y True en caso de que lo haya. Luego se puede emplear any() o sum() para saber si para cada columna hay datos nulos o cuantos de estos hay:"
      ],
      "metadata": {
        "id": "z_gyvIHHqJ2y"
      }
    },
    {
      "cell_type": "code",
      "source": [
        "display(df.isnull().any())\n",
        "display(df.isnull().sum())"
      ],
      "metadata": {
        "id": "uJj_Gc68qPHV"
      },
      "execution_count": null,
      "outputs": []
    },
    {
      "cell_type": "markdown",
      "source": [
        "Una vez que sabemos que hay datos nulos, se puede emplear distintas estrategias de limpieza. Por ejemplo, podríamos reemplazar cada dato nulo por un remuestreo del resto de datos presentes en el dataframe (bootstrap). Sin embargo, en este caso, debido a la poca cantidad de registros con datos faltantes (11 registros) en comparación con el total de registros del df (344), se puede optar por eliminar los registros que posean información faltante."
      ],
      "metadata": {
        "id": "HF9Z_ZeeqRNb"
      }
    },
    {
      "cell_type": "code",
      "source": [
        "#Este es el numero de registros que hay en el dataframe originalmente\n",
        "print('Hay un total de',df.shape[0], 'registros en el dataframe')\n",
        "\n",
        "display(df)"
      ],
      "metadata": {
        "id": "satDWCWZqYO3"
      },
      "execution_count": null,
      "outputs": []
    },
    {
      "cell_type": "markdown",
      "source": [
        "La función drop(index, inplace) permite eliminar la fila con índice index del dataframe. Si inplace = True, drop() modifica directamente el dataframe en donde está siendo aplicado. Si inplace = False, se crea una copia modifica del dataframe."
      ],
      "metadata": {
        "id": "ycrO8A9KqZ3y"
      }
    },
    {
      "cell_type": "code",
      "source": [
        "cond = df.isnull().any(axis=1)\n",
        "#condicion que arroja true para los registros con datos nulos y false para los que tienen datos buenos\n",
        "\n",
        "l = df[cond].index.tolist()\n",
        "#lista de indices de los registros con datos nulos\n",
        "\n",
        "for i in range(0,len(l)):\n",
        "  df.drop(l[i],inplace=True)\n",
        "  #funcion que elimina la fila con indice l[i] del dataframe\n",
        "\n",
        "df.reset_index(drop = True, inplace = True)\n",
        "#esta funcion permite reposicionar los indices de los registros nuevamente en orden numerico desde 0\n",
        "\n",
        "df"
      ],
      "metadata": {
        "id": "FNJ9oQWOqfTV"
      },
      "execution_count": null,
      "outputs": []
    },
    {
      "cell_type": "markdown",
      "source": [
        "Ahora, isnull() no debería arrojar ningún registro que posea valores nulos, pues el dataframe se limpió anteriormente"
      ],
      "metadata": {
        "id": "Ujka9YvdqhE0"
      }
    },
    {
      "cell_type": "code",
      "source": [
        "df.isnull().any()"
      ],
      "metadata": {
        "id": "xFdpzOmqqmF7"
      },
      "execution_count": null,
      "outputs": []
    },
    {
      "cell_type": "markdown",
      "source": [
        "### **3. ¿Cuál es la isla con mayor número de pingüinos en el dataset? ¿Hay un desbalance en número en el número de pinguinos por isla?**"
      ],
      "metadata": {
        "id": "2bNkS0IWqn48"
      }
    },
    {
      "cell_type": "markdown",
      "source": [
        "Al seleccionar la columna 'island', la función value_counts() arroja el conteo de registros para cada tipo de isla."
      ],
      "metadata": {
        "id": "iEBUia4Cqprr"
      }
    },
    {
      "cell_type": "code",
      "source": [
        "df['island'].value_counts()"
      ],
      "metadata": {
        "id": "yPzPrV08qtp0"
      },
      "execution_count": null,
      "outputs": []
    },
    {
      "cell_type": "markdown",
      "source": [
        "Así, podemos ver que Biscoe es la isla con mayor observación de pingüinos con 163, seguido por Dream con 123 y Torgersen con 47. El desbalance se puede hacer comparativamente con el total de registros que son 333."
      ],
      "metadata": {
        "id": "5KnN-nDYqvOj"
      }
    },
    {
      "cell_type": "code",
      "source": [
        "total = df.shape[0]\n",
        "#me da las dimensiones del dataframe en la forma (x,y) donde el primer argumento es el numero de filas\n",
        "\n",
        "biscoe = 163\n",
        "dream = 123\n",
        "torgersen = 47\n",
        "print(f'Los pinguinos en la isla Biscoe representan un {biscoe/total*100:.2f}% del total de pinguinos registrados')\n",
        "print(f'Los pinguinos en la isla Dream representan un {dream/total*100:.2f}% del total de pinguinos registrados')\n",
        "print(f'Los pinguinos en la isla Torgersen representan un {torgersen/total*100:.2f}% del total de pinguinos registrados')"
      ],
      "metadata": {
        "id": "t5lhBYB8q0ds"
      },
      "execution_count": null,
      "outputs": []
    },
    {
      "cell_type": "markdown",
      "source": [
        "Estos porcentajes muestran claramente que hay presente un desbalance de la cantidad de pingüinos provenientes de cada isla. La explicación a ello podría deberse a que en la isla Biscoe hay mejor hábitat o históricamente ha habido mayores poblaciones de pingüinos, lo que podría hacer más propensa la aparición y facilitar la toma de datos de los especímenes. También puede ser debido a la forma en la que se tomaron los registros, pudiendo haber dedicado más tiempo a la toma de datos en la isla Biscoe y Dream que en Torgersen."
      ],
      "metadata": {
        "id": "RxAyPkVZq2Zb"
      }
    },
    {
      "cell_type": "markdown",
      "source": [
        "### **4. Repita la pregunta anterior observando las especies.**"
      ],
      "metadata": {
        "id": "YPCQHtieq-Yt"
      }
    },
    {
      "cell_type": "markdown",
      "source": [
        "Nuevamente haciendo uso de .value_counts() al seleccionar la columna 'species', obtenemos el conteo de registros para cada tipo de especie."
      ],
      "metadata": {
        "id": "T-dyQOe5rAKN"
      }
    },
    {
      "cell_type": "code",
      "source": [
        "df['species'].value_counts()"
      ],
      "metadata": {
        "id": "zYfl9TyLrDak"
      },
      "execution_count": null,
      "outputs": []
    },
    {
      "cell_type": "markdown",
      "source": [
        "Aquí nuevamente se ve que hay una especie que predomina en los registros. Adelie tiene 146 conteos, Gentoo 119 y Chinstrap 68. Al comparar porcentualmente con el total de registros se obtiene lo siguiente"
      ],
      "metadata": {
        "id": "odc3WsqIrH2E"
      }
    },
    {
      "cell_type": "code",
      "source": [
        "total = df.shape[0]\n",
        "adelie = 146\n",
        "gentoo = 119\n",
        "chinstrap = 68\n",
        "print(f'Los pinguinos de la especie Adelie representan un {adelie/total*100:.2f}% del total de pinguinos registrados')\n",
        "print(f'Los pinguinos de la especie Gentoo representan un {gentoo/total*100:.2f}% del total de pinguinos registrados')\n",
        "print(f'Los pinguinos de la especie Chinstrap representan un {chinstrap/total*100:.2f}% del total de pinguinos registrados')"
      ],
      "metadata": {
        "id": "B50twdKurIaM"
      },
      "execution_count": null,
      "outputs": []
    },
    {
      "cell_type": "markdown",
      "source": [
        "Y nuevamente, estos porcentajes muestran una desproporción entre las especies de los pingüinos en los registros. Seguramente la mayor presencia de Adelie y Gentoo se pueda explicar de varias formas. Una selección muy específica y sesgada de las islas donde se pueden encontrar (tal vez haya más presencia de Chinstrap en otras islas no registradas); también puede ser debido a una mejor evolución de las especies Adelie y Gentoo que garantiza una mayor supervivencia y reproducibilidad en los hábitats de las islas donde se encuentran."
      ],
      "metadata": {
        "id": "r7GTbwifrJ1N"
      }
    },
    {
      "cell_type": "markdown",
      "source": [
        "## **Tendencias y visualizacion de las variables**"
      ],
      "metadata": {
        "id": "aGcI6UZPrR4L"
      }
    },
    {
      "cell_type": "markdown",
      "source": [
        "### **5. ¿Cuál es la longitud media y la desviacion estandard del tamaño del pico de los pingüinos por especie?**"
      ],
      "metadata": {
        "id": "ZVlL-jFnrSUr"
      }
    },
    {
      "cell_type": "markdown",
      "source": [
        "La función groupby permite agrupar el dataframe por los datos de una columna. En este caso se agrupa por 'species'. Para cada especie se selecciona la longitud del pico y por medio de la función agg(), que calcula sobre la serie las funciones entregadas en la lista, se imprimen series con las medias y desviaciones de la longitud del pico para cada una de las especies:"
      ],
      "metadata": {
        "id": "vbXxXj4OrTsc"
      }
    },
    {
      "cell_type": "code",
      "source": [
        "display(df.groupby('species')['bill_length_mm'].agg(['mean','std']))"
      ],
      "metadata": {
        "id": "JEo-uhL6rXY8"
      },
      "execution_count": null,
      "outputs": []
    },
    {
      "cell_type": "markdown",
      "source": [
        "### **6. ¿Qué pingüino tiene el pico más largo en el dataset y cuál es su especie?**"
      ],
      "metadata": {
        "id": "_JVlAzfqrY5M"
      }
    },
    {
      "cell_type": "markdown",
      "source": [
        "La función max() permite hallar el valor máximo de una columna del dataframe. Al usar == se puede crear una serie booleana que tiene valores True en las posiciones de los registros que coinciden con la condición."
      ],
      "metadata": {
        "id": "GAS5pVkQraQD"
      }
    },
    {
      "cell_type": "code",
      "source": [
        "#se obtiene el maximo valor de longitud del pico del pinguino\n",
        "pico_mas_largo = df['bill_length_mm'].max()\n",
        "\n",
        "#se selecciona las filas (o la fila) que coincide con el valor del pico mas largo\n",
        "pinguino_pico_largo = df[df['bill_length_mm'] == pico_mas_largo]\n",
        "\n",
        "\n",
        "display(pinguino_pico_largo)"
      ],
      "metadata": {
        "id": "OGa7vAZNrd8k"
      },
      "execution_count": null,
      "outputs": []
    },
    {
      "cell_type": "markdown",
      "source": [
        "El pingüino con el pico más largo está en el registro 246 después de la limpieza de datos y pertenece a la especie Gentoo"
      ],
      "metadata": {
        "id": "vQ4b1q9jrfMa"
      }
    },
    {
      "cell_type": "markdown",
      "source": [
        "### **7. ¿Como es la distribución de la masa corporal entre las especies de pingüinos?**"
      ],
      "metadata": {
        "id": "dM_eg_kvrjkO"
      }
    },
    {
      "cell_type": "markdown",
      "source": [
        "Por medio de la librería Seaborn, es posible hacer graficas bonitas de histogramas para los datos del dataframe. data recibe directamente el dataframe como input, x recibe la columna del dataframe sobre la cual deseas hacer el histograma, hue permite hacer algo similar a groupby, en donde agrupa los elementos del dataframe por los valores de la columna que le entregas, y kde es la abreviatura para Kernel Density Estimation, el cual es un método estadístico no paramétrico para estimar la distribución de probabilidad de una variable aleatoria (en este caso el histograma)."
      ],
      "metadata": {
        "id": "FCwu1deurlLG"
      }
    },
    {
      "cell_type": "code",
      "source": [
        "sns.histplot(data=df, x='body_mass_g', hue='species', kde=True, alpha = 0.3)\n",
        "plt.title('Distribucion de la masa corporal por especie')\n",
        "plt.xlabel('Masa corporal (g)')\n",
        "plt.ylabel('Frecuencia')\n",
        "plt.show()"
      ],
      "metadata": {
        "id": "t1aR8W32rqce"
      },
      "execution_count": null,
      "outputs": []
    },
    {
      "cell_type": "markdown",
      "source": [
        "Los histogramas y densidades estimadas anteriores muestran cómo se distribuye aproximadamente la masa del pingüino para cada una de las especies. Se puede observar que Adelie y Chinstrap poseen casi la misma forma de la distribución a excepción de la ocurrencia o frecuencia, mientras que Gentoo tiene una media más alta y una mayor desviación estándar (ancho de la curva) que las otras dos especies. Estas diferencias se pueden atribuir a características inherentes de cada especie o diferencias en los hábitats, como alimentos, clima, etc."
      ],
      "metadata": {
        "id": "ClbWImEVrr-V"
      }
    },
    {
      "cell_type": "markdown",
      "source": [
        "### **8. Describa la distribucion con ayuda de la media, desviacion estandard**"
      ],
      "metadata": {
        "id": "FjE6FwzJrz1U"
      }
    },
    {
      "cell_type": "markdown",
      "source": [
        "Al agrupar el dataframe usando groupby por especies y seleccionar la columna de masa corporal, la función describe() arroja múltiples datos estadísticos que incluyen la media y desviación estándar de la masa corporal para las distintas especies de pingüinos:"
      ],
      "metadata": {
        "id": "Er3xpZGTr0R9"
      }
    },
    {
      "cell_type": "code",
      "source": [
        "df.groupby('species')['body_mass_g'].describe()"
      ],
      "metadata": {
        "id": "QkxfRLnWr45m"
      },
      "execution_count": null,
      "outputs": []
    },
    {
      "cell_type": "markdown",
      "source": [
        "De esta tabla se puede observar lo siguiente para las especies de pingüinos, utilizando la desigualdad de Chebyshev bajo las suposiciones necesarias para emplearla (media y varianzas finitas no nulas, y los datos una variable aleatoria integrable):\n",
        "\n",
        "*   La especie Adelie tiene una masa corporal promedio de $\\mu$ = 3706 g con una desviación estándar $\\sigma$ = 458 g. Esto nos dice que como mínimo, un 75% de las masas corporales de los pingüinos están en el intervalo ($\\mu -2\\sigma, \\mu + 2\\sigma$) = (2790,4622) g. Es decir, los pesos comúnmente oscilan entre casi 3 kg y poco más de 4.5 kg, a falta de conocer más información sobre la distribución estadística propia de los pesos de la especie Adelie.\n",
        "*   La especie Chinstrap tiene una masa corporal promedio de $\\mu$ = 3733 g con una desviación estándar $\\sigma$ = 384 g. De manera análoga que como se hizo con Adelie, como mínimo, el 75% de las masas corporales de la especie Chinstrap están en el intervalo ($\\mu -2\\sigma, \\mu + 2\\sigma$) = (2965,4501) g.\n",
        "*   La especie Gentoo tiene una masa corporal promedio de $\\mu$ = 5092 g con una desviación estándar $\\sigma$ = 501 g. Usando Chebyshev, como mínimo, el 75% de las masas corporales de la especie Gentoo está en el intervalo ($\\mu -2\\sigma, \\mu + 2\\sigma$) = (4090,6094) g. Esto indica que comúnmente los pesos de los Gentoo oscilan entre 4 kg y 6 kg, bastante más que las otras dos especies (son más pesados).\n"
      ],
      "metadata": {
        "id": "HDuxRWBQr6R2"
      }
    },
    {
      "cell_type": "markdown",
      "source": [
        "### **9. ¿Cuál es la diferencia en masa corporal promedio y desviacion estandard entre machos y hembras?**"
      ],
      "metadata": {
        "id": "SjmzhhWCsIrv"
      }
    },
    {
      "cell_type": "markdown",
      "source": [
        "Empleando groupby() por sexo y escogiendo la masa corporal, describe() arrojara los datos de media y desviación estándar para ambos sexos:"
      ],
      "metadata": {
        "id": "EhVoWu00sKbl"
      }
    },
    {
      "cell_type": "code",
      "source": [
        "df.groupby('sex')['body_mass_g'].describe()"
      ],
      "metadata": {
        "id": "MOq5DL1IsOPm"
      },
      "execution_count": null,
      "outputs": []
    },
    {
      "cell_type": "markdown",
      "source": [
        "Así, podemos ver que los pingüinos machos tienen una masa corporal promedio alrededor de 4545 g con una desviación estándar alrededor de 787 g. Las hembras tienen un promedio menor alrededor de 3862 g con desviación de 666 g, lo que indica que comúnmente los machos son más de medio kg más pesados que las hembras."
      ],
      "metadata": {
        "id": "KTxNV8TBsPjF"
      }
    },
    {
      "cell_type": "markdown",
      "source": [
        "### **10. ¿Cuál es la media y la desviación estándar de la longitud de la aleta de los pingüinos por especie?**"
      ],
      "metadata": {
        "id": "OBSYfKcisVE-"
      }
    },
    {
      "cell_type": "markdown",
      "source": [
        "Nuevamente agrupando por especies y eligiendo la columna de la longitud de la aleta, se obtiene la media y desviación:"
      ],
      "metadata": {
        "id": "btiXhCNwsWav"
      }
    },
    {
      "cell_type": "code",
      "source": [
        "df.groupby('species')['flipper_length_mm'].describe()"
      ],
      "metadata": {
        "id": "sJWW1VWtsZnH"
      },
      "execution_count": null,
      "outputs": []
    },
    {
      "cell_type": "markdown",
      "source": [
        "Así, para Adelie se obtuvo una media de longitud de la aleta de alrededor de 190 mm con una desviación estándar cercana a los 6.5 mm. Para Chinstrap, la longitud media es de alrededor de 195 mm con desviación cercana a los 7 mm, mientras que para los Gentoo la media está cerca de 217 mm con desviación aproximada de 6.5 mm."
      ],
      "metadata": {
        "id": "msVZhOqksa3Y"
      }
    },
    {
      "cell_type": "markdown",
      "source": [
        "### **11. ¿Cuál es la longitud mínima y máxima de la aleta entre las tres especies de pingüinos?**"
      ],
      "metadata": {
        "id": "mMtd6stnsfZ_"
      }
    },
    {
      "cell_type": "markdown",
      "source": [
        "Con la función agg(), al haber agrupado por especies y seleccionado la columna de las altes, se puede obtener simultáneamente el mínimo y máximo valor de la longitud para cada una de las especies."
      ],
      "metadata": {
        "id": "wnmbyaA3sgwP"
      }
    },
    {
      "cell_type": "code",
      "source": [
        "display(df.groupby('species')['flipper_length_mm'].agg(['min','max']))"
      ],
      "metadata": {
        "id": "JjfsvtmlskZY"
      },
      "execution_count": null,
      "outputs": []
    },
    {
      "cell_type": "markdown",
      "source": [
        "Así, podemos observar que la longitud mínima y máxima de la aleta para los Adelie es de 172 y 210 mm respectivamente; para los Chinstrap el mínimo es de 178 mm y el máximo de 212 mm, datos bastante similares a los de Adelie. Gentoo si tiene una diferencia mayor, con un mínimo de 203 mm y un máximo de 231 mm, lo que indica que son pingüinos bastante más grandes y está en concordancia con los datos de la distribución de la masa corporal por especie de los pingüinos, el cual también indicaba un mayor peso para los Gentoo."
      ],
      "metadata": {
        "id": "ryP9gywWsloG"
      }
    },
    {
      "cell_type": "markdown",
      "source": [
        "### **12. ¿Cómo varía la longitud del pico entre las diferentes especies de pingüinos en las distintas islas?**"
      ],
      "metadata": {
        "id": "o4erBzSCss5_"
      }
    },
    {
      "cell_type": "markdown",
      "source": [
        "Utilizando la librería Seaborn, se pueden graficar los histogramas de las frecuencias de los datos de longitud de pico para cada especie en cada isla que aparece. Como la especie Adelie tiene registros en las 3 islas del dataframe, se prefiere usar diagramas de caja o boxplots para poder comparar de mejor forma la información de los histogramas entre islas. Para entender el diagrama de caja hay que tener presente que la caja central representa el 50% de los datos centrales, es decir los datos entre los percentiles 25 y 75 de los datos. La línea dentro de esta representa el percentil 50 o la mediana de los datos. Las líneas por fuera de la caja, llamados bigotes, delimitan el rango de los datos contenidos en 1.5 veces el tamaño de la caja, también conocido como el rango intercuartílico. Los datos que quedan por fuera de este intervalo se toman como atípicos y se notan con puntos por fuera de los bigotes."
      ],
      "metadata": {
        "id": "Eu5c-oUVsuU3"
      }
    },
    {
      "cell_type": "code",
      "source": [
        "fig, ax1 = plt.subplots(1,3,figsize=(15,5))\n",
        "\n",
        "especies = df['species'].unique()\n",
        "#me da una serie con los strings de los nombres de las especies\n",
        "\n",
        "for i in range(0,3):\n",
        "  ax1[i].grid()\n",
        "  sns.boxplot(data = df[df['species'] == especies[i]], y = 'bill_length_mm', x = 'island', ax = ax1[i], hue='island')\n",
        "  #grafica el diagrama de caja de la respectiva especie en la posicion i de la serie anteriormente definida\n",
        "  if i == 1:\n",
        "    ax1[i].set_title('Distribución de la longitud del pico de cada pinguino por especie e isla')\n",
        "  ax1[i].set_xlabel(f'Isla')\n",
        "  ax1[i].set_ylabel(f'Longitud del pico de la especie {especies[i]} (mm)')\n",
        "\n",
        "plt.tight_layout()\n",
        "plt.show()"
      ],
      "metadata": {
        "id": "mFCABRL1sz3m"
      },
      "execution_count": null,
      "outputs": []
    },
    {
      "cell_type": "markdown",
      "source": [
        "Para complementar estos gráficos podemos mostrar las medias y desviaciones estándar de las longitudes de los picos por especie e isla:"
      ],
      "metadata": {
        "id": "dNmIwimZs14H"
      }
    },
    {
      "cell_type": "code",
      "source": [
        "df.groupby(['species','island'])['bill_length_mm'].describe()"
      ],
      "metadata": {
        "id": "REtLeh-Rs5UY"
      },
      "execution_count": null,
      "outputs": []
    },
    {
      "cell_type": "markdown",
      "source": [
        "Así, podemos ver cómo se distribuyen las longitudes del pico por especie e isla. Para los Chinstrap, la única isla en la que aparecen es en Dream, y allí tienen una longitud media de 48.8 mm con desviación de 3.3 mm; esto se puede observar en el segundo grafico donde el diagrama de caja muestra que el 50% de los datos de longitudes están aproximadamente entre 46 y 51 mm, que concuerda con los datos de media y desviación estándar que se podrían analizar usando la desigualdad de Chebyshev.\n",
        "\n",
        "Para los Gentoo, la única isla donde se registraron es en Biscoe, allí la longitud media del pico es de 47.5 mm con desviación de 3.1 mm; en la tercera gráfica, el diagrama de caja muestra que el 50% de los datos de longitudes están aproximadamente entre 45 y 50 mm, lo que nuevamente es coherente con la media y desviación.\n",
        "\n",
        "En el caso de los Adelie, estos tienen registros en las tres islas. La media de la longitud para las tres islas oscila entre 38.5 y 39.0 mm y las desviaciones entre 2.48 y 3.02 mm. Al observar en la primera gráfica, los diagramas de cajas muestran que el 50% de los datos de longitud para cada una de las islas oscila aproximadamente entre 37 y 41 mm, que es consistente con las medias y desviaciones reportadas y que puede ser analizado más a profundidad con la desigualdad de Chebyshev. Sin embargo, los bigotes dan una información adicional; los datos atípicos de la isla Biscoe y la diferencia de rangos entre las tres islas se puede observar claramente. Explicar el origen de estas diferencias puede ser una tarea ardua pues puede deberse a factores ambientales, genéticos y de la forma de la toma de registros en cada una de las islas.\n"
      ],
      "metadata": {
        "id": "RKiymUuIs6ih"
      }
    },
    {
      "cell_type": "markdown",
      "source": [
        "### **13. ¿Cuál es la isla con la mayor variación en la longitud del pico entre las tres especies de pingüinos?**"
      ],
      "metadata": {
        "id": "KTRC6snetHOw"
      }
    },
    {
      "cell_type": "markdown",
      "source": [
        "Haciendo uso de groupby(), describe() y max() se puede obtener la isla y la especie con la mayor variación del pico:"
      ],
      "metadata": {
        "id": "wViC_N67tI5v"
      }
    },
    {
      "cell_type": "code",
      "source": [
        "dfd = df.groupby(['species','island'])['bill_length_mm'].describe()['std']\n",
        "#se agrupa por especie e isla, se selecciona la longitud del pico, se usa describe() y se extraen las desviaciones estandar\n",
        "display(dfd)\n",
        "\n",
        "maximo = dfd.max()\n",
        "#se obtiene el maximo valor\n",
        "\n",
        "isla_maximo = dfd[dfd == maximo]\n",
        "#se obtiene el registro con la maxima desviacion estandar en la longitud del pico\n",
        "\n",
        "\n",
        "display(f\"La isla con la mayor variación en la longitud del pico (medida por la desviación estándar) es:\")\n",
        "display(isla_maximo)"
      ],
      "metadata": {
        "id": "PLnBoyDztLWI"
      },
      "execution_count": null,
      "outputs": []
    },
    {
      "cell_type": "markdown",
      "source": [
        "## **Relación entre caracteristicas de los pingüinos**"
      ],
      "metadata": {
        "id": "KZV6OkgUtMi_"
      }
    },
    {
      "cell_type": "markdown",
      "source": [
        "### **14. ¿Cuál es la relación entre la longitud del pico y la masa corporal de los pingüinos? ¿Cambia esa relación si se mira por especie? Utilice diagramas de dispersión para visualizarlos.**"
      ],
      "metadata": {
        "id": "3WdDGzi2tOMo"
      }
    },
    {
      "cell_type": "markdown",
      "source": [
        "La función scatterplot() de seaborn permite graficar diagramas de dispersión entregándole la data (el dataframe) y la coordenada en x e y (las columnas de los datos a graficar), así pues, la relación entre la longitud del pico y la masa corporal de los pingüinos se puede visualizar de la siguiente forma:"
      ],
      "metadata": {
        "id": "PgdDF2fBtPfy"
      }
    },
    {
      "cell_type": "code",
      "source": [
        "sns.scatterplot(data = df, x = 'bill_length_mm', y = 'body_mass_g')\n",
        "plt.title('Relación entre longitud del pico y masa corporal de los pinguinos')\n",
        "plt.xlabel('Longitud del pico (mm)')\n",
        "plt.ylabel('Masa corporal (g)')\n",
        "plt.show()"
      ],
      "metadata": {
        "id": "HHxG3t5dtXG_"
      },
      "execution_count": null,
      "outputs": []
    },
    {
      "cell_type": "markdown",
      "source": [
        "Usando la opción adicional hue, se puede agrupar la data por especies, para obtener el diagrama de dispersión distinguiendo por especies de pingüinos:"
      ],
      "metadata": {
        "id": "dczhi7t0tYOJ"
      }
    },
    {
      "cell_type": "code",
      "source": [
        "sns.scatterplot(data=df, x='bill_length_mm', y='body_mass_g', hue='species')\n",
        "plt.title('Relación entre longitud del pico y masa corporal por especie')\n",
        "plt.xlabel('Longitud del pico (mm)')\n",
        "plt.ylabel('Masa corporal (g)')\n",
        "plt.show()"
      ],
      "metadata": {
        "id": "1DyJcY3_tbXH"
      },
      "execution_count": null,
      "outputs": []
    },
    {
      "cell_type": "markdown",
      "source": [
        "Así, podemos ver que la longitud del pico y masa corporal en general tiende a relacionarse positivamente, es decir, se ve un comportamiento creciente de la masa corporal a medida que la longitud del pico es más grande (también podría verse al revés). Vemos que esta relación por especie es mucho más notoria para los Adelie y Gentoo, que parecen incluso relacionar 'linealmente' la longitud y la masa corporal. Los Chinstrap también parecen tener un comportamiento 'lineal' pero distinto al de las otras dos especies."
      ],
      "metadata": {
        "id": "CSPN2HuPtckU"
      }
    },
    {
      "cell_type": "markdown",
      "source": [
        "### **15. ¿Existe una correlación significativa entre la longitud del pico y la masa corporal en las diferentes especies de pingüinos?**"
      ],
      "metadata": {
        "id": "1cEkmOM6tizg"
      }
    },
    {
      "cell_type": "markdown",
      "source": [
        "Pandas también posee funciones que sacan otros parámetros estadísticos, por ejemplo corr() arroja la correlación de una columna con respecto a otra, de la siguiente forma:"
      ],
      "metadata": {
        "id": "lzCtfgcNtkHg"
      }
    },
    {
      "cell_type": "code",
      "source": [
        "#se calcula el coeficiente de correlacion\n",
        "cr = df['bill_length_mm'].corr(df['body_mass_g'])\n",
        "\n",
        "print(f\"El coeficiente de correlación entre la longitud del pico y la masa corporal es: {cr:.2f}\")"
      ],
      "metadata": {
        "id": "W4oRY_1Atoex"
      },
      "execution_count": null,
      "outputs": []
    },
    {
      "cell_type": "markdown",
      "source": [
        "Al hacer uso de los condicionales, se puede sacar la correlación entre la longitud del pico y la masa corporal para cada una de las especies de pingüinos:"
      ],
      "metadata": {
        "id": "dxpSiCH_tyD6"
      }
    },
    {
      "cell_type": "code",
      "source": [
        "sp = df['species'].unique()\n",
        "#se obtiene una lista con las distintas especies\n",
        "\n",
        "for i in sp:\n",
        "  ndf = df[df['species'] == i]\n",
        "  #se seleccionan los datos del df que cumplen ser de una especie especifica\n",
        "\n",
        "  cr = ndf['bill_length_mm'].corr(ndf['body_mass_g'])\n",
        "  #se saca la correlacion\n",
        "\n",
        "  print(i,f'{cr:.2f}')"
      ],
      "metadata": {
        "id": "2LlsG2sst1VR"
      },
      "execution_count": null,
      "outputs": []
    },
    {
      "cell_type": "markdown",
      "source": [
        "De la primera celda podemos observar que los datos de los pingüinos tienen una correlación positiva entre la longitud del pico y la masa corporal de $r = 0.59$, lo que indica que a medida que un pingüino tiene una mayor longitud de pico, tiende a tener una mayor masa corporal.\n",
        "\n",
        "Ahora, por especie, la correlación entre longitud de pico y masa corporal dio lo siguiente: para Adelie da $r = 0.54$, para Chinstrap da $r = 0.51$ y para Gentoo da $r = 0.67$. Estos valores indican que para las tres especies hay una relación positiva, que implica nuevamente que a mayor longitud mayor masa corporal de cada uno de los pingüinos. Un mayor coeficiente de correlación para una especie que para otras puede indicar una mayor dependencia de la longitud del pico con respecto al peso. Esto podría dar lugar a estudiar cualidades físicas de cada especie y las diferencias entre especies.\n"
      ],
      "metadata": {
        "id": "js6tR5R1t2mR"
      }
    },
    {
      "cell_type": "markdown",
      "source": [
        "### **16. ¿Cuál es la relación entre el sexo y la longitud de la aleta en los pingüinos por especie?**"
      ],
      "metadata": {
        "id": "FBm-mdw3t8bQ"
      }
    },
    {
      "cell_type": "markdown",
      "source": [
        "En este caso haremos uso de los diagramas de violín (combinación de diagrama de caja y kde) para plotear la diferencia entre los sexos para la longitud de la aleta por cada una de las especies:"
      ],
      "metadata": {
        "id": "VzbCsK_it9rh"
      }
    },
    {
      "cell_type": "code",
      "source": [
        "fig, ax1 = plt.subplots(1,3,figsize=(15,5))\n",
        "\n",
        "especies = df['species'].unique()\n",
        "#me da una serie con los strings de los nombres de las especies\n",
        "\n",
        "sex_palette = {'Male':'blue','Female':'red'}\n",
        "\n",
        "for i in range(0,3):\n",
        "  ax1[i].grid()\n",
        "  sns.violinplot(data = df[df['species'] == especies[i]], y = 'flipper_length_mm', x = 'sex', ax = ax1[i], hue='sex',palette = sex_palette)\n",
        "  #grafica el diagrama de violin de la respectiva especie en la posicion i de la serie anteriormente definida\n",
        "  if i == 1:\n",
        "    ax1[i].set_title('Distribución de la longitud del pico de cada pinguino por especie y sexo')\n",
        "  ax1[i].set_xlabel(f'Isla')\n",
        "  ax1[i].set_ylabel(f'Longitud del pico de la especie {especies[i]} (mm)')\n",
        "\n",
        "plt.tight_layout()\n",
        "plt.show()"
      ],
      "metadata": {
        "id": "qhyQB_dzuBJz"
      },
      "execution_count": null,
      "outputs": []
    },
    {
      "cell_type": "markdown",
      "source": [
        "Aquí podemos observar que la tendencia siempre es que los machos tienen un pico más largo que las hembras. En el caso de los Chinstrap y Gentoo la distribución de los machos y hembras es más ancha para las longitudes, pero sigue el mismo comportamiento, mientras que para los Adelie parece que los machos y hembras tienen intervalos 'más definidos', ósea son distribuciones menos anchas. También podemos comparar un poco los datos entre machos o hembras de las tres especies. Por ejemplo, los machos de Gentoo tienen longitudes muchísimo más grandes que los Chinstrap y Adelie, igualmente para las hembras. Entre machos de los Chinstrap y Adelie, los Chinstrap tienen más cantidad de datos atípicos que los Adelie, sobre todo para longitudes más largas, lo que puede implicar ciertas características distintas para los machos de ambas especies. En el caso de las hembras, parece que los Adelie no tienen tanta variación de la longitud y que los Chinstrap también tienden a tener longitudes más largas del pico."
      ],
      "metadata": {
        "id": "iJDDHrqYuCPh"
      }
    },
    {
      "cell_type": "markdown",
      "source": [
        "### **17. Escoja una de las tendencias que haya observado en la cual haya una correlación entre las variables y ahora con un test de hipótesis determine si esta correlación puede ser explicada por aleatoriedad. Para esta pregunta puede usar las relaciones del libro \"Probabilidad y Estadistica\" de Marques de Cantu sección 12.6 donde hay un ejemplo 12.8 que les guia como usar las expresiones y hacer las conclusiones.**\n"
      ],
      "metadata": {
        "id": "TA0WxyvuuQwX"
      }
    },
    {
      "cell_type": "markdown",
      "source": [
        "Una posible relación entre dos variables del dataframe que no se exploró a lo largo de los puntos es la longitud del pico versus la profundidad del pico. Haciendo uso de los diagramas de dispersión se puede ver cómo se distribuyen los datos de longitud respecto a los de profundidad para cada una de las especies."
      ],
      "metadata": {
        "id": "WlOQULtfuRFY"
      }
    },
    {
      "cell_type": "code",
      "source": [
        "sns.scatterplot(data = df, x = 'bill_length_mm', y = 'bill_depth_mm',hue = 'species')\n",
        "plt.xlabel('Longitud del pico (mm)')\n",
        "plt.ylabel('Profunidad del pico (mm)')\n",
        "plt.show()"
      ],
      "metadata": {
        "id": "CCxGyNaCuVvS"
      },
      "execution_count": null,
      "outputs": []
    },
    {
      "cell_type": "markdown",
      "source": [
        "Podemos ver visualmente que debe haber cierto nivel de correlación entre la longitud y profundidad para cada una de las especies. Vamos a calcular el coeficiente de correlación para cada una de las especies:"
      ],
      "metadata": {
        "id": "_kHfzVpcuW3J"
      }
    },
    {
      "cell_type": "code",
      "source": [
        "sp = df['species'].unique()\n",
        "#se obtiene una lista con las distintas especies\n",
        "\n",
        "\n",
        "sp1 = df[df['species'] == sp[0]]\n",
        "#se seleccionan los datos del df que cumplen ser de una especie especifica\n",
        "cr1 = sp1['bill_length_mm'].corr(sp1['bill_depth_mm'])\n",
        "#se saca la correlacion entre longitud y profundidad del pico\n",
        "\n",
        "sp2 = df[df['species'] == sp[1]]\n",
        "#se seleccionan los datos del df que cumplen ser de una especie especifica\n",
        "cr2 = sp2['bill_length_mm'].corr(sp2['bill_depth_mm'])\n",
        "#se saca la correlacion entre longitud y profundidad del pico\n",
        "\n",
        "sp3 = df[df['species'] == sp[2]]\n",
        "#se seleccionan los datos del df que cumplen ser de una especie especifica\n",
        "cr3 = sp3['bill_length_mm'].corr(sp3['bill_depth_mm'])\n",
        "#se saca la correlacion entre longitud y profundidad del pico\n",
        "\n",
        "print(sp[0],cr1)\n",
        "print(sp[1],cr2)\n",
        "print(sp[2],cr3)"
      ],
      "metadata": {
        "id": "bHG2IZr9uaVD"
      },
      "execution_count": null,
      "outputs": []
    },
    {
      "cell_type": "markdown",
      "source": [
        "Con el coeficiente de correlación para cada una de las especies, podemos plantear el siguiente test de hipótesis para verificar estadísticamente si la correlación $\\rho$ entre longitud y profundidad puede ser debido a la aleatoriedad.\n",
        "\n",
        "La hipótesis nula será:\n",
        "\n",
        "$$H_0: \\rho = 0$$\n",
        "\n",
        "Y la alternativa será:\n",
        "\n",
        "$$H_A: \\rho \\neq 0$$\n",
        "\n",
        "Como anteriormente calculamos el estimador sesgado del coeficiente de correlación, $r$, para cada una de las especies, podemos evaluar el test de hipótesis usando lo siguiente. Si el parámetro $\\rho = 0$ es la condición que deseamos evaluar, el estimador $r$ sigue una distribución t-student con $n-2$ grados de libertad, donde $n$ es el número de datos de la muestra:\n",
        "\n",
        "$$t = \\frac{r\\sqrt{n-2}}{\\sqrt{1-r^2}}$$\n",
        "\n",
        "Dado un nivel de significancia $\\alpha = 0.05$, el test evaluara si el estadígrafo de t-student asociado al estimador $r$ de $\\rho = 0$ es mayor que el percentil de la distribución para dicho nivel. En el texto de Marques de Cantu se puede encontrar en la tabla A-5 dichos percentiles para una prueba de dos colas y varios grados de libertad para la t-student. En este caso el percentil sera $1-\\alpha/2 = 0.975$.\n",
        "\n",
        "Ahora vamos a sacar los grados de libertad de los datos de cada especie. Los dataframe sp1, sp2 y sp3 corresponden a las especies Adelie, Chinstrap y Gentoo respectivamente."
      ],
      "metadata": {
        "id": "tW6vabkLubcC"
      }
    },
    {
      "cell_type": "code",
      "source": [
        "n1 = sp1.shape[0]\n",
        "n2 = sp2.shape[0]\n",
        "n3 = sp3.shape[0]\n",
        "\n",
        "gl1 = n1-2\n",
        "gl2 = n2-2\n",
        "gl3 = n3-2\n",
        "\n",
        "print(sp[0],gl1)\n",
        "print(sp[1],gl2)\n",
        "print(sp[2],gl3)"
      ],
      "metadata": {
        "id": "ol7f4MWJumQy"
      },
      "execution_count": null,
      "outputs": []
    },
    {
      "cell_type": "markdown",
      "source": [
        "Ahora con los grados de libertad podemos hacer uso de la tabla A-5.\n"
      ],
      "metadata": {
        "id": "P42tL3UHurGR"
      }
    },
    {
      "cell_type": "markdown",
      "source": [
        "![image.png](data:image/png;base64,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)"
      ],
      "metadata": {
        "id": "hdLdmTphlJlx"
      }
    },
    {
      "cell_type": "markdown",
      "source": [
        "![image.png](data:image/png;base64,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)"
      ],
      "metadata": {
        "id": "pkkt0fWvlUvR"
      }
    },
    {
      "cell_type": "markdown",
      "source": [
        "Vemos que los grados de libertad para las especies no están explícitos en dicha tabla, sin embargo, podemos aproximarlo de la siguiente forma. Para Adelie, podemos aproximar los grados de libertad de 144 a 140. Para Chinstrap de 66 a 70, y para Gentoo de 117 a 120. Así, para Adelie el percentil de t-student es $t_{0.975} = 1.9771$, para Chinstrap $t_{0.975} = 1.9945$, y para Gentoo $t_{0.975} = 1.9799$.\n",
        "\n",
        "Ahora haciendo uso de la fórmula para $t$ vamos a calcular el estadígrafo para cada especie y comparar con el percentil. Si el estadígrafo es mayor que el percentil, significa que el estimador $r$ esta por fuera del intervalo definido por el nivel de significancia $\\alpha$ tal que se pueda asumir que la aleatoriedad explica la diferencia entre $r$ y $\\rho = 0$.\n"
      ],
      "metadata": {
        "id": "lza6VL2Juzkr"
      }
    },
    {
      "cell_type": "code",
      "source": [
        "#para Adelie\n",
        "\n",
        "t_adelie = cr1 * np.sqrt(gl1)/np.sqrt(1-cr1**2)\n",
        "print('Adelie. Estadigrafo t:',t_adelie,' Percentil', 1.9771)\n",
        "\n",
        "#para Chinstrap\n",
        "t_chinstrap = cr2 * np.sqrt(gl2)/np.sqrt(1-cr2**2)\n",
        "print('Chinstrap. Estadigrafo t:',t_chinstrap,' Percentil', 1.9945)\n",
        "\n",
        "#para Gentoo\n",
        "t_gentoo = cr3 * np.sqrt(gl3)/np.sqrt(1-cr3**2)\n",
        "print('Gentoo. Estadigrafo t:',t_gentoo,' Percentil', 1.9799)"
      ],
      "metadata": {
        "id": "5jwo8CsCu_H6"
      },
      "execution_count": null,
      "outputs": []
    },
    {
      "cell_type": "markdown",
      "source": [
        "Podemos ver que, para las 3 especies, el estadígrafo t es mayor que el valor definido por el percentil para $\\alpha = 0.05$. Así, con un nivel de significancia del 5%, podemos rechazar la hipótesis nula. Es decir, estadísticamente no hay nada que nos indique que la correlación entre la longitud y profundidad del pico, para cada una de las especies de pingüinos, pueda ser debida simplemente a la aleatoriedad. De esto podemos concluir que debe haber física (o biológicamente) una explicación o descripción que dé cabida a una relación positiva entre la longitud y profundidad, de tal manera que cuando haya mayor longitud del pico, este también tienda a ser más profundo, para todas las especies."
      ],
      "metadata": {
        "id": "DIJMH-mrvAMy"
      }
    }
  ]
}