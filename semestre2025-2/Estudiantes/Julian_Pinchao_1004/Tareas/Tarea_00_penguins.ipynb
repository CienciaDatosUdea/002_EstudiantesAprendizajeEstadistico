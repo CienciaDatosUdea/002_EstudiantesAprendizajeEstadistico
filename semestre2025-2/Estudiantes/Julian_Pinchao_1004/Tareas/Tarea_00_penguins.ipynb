{
 "cells": [
  {
   "cell_type": "markdown",
   "id": "7acc1ced",
   "metadata": {},
   "source": [
    "<a href=\"https://colab.research.google.com/github/CienciaDatosUdea/002_EstudiantesAprendizajeEstadistico/blob/main/semestre2025-1/Laboratorios/Tarea_00_penguins.ipynb\" target=\"_parent\"><img src=\"https://colab.research.google.com/assets/colab-badge.svg\" alt=\"Open In Colab\"/></a>\n"
   ]
  },
  {
   "cell_type": "markdown",
   "id": "f39922b9",
   "metadata": {},
   "source": [
    "# Problema: Dataset de pingüinos: Este problema es entregable\n",
    "\n",
    "Carga el sigiuente dataset y responde las siguientes preguntas:\n",
    "\n",
    "```python\n",
    "import pandas as pd\n",
    "import seaborn as sns\n",
    "\n",
    "# Cargar el dataset\n",
    "df = sns.load_dataset('penguins')\n",
    "```\n",
    "Estas preguntas los guiarán a realizar un análisis descriptivo del dataset y a realizar un test de hipótesis.\n",
    "\n",
    "## Primera aproximación a los datos de forma general y su limpieza:\n",
    "\n",
    "1. ¿Cuántas especies diferentes de pingüinos hay en el dataset? ¿Que caracteristicas de los pinguinos se dan para cada especie? \n",
    "2. ¿Hay valores faltantes en las variables? Determine una estrategie de limpieza y apliquela.\n",
    "3. ¿Cuál es la isla con mayor número de pingüinos en el dataset? ¿Hay un desbalance en número en el número de pinguinos por isla?\n",
    "4. Repita la pregunta anterior observando las especies.\n",
    "\n",
    "## Tendencias y visualizacion de las variables\n",
    "\n",
    "5. ¿Cuál es la longitud media y la desviacion estandard del tamaño del pico de los pingüinos por especie? \n",
    "6. ¿Qué pingüino tiene el pico más largo en el dataset y cuál es su especie?\n",
    "\n",
    "7. ¿Como es la distribución de la masa corporal entre las especies de pingüinos? \n",
    "8. Describa la distribucion con ayuda de la media, desviacion estandard \n",
    "9. ¿Cuál es la diferencia en masa corporal promedio y desviacion estandard entre machos y hembras? \n",
    "\n",
    "10. ¿Cuál es la media y la desviación estándar de la longitud de la aleta de los pingüinos por especie? \n",
    "11. ¿Cuál es la longitud mínima y máxima de la aleta entre las tres especies de pingüinos?\n",
    "\n",
    "12. ¿Cómo varía la longitud del pico entre las diferentes especies de pingüinos en las distintas islas?\n",
    "\n",
    "13. ¿Cuál es la isla con la mayor variación en la longitud del pico entre las tres especies de pingüinos?\n",
    "\n",
    "\n",
    "## Relación entre caracteristicas de los pingüinos\n",
    "\n",
    "14. ¿Cuál es la relación entre la longitud del pico y la masa corporal de los pingüinos? ¿Cambia esa relación si se mira por especie? Utilice diagramas de dispersión para visualizarlos.\n",
    "\n",
    "15. ¿Existe una correlación significativa entre la longitud del pico y la masa corporal en las diferentes especies de pingüinos?\n",
    "\n",
    "16. ¿Cuál es la relación entre el sexo y la longitud de la aleta en los pingüinos por especie?\n",
    "\n",
    "\n",
    "\n",
    "## Test de hipótesis\n",
    "\n",
    "17. Escoja una de las tendencias que haya observado en la cual haya una correlación entre las variables y ahora con un test de hipótesis determine si esta correlación puede ser explicada por aleatoriedad. Para esta pregunta puede usar las relaciones del libro \"Probabilidad y Estadistica\" de Marques de Cantu sección 12.6 donde hay un ejemplo 12.8 que les guia como usar las expresiones y hacer las conclusiones. \n",
    "\n",
    "\n",
    "\n",
    "\n",
    "\n",
    "\n",
    "\n",
    "\n",
    "\n",
    "\n",
    "\n",
    "\n",
    "\n",
    "\n"
   ]
  },
  {
   "cell_type": "code",
   "execution_count": null,
   "id": "57a39598",
   "metadata": {},
   "outputs": [],
   "source": []
  }
 ],
 "metadata": {
  "kernelspec": {
   "display_name": "Python (mayavi)",
   "language": "python",
   "name": "mayavi"
  },
  "language_info": {
   "codemirror_mode": {
    "name": "ipython",
    "version": 3
   },
   "file_extension": ".py",
   "mimetype": "text/x-python",
   "name": "python",
   "nbconvert_exporter": "python",
   "pygments_lexer": "ipython3",
   "version": "3.9.18"
  }
 },
 "nbformat": 4,
 "nbformat_minor": 5
}
