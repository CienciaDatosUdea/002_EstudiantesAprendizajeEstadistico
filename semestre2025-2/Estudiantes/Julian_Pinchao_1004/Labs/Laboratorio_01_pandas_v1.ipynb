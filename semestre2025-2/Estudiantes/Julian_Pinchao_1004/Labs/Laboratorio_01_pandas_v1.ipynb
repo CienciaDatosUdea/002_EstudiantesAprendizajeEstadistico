{
 "cells": [
  {
   "cell_type": "markdown",
   "metadata": {
    "id": "nB0enqgBgefd"
   },
   "source": [
    "<a href=\"https://colab.research.google.com/github/CienciaDatosUdea/002_EstudiantesAprendizajeEstadistico/blob/main/semestre2025-2/Laboratorios/Laboratorio_01_pandas_v1.ipynb\" target=\"_parent\"><img src=\"https://colab.research.google.com/assets/colab-badge.svg\" alt=\"Open In Colab\"/></a>\n"
   ]
  },
  {
   "cell_type": "code",
   "execution_count": 17,
   "metadata": {},
   "outputs": [
    {
     "name": "stdout",
     "output_type": "stream",
     "text": [
      "DatetimeIndex(['2025-01-01 00:00:00', '2025-01-01 01:00:00',\n",
      "               '2025-01-01 02:00:00', '2025-01-01 03:00:00',\n",
      "               '2025-01-01 04:00:00', '2025-01-01 05:00:00',\n",
      "               '2025-01-01 06:00:00', '2025-01-01 07:00:00',\n",
      "               '2025-01-01 08:00:00', '2025-01-01 09:00:00',\n",
      "               ...\n",
      "               '2025-01-31 15:00:00', '2025-01-31 16:00:00',\n",
      "               '2025-01-31 17:00:00', '2025-01-31 18:00:00',\n",
      "               '2025-01-31 19:00:00', '2025-01-31 20:00:00',\n",
      "               '2025-01-31 21:00:00', '2025-01-31 22:00:00',\n",
      "               '2025-01-31 23:00:00', '2025-02-01 00:00:00'],\n",
      "              dtype='datetime64[ns]', length=745, freq='h')\n",
      "<class 'pandas._libs.tslibs.timestamps.Timestamp'>\n",
      "745\n"
     ]
    }
   ],
   "source": [
    "#Tipo de dato de tiempo en Pandas\n",
    "#En este ejemplo vamos a crear una serie de tiempo de un mes cada dia cada hora\n",
    "import pandas as pd\n",
    "from datetime import datetime\n",
    "import numpy as np\n",
    "\n",
    "# range_date\n",
    "rd = pd.date_range(start ='1/1/2025', end ='2/1/2025', freq ='h')\n",
    "print(rd)\n",
    "print(type(rd[2]))\n",
    "print(len(rd))"
   ]
  },
  {
   "cell_type": "code",
   "execution_count": 18,
   "metadata": {},
   "outputs": [
    {
     "data": {
      "text/html": [
       "<div>\n",
       "<style scoped>\n",
       "    .dataframe tbody tr th:only-of-type {\n",
       "        vertical-align: middle;\n",
       "    }\n",
       "\n",
       "    .dataframe tbody tr th {\n",
       "        vertical-align: top;\n",
       "    }\n",
       "\n",
       "    .dataframe thead th {\n",
       "        text-align: right;\n",
       "    }\n",
       "</style>\n",
       "<table border=\"1\" class=\"dataframe\">\n",
       "  <thead>\n",
       "    <tr style=\"text-align: right;\">\n",
       "      <th></th>\n",
       "      <th>data</th>\n",
       "    </tr>\n",
       "    <tr>\n",
       "      <th>datetime</th>\n",
       "      <th></th>\n",
       "    </tr>\n",
       "  </thead>\n",
       "  <tbody>\n",
       "    <tr>\n",
       "      <th>2025-01-31 20:00:00</th>\n",
       "      <td>27</td>\n",
       "    </tr>\n",
       "    <tr>\n",
       "      <th>2025-01-31 21:00:00</th>\n",
       "      <td>54</td>\n",
       "    </tr>\n",
       "    <tr>\n",
       "      <th>2025-01-31 22:00:00</th>\n",
       "      <td>71</td>\n",
       "    </tr>\n",
       "    <tr>\n",
       "      <th>2025-01-31 23:00:00</th>\n",
       "      <td>26</td>\n",
       "    </tr>\n",
       "    <tr>\n",
       "      <th>2025-02-01 00:00:00</th>\n",
       "      <td>60</td>\n",
       "    </tr>\n",
       "  </tbody>\n",
       "</table>\n",
       "</div>"
      ],
      "text/plain": [
       "                     data\n",
       "datetime                 \n",
       "2025-01-31 20:00:00    27\n",
       "2025-01-31 21:00:00    54\n",
       "2025-01-31 22:00:00    71\n",
       "2025-01-31 23:00:00    26\n",
       "2025-02-01 00:00:00    60"
      ]
     },
     "execution_count": 18,
     "metadata": {},
     "output_type": "execute_result"
    }
   ],
   "source": [
    "#Creamos un dataframe con una columna aleatoria y el tiempo como indice\n",
    "df = pd.DataFrame(rd, columns=['datetime'])\n",
    "df['data'] = np.random.randint(0, 100, size=(len(rd)))\n",
    "df.set_index('datetime', inplace=True)\n",
    "df.head()\n",
    "df.tail()"
   ]
  },
  {
   "cell_type": "code",
   "execution_count": 19,
   "metadata": {},
   "outputs": [
    {
     "name": "stdout",
     "output_type": "stream",
     "text": [
      "                     data\n",
      "datetime                 \n",
      "2025-01-31 00:00:00    78\n",
      "2025-01-31 01:00:00    43\n",
      "2025-01-31 02:00:00     2\n",
      "2025-01-31 03:00:00    75\n",
      "2025-01-31 04:00:00    82\n",
      "2025-01-31 05:00:00    55\n",
      "2025-01-31 06:00:00    14\n",
      "2025-01-31 07:00:00    73\n",
      "2025-01-31 08:00:00    33\n",
      "2025-01-31 09:00:00    44\n",
      "2025-01-31 10:00:00    63\n",
      "2025-01-31 11:00:00    95\n",
      "2025-01-31 12:00:00    94\n",
      "2025-01-31 13:00:00    29\n",
      "2025-01-31 14:00:00    84\n",
      "2025-01-31 15:00:00    18\n",
      "2025-01-31 16:00:00    10\n",
      "2025-01-31 17:00:00    25\n",
      "2025-01-31 18:00:00    66\n",
      "2025-01-31 19:00:00    55\n",
      "2025-01-31 20:00:00    27\n",
      "2025-01-31 21:00:00    54\n",
      "2025-01-31 22:00:00    71\n",
      "2025-01-31 23:00:00    26\n"
     ]
    }
   ],
   "source": [
    "#Podemos usar el indice como una columna de la misma manera que usamos los otros tipos\n",
    "filtered_df = df.loc['2025-01-31']  \n",
    "print(filtered_df)  \n"
   ]
  },
  {
   "cell_type": "markdown",
   "metadata": {},
   "source": [
    "\n",
    "\n",
    "# Laboratorio 1.0: \n",
    "\n",
    "## Series de tiempo\n",
    "\n",
    "El siguiente [dataset](https://raw.githubusercontent.com/hernansalinas/Curso_aprendizaje_estadistico/main/datasets/Pandas_data_historical_dataEURUSD.csv) contiene información del precio del eur/usd  desde el 05/07/2022/ hasta el 12/05/2023 con periodicidad de una hora. El data frame contiene el precio de apertura, cierrre, valor más bajo cotizado, valor más alto cotizado, volumen, spread etc. Para este dataset, realizar lo siguiente:\n",
    "\n",
    "\n",
    "1. Leer el dataset desde el github.\n",
    "\n"
   ]
  },
  {
   "cell_type": "code",
   "execution_count": 20,
   "metadata": {},
   "outputs": [
    {
     "data": {
      "text/html": [
       "<div>\n",
       "<style scoped>\n",
       "    .dataframe tbody tr th:only-of-type {\n",
       "        vertical-align: middle;\n",
       "    }\n",
       "\n",
       "    .dataframe tbody tr th {\n",
       "        vertical-align: top;\n",
       "    }\n",
       "\n",
       "    .dataframe thead th {\n",
       "        text-align: right;\n",
       "    }\n",
       "</style>\n",
       "<table border=\"1\" class=\"dataframe\">\n",
       "  <thead>\n",
       "    <tr style=\"text-align: right;\">\n",
       "      <th></th>\n",
       "      <th>Unnamed: 0</th>\n",
       "      <th>time</th>\n",
       "      <th>open</th>\n",
       "      <th>high</th>\n",
       "      <th>low</th>\n",
       "      <th>close</th>\n",
       "      <th>tick_volume</th>\n",
       "      <th>spread</th>\n",
       "      <th>real_volume</th>\n",
       "      <th>MeanCloseOpen</th>\n",
       "      <th>Diff_Close</th>\n",
       "      <th>Diff_Open</th>\n",
       "      <th>Diff_MeanCloseOpen</th>\n",
       "    </tr>\n",
       "  </thead>\n",
       "  <tbody>\n",
       "    <tr>\n",
       "      <th>0</th>\n",
       "      <td>0</td>\n",
       "      <td>2022-07-25 13:00:00</td>\n",
       "      <td>1.02427</td>\n",
       "      <td>1.02430</td>\n",
       "      <td>1.02145</td>\n",
       "      <td>1.02345</td>\n",
       "      <td>3927</td>\n",
       "      <td>8</td>\n",
       "      <td>0</td>\n",
       "      <td>1.023860</td>\n",
       "      <td>-0.00046</td>\n",
       "      <td>-0.00082</td>\n",
       "      <td>-0.000640</td>\n",
       "    </tr>\n",
       "    <tr>\n",
       "      <th>1</th>\n",
       "      <td>1</td>\n",
       "      <td>2022-07-25 14:00:00</td>\n",
       "      <td>1.02345</td>\n",
       "      <td>1.02578</td>\n",
       "      <td>1.02288</td>\n",
       "      <td>1.02299</td>\n",
       "      <td>5344</td>\n",
       "      <td>8</td>\n",
       "      <td>0</td>\n",
       "      <td>1.023220</td>\n",
       "      <td>-0.00046</td>\n",
       "      <td>-0.00082</td>\n",
       "      <td>-0.000640</td>\n",
       "    </tr>\n",
       "    <tr>\n",
       "      <th>2</th>\n",
       "      <td>2</td>\n",
       "      <td>2022-07-25 15:00:00</td>\n",
       "      <td>1.02303</td>\n",
       "      <td>1.02476</td>\n",
       "      <td>1.02230</td>\n",
       "      <td>1.02457</td>\n",
       "      <td>5524</td>\n",
       "      <td>8</td>\n",
       "      <td>0</td>\n",
       "      <td>1.023800</td>\n",
       "      <td>0.00158</td>\n",
       "      <td>-0.00042</td>\n",
       "      <td>0.000580</td>\n",
       "    </tr>\n",
       "    <tr>\n",
       "      <th>3</th>\n",
       "      <td>3</td>\n",
       "      <td>2022-07-25 16:00:00</td>\n",
       "      <td>1.02454</td>\n",
       "      <td>1.02548</td>\n",
       "      <td>1.02355</td>\n",
       "      <td>1.02485</td>\n",
       "      <td>5234</td>\n",
       "      <td>8</td>\n",
       "      <td>0</td>\n",
       "      <td>1.024695</td>\n",
       "      <td>0.00028</td>\n",
       "      <td>0.00151</td>\n",
       "      <td>0.000895</td>\n",
       "    </tr>\n",
       "    <tr>\n",
       "      <th>4</th>\n",
       "      <td>4</td>\n",
       "      <td>2022-07-25 17:00:00</td>\n",
       "      <td>1.02485</td>\n",
       "      <td>1.02514</td>\n",
       "      <td>1.02030</td>\n",
       "      <td>1.02181</td>\n",
       "      <td>9031</td>\n",
       "      <td>7</td>\n",
       "      <td>0</td>\n",
       "      <td>1.023330</td>\n",
       "      <td>-0.00304</td>\n",
       "      <td>0.00031</td>\n",
       "      <td>-0.001365</td>\n",
       "    </tr>\n",
       "  </tbody>\n",
       "</table>\n",
       "</div>"
      ],
      "text/plain": [
       "   Unnamed: 0                 time     open     high      low    close  \\\n",
       "0           0  2022-07-25 13:00:00  1.02427  1.02430  1.02145  1.02345   \n",
       "1           1  2022-07-25 14:00:00  1.02345  1.02578  1.02288  1.02299   \n",
       "2           2  2022-07-25 15:00:00  1.02303  1.02476  1.02230  1.02457   \n",
       "3           3  2022-07-25 16:00:00  1.02454  1.02548  1.02355  1.02485   \n",
       "4           4  2022-07-25 17:00:00  1.02485  1.02514  1.02030  1.02181   \n",
       "\n",
       "   tick_volume  spread  real_volume  MeanCloseOpen  Diff_Close  Diff_Open  \\\n",
       "0         3927       8            0       1.023860    -0.00046   -0.00082   \n",
       "1         5344       8            0       1.023220    -0.00046   -0.00082   \n",
       "2         5524       8            0       1.023800     0.00158   -0.00042   \n",
       "3         5234       8            0       1.024695     0.00028    0.00151   \n",
       "4         9031       7            0       1.023330    -0.00304    0.00031   \n",
       "\n",
       "   Diff_MeanCloseOpen  \n",
       "0           -0.000640  \n",
       "1           -0.000640  \n",
       "2            0.000580  \n",
       "3            0.000895  \n",
       "4           -0.001365  "
      ]
     },
     "execution_count": 20,
     "metadata": {},
     "output_type": "execute_result"
    }
   ],
   "source": [
    "import pandas as pd\n",
    "\n",
    "url = \"https://raw.githubusercontent.com/hernansalinas/Curso_aprendizaje_estadistico/main/datasets/Pandas_data_historical_dataEURUSD.csv\"\n",
    "df = pd.read_csv(url)\n",
    "df.head()\n"
   ]
  },
  {
   "cell_type": "markdown",
   "metadata": {},
   "source": [
    "2. Definir como indice la columna time.\n"
   ]
  },
  {
   "cell_type": "code",
   "execution_count": 21,
   "metadata": {},
   "outputs": [
    {
     "data": {
      "text/html": [
       "<div>\n",
       "<style scoped>\n",
       "    .dataframe tbody tr th:only-of-type {\n",
       "        vertical-align: middle;\n",
       "    }\n",
       "\n",
       "    .dataframe tbody tr th {\n",
       "        vertical-align: top;\n",
       "    }\n",
       "\n",
       "    .dataframe thead th {\n",
       "        text-align: right;\n",
       "    }\n",
       "</style>\n",
       "<table border=\"1\" class=\"dataframe\">\n",
       "  <thead>\n",
       "    <tr style=\"text-align: right;\">\n",
       "      <th></th>\n",
       "      <th>Unnamed: 0</th>\n",
       "      <th>open</th>\n",
       "      <th>high</th>\n",
       "      <th>low</th>\n",
       "      <th>close</th>\n",
       "      <th>tick_volume</th>\n",
       "      <th>spread</th>\n",
       "      <th>real_volume</th>\n",
       "      <th>MeanCloseOpen</th>\n",
       "      <th>Diff_Close</th>\n",
       "      <th>Diff_Open</th>\n",
       "      <th>Diff_MeanCloseOpen</th>\n",
       "    </tr>\n",
       "    <tr>\n",
       "      <th>time</th>\n",
       "      <th></th>\n",
       "      <th></th>\n",
       "      <th></th>\n",
       "      <th></th>\n",
       "      <th></th>\n",
       "      <th></th>\n",
       "      <th></th>\n",
       "      <th></th>\n",
       "      <th></th>\n",
       "      <th></th>\n",
       "      <th></th>\n",
       "      <th></th>\n",
       "    </tr>\n",
       "  </thead>\n",
       "  <tbody>\n",
       "    <tr>\n",
       "      <th>2022-07-25 13:00:00</th>\n",
       "      <td>0</td>\n",
       "      <td>1.02427</td>\n",
       "      <td>1.02430</td>\n",
       "      <td>1.02145</td>\n",
       "      <td>1.02345</td>\n",
       "      <td>3927</td>\n",
       "      <td>8</td>\n",
       "      <td>0</td>\n",
       "      <td>1.023860</td>\n",
       "      <td>-0.00046</td>\n",
       "      <td>-0.00082</td>\n",
       "      <td>-0.000640</td>\n",
       "    </tr>\n",
       "    <tr>\n",
       "      <th>2022-07-25 14:00:00</th>\n",
       "      <td>1</td>\n",
       "      <td>1.02345</td>\n",
       "      <td>1.02578</td>\n",
       "      <td>1.02288</td>\n",
       "      <td>1.02299</td>\n",
       "      <td>5344</td>\n",
       "      <td>8</td>\n",
       "      <td>0</td>\n",
       "      <td>1.023220</td>\n",
       "      <td>-0.00046</td>\n",
       "      <td>-0.00082</td>\n",
       "      <td>-0.000640</td>\n",
       "    </tr>\n",
       "    <tr>\n",
       "      <th>2022-07-25 15:00:00</th>\n",
       "      <td>2</td>\n",
       "      <td>1.02303</td>\n",
       "      <td>1.02476</td>\n",
       "      <td>1.02230</td>\n",
       "      <td>1.02457</td>\n",
       "      <td>5524</td>\n",
       "      <td>8</td>\n",
       "      <td>0</td>\n",
       "      <td>1.023800</td>\n",
       "      <td>0.00158</td>\n",
       "      <td>-0.00042</td>\n",
       "      <td>0.000580</td>\n",
       "    </tr>\n",
       "    <tr>\n",
       "      <th>2022-07-25 16:00:00</th>\n",
       "      <td>3</td>\n",
       "      <td>1.02454</td>\n",
       "      <td>1.02548</td>\n",
       "      <td>1.02355</td>\n",
       "      <td>1.02485</td>\n",
       "      <td>5234</td>\n",
       "      <td>8</td>\n",
       "      <td>0</td>\n",
       "      <td>1.024695</td>\n",
       "      <td>0.00028</td>\n",
       "      <td>0.00151</td>\n",
       "      <td>0.000895</td>\n",
       "    </tr>\n",
       "    <tr>\n",
       "      <th>2022-07-25 17:00:00</th>\n",
       "      <td>4</td>\n",
       "      <td>1.02485</td>\n",
       "      <td>1.02514</td>\n",
       "      <td>1.02030</td>\n",
       "      <td>1.02181</td>\n",
       "      <td>9031</td>\n",
       "      <td>7</td>\n",
       "      <td>0</td>\n",
       "      <td>1.023330</td>\n",
       "      <td>-0.00304</td>\n",
       "      <td>0.00031</td>\n",
       "      <td>-0.001365</td>\n",
       "    </tr>\n",
       "  </tbody>\n",
       "</table>\n",
       "</div>"
      ],
      "text/plain": [
       "                     Unnamed: 0     open     high      low    close  \\\n",
       "time                                                                  \n",
       "2022-07-25 13:00:00           0  1.02427  1.02430  1.02145  1.02345   \n",
       "2022-07-25 14:00:00           1  1.02345  1.02578  1.02288  1.02299   \n",
       "2022-07-25 15:00:00           2  1.02303  1.02476  1.02230  1.02457   \n",
       "2022-07-25 16:00:00           3  1.02454  1.02548  1.02355  1.02485   \n",
       "2022-07-25 17:00:00           4  1.02485  1.02514  1.02030  1.02181   \n",
       "\n",
       "                     tick_volume  spread  real_volume  MeanCloseOpen  \\\n",
       "time                                                                   \n",
       "2022-07-25 13:00:00         3927       8            0       1.023860   \n",
       "2022-07-25 14:00:00         5344       8            0       1.023220   \n",
       "2022-07-25 15:00:00         5524       8            0       1.023800   \n",
       "2022-07-25 16:00:00         5234       8            0       1.024695   \n",
       "2022-07-25 17:00:00         9031       7            0       1.023330   \n",
       "\n",
       "                     Diff_Close  Diff_Open  Diff_MeanCloseOpen  \n",
       "time                                                            \n",
       "2022-07-25 13:00:00    -0.00046   -0.00082           -0.000640  \n",
       "2022-07-25 14:00:00    -0.00046   -0.00082           -0.000640  \n",
       "2022-07-25 15:00:00     0.00158   -0.00042            0.000580  \n",
       "2022-07-25 16:00:00     0.00028    0.00151            0.000895  \n",
       "2022-07-25 17:00:00    -0.00304    0.00031           -0.001365  "
      ]
     },
     "execution_count": 21,
     "metadata": {},
     "output_type": "execute_result"
    }
   ],
   "source": [
    "df = df.set_index(\"time\")\n",
    "df.head()\n"
   ]
  },
  {
   "cell_type": "markdown",
   "metadata": {},
   "source": [
    "3. Obtenga información del data frame.\n",
    "\n"
   ]
  },
  {
   "cell_type": "code",
   "execution_count": 22,
   "metadata": {},
   "outputs": [
    {
     "name": "stdout",
     "output_type": "stream",
     "text": [
      "<class 'pandas.core.frame.DataFrame'>\n",
      "Index: 5000 entries, 2022-07-25 13:00:00 to 2023-05-12 23:00:00\n",
      "Data columns (total 12 columns):\n",
      " #   Column              Non-Null Count  Dtype  \n",
      "---  ------              --------------  -----  \n",
      " 0   Unnamed: 0          5000 non-null   int64  \n",
      " 1   open                5000 non-null   float64\n",
      " 2   high                5000 non-null   float64\n",
      " 3   low                 5000 non-null   float64\n",
      " 4   close               5000 non-null   float64\n",
      " 5   tick_volume         5000 non-null   int64  \n",
      " 6   spread              5000 non-null   int64  \n",
      " 7   real_volume         5000 non-null   int64  \n",
      " 8   MeanCloseOpen       5000 non-null   float64\n",
      " 9   Diff_Close          5000 non-null   float64\n",
      " 10  Diff_Open           5000 non-null   float64\n",
      " 11  Diff_MeanCloseOpen  5000 non-null   float64\n",
      "dtypes: float64(8), int64(4)\n",
      "memory usage: 507.8+ KB\n"
     ]
    }
   ],
   "source": [
    "df.info()\n"
   ]
  },
  {
   "cell_type": "markdown",
   "metadata": {},
   "source": [
    "4. Determine si hay null, nan en el data frame.\n"
   ]
  },
  {
   "cell_type": "code",
   "execution_count": 23,
   "metadata": {},
   "outputs": [
    {
     "data": {
      "text/plain": [
       "Unnamed: 0            0\n",
       "open                  0\n",
       "high                  0\n",
       "low                   0\n",
       "close                 0\n",
       "tick_volume           0\n",
       "spread                0\n",
       "real_volume           0\n",
       "MeanCloseOpen         0\n",
       "Diff_Close            0\n",
       "Diff_Open             0\n",
       "Diff_MeanCloseOpen    0\n",
       "dtype: int64"
      ]
     },
     "execution_count": 23,
     "metadata": {},
     "output_type": "execute_result"
    }
   ],
   "source": [
    "df.isnull().sum()\n"
   ]
  },
  {
   "cell_type": "markdown",
   "metadata": {},
   "source": [
    "\n",
    "5. Emplea la notacion Pascal Case y trabaja solo con la columa del precio de cierre del eur/usd.  \n",
    "\n"
   ]
  },
  {
   "cell_type": "code",
   "execution_count": 24,
   "metadata": {},
   "outputs": [
    {
     "data": {
      "text/html": [
       "<div>\n",
       "<style scoped>\n",
       "    .dataframe tbody tr th:only-of-type {\n",
       "        vertical-align: middle;\n",
       "    }\n",
       "\n",
       "    .dataframe tbody tr th {\n",
       "        vertical-align: top;\n",
       "    }\n",
       "\n",
       "    .dataframe thead th {\n",
       "        text-align: right;\n",
       "    }\n",
       "</style>\n",
       "<table border=\"1\" class=\"dataframe\">\n",
       "  <thead>\n",
       "    <tr style=\"text-align: right;\">\n",
       "      <th></th>\n",
       "      <th>Close</th>\n",
       "    </tr>\n",
       "    <tr>\n",
       "      <th>time</th>\n",
       "      <th></th>\n",
       "    </tr>\n",
       "  </thead>\n",
       "  <tbody>\n",
       "    <tr>\n",
       "      <th>2022-07-25 13:00:00</th>\n",
       "      <td>1.02345</td>\n",
       "    </tr>\n",
       "    <tr>\n",
       "      <th>2022-07-25 14:00:00</th>\n",
       "      <td>1.02299</td>\n",
       "    </tr>\n",
       "    <tr>\n",
       "      <th>2022-07-25 15:00:00</th>\n",
       "      <td>1.02457</td>\n",
       "    </tr>\n",
       "    <tr>\n",
       "      <th>2022-07-25 16:00:00</th>\n",
       "      <td>1.02485</td>\n",
       "    </tr>\n",
       "    <tr>\n",
       "      <th>2022-07-25 17:00:00</th>\n",
       "      <td>1.02181</td>\n",
       "    </tr>\n",
       "    <tr>\n",
       "      <th>...</th>\n",
       "      <td>...</td>\n",
       "    </tr>\n",
       "    <tr>\n",
       "      <th>2023-05-12 19:00:00</th>\n",
       "      <td>1.08514</td>\n",
       "    </tr>\n",
       "    <tr>\n",
       "      <th>2023-05-12 20:00:00</th>\n",
       "      <td>1.08546</td>\n",
       "    </tr>\n",
       "    <tr>\n",
       "      <th>2023-05-12 21:00:00</th>\n",
       "      <td>1.08531</td>\n",
       "    </tr>\n",
       "    <tr>\n",
       "      <th>2023-05-12 22:00:00</th>\n",
       "      <td>1.08518</td>\n",
       "    </tr>\n",
       "    <tr>\n",
       "      <th>2023-05-12 23:00:00</th>\n",
       "      <td>1.08494</td>\n",
       "    </tr>\n",
       "  </tbody>\n",
       "</table>\n",
       "<p>5000 rows × 1 columns</p>\n",
       "</div>"
      ],
      "text/plain": [
       "                       Close\n",
       "time                        \n",
       "2022-07-25 13:00:00  1.02345\n",
       "2022-07-25 14:00:00  1.02299\n",
       "2022-07-25 15:00:00  1.02457\n",
       "2022-07-25 16:00:00  1.02485\n",
       "2022-07-25 17:00:00  1.02181\n",
       "...                      ...\n",
       "2023-05-12 19:00:00  1.08514\n",
       "2023-05-12 20:00:00  1.08546\n",
       "2023-05-12 21:00:00  1.08531\n",
       "2023-05-12 22:00:00  1.08518\n",
       "2023-05-12 23:00:00  1.08494\n",
       "\n",
       "[5000 rows x 1 columns]"
      ]
     },
     "execution_count": 24,
     "metadata": {},
     "output_type": "execute_result"
    }
   ],
   "source": [
    "df = df.rename(columns={\"close\": \"Close\"})\n",
    "close_df = df[[\"Close\"]]\n",
    "close_df\n"
   ]
  },
  {
   "cell_type": "markdown",
   "metadata": {},
   "source": [
    "6. Ahora vamos a determinar cual es la mejor distribución estadística que se ajusta a la diferencia del precio de cierre cada hora, para ello realizamos lo siguiente:\n",
    "- Determine la diferencia de precio entre horas, agregue una nueva columna llamada DiffPrice, en este punto tu dataframe debe tener solo dos columnas Close, DiffPrice y el indice debe ser el tiempo.\n",
    "- Para la nueva columna construya un histograma de los datos.\n",
    "- Determine la mejor distribucion estadística que se ajusta al histograma anterior, para ello puede emplear lo siguente:\n",
    "\n",
    "\n",
    "https://pypi.org/project/fitter/\n",
    "\n",
    "```python\n",
    "\n",
    "\n",
    "from fitter import Fitter, get_common_distributions, get_distributions\n",
    "\n",
    "f = Fitter(data,\n",
    "           distributions=['gamma',\n",
    "                          'lognorm',\n",
    "                          \"beta\",\n",
    "                          \"burr\",\n",
    "                          \"norm\"])\n",
    "f.fit()\n",
    "f.summary()\n",
    "#Indentificamos la mejor distribucion con el error cuadratico medio\n",
    "f.get_best(method = 'sumsquare_error')\n",
    "#Indentificamos parametros de la distrubicion beta\n",
    "f.fitted_param[\"beta\"]\n",
    "\n",
    "```\n",
    "\n",
    "Con el metodo get_distributions(), podemos ver todas las distribuciones estadisticas de la libreria. Ajusta a la mejor.  Puede consultar [esta](https://medium.com/the-researchers-guide/finding-the-best-distribution-that-fits-your-data-using-pythons-fitter-library-319a5a0972e9)  página si desea ver un ejemplo.\n",
    "\n"
   ]
  },
  {
   "cell_type": "code",
   "execution_count": 25,
   "metadata": {},
   "outputs": [
    {
     "name": "stderr",
     "output_type": "stream",
     "text": [
      "/tmp/ipykernel_24521/4217518002.py:4: SettingWithCopyWarning: \n",
      "A value is trying to be set on a copy of a slice from a DataFrame.\n",
      "Try using .loc[row_indexer,col_indexer] = value instead\n",
      "\n",
      "See the caveats in the documentation: https://pandas.pydata.org/pandas-docs/stable/user_guide/indexing.html#returning-a-view-versus-a-copy\n",
      "  close_df[\"DiffPrice\"] = close_df[\"Close\"].diff()\n"
     ]
    },
    {
     "data": {
      "image/png": "[encoded data removed]",
      "text/plain": [
       "<Figure size 640x480 with 1 Axes>"
      ]
     },
     "metadata": {},
     "output_type": "display_data"
    },
    {
     "name": "stderr",
     "output_type": "stream",
     "text": [
      "2025-10-13 01:57:53.035 | INFO     | fitter.fitter:_fit_single_distribution:333 - Fitted norm distribution with error=106744.023571)\n",
      "2025-10-13 01:57:53.684 | INFO     | fitter.fitter:_fit_single_distribution:333 - Fitted burr distribution with error=721804.561088)\n",
      "2025-10-13 01:57:54.675 | INFO     | fitter.fitter:_fit_single_distribution:333 - Fitted gamma distribution with error=923360.482403)\n",
      "2025-10-13 01:57:54.751 | INFO     | fitter.fitter:_fit_single_distribution:333 - Fitted beta distribution with error=106676.111621)\n",
      "2025-10-13 01:57:54.844 | INFO     | fitter.fitter:_fit_single_distribution:333 - Fitted lognorm distribution with error=106500.661168)\n"
     ]
    },
    {
     "data": {
      "text/plain": [
       "(14613.527947910232,\n",
       " 27360.991772190286,\n",
       " -0.20964563672636735,\n",
       " 0.6022017125608812)"
      ]
     },
     "execution_count": 25,
     "metadata": {},
     "output_type": "execute_result"
    },
    {
     "data": {
      "image/png": "[encoded data removed]",
      "text/plain": [
       "<Figure size 640x480 with 1 Axes>"
      ]
     },
     "metadata": {},
     "output_type": "display_data"
    }
   ],
   "source": [
    "import matplotlib.pyplot as plt\n",
    "from fitter import Fitter\n",
    "\n",
    "close_df[\"DiffPrice\"] = close_df[\"Close\"].diff()\n",
    "close_df = close_df.dropna()\n",
    "\n",
    "close_df[[\"Close\", \"DiffPrice\"]].head()\n",
    "\n",
    "close_df[\"DiffPrice\"].hist(bins=50)\n",
    "plt.xlabel(\"Diferencia de precio\")\n",
    "plt.ylabel(\"Frecuencia\")\n",
    "plt.title(\"Histograma de la diferencia del precio de cierre (EUR/USD)\")\n",
    "plt.show()\n",
    "\n",
    "f = Fitter(\n",
    "    close_df[\"DiffPrice\"],\n",
    "    distributions=['gamma', 'lognorm', 'beta', 'burr', 'norm']\n",
    ")\n",
    "f.fit()\n",
    "f.summary()\n",
    "\n",
    "f.get_best(method='sumsquare_error')\n",
    "f.fitted_param[\"beta\"]\n"
   ]
  },
  {
   "cell_type": "markdown",
   "metadata": {},
   "source": [
    "\n",
    "7. Para el data frame, seleccionemos solo los datos del 2023.\n",
    "\n"
   ]
  },
  {
   "cell_type": "code",
   "execution_count": 26,
   "metadata": {},
   "outputs": [
    {
     "data": {
      "text/html": [
       "<div>\n",
       "<style scoped>\n",
       "    .dataframe tbody tr th:only-of-type {\n",
       "        vertical-align: middle;\n",
       "    }\n",
       "\n",
       "    .dataframe tbody tr th {\n",
       "        vertical-align: top;\n",
       "    }\n",
       "\n",
       "    .dataframe thead th {\n",
       "        text-align: right;\n",
       "    }\n",
       "</style>\n",
       "<table border=\"1\" class=\"dataframe\">\n",
       "  <thead>\n",
       "    <tr style=\"text-align: right;\">\n",
       "      <th></th>\n",
       "      <th>Unnamed: 0</th>\n",
       "      <th>open</th>\n",
       "      <th>high</th>\n",
       "      <th>low</th>\n",
       "      <th>Close</th>\n",
       "      <th>tick_volume</th>\n",
       "      <th>spread</th>\n",
       "      <th>real_volume</th>\n",
       "      <th>MeanCloseOpen</th>\n",
       "      <th>Diff_Close</th>\n",
       "      <th>Diff_Open</th>\n",
       "      <th>Diff_MeanCloseOpen</th>\n",
       "    </tr>\n",
       "    <tr>\n",
       "      <th>time</th>\n",
       "      <th></th>\n",
       "      <th></th>\n",
       "      <th></th>\n",
       "      <th></th>\n",
       "      <th></th>\n",
       "      <th></th>\n",
       "      <th></th>\n",
       "      <th></th>\n",
       "      <th></th>\n",
       "      <th></th>\n",
       "      <th></th>\n",
       "      <th></th>\n",
       "    </tr>\n",
       "  </thead>\n",
       "  <tbody>\n",
       "    <tr>\n",
       "      <th>2023-01-02 00:00:00</th>\n",
       "      <td>2722</td>\n",
       "      <td>1.06998</td>\n",
       "      <td>1.07061</td>\n",
       "      <td>1.06795</td>\n",
       "      <td>1.06796</td>\n",
       "      <td>98</td>\n",
       "      <td>57</td>\n",
       "      <td>0</td>\n",
       "      <td>1.068970</td>\n",
       "      <td>-0.00200</td>\n",
       "      <td>-0.00063</td>\n",
       "      <td>-0.001315</td>\n",
       "    </tr>\n",
       "    <tr>\n",
       "      <th>2023-01-02 01:00:00</th>\n",
       "      <td>2723</td>\n",
       "      <td>1.06847</td>\n",
       "      <td>1.06965</td>\n",
       "      <td>1.06847</td>\n",
       "      <td>1.06965</td>\n",
       "      <td>91</td>\n",
       "      <td>183</td>\n",
       "      <td>0</td>\n",
       "      <td>1.069060</td>\n",
       "      <td>0.00169</td>\n",
       "      <td>-0.00151</td>\n",
       "      <td>0.000090</td>\n",
       "    </tr>\n",
       "    <tr>\n",
       "      <th>2023-01-02 02:00:00</th>\n",
       "      <td>2724</td>\n",
       "      <td>1.06965</td>\n",
       "      <td>1.07060</td>\n",
       "      <td>1.06904</td>\n",
       "      <td>1.07058</td>\n",
       "      <td>325</td>\n",
       "      <td>11</td>\n",
       "      <td>0</td>\n",
       "      <td>1.070115</td>\n",
       "      <td>0.00093</td>\n",
       "      <td>0.00118</td>\n",
       "      <td>0.001055</td>\n",
       "    </tr>\n",
       "    <tr>\n",
       "      <th>2023-01-02 03:00:00</th>\n",
       "      <td>2725</td>\n",
       "      <td>1.07058</td>\n",
       "      <td>1.07075</td>\n",
       "      <td>1.06837</td>\n",
       "      <td>1.06896</td>\n",
       "      <td>271</td>\n",
       "      <td>26</td>\n",
       "      <td>0</td>\n",
       "      <td>1.069770</td>\n",
       "      <td>-0.00162</td>\n",
       "      <td>0.00093</td>\n",
       "      <td>-0.000345</td>\n",
       "    </tr>\n",
       "    <tr>\n",
       "      <th>2023-01-02 04:00:00</th>\n",
       "      <td>2726</td>\n",
       "      <td>1.06895</td>\n",
       "      <td>1.06896</td>\n",
       "      <td>1.06799</td>\n",
       "      <td>1.06880</td>\n",
       "      <td>137</td>\n",
       "      <td>78</td>\n",
       "      <td>0</td>\n",
       "      <td>1.068875</td>\n",
       "      <td>-0.00016</td>\n",
       "      <td>-0.00163</td>\n",
       "      <td>-0.000895</td>\n",
       "    </tr>\n",
       "  </tbody>\n",
       "</table>\n",
       "</div>"
      ],
      "text/plain": [
       "                     Unnamed: 0     open     high      low    Close  \\\n",
       "time                                                                  \n",
       "2023-01-02 00:00:00        2722  1.06998  1.07061  1.06795  1.06796   \n",
       "2023-01-02 01:00:00        2723  1.06847  1.06965  1.06847  1.06965   \n",
       "2023-01-02 02:00:00        2724  1.06965  1.07060  1.06904  1.07058   \n",
       "2023-01-02 03:00:00        2725  1.07058  1.07075  1.06837  1.06896   \n",
       "2023-01-02 04:00:00        2726  1.06895  1.06896  1.06799  1.06880   \n",
       "\n",
       "                     tick_volume  spread  real_volume  MeanCloseOpen  \\\n",
       "time                                                                   \n",
       "2023-01-02 00:00:00           98      57            0       1.068970   \n",
       "2023-01-02 01:00:00           91     183            0       1.069060   \n",
       "2023-01-02 02:00:00          325      11            0       1.070115   \n",
       "2023-01-02 03:00:00          271      26            0       1.069770   \n",
       "2023-01-02 04:00:00          137      78            0       1.068875   \n",
       "\n",
       "                     Diff_Close  Diff_Open  Diff_MeanCloseOpen  \n",
       "time                                                            \n",
       "2023-01-02 00:00:00    -0.00200   -0.00063           -0.001315  \n",
       "2023-01-02 01:00:00     0.00169   -0.00151            0.000090  \n",
       "2023-01-02 02:00:00     0.00093    0.00118            0.001055  \n",
       "2023-01-02 03:00:00    -0.00162    0.00093           -0.000345  \n",
       "2023-01-02 04:00:00    -0.00016   -0.00163           -0.000895  "
      ]
     },
     "execution_count": 26,
     "metadata": {},
     "output_type": "execute_result"
    }
   ],
   "source": [
    "df.index = pd.to_datetime(df.index)\n",
    "df_2023 = df.loc[\"2023\"]\n",
    "df_2023.head()\n"
   ]
  },
  {
   "cell_type": "markdown",
   "metadata": {},
   "source": [
    "8. El comando groupby permite agrupar los datos con la periodicidad deseada: 1 dias, 2 dias, 1 mes etc. Determina el promedio con una periodicidad de 15 dias, con periodidicidad de 1 semana, y una periodicidad de 1 mes\n",
    "\n",
    "```python\n",
    "  df.groupby(pd.Grouper(key='time', freq='15D')).mean()\n",
    "```\n"
   ]
  },
  {
   "cell_type": "code",
   "execution_count": 27,
   "metadata": {},
   "outputs": [
    {
     "name": "stderr",
     "output_type": "stream",
     "text": [
      "/tmp/ipykernel_24521/2464154712.py:3: FutureWarning: 'M' is deprecated and will be removed in a future version, please use 'ME' instead.\n",
      "  mean_1m = df_2023.groupby(pd.Grouper(freq='M')).mean()\n"
     ]
    },
    {
     "data": {
      "text/plain": [
       "(            Unnamed: 0      open      high       low     Close  tick_volume  \\\n",
       " time                                                                          \n",
       " 2023-01-02      2853.5  1.069313  1.070248  1.068430  1.069361  3503.856061   \n",
       " 2023-01-17      3117.5  1.085552  1.086401  1.084746  1.085565  3191.670455   \n",
       " 2023-02-01      3381.5  1.077734  1.078544  1.076861  1.077679  3179.253788   \n",
       " 2023-02-16      3645.5  1.063187  1.063884  1.062480  1.063150  2926.143939   \n",
       " 2023-03-03      3909.0  1.063175  1.064041  1.062303  1.063186  3618.418251   \n",
       " \n",
       "                spread  real_volume  MeanCloseOpen  Diff_Close  Diff_Open  \\\n",
       " time                                                                       \n",
       " 2023-01-02  10.181818          0.0       1.069337    0.000047   0.000043   \n",
       " 2023-01-17   8.973485          0.0       1.085558    0.000015   0.000020   \n",
       " 2023-02-01   8.863636          0.0       1.077707   -0.000066  -0.000069   \n",
       " 2023-02-16   8.833333          0.0       1.063169   -0.000034  -0.000034   \n",
       " 2023-03-03   8.904943          0.0       1.063181    0.000026   0.000023   \n",
       " \n",
       "             Diff_MeanCloseOpen  \n",
       " time                            \n",
       " 2023-01-02            0.000045  \n",
       " 2023-01-17            0.000017  \n",
       " 2023-02-01           -0.000068  \n",
       " 2023-02-16           -0.000034  \n",
       " 2023-03-03            0.000024  ,\n",
       "             Unnamed: 0      open      high       low     Close  tick_volume  \\\n",
       " time                                                                          \n",
       " 2023-01-08      2781.5  1.060026  1.060999  1.059065  1.059972  3606.366667   \n",
       " 2023-01-15      2901.5  1.075837  1.076790  1.074993  1.076002  3643.375000   \n",
       " 2023-01-22      3021.5  1.082021  1.082941  1.081192  1.082041  3450.716667   \n",
       " 2023-01-29      3141.5  1.088411  1.089192  1.087631  1.088414  2863.625000   \n",
       " 2023-02-05      3261.5  1.089315  1.090211  1.088410  1.089281  3306.150000   \n",
       " \n",
       "                spread  real_volume  MeanCloseOpen  Diff_Close  Diff_Open  \\\n",
       " time                                                                       \n",
       " 2023-01-08  11.341667          0.0       1.059999   -0.000047  -0.000050   \n",
       " 2023-01-15   9.141667          0.0       1.075920    0.000156   0.000156   \n",
       " 2023-01-22   9.091667          0.0       1.082031    0.000020   0.000020   \n",
       " 2023-01-29   8.941667          0.0       1.088412    0.000010   0.000007   \n",
       " 2023-02-05   8.900000          0.0       1.089298   -0.000062  -0.000060   \n",
       " \n",
       "             Diff_MeanCloseOpen  \n",
       " time                            \n",
       " 2023-01-08           -0.000049  \n",
       " 2023-01-15            0.000156  \n",
       " 2023-01-22            0.000020  \n",
       " 2023-01-29            0.000009  \n",
       " 2023-02-05           -0.000061  ,\n",
       "             Unnamed: 0      open      high       low     Close  tick_volume  \\\n",
       " time                                                                          \n",
       " 2023-01-31      2985.5  1.077433  1.078325  1.076588  1.077463  3347.763258   \n",
       " 2023-02-28      3489.5  1.071221  1.071972  1.070433  1.071167  3029.912500   \n",
       " 2023-03-31      4004.5  1.070837  1.071657  1.070032  1.070874  3282.461818   \n",
       " 2023-04-30      4519.5  1.096012  1.096711  1.095365  1.096051  2208.629167   \n",
       " 2023-05-31      4879.5  1.099051  1.099718  1.098358  1.098980  2240.137500   \n",
       " \n",
       "               spread  real_volume  MeanCloseOpen  Diff_Close  Diff_Open  \\\n",
       " time                                                                      \n",
       " 2023-01-31  9.577652          0.0       1.077448    0.000031   0.000031   \n",
       " 2023-02-28  8.825000          0.0       1.071194   -0.000060  -0.000062   \n",
       " 2023-03-31  8.901818          0.0       1.070855    0.000049   0.000049   \n",
       " 2023-04-30  8.854167          0.0       1.096032    0.000036   0.000036   \n",
       " 2023-05-31  8.704167          0.0       1.099015   -0.000069  -0.000070   \n",
       " \n",
       "             Diff_MeanCloseOpen  \n",
       " time                            \n",
       " 2023-01-31            0.000031  \n",
       " 2023-02-28           -0.000061  \n",
       " 2023-03-31            0.000049  \n",
       " 2023-04-30            0.000036  \n",
       " 2023-05-31           -0.000069  )"
      ]
     },
     "execution_count": 27,
     "metadata": {},
     "output_type": "execute_result"
    }
   ],
   "source": [
    "mean_15d = df_2023.groupby(pd.Grouper(freq='15D')).mean()\n",
    "mean_1w = df_2023.groupby(pd.Grouper(freq='W')).mean()\n",
    "mean_1m = df_2023.groupby(pd.Grouper(freq='M')).mean()\n",
    "\n",
    "mean_15d.head(), mean_1w.head(), mean_1m.head()\n"
   ]
  },
  {
   "cell_type": "markdown",
   "metadata": {},
   "source": [
    "\n",
    "9. Para los datos asociados a los meses de 2023, construya un histograma para cada mes.  Para ello puedo emplear el metodo groupby. Notetese que si no  realiza una operación después de aplicar el metodo grouby, podrias iterar sobre dicho objeto, por ejemplo:\n",
    "\n",
    "```python\n",
    "q=df.groupby(pd.Grouper(key='time', freq='15D'))\n",
    "\n",
    "for name, group in q:\n",
    "  print(name, group)\n",
    "```"
   ]
  },
  {
   "cell_type": "code",
   "execution_count": 28,
   "metadata": {},
   "outputs": [
    {
     "name": "stderr",
     "output_type": "stream",
     "text": [
      "/tmp/ipykernel_24521/2320933327.py:1: FutureWarning: 'M' is deprecated and will be removed in a future version, please use 'ME' instead.\n",
      "  q = df_2023.groupby(pd.Grouper(freq='M'))\n"
     ]
    },
    {
     "data": {
      "image/png": "[encoded data removed]",
      "text/plain": [
       "<Figure size 640x480 with 1 Axes>"
      ]
     },
     "metadata": {},
     "output_type": "display_data"
    },
    {
     "data": {
      "image/png": "[encoded data removed]",
      "text/plain": [
       "<Figure size 640x480 with 1 Axes>"
      ]
     },
     "metadata": {},
     "output_type": "display_data"
    },
    {
     "data": {
      "image/png": "[encoded data removed]",
      "text/plain": [
       "<Figure size 640x480 with 1 Axes>"
      ]
     },
     "metadata": {},
     "output_type": "display_data"
    },
    {
     "data": {
      "image/png": "[encoded data removed]",
      "text/plain": [
       "<Figure size 640x480 with 1 Axes>"
      ]
     },
     "metadata": {},
     "output_type": "display_data"
    },
    {
     "data": {
      "image/png": "[encoded data removed]",
      "text/plain": [
       "<Figure size 640x480 with 1 Axes>"
      ]
     },
     "metadata": {},
     "output_type": "display_data"
    }
   ],
   "source": [
    "\n",
    "q = df_2023.groupby(pd.Grouper(freq='M'))\n",
    "\n",
    "for name, group in q:\n",
    "    plt.figure()\n",
    "    plt.hist(group[\"Close\"], bins=30)\n",
    "    plt.title(f\"Histograma del precio de cierre - {name.strftime('%B %Y')}\")\n",
    "    plt.xlabel(\"Precio de cierre (EUR/USD)\")\n",
    "    plt.ylabel(\"Frecuencia\")\n",
    "    plt.show()\n"
   ]
  },
  {
   "cell_type": "code",
   "execution_count": null,
   "metadata": {},
   "outputs": [],
   "source": []
  }
 ],
 "metadata": {
  "colab": {
   "provenance": []
  },
  "kernelspec": {
   "display_name": "base",
   "language": "python",
   "name": "python3"
  },
  "language_info": {
   "codemirror_mode": {
    "name": "ipython",
    "version": 3
   },
   "file_extension": ".py",
   "mimetype": "text/x-python",
   "name": "python",
   "nbconvert_exporter": "python",
   "pygments_lexer": "ipython3",
   "version": "3.12.7"
  }
 },
 "nbformat": 4,
 "nbformat_minor": 1
}
