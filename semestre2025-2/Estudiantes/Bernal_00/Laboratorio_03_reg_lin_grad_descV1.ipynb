{
 "cells": [
  {
   "cell_type": "markdown",
   "metadata": {
    "id": "eSX48AAWRP8t"
   },
   "source": [
    "<a href=\"https://colab.research.google.com/github/CienciaDatosUdea/002_EstudiantesAprendizajeEstadistico/blob/main/semestre2025-2/Laboratorios/Laboratorio_03_reg_lin_grad_descV1.ipynb\" target=\"_parent\"><img src=\"https://colab.research.google.com/assets/colab-badge.svg\" alt=\"Open In Colab\"/></a>\n"
   ]
  },
  {
   "cell_type": "markdown",
   "metadata": {
    "id": "uXOaXGf5YVUv"
   },
   "source": [
    "##Estructura de un problema general de machine learning:"
   ]
  },
  {
   "cell_type": "markdown",
   "metadata": {
    "id": "zTwlNuxE_uMD"
   },
   "source": [
    "\n",
    "Los modelos de aprendizaje estadístico que pueden ser industriazados,   puede ser [esquematizado](https://proceedings.neurips.cc/paper/2015/file/86df7dcfd896fcaf2674f757a2463eba-Paper.pdf) según se muestra en la siguiente imagen:\n",
    "\n",
    "![MLOPs](https://github.com/hernansalinas/Curso_aprendizaje_estadistico/blob/main/Sesiones/imagenes/Sesion_04_MLOP_General.png?raw=true)\n",
    "\n",
    "\n",
    "![MLOPs](https://github.com/hernansalinas/Curso_aprendizaje_estadistico/blob/main/Sesiones/imagenes/Sesion_04_MLOPS.png?raw=true)\n",
    "\n",
    "\n",
    "\n",
    "A partir de ahora, nos concentraremos en entender los modelos de que ocurren dentro de la caja negra, y como encajan dentro de una estructura general de los modelos de machine learning ML.\n",
    "\n",
    "De forma general un modelo de [ML](https://www.coursera.org/learn/machine-learning)   puede ser visualizado de la siguiente manera :\n",
    "\n",
    "![SupervisedModel](https://github.com/hernansalinas/Curso_aprendizaje_estadistico/blob/main/Sesiones/imagenes/Sesion_04_GeneralTraining.png?raw=true)\n",
    "\n",
    "\n",
    "\n",
    "## ¿Cual es el mejor enfoque para optimizar un problema?\n",
    "\n",
    "[Non-Free-Lunch-Theorem](https://ieeexplore.ieee.org/document/585893):\n",
    "Por cada par de algoritmos hay tantos problemas en el que el primer algoritmo es mejor que el segundo como problemas en el que el segundo es mejor que el primero, como consecuencia no existe un unico algoritmo inteligente para optimizar un problema, siempre es recomendable emplear un cierto conocimiento especifico de un problema.\n",
    "\n",
    "\n",
    "\n",
    "##  Estructura general de los problemas ML:\n",
    "1. Construir hipotesis.\n",
    "2. Elegir parametros\n",
    "3. Elegir la funcion de coste.\n",
    "4. Minimizar los datos\n",
    "5. Validar y entrenar.\n",
    "\n",
    "\n",
    "\n",
    "## Aprendizaje Supervisado :\n",
    "\n",
    "- Datos etiquetados\n",
    "- Retroalimentación directa\n",
    "- Predicción de resultados.\n",
    "\n",
    "\n",
    "\n",
    "\n",
    "\n",
    "\n",
    "\n",
    "\n"
   ]
  },
  {
   "cell_type": "markdown",
   "metadata": {
    "id": "uHo8j2aZYQJw"
   },
   "source": [
    "## Regresión lineal:"
   ]
  },
  {
   "cell_type": "markdown",
   "metadata": {
    "id": "tReC8I_Y8D9S"
   },
   "source": [
    "\n",
    "\n",
    "Supongamos que tenemos un sistema en el que existe un predicor con  **m** valores de entrenamiento,  asi:   $ (x^{(1)}, y^{(1)} ) , (x^{(2)}, y^{(2)}) ... (x^{(m)}, y^{(m)})$\n",
    "\n",
    "\n",
    "|Training|Y  | X_1  |\n",
    "|--------|---|----------|\n",
    "|$1$     |$Y^{1}$ | $X_1^{1}$|\n",
    "|$2$     |$Y^{2}$ | $X_1^{2}$|\n",
    "|$.$     |$.$     | $.$      |\n",
    "|$.$     |$.$     | $.$      |\n",
    "|$.$     |$.$     | $.$      |\n",
    "|$m$     |$Y^{m}$ | $X_1^{m}$  |\n",
    "\n",
    "\n",
    "\n",
    "Podemos definir un modelo lineal  como : $h(X) = \\theta_0 + \\theta_1 X$ con $(\\theta_0 , \\theta_1)$ parámetros. Nuestro objetivo es encontrar el conjunto de puntos  $(\\theta_0 , \\theta_1)$ que se encuentan más \"cercano\" a $Y$ para cada $X$.\n",
    "\n",
    "Para la optimización, vamos a definir la función de coste **$J(\\theta_1,\\theta_2 )$** para las muestras de entrenamiento como aquella que garantiza la distancia euclidiana respecto a la hipotesis planteada, así:\n",
    "\n",
    "\\begin{equation}\n",
    "J(\\theta_1, \\theta_2)=\\frac{1}{2m} \\sum_{i=0}^m ( h_{\\theta} (x^{(i)})-y^{(i)})^2\n",
    "\\end{equation}\n",
    "\n",
    "Para encontrar los valores  $(\\theta_0 , \\theta_1)$ se necesita  minimizar la función de coste, que permite obtener los valores más cercanos,  esta minimización podrá ser realizada a través de diferentes métodos el más conocido es el gradiente descendente.\n",
    "\n",
    "![](https://github.com/hernansalinas/Curso_aprendizaje_estadistico/blob/main/Sesiones/imagenes/fig00.png?raw=true=50x)\n",
    "\n",
    "\n"
   ]
  },
  {
   "cell_type": "markdown",
   "metadata": {
    "id": "Da8b8ZYU8Z4Z"
   },
   "source": [
    "Supongamos un modelo lineal para realizar la predicción, así nuestro modelo estará basado en la siguiente hipotesis de trabajo:\n",
    "\n",
    "$h(X) =\\theta_0 + \\theta_1 X$\n",
    "\n",
    "\n",
    "Reemplando el modelo anterior en la función de coste, tenemos que:\n",
    "\n",
    "\n",
    "\n",
    "\\begin{equation}\n",
    "J(\\theta_1, \\theta_2)=\\frac{1}{2m} \\sum_{i=0}^m ( (\\theta_0 + \\theta_1 X)- y^{(i)})^2\n",
    "\\end{equation}\n",
    "\n"
   ]
  },
  {
   "cell_type": "markdown",
   "metadata": {
    "id": "wOOnW0FO9Mqj"
   },
   "source": [
    "# Laboratorio 03\n",
    "\n",
    "\n",
    "1. Supongamos que un conjunto de características y datos etiquetados estan dados de la siguiente manera:\n",
    "\n",
    "Crear un data frame de pandas con los siguientes datos:\n",
    "\n",
    "|Entrenamiento|Y| X_1 |\n",
    "|-|-|-|\n",
    "|0|0|0|\n",
    "|1|1|1|\n",
    "|2|2|2|\n",
    "|3|3|3|\n",
    "|4|4|4|\n",
    "|m|5|5|\n",
    "\n",
    "\n",
    "\n"
   ]
  },
  {
   "cell_type": "code",
   "execution_count": 47,
   "metadata": {
    "executionInfo": {
     "elapsed": 3955,
     "status": "ok",
     "timestamp": 1760456574055,
     "user": {
      "displayName": "JOSE DAVID BERNAL RESTREPO",
      "userId": "01465524678283613080"
     },
     "user_tz": 300
    },
    "id": "YuDutLTWY1LS"
   },
   "outputs": [],
   "source": [
    "import pandas as pd\n",
    "import numpy as np\n",
    "import matplotlib.pyplot as plt\n",
    "import seaborn as sns"
   ]
  },
  {
   "cell_type": "code",
   "execution_count": 48,
   "metadata": {
    "colab": {
     "base_uri": "https://localhost:8080/",
     "height": 449
    },
    "executionInfo": {
     "elapsed": 110,
     "status": "ok",
     "timestamp": 1760456919917,
     "user": {
      "displayName": "JOSE DAVID BERNAL RESTREPO",
      "userId": "01465524678283613080"
     },
     "user_tz": 300
    },
    "id": "e62ddd11",
    "outputId": "75fd3039-7ba3-42f9-8c05-7d0ca06ca598"
   },
   "outputs": [
    {
     "data": {
      "image/png": "[encoded data removed]",
      "text/plain": [
       "<Figure size 640x480 with 1 Axes>"
      ]
     },
     "metadata": {},
     "output_type": "display_data"
    }
   ],
   "source": [
    "data = {\n",
    "    'Entrenamiento': [0, 1, 2, 3, 4, 5],\n",
    "    'Y': [0, 1, 2, 3, 4, 5],\n",
    "    'X_1': [0, 1, 2, 3, 4, 5]\n",
    "}\n",
    "\n",
    "data = pd.DataFrame(data)\n",
    "\n",
    "plt.plot(data['X_1'], data['Y'], 'o')\n",
    "plt.xlabel('X_1')\n",
    "plt.ylabel('Y')\n",
    "plt.show()"
   ]
  },
  {
   "cell_type": "markdown",
   "metadata": {
    "id": "oF9N8d_9YDCY"
   },
   "source": [
    "\n",
    "\n",
    "\n",
    "2. Crear una función para calcular la función de coste.\n",
    "\n",
    "\n"
   ]
  },
  {
   "cell_type": "code",
   "execution_count": 49,
   "metadata": {
    "executionInfo": {
     "elapsed": 4,
     "status": "ok",
     "timestamp": 1760456858686,
     "user": {
      "displayName": "JOSE DAVID BERNAL RESTREPO",
      "userId": "01465524678283613080"
     },
     "user_tz": 300
    },
    "id": "9BH1Og5wYFWY"
   },
   "outputs": [],
   "source": [
    "def linear_model(theta_0, theta_1, x):\n",
    "    return theta_0 + theta_1 * x\n",
    "\n",
    "def MSE(y_true, y_predict):\n",
    "    \"\"\"\n",
    "    Returns the Mean Squared Error (MSE) from arrays\n",
    "    \"\"\"\n",
    "    mse = 1 / (len(y_true)) * np.sum((y_true - y_predict) ** 2)\n",
    "\n",
    "    return mse\n"
   ]
  },
  {
   "cell_type": "markdown",
   "metadata": {
    "id": "REGQs1gYYFh4"
   },
   "source": [
    "\n",
    "3. Asumiendo que $\\theta_0=0$, represente gráficamente la función de costo para diferentes valores de $\\theta_1$. Determine el valor mínimo de la función de costo y, con este valor, grafique la ecuación de regresión obtenida sobre los datos del dataframe que ha construido.\n",
    "\n"
   ]
  },
  {
   "cell_type": "code",
   "execution_count": 55,
   "metadata": {
    "colab": {
     "base_uri": "https://localhost:8080/",
     "height": 450
    },
    "executionInfo": {
     "elapsed": 365,
     "status": "ok",
     "timestamp": 1760457225705,
     "user": {
      "displayName": "JOSE DAVID BERNAL RESTREPO",
      "userId": "01465524678283613080"
     },
     "user_tz": 300
    },
    "id": "Q2n51UOUYHCo",
    "outputId": "7ac94d65-0019-482d-b45e-82cf793947d8"
   },
   "outputs": [
    {
     "data": {
      "image/png": "[encoded data removed]",
      "text/plain": [
       "<Figure size 640x480 with 1 Axes>"
      ]
     },
     "metadata": {},
     "output_type": "display_data"
    },
    {
     "name": "stdout",
     "output_type": "stream",
     "text": [
      "Mínimo en 0.960, Loss=0.014964\n"
     ]
    }
   ],
   "source": [
    "x_train = data['X_1']\n",
    "y_train = data['Y']\n",
    "\n",
    "# Rango para theta 1 con theta_0 fijo en 0\n",
    "theta_1_test = np.linspace(-3, 5, 100)\n",
    "loss_function = []\n",
    "\n",
    "# Iterar sobre distintos valores de theta_1\n",
    "for theta_1 in theta_1_test:\n",
    "    y_predict = linear_model(0, theta_1, x_train)\n",
    "    loss_function.append(MSE(y_train, y_predict))\n",
    "\n",
    "# Encontrar y marcar el mínimo\n",
    "min_idx = np.argmin(loss_function)\n",
    "min_theta_1 = theta_1_test[min_idx]\n",
    "min_loss = loss_function[min_idx]\n",
    "\n",
    "plt.plot(theta_1_test, loss_function)\n",
    "plt.plot(min_theta_1, min_loss, 'rx', markersize=8)\n",
    "plt.xlabel('theta_1')\n",
    "plt.ylabel('Loss function')\n",
    "plt.title('Función de perdida')\n",
    "plt.show()\n",
    "\n",
    "print(f\"Mínimo en {min_theta_1:.3f}, Loss={min_loss:.6f}\")\n"
   ]
  },
  {
   "cell_type": "code",
   "execution_count": 67,
   "metadata": {},
   "outputs": [
    {
     "data": {
      "image/png": "[encoded data removed]",
      "text/plain": [
       "<Figure size 640x480 with 1 Axes>"
      ]
     },
     "metadata": {},
     "output_type": "display_data"
    }
   ],
   "source": [
    "X = np.linspace(data['X_1'].min(), data['X_1'].max(), 10)\n",
    "\n",
    "model = min_theta_1 * X\n",
    "plt.plot(X, model, label='model')\n",
    "plt.plot(data['X_1'], data['Y'], 'go', label='data')\n",
    "plt.xlabel('X')\n",
    "plt.ylabel('Y')\n",
    "plt.legend()\n",
    "plt.title('Mejor ajuste (mínimo de función de perdida)')\n",
    "plt.show()"
   ]
  },
  {
   "cell_type": "markdown",
   "metadata": {},
   "source": [
    "\n",
    "\n",
    "4. Suponiendo ahora que los datos de entrenamiento viene dados de la siguiente manera:\n",
    "\n",
    "|Entrenamiento|Y| X_1 |\n",
    "|-|-|-|\n",
    "|0|0|0|\n",
    "|1|1|1|\n",
    "|2|2|2|\n",
    "|3|3|3|\n",
    "|4|4|4|\n",
    "|m|5|5|\n",
    "\n",
    "Encontrar la función de coste para diferentes valores de $\\theta_0$, $\\theta_1$.\n",
    "Para ello puede emplear los metodos `surface` y `contour` dentro de la libreria de `matplotlib`.  Construya primero, con los valores de $\\theta_0$, $\\theta_1 $ definidos un `np.meshgrid` y evalue  para cada punto $\\theta_0$, $\\theta_1$ la función de coste.\n",
    "\n",
    "Para el gráfico 3D puede emplear algo similar a las siguientes lineas de código\n",
    "\n",
    "```\n",
    "fig = plt.figure()\n",
    "ax = fig.add_subplot(111)\n",
    "ax.plot_surface(t0, t1, J )\n",
    "ax.contour(t0, t1, J, 200,   linestyles=\"solid\")\n",
    "ax.set_xlabel(\"$\\\\theta_0$\")\n",
    "ax.set_ylabel(\"$\\\\theta_1$\")\n",
    "plt.show()\n",
    "```\n",
    "\n",
    "\n",
    "En los casos anteriores la solución solo involucra 1 y 2 parámetros para la representación de la función de coste en  2D y 3D respectivamente. Cuando se tienen más parametros a optmizar, no podemos tener una representacion gráfica, análoga a los casos anteriores. Notese además que los datos anteriores no tiene ningún ruido y solo se esta realizados  de esta manera, por motivos didácticos.\n",
    "\n"
   ]
  },
  {
   "cell_type": "code",
   "execution_count": null,
   "metadata": {},
   "outputs": [],
   "source": [
    "# Superficie 3D \n",
    "rango = np.arange(-3, 5, 0.1)\n",
    "theta0_mesh, theta1_mesh = np.meshgrid(rango, rango)\n",
    "\n",
    "# Calcular la función de pérdida para cada par (theta_0, theta_1)\n",
    "loss_surface = np.zeros_like(theta0_mesh)\n",
    "\n",
    "for i in range(theta0_mesh.shape[0]):\n",
    "    for j in range(theta0_mesh.shape[1]):\n",
    "        theta_0 = theta0_mesh[i, j]\n",
    "        theta_1 = theta1_mesh[i, j]\n",
    "        \n",
    "        # Calcular predicciones\n",
    "        y_predict = linear_model(theta_0, theta_1, x_train)\n",
    "        \n",
    "        # Calcular MSE\n",
    "        loss_surface[i, j] = MSE(y_train, y_predict)\n"
   ]
  },
  {
   "cell_type": "code",
   "execution_count": 78,
   "metadata": {},
   "outputs": [
    {
     "data": {
      "application/vnd.plotly.v1+json": {
       "config": {
        "plotlyServerURL": "https://plot.ly"
       },
       "data": [
        {
         "colorscale": [
          [
           0,
           "rgb(247,251,255)"
          ],
          [
           0.125,
           "rgb(222,235,247)"
          ],
          [
           0.25,
           "rgb(198,219,239)"
          ],
          [
           0.375,
           "rgb(158,202,225)"
          ],
          [
           0.5,
           "rgb(107,174,214)"
          ],
          [
           0.625,
           "rgb(66,146,198)"
          ],
          [
           0.75,
           "rgb(33,113,181)"
          ],
          [
           0.875,
           "rgb(8,81,156)"
          ],
          [
           1,
           "rgb(8,48,107)"
          ]
         ],
         "name": "Función de pérdida",
         "opacity": 0.6,
         "type": "surface",
         "x": {
          "bdata": "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",
          "dtype": "f8",
          "shape": "80, 80"
         },
         "y": {
          "bdata": "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",
          "dtype": "f8",
          "shape": "80, 80"
         },
         "z": {
          "bdata": "VVVVVVX1akDaQKcNdKJqQNBpA502UGpANdBpA53+aUAOdNpAp61pQFVVVVVVXWlADHTaQKcNaUA10GkDnb5oQNBpA502cGhA2kCnDXQiaEBVVVVVVdVnQECnDXTaiGdAmjbQaQM9Z0BpA5020PFmQKUNdNpAp2ZAVVVVVVVdZkBy2kCnDRRmQAGdNtBpy2VAAp020GmDZUBy2kCnDTxlQFRVVVVV9WRApg102kCvZEBoA5020GlkQJo20GkDJWRAP6cNdNrgY0BUVVVVVZ1jQNpApw10WmNAzmkDnTYYY0A00GkDndZiQAx02kCnlWJAU1VVVVVVYkAMdNpApxViQDTQaQOd1mFAzmkDnTaYYUDZQKcNdFphQFJVVVVVHWFAP6cNdNrgYECbNtBpA6VgQGYDnTbQaWBApA102kAvYECmqqqqqupfQOW0gU4beF9AAjptoNMGX0ABOm2g05ZeQOK0gU4bKF5Apqqqqqq6XUBIG+i0gU5dQM4GOm2g41xANW2g0wZ6XEB8ThvotBFcQKaqqqqqqltAsIFOG+hEW0Cc0wY6beBaQGig0wY6fVpAFei0gU4bWkClqqqqqrpZQBXotIFOW1lAaaDTBjr9WECc0wY6baBYQLCBThvoRFhApaqqqqrqV0B9ThvotJFXQDRtoNMGOldAzgY6baDjVkBJG+i0gY5WQKWqqqqqOlZA4rSBThvoVUABOm2g05ZVQAI6baDTRlVA4rSBThv4VECkqqqqqqpUQEgb6LSBXlRAzgY6baATVEA1baDTBspTQH1OG+i0gVNApaqqqqo6U0CwgU4b6PRSQJzTBjptsFJAaKDTBjptUkAW6LSBTitSQJqZmZmZ3WlAuB6F61GMaUBG4XoUrjtpQEbhehSu62hAuB6F61GcaECZmZmZmU1oQOpRuB6F/2dArUfhehSyZ0DgehSuR2VnQITrUbgeGWdAmZmZmZnNZkAdhetRuIJmQBKuR+F6OGZAehSuR+HuZUBQuB6F66VlQJiZmZmZXWVAUbgehesVZUB5FK5H4c5kQBKuR+F6iGRAHIXrUbhCZECYmZmZmf1jQITrUbgeuWNA4HoUrkd1Y0CsR+F6FDJjQOlRuB6F72JAmJmZmZmtYkC2HoXrUWxiQEXhehSuK2JAReF6FK7rYUC2HoXrUaxhQJeZmZmZbWFA6VG4HoUvYUCsR+F6FPJgQN56FK5HtWBAg+tRuB55YECXmZmZmT1gQByF61G4AmBAJVyPwvWQX0DwKFyPwh1fQJ1wPQrXq15ALjMzMzM7XkCgcD0K18tdQPAoXI/CXV1AIlyPwvXwXEA4CtejcIVcQC4zMzMzG1xABdejcD2yW0C99Shcj0pbQFiPwvUo5FpA0qNwPQp/WkAuMzMzMxtaQGo9CtejuFlAisL1KFxXWUCKwvUoXPdYQGo9CtejmFhALTMzMzM7WEDSo3A9Ct9XQFiPwvUohFdAvfUoXI8qV0AF16NwPdJWQC0zMzMze1ZAOArXo3AlVkAiXI/C9dBVQPEoXI/CfVVAnnA9CtcrVUAuMzMzM9tUQJ5wPQrXi1RA8Chcj8I9VEAkXI/C9fBTQDgK16NwpVNALTMzMzNbU0AE16NwPRJTQL31KFyPylJAV4/C9SiEUkDSo3A9Cj9SQC4zMzMz+1FAbD0K16O4UUCKwvUoXHdRQIrC9ShcN1FAaz0K16P4UEC6u7u7u8toQHTaQKcNfGhAnTbQaQMtaEA10GkDnd5nQECnDXTakGdAuru7u7tDZ0ClDXTaQPdmQAKdNtBpq2ZA0GkDnTZgZkANdNpApxVmQLq7u7u7y2VA2UCnDXSCZUBoA5020DllQGkDnTbQ8WRA2ECnDXSqZEC6u7u7u2NkQAx02kCnHWRAzmkDnTbYY0ACnTbQaZNjQKUNdNpAT2NAuru7u7sLY0A/pw102shiQDTQaQOdhmJAmjbQaQNFYkBy2kCnDQRiQLq7u7u7w2FActpApw2EYUCaNtBpA0VhQDTQaQOdBmFAP6cNdNrIYEC5u7u7u4tgQKUNdNpAT2BAAZ020GkTYECc0wY6bbBfQBjotIFOO19Acnd3d3fHXkCxgU4b6FReQM4GOm2g411AzQY6baBzXUCugU4b6ARdQHJ3d3d3l1xAGOi0gU4rXECd0wY6bcBbQAE6baDTVltASRvotIHuWkByd3d3d4daQHpOG+i0IVpAaKDTBjq9WUA1baDTBlpZQOK0gU4b+FhAcnd3d3eXWEDitIFOGzhYQDVtoNMG2ldAaKDTBjp9V0B8ThvotCFXQHF3d3d3x1ZASBvotIFuVkACOm2g0xZWQJzTBjptwFVAFei0gU5rVUByd3d3dxdVQLCBThvoxFRAzQY6baBzVEDOBjptoCNUQK+BThvo1FNAcnd3d3eHU0AW6LSBTjtTQJrTBjpt8FJAATptoNOmUkBJG+i0gV5SQHF3d3d3F1JAfE4b6LTRUUBooNMGOo1RQDVtoNMGSlFA47SBThsIUUByd3d3d8dQQOK0gU4biFBANW2g0wZKUEBooNMGOg1QQPmcNtBpo09Auru7u7u/Z0ANdNpAp3FnQM5pA502JGdAAp020GnXZkClDXTaQItmQLq7u7u7P2ZAQKcNdNr0ZUA10GkDnaplQJw20GkDYWVActpApw0YZUC5u7u7u89kQHLaQKcNiGRAnDbQaQNBZEA10GkDnfpjQECnDXTatGNAuru7u7tvY0ClDXTaQCtjQAGdNtBp52JAzWkDnTakYkAKdNpAp2FiQLq7u7u7H2JA2UCnDXTeYUBoA5020J1hQGcDnTbQXWFA2ECnDXQeYUC6u7u7u99gQAp02kCnoWBAzmkDnTZkYEABnTbQaSdgQEkb6LSB1l9AdHd3d3dfX0B9ThvotOleQGmg0wY6dV5ANW2g0wYCXkDitIFOG5BdQHF3d3d3H11A4rSBThuwXEA1baDTBkJcQGmg0wY61VtAfU4b6LRpW0Bxd3d3d/9aQEob6LSBllpAADptoNMuWkCa0wY6bchZQBXotIFOY1lAcnd3d3f/WECwgU4b6JxYQM0GOm2gO1hAzgY6baDbV0CwgU4b6HxXQHF3d3d3H1dAFOi0gU7DVkCa0wY6bWhWQAI6baDTDlZASRvotIG2VUBxd3d3d19VQHxOG+i0CVVAaKDTBjq1VEAzbaDTBmJUQOG0gU4bEFRAcXd3d3e/U0DitIFOG3BTQDRtoNMGIlNAZqDTBjrVUkB8ThvotIlSQHJ3d3d3P1JASBvotIH2UUABOm2g065RQJrTBjptaFFAFei0gU4jUUByd3d3d99QQK6BThvonFBAzgY6baBbUEDOBjptoBtQQF0DnTbQuU9A4u7u7u4+T0As0GkDncZOQDanDXTaUE5ABXTaQKfdTUCSNtBpA21NQJmZmZmZuWZAhOtRuB5tZkDgehSuRyFmQKxH4XoU1mVA6lG4HoWLZUCZmZmZmUFlQLcehetR+GRAReF6FK6vZEBG4XoUrmdkQLgehetRIGRAmJmZmZnZY0DpUbgehZNjQKxH4XoUTmNA33oUrkcJY0CC61G4HsViQJeZmZmZgWJAHYXrUbg+YkASrkfhevxhQHgUrkfhumFATrgehet5YUCXmZmZmTlhQFC4HoXr+WBAeRSuR+G6YEASrkfhenxgQByF61G4PmBAmJmZmZkBYEAF16NwPYpfQL31KFyPEl9AWI/C9SicXkDRo3A9CideQC4zMzMzs11Aaj0K16NAXUCKwvUoXM9cQIrC9ShcX1xAaj0K16PwW0AtMzMzM4NbQNKjcD0KF1tAWI/C9SisWkC99Shcj0JaQAXXo3A92llALTMzMzNzWUA4CtejcA1ZQCJcj8L1qFhA8Chcj8JFWECecD0K1+NXQC0zMzMzg1dAnXA9CtcjV0DwKFyPwsVWQCRcj8L1aFZAOArXo3ANVkAtMzMzM7NVQATXo3A9WlVAvfUoXI8CVUBWj8L1KKxUQNGjcD0KV1RALDMzMzMDVEBqPQrXo7BTQIrC9ShcX1NAicL1KFwPU0BqPQrXo8BSQC0zMzMzc1JA0aNwPQonUkBWj8L1KNxRQLz1KFyPklFABNejcD1KUUAtMzMzMwNRQDgK16NwvVBAIlyPwvV4UEDwKFyPwjVQQD3hehSu509AWmZmZmZmT0A84XoUrudOQOBRuB6Fa05ASLgehevxTUBwFK5H4XpNQFxmZmZmBk1ACq5H4XqUTEB661G4HiVMQK0ehetRuEtAokfhehROS0BVVVVVVbllQNpApw10bmVAzmkDnTYkZUA00GkDndpkQAx02kCnkWRAVFVVVVVJZEANdNpApwFkQDXQaQOdumNAzmkDnTZ0Y0DYQKcNdC5jQFNVVVVV6WJAPqcNdNqkYkCbNtBpA2FiQGgDnTbQHWJApg102kDbYUBTVVVVVZlhQHLaQKcNWGFAAZ020GkXYUAAnTbQaddgQHHaQKcNmGBAU1VVVVVZYEClDXTaQBtgQNAGOm2gu19ANW2g0wZCX0B8ThvotMleQKaqqqqqUl5AroFOG+jcXUCc0wY6bWhdQGig0wY69VxAFei0gU6DXECmqqqqqhJcQBXotIFOo1tAaKDTBjo1W0Ca0wY6bchaQK2BThvoXFpApKqqqqryWUB9ThvotIlZQDVtoNMGIllA0AY6baC7WEBIG+i0gVZYQKSqqqqq8ldA4rSBThuQV0AAOm2g0y5XQAE6baDTzlZA4rSBThtwVkClqqqqqhJWQEkb6LSBtlVAzQY6baBbVUA0baDTBgJVQHxOG+i0qVRApKqqqqpSVECugU4b6PxTQJrTBjptqFNAaKDTBjpVU0AW6LSBTgNTQKSqqqqqslJAFei0gU5jUkBooNMGOhVSQJrTBjptyFFAroFOG+h8UUClqqqqqjJRQHxOG+i06VBANG2g0waiUEDNBjptoFtQQEkb6LSBFlBASlVVVVWlT0DEaQOdNiBPQAJ02kCnnU5AAnTaQKcdTkDFaQOdNqBNQEpVVVVVJU1AkTbQaQOtTECdDXTaQDdMQGnaQKcNxEtA+Jw20GlTS0BKVVVVVeVKQGADnTbQeUpAOKcNdNoQSkDRQKcNdKpJQCzQaQOdRklA7u7u7u6+ZEANdNpAp3VkQJw20GkDLWRAmzbQaQPlY0AKdNpAp51jQO3u7u7uVmNAPqcNdNoQY0ACnTbQactiQDTQaQOdhmJA2ECnDXRCYkDt7u7u7v5hQHHaQKcNvGFAaAOdNtB5YUDOaQOdNjhhQKQNdNpA92BA7O7u7u62YECkDXTaQHdgQM5pA502OGBA0AY6baDzX0DitIFOG3hfQNjd3d3d/V5AsIFOG+iEXkBmoNMGOg1eQAE6baDTll1AfU4b6LQhXUDY3d3d3a1cQBXotIFOO1xANW2g0wbKW0A1baDTBlpbQBXotIFO61pA2N3d3d19WkB6ThvotBFaQAE6baDTpllAaKDTBjo9WUCwgU4b6NRYQNjd3d3dbVhA4bSBThsIWEDNBjptoKNXQJrTBjptQFdASBvotIHeVkDY3d3d3X1WQEgb6LSBHlZAmtMGOm3AVUDNBjptoGNVQOG0gU4bCFVA2N3d3d2tVECugU4b6FRUQGag0wY6/VNAADptoNOmU0B8ThvotFFTQNjd3d3d/VJAFOi0gU6rUkA0baDTBlpSQDRtoNMGClJAFOi0gU67UUDX3d3d3W1RQHxOG+i0IVFAADptoNPWUEBooNMGOo1QQK6BThvoRFBAsLu7u7v7T0DEaQOdNnBPQJoNdNpA505ANKcNdNpgTkCRNtBpA91NQLC7u7u7W01AkjbQaQPdTEA1pw102mBMQJoNdNpA50tAxWkDnTZwS0Cwu7u7u/tKQF0DnTbQiUpA0ECnDXQaSkACdNpAp61JQPmcNtBpQ0lAsLu7u7vbSEAq0GkDnXZIQGraQKcNFEhAaNpApw20R0As0GkDnVZHQGRmZmZmymNAHYXrUbiCY0BG4XoUrjtjQN56FK5H9WJA6VG4HoWvYkBkZmZmZmpiQFC4HoXrJWJArEfhehTiYUB4FK5H4Z5hQLYehetRXGFAZGZmZmYaYUCC61G4HtlgQBKuR+F6mGBAEq5H4XpYYECC61G4HhlgQMbMzMzMtF9Aaj0K16M4X0DyKFyPwr1eQFiPwvUoRF5AnnA9CtfLXUDGzMzMzFRdQNKjcD0K31xAvfUoXI9qXECKwvUoXPdbQDgK16NwhVtAyMzMzMwUW0A4CtejcKVaQInC9ShcN1pAvfUoXI/KWUDSo3A9Cl9ZQMbMzMzM9FhAnXA9CteLWEBVj8L1KCRYQPEoXI/CvVdAaj0K16NYV0DGzMzMzPRWQATXo3A9klZAIlyPwvUwVkAiXI/C9dBVQATXo3A9clVAxszMzMwUVUBqPQrXo7hUQPAoXI/CXVRAVY/C9SgEVECdcD0K16tTQMfMzMzMVFNA0KNwPQr/UkC89Shcj6pSQInC9ShcV1JAOArXo3AFUkDGzMzMzLRRQDYK16NwZVFAicL1KFwXUUC99Shcj8pQQNGjcD0Kf1BAxszMzMw0UEA64XoUrtdPQK0ehetRSE9A4FG4HoW7TkDVehSuRzFOQI2ZmZmZqU1ACa5H4XokTUBFuB6F66FMQEW4HoXrIUxACK5H4XqkS0COmZmZmSlLQNV6FK5HsUpA4FG4HoU7SkCtHoXrUchJQD3hehSuV0lAjpmZmZnpSECiR+F6FH5IQHrrUbgeFUhAFYXrUbiuR0BwFK5H4UpHQI6ZmZmZ6UZAcBSuR+GKRkAVhetRuC5GQHrrUbge1UVApEfhehR+RUC6u7u7u9tiQAx02kCnlWJAzmkDnTZQYkABnTbQaQtiQKUNdNpAx2FAuru7u7uDYUA+pw102kBhQDTQaQOd/mBAmjbQaQO9YEBx2kCnDXxgQLq7u7u7O2BA4rSBThv4X0A1baDTBnpfQGmg0wY6/V5AfE4b6LSBXkBxd3d3dwdeQEkb6LSBjl1AAjptoNMWXUCd0wY6baBcQBXotIFOK1xAcXd3d3e3W0CwgU4b6ERbQM0GOm2g01pAzgY6baBjWkCwgU4b6PRZQHF3d3d3h1lAFei0gU4bWUCa0wY6bbBYQAI6baDTRlhASRvotIHeV0Bxd3d3d3dXQHpOG+i0EVdAZqDTBjqtVkA0baDTBkpWQOK0gU4b6FVAcXd3d3eHVUDitIFOGyhVQDRtoNMGylRAZqDTBjptVEB6ThvotBFUQHF3d3d3t1NASRvotIFeU0ABOm2g0wZTQJnTBjptsFJAFOi0gU5bUkBxd3d3dwdSQK6BThvotFFAzQY6baBjUUDNBjptoBNRQK6BThvoxFBAcXd3d3d3UEAU6LSBTitQQDWnDXTawE9AAnTaQKctT0CQNtBpA51OQOLu7u7uDk5A+Jw20GmDTUDQQKcNdPpMQGjaQKcNdExAwmkDnTbwS0Di7u7u7m5LQMVpA5028EpAaNpApw10SkDNQKcNdPpJQPicNtBpg0lA5O7u7u4OSUCSNtBpA51IQAJ02kCnLUhANacNdNrAR0As0GkDnVZHQOLu7u7u7kZAXgOdNtCJRkCcDXTaQCdGQJ0NdNpAx0VAYAOdNtBpRUDk7u7u7g5FQCzQaQOdtkRAN6cNdNpgREADdNpApw1EQJM20GkDvUNA7O7u7u7yYUDZQKcNdK5hQDTQaQOdamFAAZ020GknYUA+pw102uRgQOzu7u7uomBACnTaQKdhYECaNtBpAyFgQDVtoNMGwl9AFei0gU5DX0DZ3d3d3cVeQH1OG+i0SV5AAjptoNPOXUBooNMGOlVdQLCBThvo3FxA2N3d3d1lXEDitIFOG/BbQNAGOm2ge1tAmtMGOm0IW0BJG+i0gZZaQNjd3d3dJVpASBvotIG2WUCa0wY6bUhZQM4GOm2g21hA4rSBThtwWEDY3d3d3QVYQK6BThvonFdAZqDTBjo1V0AAOm2g085WQHxOG+i0aVZA2N3d3d0FVkAV6LSBTqNVQDRtoNMGQlVANG2g0wbiVEAV6LSBToNUQNjd3d3dJVRAe04b6LTJU0ABOm2g025TQGag0wY6FVNAroFOG+i8UkDY3d3d3WVSQOK0gU4bEFJAzQY6baC7UUCa0wY6bWhRQEgb6LSBFlFA2N3d3d3FUEBIG+i0gXZQQJrTBjptKFBAmg102kC3T0DFaQOdNiBPQLC7u7u7i05AXQOdNtD5TUDNQKcNdGpNQAJ02kCn3UxA+Jw20GlTTECuu7u7u8tLQCrQaQOdRktAadpApw3ESkBo2kCnDURKQCrQaQOdxklAsLu7u7tLSUD4nDbQadNIQAJ02kCnXUhAzkCnDXTqR0BeA5020HlHQLK7u7u7C0dAxWkDnTagRkCaDXTaQDdGQDanDXTa0EVAkjbQaQNtRUCwu7u7uwtFQJE20GkDrURANqcNdNpQRECdDXTaQPdDQMZpA502oENAsbu7u7tLQ0BgA5020PlCQNFApw10qkJABHTaQKddQkD6nDbQaRNCQP7/////D2FAhOtRuB7NYEB5FK5H4YpgQN56FK5HSWBAth6F61EIYED8/////49fQGo9CtejEF9AvvUoXI+SXkDwKFyPwhVeQAXXo3A9ml1A/P////8fXUDSo3A9CqdcQIrC9ShcL1xAJFyPwvW4W0CecD0K10NbQPr/////z1pAOArXo3BdWkBYj8L1KOxZQFiPwvUofFlAOArXo3ANWUD6/////59YQJ5wPQrXM1hAIlyPwvXIV0CJwvUoXF9XQNGjcD0K91ZA+v////+PVkAF16NwPSpWQPAoXI/CxVVAvfUoXI9iVUBqPQrXowBVQPn/////n1RAaj0K16NAVEC89Shcj+JTQPAoXI/ChVNABNejcD0qU0D5/////89SQNGjcD0Kd1JAicL1KFwfUkAiXI/C9chRQJ1wPQrXc1FA+f////8fUUA3CtejcM1QQFaPwvUofFBAVo/C9SgsUEBuFK5H4bpPQPX/////H09AOuF6FK6HTkBFuB6F6/FNQBKF61G4Xk1AokfhehTOTED1/////z9MQAiuR+F6tEtA4FG4HoUrS0B561G4HqVKQNV6FK5HIUpA8v////+fSUDVehSuRyFJQHrrUbgepUhA4VG4HoUrSEAIrkfherRHQPX/////P0dAokfhehTORkAShetRuF5GQEa4HoXr8UVAPeF6FK6HRUD1/////x9FQHEUrkfhukRArR6F61FYRECuHoXrUfhDQHEUrkfhmkNA9f////8/Q0A94XoUrudCQEi4HoXrkUJAFYXrUbg+QkClR+F6FO5BQPb/////n0FAC65H4XpUQUDiUbgehQtBQHzrUbgexUBA2HoUrkeBQEDs7u7u7jJgQBbotIFO419ANW2g0wZiX0A1baDTBuJeQBXotIFOY15A2N3d3d3lXUB9ThvotGldQAE6baDT7lxAaKDTBjp1XECwgU4b6PxbQNjd3d3dhVtA4bSBThsQW0DNBjptoJtaQJzTBjptKFpASRvotIG2WUDY3d3d3UVZQEgb6LSB1lhAmtMGOm1oWEDNBjptoPtXQOG0gU4bkFdA2N3d3d0lV0CwgU4b6LxWQGig0wY6VVZAADptoNPuVUB6ThvotIlVQNjd3d3dJVVAFOi0gU7DVEAybaDTBmJUQDRtoNMGAlRAFei0gU6jU0DY3d3d3UVTQHpOG+i06VJAADptoNOOUkBmoNMGOjVSQK2BThvo3FFA1t3d3d2FUUDhtIFOGzBRQM0GOm2g21BAmtMGOm2IUEBIG+i0gTZQQK67u7u7y09AkTbQaQMtT0Aypw102pBOQJoNdNpA901AwmkDnTZgTUCwu7u7u8tMQF0DnTbQOUxAzUCnDXSqS0AAdNpApx1LQPacNtBpk0pArru7u7sLSkAp0GkDnYZJQGjaQKcNBElAaNpApw2ESEAq0GkDnQZIQLC7u7u7i0dA+Jw20GkTR0ACdNpAp51GQM1Apw10KkZAXQOdNtC5RUCwu7u7u0tFQMRpA5024ERAnA102kB3REA0pw102hBEQJE20GkDrUNAsbu7u7tLQ0CRNtBpA+1CQDWnDXTakEJAnA102kA3QkDGaQOdNuBBQLG7u7u7i0FAXwOdNtA5QUDQQKcNdOpAQAR02kCnnUBA+Zw20GlTQECyu7u7uwtAQFqg0wY6jT9A1rSBThsIP0DWtIFOG4g+QFqg0wY6DT5Acnd3d3e3XkDktIFOGzheQDVtoNMGul1AaKDTBjo9XUB9ThvotMFcQHJ3d3d3R1xASRvotIHOW0AAOm2g01ZbQJrTBjpt4FpAFei0gU5rWkBxd3d3d/dZQK2BThvohFlAzQY6baATWUDOBjptoKNYQK6BThvoNFhAcXd3d3fHV0AV6LSBTltXQJrTBjpt8FZAADptoNOGVkBIG+i0gR5WQHF3d3d3t1VAfE4b6LRRVUBooNMGOu1UQDRtoNMGilRA4bSBThsoVEBxd3d3d8dTQOG0gU4baFNAMm2g0wYKU0BmoNMGOq1SQHxOG+i0UVJAcXd3d3f3UUBHG+i0gZ5RQAA6baDTRlFAmtMGOm3wUEAU6LSBTptQQHB3d3d3R1BAXQOdNtDpT0CaDXTaQEdPQJoNdNpAp05AXAOdNtAJTkDi7u7u7m5NQCrQaQOd1kxANKcNdNpATEAAdNpAp61LQJA20GkDHUtA4u7u7u6OSkD4nDbQaQNKQM1Apw10eklAaNpApw30SEDFaQOdNnBIQOLu7u7u7kdAwmkDnTZwR0Bo2kCnDfRGQNBApw10ekZA+Jw20GkDRkDi7u7u7o5FQJA20GkDHUVAAnTaQKetREA1pw102kBEQCrQaQOd1kNA5O7u7u5uQ0BfA5020AlDQJwNdNpAp0JAnA102kBHQkBeA5020OlBQOTu7u7ujkFALNBpA502QUA2pw102uBAQAN02kCnjUBAkzbQaQM9QEDK3d3d3d0/QPI5baDTRj9AoYFOG+i0PkDVtIFOGyg+QI3TBjptoD1Ayt3d3d0dPUCO0wY6baA8QNi0gU4bKDxApYFOG+i0O0D1OW2g00Y7QMjMzMzMFF1Aaj0K16OYXEDwKFyPwh1cQFiPwvUopFtAnnA9CtcrW0DIzMzMzLRaQNKjcD0KP1pAvPUoXI/KWUCJwvUoXFdZQDgK16Nw5VhAxczMzMx0WEA4CtejcAVYQInC9Shcl1dAvfUoXI8qV0DSo3A9Cr9WQMbMzMzMVFZAnXA9CtfrVUBWj8L1KIRVQO4oXI/CHVVAaT0K16O4VEDGzMzMzFRUQATXo3A98lNAIlyPwvWQU0AiXI/C9TBTQATXo3A90lJAxszMzMx0UkBpPQrXoxhSQO4oXI/CvVFAVY/C9ShkUUCdcD0K1wtRQMbMzMzMtFBA0KNwPQpfUEC89ShcjwpQQBKF61G4bk9AbRSuR+HKTkCMmZmZmSlOQG0Urkfhik1AEoXrUbjuTEB561G4HlVMQKBH4XoUvktAjZmZmZkpS0A64XoUrpdKQKoehetRCEpA3VG4HoV7SUDVehSuR/FIQI2ZmZmZaUhACK5H4XrkR0BFuB6F62FHQEW4HoXr4UZACK5H4XpkRkCNmZmZmelFQNR6FK5HcUVA31G4HoX7RECtHoXrUYhEQDzhehSuF0RAjZmZmZmpQ0CiR+F6FD5DQHrrUbge1UJAEoXrUbhuQkBvFK5H4QpCQI6ZmZmZqUFAcBSuR+FKQUAUhetRuO5AQHrrUbgelUBApEfhehQ+QEAgMzMzM9M/QHrC9ShcLz9AWj0K16OQPkDCo3A9Cvc9QLD1KFyPYj1AITMzMzPTPEAVXI/C9Ug8QJFwPQrXwztAknA9CtdDO0AVXI/C9cg6QCEzMzMzUzpAsfUoXI/iOUDIo3A9Cnc5QGE9CtejEDlAgML1KFyvOEDY3d3d3X1bQLCBThvoBFtAaKDTBjqNWkABOm2g0xZaQHxOG+i0oVlA2N3d3d0tWUAV6LSBTrtYQDRtoNMGSlhANG2g0wbaV0AV6LSBTmtXQNjd3d3d/VZAfE4b6LSRVkABOm2g0yZWQGag0wY6vVVAroFOG+hUVUDY3d3d3e1UQOG0gU4biFRAzQY6baAjVECa0wY6bcBTQEgb6LSBXlNA1t3d3d39UkBIG+i0gZ5SQJnTBjptQFJAzQY6baDjUUDhtIFOG4hRQNfd3d3dLVFAroFOG+jUUEBmoNMGOn1QQAA6baDTJlBA9Zw20GmjT0Ctu7u7u/tOQCnQaQOdVk5AZtpApw20TUBo2kCnDRRNQCnQaQOddkxArru7u7vbS0D2nDbQaUNLQAB02kCnrUpAzUCnDXQaSkBdA5020IlJQK27u7u7+0hAxGkDnTZwSECaDXTaQOdHQDKnDXTaYEdAkDbQaQPdRkCwu7u7u1tGQJA20GkD3UVANKcNdNpgRUCaDXTaQOdEQMVpA502cERAsLu7u7v7Q0BcA5020IlDQM5Apw10GkNAAnTaQKetQkD4nDbQaUNCQLC7u7u720FAKtBpA512QUBp2kCnDRRBQGjaQKcNtEBAKtBpA51WQEBid3d3d/c/QPE5baDTRj9ABei0gU6bPkCggU4b6PQ9QL0GOm2gUz1AZXd3d3e3PECN0wY6bSA8QDkb6LSBjjtAbk4b6LQBO0AobaDTBno6QGV3d3d39zlAKG2g0wZ6OUBuThvotAE5QD4b6LSBjjhAkNMGOm0gOEBld3d3d7c3QMUGOm2gUzdApYFOG+j0NkAN6LSBTps2QPg5baDTRjZApaqqqqryWUCwgU4b6HxZQJrTBjptCFlAZqDTBjqVWEAV6LSBTiNYQKWqqqqqsldAFei0gU5DV0BmoNMGOtVWQJrTBjptaFZAroFOG+j8VUCkqqqqqpJVQHpOG+i0KVVANG2g0wbCVEDNBjptoFtUQEgb6LSB9lNApKqqqqqSU0DhtIFOGzBTQAA6baDTzlJAADptoNNuUkDhtIFOGxBSQKSqqqqqslFASBvotIFWUUDMBjptoPtQQDJtoNMGolBAek4b6LRJUEBIVVVVVeVPQF0DnTbQOU9AMqcNdNqQTkDNQKcNdOpNQCnQaQOdRk1ASFVVVVWlTEAo0GkDnQZMQM1Apw10aktANacNdNrQSkBdA5020DlKQEhVVVVVpUlA9Zw20GkTSUBo2kCnDYRIQJoNdNpA90dAkDbQaQNtR0BIVVVVVeVGQMRpA502YEZAAHTaQKfdRUAAdNpAp11FQMNpA5024ERASVVVVVVlRECQNtBpA+1DQJoNdNpAd0NAZ9pApw0EQ0D4nDbQaZNCQElVVVVVJUJAXQOdNtC5QUA1pw102lBBQM5Apw106kBAKtBpA52GQEBJVVVVVSVAQFag0wY6jT9AnoFOG+jUPkBsThvotCE+QL0GOm2gcz1AlaqqqqrKPEDyOW2g0yY8QNK0gU4biDtAORvotIHuOkAlbaDTBlo6QJiqqqqqyjlAjdMGOm1AOUAI6LSBTrs4QAjotIFOOzhAjtMGOm3AN0CYqqqqqko3QChtoNMG2jZAPRvotIFuNkDYtIFOGwg2QPg5baDTpjVAmqqqqqpKNUDEBjptoPM0QHROG+i0oTRApoFOG+hUNEBfoNMGOg00QC0zMzMzc1hAaj0K16MAWECKwvUoXI9XQInC9ShcH1dAaj0K16OwVkAtMzMzM0NWQNCjcD0K11VAVY/C9ShsVUC89ShcjwJVQAXXo3A9mlRALTMzMzMzVEA2CtejcM1TQCJcj8L1aFNA8Chcj8IFU0CccD0K16NSQCwzMzMzQ1JAnXA9CtfjUUDwKFyPwoVRQCJcj8L1KFFANgrXo3DNUEAsMzMzM3NQQATXo3A9GlBAdutRuB6FT0CqHoXrUdhOQKBH4XoULk5AWWZmZmaGTUDVehSuR+FMQBCF61G4PkxAEoXrUbieS0DVehSuRwFLQFhmZmZmZkpAoEfhehTOSUCqHoXrUThJQHjrUbgepUhACK5H4XoUSEBYZmZmZoZHQG0Urkfh+kZARbgehetxRkDdUbgehetFQDrhehSuZ0VAWWZmZmbmREA74XoUrmdEQOBRuB6F60NARLgehetxQ0BuFK5H4fpCQFpmZmZmhkJACK5H4XoUQkB461G4HqVBQKwehetROEFAokfhehTOQEBaZmZmZmZAQNV6FK5HAUBAJQrXo3A9P0AoCtejcH0+QKr1KFyPwj1AtczMzMwMPUBFj8L1KFw8QFw9CtejsDtA9dajcD0KO0ASXI/C9Wg6QLjMzMzMzDlA4ihcj8I1OUCQcD0K16M4QMKjcD0KFzhAfML1KFyPN0C6zMzMzAw3QH3C9ShcjzZAxaNwPQoXNkCScD0K16M1QOQoXI/CNTVAvMzMzMzMNEAYXI/C9Wg0QPrWo3A9CjRAYj0K16OwM0BNj8L1KFwzQL7MzMzMDDNAtPUoXI/CMkAwCtejcH0yQDAK16NwPTJAtvUoXI8CMkBxd3d3d/9WQOK0gU4bkFZANG2g0wYiVkBmoNMGOrVVQHxOG+i0SVVAcXd3d3ffVEBIG+i0gXZUQAA6baDTDlRAmtMGOm2oU0AV6LSBTkNTQHF3d3d331JAroFOG+h8UkDNBjptoBtSQM0GOm2gu1FAroFOG+hcUUBxd3d3d/9QQBTotIFOo1BAmtMGOm1IUEAAdNpAp91PQJA20GkDLU9A4e7u7u5+TkD2nDbQadNNQM1Apw10Kk1AaNpApw2ETEDCaQOdNuBLQOLu7u7uPktAwmkDnTagSkBl2kCnDQRKQM1Apw10aklA9pw20GnTSEDi7u7u7j5IQJA20GkDrUdAAHTaQKcdR0A0pw102pBGQCrQaQOdBkZA4u7u7u5+RUBdA5020PlEQJsNdNpAd0RAmg102kD3Q0BdA5020HlDQOLu7u7u/kJAKtBpA52GQkA1pw102hBCQAB02kCnnUFAkTbQaQMtQUDj7u7u7r5AQPecNtBpU0BAnIFOG+jUP0DQtIFOGwg/QIrTBjptQD5AyN3d3d19PUCI0wY6bcA8QNG0gU4bCDxAoIFOG+hUO0DwOW2g06Y6QMjd3d3d/TlAJW2g0wZaOUAI6LSBTrs4QG5OG+i0IThAWKDTBjqNN0DK3d3d3f02QMEGOm2gczZAOhvotIHuNUA8G+i0gW41QMEGOm2g8zRAzN3d3d19NEBcoNMGOg00QHBOG+i0oTNAC+i0gU47M0AqbaDTBtoyQM7d3d3dfTJA9zltoNMmMkCmgU4b6NQxQNq0gU4biDFAktMGOm1AMUDQ3d3d3f0wQJTTBjptwDBA3bSBThuIMECpgU4b6FQwQPw5baDTJjBAcXd3d3eXVUAU6LSBTitVQJrTBjptwFRAATptoNNWVEBHG+i0ge5TQHF3d3d3h1NAe04b6LQhU0BmoNMGOr1SQDNtoNMGWlJA4bSBThv4UUBxd3d3d5dRQOG0gU4bOFFAM22g0wbaUEBmoNMGOn1QQHpOG+i0IVBA4e7u7u6OT0CQNtBpA91OQAB02kCnLU5ANKcNdNqATUAo0GkDndZMQODu7u7uLkxAXQOdNtCJS0CZDXTaQOdKQJoNdNpAR0pAXQOdNtCpSUDh7u7u7g5JQCnQaQOddkhAMqcNdNrgR0AAdNpAp01HQJA20GkDvUZA4e7u7u4uRkD1nDbQaaNFQM5Apw10GkVAZtpApw2UREDEaQOdNhBEQOLu7u7ujkNAwmkDnTYQQ0Bo2kCnDZRCQM5Apw10GkJA9pw20GmjQUDi7u7u7i5BQJA20GkDvUBAAXTaQKdNQEBpThvotME/QFWg0wY67T5AyN3d3d0dPkC8BjptoFM9QDUb6LSBjjxAOBvotIHOO0C9BjptoBM7QMjd3d3dXTpAVqDTBjqtOUBqThvotAE5QAjotIFOWzhAJW2g0wa6N0DI3d3d3R03QPI5baDThjZAoIFOG+j0NUDVtIFOG2g1QI3TBjpt4DRAyt3d3d1dNECO0wY6beAzQNa0gU4baDNAooFOG+j0MkD1OW2g04YyQM3d3d3dHTJAKW2g0wa6MUAL6LSBTlsxQHJOG+i0ATFAXqDTBjqtMEDP3d3d3V0wQMUGOm2gEzBAgjbQaQOdL0CCNtBpAx0vQI4NdNpApy5ApLu7u7s7LkDEQKcNdNotQO6cNtBpgy1AItBpA502LUBg2kCnDfQsQC0zMzMzO1RABNejcD3SU0C89Shcj2pTQFWPwvUoBFNA0KNwPQqfUkAsMzMzMztSQGo9Ctej2FFAiML1KFx3UUCJwvUoXBdRQGo9CtejuFBALDMzMzNbUECgR+F6FP5PQKoehetRSE9AeOtRuB6VTkAIrkfheuRNQFhmZmZmNk1AbRSuR+GKTEBFuB6F6+FLQN1RuB6FO0tAOeF6FK6XSkBYZmZmZvZJQDrhehSuV0lA3lG4HoW7SEBEuB6F6yFIQG0UrkfhikdAWWZmZmb2RkAFrkfhemRGQHjrUbge1UVAqx6F61FIRUChR+F6FL5EQFpmZmZmNkRA1HoUrkexQ0ARhetRuC5DQBKF61G4rkJA1HoUrkcxQkBZZmZmZrZBQKFH4XoUPkFArB6F61HIQEB461G4HlVAQBBcj8L1yD9AtMzMzMzsPkDdKFyPwhU+QIpwPQrXQz1AvaNwPQp3PEB4wvUoXK87QLXMzMzM7DpAeML1KFwvOkDAo3A9Cnc5QI1wPQrXwzhA4Chcj8IVOEC1zMzMzGw3QBJcj8L1yDZA9dajcD0qNkBcPQrXo5A1QEiPwvUo/DRAuMzMzMxsNECu9Shcj+IzQCoK16NwXTNAKgrXo3DdMkCv9Shcj2IyQLrMzMzM7DFASo/C9Sh8MUBfPQrXoxAxQPnWo3A9qjBAGFyPwvVIMEB6mZmZmdkvQM1RuB6FKy9AKOF6FK6HLkCRR+F6FO4tQASF61G4Xi1AfpmZmZnZLEAFhetRuF4sQJVH4XoU7itAMOF6FK6HK0DVUbgehSsrQISZmZmZ2SpAPbgeheuRKkACrkfhelQqQNB6FK5HISpAqB6F61H4KUCkqqqqqupSQK6BThvohFJAmtMGOm0gUkBmoNMGOr1RQBTotIFOW1FApKqqqqr6UEAV6LSBTptQQGag0wY6PVBAMqcNdNrAT0BdA5020AlPQEhVVVVVVU5A9Zw20GmjTUBl2kCnDfRMQJoNdNpAR0xAkDbQaQOdS0BGVVVVVfVKQMJpA502UEpAAXTaQKetSUAAdNpApw1JQMJpA502cEhASFVVVVXVR0CQNtBpAz1HQJoNdNpAp0ZAZdpApw0URkD2nDbQaYNFQEhVVVVV9URAXQOdNtBpREAypw102uBDQM1Apw10WkNAKtBpA53WQkBJVVVVVVVCQCnQaQOd1kFAzUCnDXRaQUA0pw102uBAQF0DnTbQaUBAkKqqqqrqP0DtOW2g0wY/QNC0gU4bKD5ANhvotIFOPUAgbaDTBno8QJKqqqqqqjtAidMGOm3gOkAC6LSBThs6QALotIFOWzlAidMGOm2gOECVqqqqquo3QCVtoNMGOjdAOBvotIGONkDStIFOG+g1QPI5baDTRjVAlqqqqqqqNEC+BjptoBM0QG1OG+i0gTNAoYFOG+j0MkBaoNMGOm0yQJeqqqqq6jFAWqDTBjptMUCjgU4b6PQwQHBOG+i0gTBAwQY6baATMEA0VVVVVVUvQO1z2kCnjS5AsGkDnTbQLUB9NtBpAx0tQFXaQKcNdCxAOVVVVVXVK0Alpw102kArQBrQaQOdtipAHdBpA502KkAopw102sApQD1VVVVVVSlAXdpApw30KECINtBpA50oQL1pA502UChA+nPaQKcNKEBCVVVVVdUnQJYNdNpApydA9Jw20GmDJ0BcA5020GknQM1Apw10WidA193d3d2lUUAV6LSBTkNRQDNtoNMG4lBANG2g0waCUEAV6LSBTiNQQLC7u7u7i09A+Jw20GnTTkAAdNpApx1OQM1Apw10ak1AXAOdNtC5TECtu7u7uwtMQMJpA502YEtAmg102kC3SkA0pw102hBKQJE20GkDbUlArbu7u7vLSECQNtBpAy1IQDSnDXTakEdAmQ102kD3RkDCaQOdNmBGQK27u7u7y0VAXQOdNtA5RUDOQKcNdKpEQAB02kCnHURA9pw20GmTQ0Cuu7u7uwtDQCnQaQOdhkJAZtpApw0EQkBn2kCnDYRBQCrQaQOdBkFAsLu7u7uLQED2nDbQaRNAQALotIFOOz9AnYFOG+hUPkC6BjptoHM9QF53d3d3lzxAiNMGOm3AO0A4G+i0ge46QGpOG+i0ITpAIm2g0wZaOUBgd3d3d5c4QCVtoNMG2jdAak4b6LQhN0A4G+i0gW42QIrTBjptwDVAYnd3d3cXNUC+BjptoHM0QKCBThvo1DNABui0gU47M0DzOW2g06YyQGR3d3d3FzJAWaDTBjqNMUDVtIFOGwgxQNa0gU4biDBAWqDTBjoNMEDK7u7u7i4vQOpz2kCnTS5AFdBpA512LUBIA5020KksQIYNdNpA5ytA0O7u7u4uK0Akpw102oAqQIA20GkD3SlA5pw20GlDKUBZ2kCnDbQoQNXu7u7uLihAWtpApw20J0DqnDbQaUMnQIY20GkD3SZAKqcNdNqAJkDa7u7u7i4mQJQNdNpA5yVAWAOdNtCpJUAm0GkDnXYlQP5z2kCnTSVA4O7u7u4uJUDNQKcNdBolQMRpA502ECVAxWkDnTYQJUDRQKcNdBolQMbMzMzMbFBANgrXo3ANUEARhetRuF5PQHjrUbgepU5AoUfhehTuTUCKmZmZmTlNQDnhehSuh0xAqh6F61HYS0DdUbgehStLQNR6FK5HgUpAjZmZmZnZSUAIrkfhejRJQEW4HoXrkUhARbgehevxR0AGrkfhelRHQIyZmZmZuUZA1HoUrkchRkDdUbgehYtFQKsehetR+ERAOuF6FK5nRECMmZmZmdlDQKFH4XoUTkNAeOtRuB7FQkARhetRuD5CQG0UrkfhukFAjJmZmZk5QUBuFK5H4bpAQBKF61G4PkBA8dajcD2KP0BCj8L1KJw+QBozMzMzsz1AdsL1KFzPPEBYPQrXo/A7QL6jcD0KFztAqvUoXI9COkAaMzMzM3M5QBJcj8L1qDhAjXA9CtfjN0CNcD0K1yM3QBJcj8L1aDZAHTMzMzOzNUCt9ShcjwI1QMGjcD0KVzRAWj0K16OwM0B6wvUoXA8zQB4zMzMzczJASI/C9SjcMUD11qNwPUoxQCkK16NwvTBA4ihcj8I1MEBAZmZmZmYvQMVRuB6Fay5AVhSuR+F6LUDyrUfhepQsQJUehetRuCtAQmZmZmbmKkD9hOtRuB4qQMJ6FK5HYSlAkEfhehSuKEBm61G4HgUoQEpmZmZmZidANrgehevRJkAt4XoUrkcmQC3hehSuxyVAObgehetRJUBOZmZmZuYkQG7rUbgehSRAmEfhehQuJEDNehSuR+EjQAyF61G4niNAVGZmZmZmI0CmHoXrUTgjQAWuR+F6FCNAbBSuR+H6IkDeUbgehesiQFpmZmZm5iJA4VG4HoXrIkBxFK5H4foiQAyuR+F6FCNAsh6F61E4I0Di7u7u7n5OQCnQaQOdxk1AMqcNdNoQTUAAdNpAp11MQJA20GkDrUtA4e7u7u7+SkD2nDbQaVNKQM1Apw10qklAZtpApw0ESUDCaQOdNmBIQOHu7u7uvkdAwmkDnTYgR0Bm2kCnDYRGQM1Apw106kVA9pw20GlTRUDh7u7u7r5EQJA20GkDLURAAHTaQKedQ0Azpw102hBDQCnQaQOdhkJA4u7u7u7+QUBdA5020HlBQJoNdNpA90BAmg102kB3QEC6BjptoPM/QMXd3d3d/T5AVKDTBjoNPkBoThvotCE9QALotIFOOzxAIm2g0wZaO0DF3d3d3X06QPA5baDTpjlAnYFOG+jUOEDRtIFOGwg4QInTBjptQDdAxt3d3d19NkCJ0wY6bcA1QNK0gU4bCDVAnoFOG+hUNEDwOW2g06YzQMjd3d3d/TJAJW2g0wZaMkAG6LSBTrsxQGxOG+i0ITFAWKDTBjqNMECVu7u7u/svQIANdNpA5y5AdTbQaQPdLUB4NtBpA90sQIINdNpA5ytAmLu7u7v7KkC1QKcNdBoqQOCcNtBpQylAFdBpA512KEBV2kCnDbQnQJq7u7u7+yZA8HPaQKdNJkBNA5020KklQLRpA502ECVAJKcNdNqAJEChu7u7u/sjQCinDXTagCNAuGkDnTYQI0BSA5020KkiQPhz2kCnTSJAp7u7u7v7IUBg2kCnDbQhQCTQaQOddiFA8pw20GlDIUDKQKcNdBohQK27u7u7+yBAmQ102kDnIECQNtBpA90gQJE20GkD3SBAng102kDnIEC0u7u7u/sgQNNApw10GiFA/pw20GlDIUAx0GkDnXYhQHLaQKcNtCFArru7u7s7TEBdA5020IlLQM1Apw102kpAAHTaQKctSkD2nDbQaYNJQK67u7u720hAKNBpA502SEBl2kCnDZRHQGbaQKcN9EZAKdBpA51WRkCuu7u7u7tFQPWcNtBpI0VAAHTaQKeNREDOQKcNdPpDQFwDnTbQaUNArru7u7vbQkDEaQOdNlBCQJoNdNpAx0FANKcNdNpAQUCQNtBpA71AQK67u7u7O0BAIW2g0wZ6P0BoThvotIE+QDUb6LSBjj1AiNMGOm2gPEBgd3d3d7c7QLwGOm2g0zpAmoFOG+j0OUAC6LSBThs5QPA5baDTRjhAYHd3d3d3N0BVoNMGOq02QNC0gU4b6DVA0rSBThsoNUBWoNMGOm00QGB3d3d3tzNA8DltoNMGM0AG6LSBTlsyQKCBThvotDFAvgY6baATMUBid3d3d3cwQBqnDXTawC9AdTbQaQOdLkDanDbQaYMtQE3aQKcNdCxAyu7u7u5uK0BQ2kCnDXQqQN2cNtBpgylAejbQaQOdKEAgpw102sAnQM3u7u7u7iZAhg102kAnJkBKA5020GklQBnQaQOdtiRA8HPaQKcNJEDR7u7u7m4jQL5Apw102iJAtmkDnTZQIkC2aQOdNtAhQMFApw10WiFA2O7u7u7uIED4c9pAp40gQCHQaQOdNiBAqgY6baDTH0ApG+i0gU4fQLzd3d3d3R5AYE4b6LSBHkAcbaDTBjoeQOo5baDTBh5AzrSBThvoHUDI3d3d3d0dQNW0gU4b6B1A9TltoNMGHkAsbaDTBjoeQHVOG+i0gR5A1d3d3d3dHkBIG+i0gU4fQNAGOm2g0x9AN9BpA502IEAPdNpAp40gQPL/////D0pABq5H4XpkSUDdUbgehbtIQHjrUbgeFUhA1HoUrkdxR0Dy/////89GQNV6FK5HMUZAeOtRuB6VRUDeUbgehftEQAauR+F6ZERA8v/////PQ0ChR+F6FD5DQBGF61G4rkJARbgeheshQkA64XoUrpdBQPL/////D0FAbhSuR+GKQECqHoXrUQhAQFY9CtejED9A3Chcj8IVPkDo/////x89QHjC9ShcLzxAinA9CtdDO0AlCtejcF06QESPwvUofDlA6P////+fOEAQXI/C9cg3QMCjcD0K9zZA8tajcD0qNkCs9Shcj2I1QOn/////nzRArPUoXI/iM0D01qNwPSozQMGjcD0KdzJAElyPwvXIMUDq/////x8xQEePwvUofDBAUhSuR+G6L0Ae4XoUrocuQPaE61G4Xi1A2f////8/LEDGUbgehSsrQLp6FK5HISpAvHoUrkchKUDIUbgehSsoQN7/////PydA/ITrUbheJkAl4XoUroclQFoUrkfhuiRAmh6F61H4I0Dh/////z8jQDS4HoXrkSJAkUfhehTuIUD6rUfhelQhQGrrUbgexSBA5v////8/IEDa1qNwPYofQPxbj8L1qB5ALo/C9SjcHUB4cD0K1yMdQNn/////fxxATD0K16PwG0DRKFyPwnUbQG7C9ShcDxtAIArXo3C9GkDk/////38aQL2jcD0KVxpAqvUoXI9CGkCt9Shcj0IaQMWjcD0KVxpA8P////9/GkAyCtejcL0aQIXC9ShcDxtA7Shcj8J1G0BtPQrXo/AbQAAAAAAAgBxApXA9CtcjHUBgj8L1KNwdQDFcj8L1qB5AFdejcD2KH0Cuu7u7u/tHQCnQaQOdVkdAaNpApw20RkBo2kCnDRRGQCnQaQOddkVArru7u7vbRED2nDbQaUNEQAB02kCnrUNAzkCnDXQaQ0BdA5020IlCQK67u7u7+0FAw2kDnTZwQUCaDXTaQOdAQDSnDXTaYEBAIG2g0wa6P0Bdd3d3d7c+QCJtoNMGuj1AaE4b6LTBPEA1G+i0gc47QIjTBjpt4DpAYHd3d3f3OUC6BjptoBM5QJ2BThvoNDhABOi0gU5bN0DwOW2g04Y2QGB3d3d3tzVAVqDTBjrtNEDRtIFOGyg0QNG0gU4baDNAVqDTBjqtMkBhd3d3d/cxQPE5baDTRjFABui0gU6bMEBAA5020OkvQH0NdNpApy5Axu7u7u5uLUAYpw102kAsQHU20GkDHStA3Zw20GkDKkBO2kCnDfQoQMru7u7u7idAUdpApw30JkDgnDbQaQMmQHk20GkDHSVAH6cNdNpAJEDP7u7u7m4jQIcNdNpApyJASgOdNtDpIUAZ0GkDnTYhQPFz2kCnjSBApd3d3d3dH0B9gU4b6LQeQG3TBjptoB1AcNMGOm2gHECFgU4b6LQbQLDd3d3d3RpA8Oe0gU4bGkBFoNMGOm0ZQK0GOm2g0xhAKhvotIFOGEC83d3d3d0XQGJOG+i0gRdAHW2g0wY6F0DsOW2g0wYXQNC0gU4b6BZAyN3d3d3dFkDVtIFOG+gWQPY5baDTBhdALW2g0wY6F0B2ThvotIEXQNbd3d3d3RdAShvotIFOGEDRBjptoNMYQGyg0wY6bRlAHui0gU4bGkDl3d3d3d0aQL6BThvotBtArdMGOm2gHECw0wY6baAdQMmBThvotB5A4e7u7u7+RUDEaQOdNmBFQGbaQKcNxERAzkCnDXQqRED2nDbQaZNDQOLu7u7u/kJAkDbQaQNtQkAAdNpAp91BQDSnDXTaUEFAKtBpA53GQEDi7u7u7j5AQLoGOm2gcz9ANRvotIFuPkA1G+i0gW49QLoGOm2gczxAxd3d3d19O0BVoNMGOo06QGpOG+i0oTlAAui0gU67OEAibaDTBto3QMXd3d3d/TZA8DltoNMmNkCdgU4b6FQ1QNG0gU4biDRAidMGOm3AM0DH3d3d3f0yQIrTBjptQDJA0rSBThuIMUCfgU4b6NQwQPE5baDTJjBAkru7u7v7LkBK2kCnDbQtQA3QaQOddixA3Jw20GlDK0C0QKcNdBoqQJW7u7u7+yhAgQ102kDnJ0B4NtBpA90mQHk20GkD3SVAhA102kDnJECZu7u7u/sjQLlApw10GiNA4pw20GlDIkAV0GkDnXYhQFXaQKcNtCBAPXd3d3f3H0Di57SBTpseQJkGOm2gUx1AatMGOm0gHEBOThvotAEbQEZ3d3d39xlAUE4b6LQBGUBy0wY6bSAYQKgGOm2gUxdA8ue0gU6bFkBQd3d3d/cVQMS0gU4baBVAS6DTBjrtFEDnOW2g04YUQJaBThvoNBRAXHd3d3f3E0A2G+i0gc4TQCRtoNMGuhNAJm2g0wa6E0A9G+i0gc4TQGp3d3d39xNAqYFOG+g0FED+OW2g04YUQGig0wY67RRA5LSBThtoFUB2d3d3d/cVQCDotIFOmxZA2QY6baBTF0Co0wY6bSAYQI1OG+i0ARlAhnd3d3f3GUCSThvotAEbQLTTBjptIBxA7AY6baBTHUA56LSBTpseQIyZmZmZGURA1HoUrkeBQ0DeUbgehetCQKoehetRWEJAOuF6FK7HQUCNmZmZmTlBQKJH4XoUrkBAeOtRuB4lQEAkCtejcD0/QN0oXI/CNT5AGjMzMzMzPUDcKFyPwjU8QCUK16NwPTtA8tajcD1KOkBEj8L1KFw5QBozMzMzczhAeML1KFyPN0BZPQrXo7A2QMCjcD0K1zVAqvUoXI8CNUAcMzMzMzM0QBJcj8L1aDNAjXA9CtejMkCNcD0K1+MxQBJcj8L1KDFAHjMzMzNzMEBa61G4HoUvQIJH4XoULi5AuHoUrkfhLED2hOtRuJ4rQD5mZmZmZipAkB6F61E4KUDtrUfhehQoQFUUrkfh+iZAxlG4HoXrJUBBZmZmZuYkQMhRuB6F6yNAWRSuR+H6IkDyrUfhehQiQJcehetROCFARmZmZmZmIEACCtejcD0fQIj1KFyPwh1AII/C9ShcHEDS1qNwPQobQJjMzMzMzBlAcHA9CtejGEBcwvUoXI8XQGDC9ShcjxZAeHA9CtejFUChzMzMzMwUQODWo3A9ChRANY/C9ShcE0Ce9Shcj8ISQBsK16NwPRJArMzMzMzMEUBSPQrXo3ARQA5cj8L1KBFA3Shcj8L1EEDAo3A9CtcQQLnMzMzMzBBAxaNwPQrXEEDnKFyPwvUQQB1cj8L1KBFAZz0K16NwEUDGzMzMzMwRQDoK16NwPRJAwvUoXI/CEkBej8L1KFwTQA7Xo3A9ChRA1czMzMzMFECwcD0K16MVQJ7C9ShcjxZAoML1KFyPF0C5cD0K16MYQObMzMzMzBlAJdejcD0KG0B5j8L1KFwcQOT1KFyPwh1AZQrXo3A9H0Cuu7u7u0tCQF0DnTbQuUFAzUCnDXQqQUABdNpAp51AQPacNtBpE0BAXnd3d3cXP0BUoNMGOg0+QNC0gU4bCD1A0LSBThsIPEBVoNMGOg07QGB3d3d3FzpA7jltoNMmOUAC6LSBTjs4QJ2BThvoVDdAvAY6baBzNkBgd3d3d5c1QInTBjptwDRAOBvotIHuM0BrThvotCEzQCRtoNMGWjJAYXd3d3eXMUAkbaDTBtowQGxOG+i0ITBAcjbQaQPdLkAYpw102oAtQMbu7u7uLixAfg102kDnKkBCA5020KkpQBDQaQOddihA6HPaQKdNJ0DJ7u7u7i4mQLVApw10GiVArGkDnTYQJECtaQOdNhAjQLhApw10GiJAze7u7u4uIUDtc9pAp00gQC2g0wY67R5AlQY6baBTHUASG+i0gc4bQKXd3d3dXRpATE4b6LQBGUACbaDTBroXQNE5baDThhZAtrSBThtoFUCv3d3d3V0UQLq0gU4baBNA2jltoNOGEkAQbaDTBroRQFpOG+i0ARFAud3d3d1dEEBVNtBpA50PQGYNdNpApw5AoECnDXTaDUAA0GkDnTYNQIq7u7u7uwxAPQOdNtBpDEAZpw102kAMQB6nDXTaQAxATQOdNtBpDECku7u7u7sMQCLQaQOdNg1AzUCnDXTaDUCiDXTaQKcOQJo20GkDnQ9A3t3d3d1dEECGThvotAERQENtoNMGuhFAEjptoNOGEkD0tIFOG2gTQO/d3d3dXRRA/bSBThtoFUAdOm2g04YWQFJtoNMGuhdAoE4b6LQBGUAA3t3d3V0aQHIb6LSBzhtA+gY6baBTHUCYoNMGOu0eQCZ02kCnTSBASVVVVVWVQEBdA5020AlAQGlOG+i0AT9AnIFOG+j0PUBVoNMGOu08QJKqqqqq6jtAVaDTBjrtOkCdgU4b6PQ5QGlOG+i0ATlAvAY6baATOECSqqqqqio3QPA5baDTRjZA0bSBThtoNUA3G+i0gY40QCRtoNMGujNAlKqqqqrqMkCK0wY6bSAyQAXotIFOWzFABei0gU6bMEAWpw102sAvQCpVVVVVVS5AStpApw30LEB0NtBpA50rQKhpA502UCpA5nPaQKcNKUAuVVVVVdUnQIENdNpApyZA3Zw20GmDJUBFA5020GkkQLZApw10WiNAMlVVVVVVIkC4QKcNdFohQEgDnTbQaSBAxTltoNMGH0AQG+i0gU4dQG6qqqqqqhtA4Oe0gU4bGkBl0wY6baAYQAJtoNMGOhdAsrSBThvoFUB2qqqqqqoUQFFOG+i0gRNAPaDTBjptEkA+oNMGOm0RQFZOG+i0gRBABVVVVVVVD0CBaQOdNtANQCjaQKcNdAxA/KYNdNpAC0D2z2kDnTYKQBlVVVVVVQlAZTbQaQOdCEDcc9pApw0IQHoNdNpApwdAQQOdNtBpB0AxVVVVVVUHQEwDnTbQaQdAjg102kCnB0D6c9pApw0IQJA20GkDnQhATVVVVVVVCUA00GkDnTYKQEWnDXTaQAtAfdpApw10DEDeaQOdNtANQGhVVVVVVQ9Aj04b6LSBEEB+oNMGOm0RQICg0wY6bRJAlk4b6LSBE0DEqqqqqqoUQAi1gU4b6BVAWW2g0wY6F0DB0wY6baAYQELotIFOGxpA1qqqqqqqG0B8G+i0gU4dQDY6baDTBh9AhAOdNtBpIED4QKcNdFohQLXMzMzM7D1AqvUoXI/iPEAlCtejcN07QCUK16Nw3TpAqvUoXI/iOUC1zMzMzOw4QEWPwvUo/DdAWT0K16MQN0Dy1qNwPSo2QBJcj8L1SDVAtszMzMxsNEDeKFyPwpUzQI1wPQrXwzJAwaNwPQr3MUB6wvUoXC8xQLfMzMzMbDBA9ITrUbheL0CFR+F6FO4tQCDhehSuhyxAwlG4HoUrK0BxmZmZmdkpQCq4HoXrkShA7q1H4XpUJ0C6ehSuRyEmQJIehetR+CRAdZmZmZnZI0Bh61G4HsUiQFgUrkfhuiFAWBSuR+G6IEDI1qNwPYofQPQyMzMzsx1AMj0K16PwG0CF9Shcj0IaQO1bj8L1qBhAanA9CtcjF0D8MjMzM7MVQKGjcD0KVxRAW8L1KFwPE0Aqj8L1KNwRQA4K16NwvRBACmZmZmZmD0AmFK5H4XoNQGUehetRuAtAzoTrUbgeCkBlR+F6FK4IQCJmZmZmZgdACOF6FK5HBkAUuB6F61EFQE7rUbgehQRAsHoUrkfhA0A5ZmZmZmYDQOytR+F6FANAyFG4HoXrAkDNUbgehesCQPytR+F6FANAUmZmZmZmA0DTehSuR+EDQHzrUbgehQRAULgehetRBUBM4XoUrkcGQG5mZmZmZgdAvEfhehSuCEA0hetRuB4KQNUehetRuAtAnBSuR+F6DUCKZmZmZmYPQFQK16NwvRBAeI/C9SjcEUCrwvUoXA8TQPWjcD0KVxRAVTMzMzOzFUDNcD0K1yMXQFJcj8L1qBhA7vUoXI9CGkChPQrXo/AbQGkzMzMzsx1AQtejcD2KH0CWFK5H4bogQJoUrkfhuiFAqOtRuB7FIkDF3d3d3d06QIrTBjpt4DlA0bSBThvoOECdgU4b6PQ3QPA5baDTBjdAyN3d3d0dNkAjbaDTBjo1QATotIFOWzRAa04b6LSBM0BYoNMGOq0yQMjd3d3d3TFAvgY6baATMUA5G+i0gU4wQHU20GkDHS9AfQ102kCnLUCSu7u7uzssQLJApw102ipA3Jw20GmDKUAQ0GkDnTYoQE3aQKcN9CZAlru7u7u7JUDpc9pAp40kQEUDnTbQaSNArGkDnTZQIkAepw102kAhQJq7u7u7OyBAQE4b6LSBHkBg0wY6baAcQJUGOm2g0xpA4Oe0gU4bGUA9d3d3d3cXQK60gU4b6BVANqDTBjptFEDROW2g0wYTQIGBThvotBFARnd3d3d3EEA9NtBpA50OQBraQKcNdAxAHdpApw10CkBKNtBpA50IQKHu7u7u7gZAIgOdNtBpBUDJc9pApw0EQJlApw102gJAlGkDnTbQAUC57u7u7u4AQATQaQOdNgBA8hrotIFO/z8xThvotIH+P8E5baDTBv4/ot3d3d3d/T/VOW2g0wb+P1xOG+i0gf4/MRvotIFO/z8t0GkDnTYAQO3u7u7u7gBA0mkDnTbQAUDiQKcNdNoCQBt02kCnDQRAfgOdNtBpBUAI7+7u7u4GQLw20GkDnQhAmdpApw10CkCk2kCnDXQMQM420GkDnQ5Aknd3d3d3EEDUgU4b6LQRQCw6baDTBhNAk6DTBjptFEAQtYFOG+gVQKR3d3d3dxdATei0gU4bGUAGBzptoNMaQNXTBjptoBxAvE4b6LSBHkDcu7u7uzsgQGKnDXTaQCFA8mkDnTZQIkCPA5020GkjQDV02kCnjSRAyN3d3d39N0BVoNMGOg03QGxOG+i0ITZABOi0gU47NUAkbaDTBlo0QMjd3d3dfTNA8DltoNOmMkCegU4b6NQxQNK0gU4bCDFAi9MGOm1AMECSu7u7u/suQBanDXTagC1AqGkDnTYQLEBCA5020KkqQOVz2kCnTSlAlbu7u7v7J0BO2kCnDbQmQBLQaQOddiVA3pw20GlDJEC2QKcNdBojQJm7u7u7+yFAhQ102kDnIED2bKDTBrofQPhsoNMGuh1AEBvotIHOG0A5d3d3d/cZQHiBThvoNBhAzDltoNOGFkA0oNMGOu0UQLG0gU4baBNAQnd3d3f3EUDo57SBTpsQQEUNdNpApw5A4qYNdNpADECqnDbQaQMKQJnu7u7u7gdAspw20GkDBkD0pg102kAEQF4NdNpApwJA8s9pA502AUBe3d3d3d3/Py3TBjptoP0/SIFOG+i0+z+257SBThv6P3oGOm2g0/g/kN3d3d3d9z/0bKDTBjr3P620gU4b6PY/uLSBThvo9j8SbaDTBjr3P8Ld3d3d3fc/xAY6baDT+D8V6LSBThv6P7iBThvotPs/sNMGOm2g/T/83d3d3d3/P0vQaQOdNgFAwA102kCnAkBhpw102kAEQCydNtBpAwZAGu/u7u7uB0A0nTbQaQMKQHqnDXTaQAxA6g102kCnDkA+6LSBTpsQQJt3d3d39xFAEbWBThtoE0CcoNMGOu0UQDY6baDThhZA5YFOG+g0GECud3d3d/cZQIwb6LSBzhtAeG2g0wa6HUB4baDTBrofQMoNdNpA5yBA4ru7u7v7IUAAQacNdBojQCqdNtBpQyRAYdBpA512JUCh2kCnDbQmQLbMzMzMTDVAE1yPwvVoNED01qNwPYozQFw9CtejsDJAR4/C9SjcMUC3zMzMzAwxQK31KFyPQjBAUhSuR+H6LkBSFK5H4XotQF3rUbgeBSxAcpmZmZmZKkCSHoXrUTgpQLx6FK5H4SdA7q1H4XqUJkAtuB6F61ElQHaZmZmZGSRAyFG4HoXrIkAk4XoUrschQIxH4XoUriBA/QnXo3A9H0DyMjMzMzMdQP4J16NwPRtAHo/C9ShcGUBUwvUoXI8XQJ2jcD0K1xVA+zIzMzMzFEBtcD0K16MSQPVbj8L1KBFAIetRuB6FD0CAehSuR+EMQAlmZmZmZgpAvK1H4XoUCECWUbgehesFQJpRuB6F6wNAyK1H4XoUAkAeZmZmZmYAQDr1KFyPwv0/jdajcD0K+z8wcD0K16P4PyTC9Shcj/Y/a8zMzMzM9D8Gj8L1KFzzP/AJ16NwPfI/Kz0K16Nw8T+8KFyPwvXwP53MzMzMzPA/0Chcj8L18D9WPQrXo3DxPy4K16NwPfI/VY/C9Shc8z/SzMzMzMz0P6TC9Shcj/Y/wXA9Ctej+D8u16NwPQr7P/j1KFyPwv0/iGZmZmZmAEA6rkfhehQCQBVSuB6F6wNAHlK4HoXrBUBOrkfhehQIQKVmZmZmZgpAJHsUrkfhDEDR61G4HoUPQFRcj8L1KBFA0HA9CtejEkBiMzMzMzMUQAqkcD0K1xVAyML1KFyPF0CWj8L1KFwZQHkK16NwPRtAdTMzMzMzHUCFCtejcD0fQNJH4XoUriBAbOF6FK7HIUATUrgehesiQMSZmZmZGSRAfbgehetRJUBArkfhepQmQBF7FK5H4SdA7B6F61E4KUCWqqqqqsoyQL4GOm2g8zFAbE4b6LQhMUCggU4b6FQwQLFApw10Gi9ALlVVVVWVLUC0QKcNdBosQEQDnTbQqSpA3Zw20GlDKUCCDXTaQOcnQDFVVVVVlSZA6XPaQKdNJUCsaQOdNhAkQHo20GkD3SJAUtpApw20IUA0VVVVVZUgQEFOG+i0AR9ALaDTBjrtHEAwoNMGOu0aQEVOG+i0ARlAcKqqqqoqF0CutIFOG2gVQAJtoNMGuhNAa9MGOm0gEkDo57SBTpsQQPJUVVVVVQ5APjbQaQOdC0Cyc9pApw0JQFANdNpApwZAFgOdNtBpBEAGVVVVVVUCQB4DnTbQaQBAwRrotIFO/T+Y57SBThv6P75soNMGOvc/OKqqqqqq9D8EoNMGOm3yPyJOG+i0gfA/JGkDnTbQ7T+opg102kDrP9BUVVVVVek/nnPaQKcN6D8NA5020GnnPyIDnTbQaec/3HPaQKcN6D81VVVVVVXpPzqnDXTaQOs/4WkDnTbQ7T+TThvotIHwP4mg0wY6bfI/1aqqqqqq9D9xbaDTBjr3P1zotIFOG/o/mBvotIFO/T+WA5020GkAQIpVVVVVVQJAogOdNtBpBEDkDXTaQKcGQFR02kCnDQlA7DbQaQOdC0CoVVVVVVUOQEbotIFOmxBA0NMGOm0gEkBubaDTBroTQCC1gU4baBVA4qqqqqoqF0C+ThvotAEZQLKg0wY67RpAsqDTBjrtHEDIThvotAEfQHtVVVVVlSBAntpApw20IUDHNtBpA90iQPppA502ECRAO3TaQKdNJUCIVVVVVZUmQNkNdNpA5ydANp020GlDKUCgA5020KkqQBRBpw10GixAY3d3d3d3MEC0QKcNdFovQKlpA5020C1AqWkDnTZQLEC1QKcNdNoqQMru7u7ubilA6HPaQKcNKEAS0GkDnbYmQEUDnTbQaSVAhA102kAnJEDM7u7u7u4iQB6nDXTawCFAfDbQaQOdIEDIOW2g0wYfQKq0gU4b6BxAod3d3d3dGkCttIFOG+gYQM05baDTBhdAAm2g0wY6FUBMThvotIETQKnd3d3d3RFAHBvotIFOEEBGDXTaQKcNQH1Apw102gpA3c9pA502CEBlu7u7u7sFQBgDnTbQaQNA86YNdNpAAUDwTRvotIH+P0kGOm2g0/o/9XZ3d3d39z/0n9MGOm30P0WBThvotPE/0DXQaQOd7j+52UCnDXTqP0ju7u7u7uY/eXPaQKcN5D9QaQOdNtDhP8rPaQOdNuA/0k0b6LSB3j9Y3d3d3d3dPyROG+i0gd4/HtBpA5024D/PaQOdNtDhPyB02kCnDeQ/Fe/u7u7u5j+y2kCnDXTqP/g20GkDne4/7IFOG+i08T+soNMGOm30P8V3d3d3d/c/MQc6baDT+j/oThvotIH+P3inDXTaQAFAqgOdNtBpA0AFvLu7u7sFQILQaQOdNghALEGnDXTaCkABDnTaQKcNQIAb6LSBThBAEd7d3d3dEUC3ThvotIETQHRtoNMGOhVARjptoNMGF0AptYFOG+gYQCHe3d3d3RpAMrWBThvoHEBWOm2g0wYfQMU20GkDnSBAaacNdNrAIUAa7+7u7u4iQNYNdNpAJyRAmQOdNtBpJUBm0GkDnbYmQEB02kCnDShAJe/u7u5uKUARQacNdNoqQAZqA502UCxADGoDnTbQLUAZQacNdFovQEFmZmZmpixAxlG4HoUrK0BVFK5H4bopQPCtR+F6VChAlR6F61H4JkBCZmZmZqYlQPyE61G4XiRAwHoUrkchI0CNR+F6FO4hQGXrUbgexSBAjszMzMxMH0BmcD0K1yMdQFTC9ShcDxtAVcL1KFwPGUBscD0K1yMXQJbMzMzMTBVA1dajcD2KE0Aoj8L1KNwRQJH1KFyPQhBAGhSuR+F6DUA+mZmZmZkKQIl6FK5H4QdA/rcehetRBUCcUbgehesCQGJH4XoUrgBApDIzMzMz/T/VjsL1KFz5P1mjcD0K1/U/LnA9Ctej8j+s6lG4HoXvP6BlZmZmZuo/OFG4HoXr5T9zrUfhehTiP6X0KFyPwt0/rW89Ctej2D//y8zMzMzUP5oJ16NwPdI/eShcj8L10D+hKFyPwvXQPxUK16NwPdI/0MzMzMzM1D/NcD0K16PYPxz2KFyPwt0/XK5H4XoU4j9GUrgehevlP9FmZmZmZuo/DexRuB6F7z/4cD0K16PyPzKkcD0K1/U/wI/C9Shc+T+oMzMzMzP9P/BH4XoUrgBAMlK4HoXrAkCbuB6F61EFQDR7FK5H4QdA+JmZmZmZCkDcFK5H4XoNQPX1KFyPQhBAk4/C9SjcEUBH16NwPYoTQArNzMzMTBVA4nA9CtcjF0DUwvUoXA8ZQNrC9ShcDxtA8HA9CtcjHUAZzczMzEwfQK/rUbgexSBA20fhehTuIUAOexSuRyEjQEyF61G4XiRAmWZmZmamJUDtHoXrUfgmQEmuR+F6VChAsBSuR+G6KUAlUrgehSsrQKJmZmZmpixAKFK4HoUrLkC4FK5H4bovQCvXo3A9qjBAf4/C9Sh8MUCYu7u7u7soQLhApw10WidA4Zw20GkDJkAV0GkDnbYkQFTaQKcNdCNAm7u7u7s7IkDuc9pApw0hQJYGOm2g0x9AZNMGOm2gHUBIThvotIEbQD53d3d3dxlASk4b6LSBF0Bq0wY6baAVQJ8GOm2g0xNA6ee0gU4bEkBGd3d3d3cQQHJpA5020A1AgECnDXTaCkC4c9pApw0IQBgDnTbQaQVAoe7u7u7uAkBSNtBpA50AQF20gU4b6Pw/ZbSBThvo+D/AbKDTBjr1P2zd3d3d3fE/1Qx02kCn7T92z2kDnTboP7wCnTbQaeM/TU0b6LSB3j9odnd3d3fXP86AThvotNE/8thApw10yj/YctpApw3EP1bPaQOdNsA/yNzd3d3dvT/9z2kDnTbAPyh02kCnDcQ/5dpApw10yj8agk4b6LTRPwh4d3d3d9c/OE8b6LSB3j/gA5020GnjP8nQaQOdNug/TQ502kCn7T843t3d3d3xP6RtoNMGOvU/ZLWBThvo+D9stYFOG+j8P+I20GkDnQBAPe/u7u7uAkDBA5020GkFQGl02kCnDQhAOUGnDXTaCkA5agOdNtANQLF3d3d3dxBAVui0gU4bEkAQBzptoNMTQOLTBjptoBVAyk4b6LSBF0DAd3d3d3cZQMxOG+i0gRtA8NMGOm2gHUAqBzptoNMfQDl02kCnDSFA6Lu7u7s7IkCj2kCnDXQjQGrQaQOdtiRANp020GkDJkAOQacNdFonQPS7u7u7uyhA4g102kAnKkDYNtBpA50rQNg20GkDHS1A6A102kCnLkAA3t3d3R0wQI6g0wY67TBAo04b6LTBMUA/6LSBTpsyQGBtoNMGejNAze7u7u4uJUCGDXTaQOcjQEoDnTbQqSJAGNBpA512IUDvc9pAp00gQKLd3d3dXR5AeoFOG+g0HEBo0wY6bSAaQGrTBjptIBhAgYFOG+g0FkCr3d3d3V0UQOnntIFOmxJAPqDTBjrtEEBKDXTaQKcOQEU20GkDnQtAaLu7u7u7CEC0nDbQaQMGQCjaQKcNdANAxXPaQKcNAUAZ0wY6baD9P/h2d3d3d/k/KdMGOm2g9T+t57SBThvyPwVpA5020O0/VXPaQKcN6D9K7u7u7u7iP8CzgU4b6Nw/Nmyg0wY61T/xC3TaQKfNPwUCnTbQacM/SHV3d3d3tz9S10CnDXSqP2bOaQOdNqA/u89pA502oD9I20CnDXSqP454d3d3d7c/TQSdNtBpwz/hDnTaQKfNPwVuoNMGOtU/5LWBThvo3D+C7+7u7u7iP7J02kCnDeg/lGoDnTbQ7T+M6LSBThvyPxnUBjptoPU/+Hd3d3d3+T801AY6baD9P2B02kCnDQFAydpApw10A0BcnTbQaQMGQCC8u7u7uwhACTfQaQOdC0AWDnTaQKcOQKag0wY67RBAWui0gU6bEkAi3t3d3V0UQPqBThvoNBZA5tMGOm0gGEDu0wY6bSAaQAmCThvoNBxAMd7d3d1dHkA4dNpAp00gQGTQaQOddiFAmwOdNtCpIkDZDXTaQOcjQCHv7u7uLiVAdqcNdNqAJkDWNtBpA90nQD2dNtBpQylArtpApw20KkAt7+7u7i4sQLbaQKcNtC1ARZ020GlDL0BvG+i0gW4wQMPTBjptQDFAnHd3d3cXMkD4BjptoPMyQNqBThvo1DNAQui0gU67NEAwOm2g06Y1QOL//////yFANLgehevRIEAij8L1KFwfQPFbj8L1KB1A1dajcD0KG0DM//////8YQNbWo3A9ChdA+FuPwvUoFUAsj8L1KFwTQHZwPQrXoxFAqP//////D0CNehSuR+EMQJpRuB6F6wlA0YTrUbgeB0AxFK5H4XoEQLv//////wFA2Y7C9Shc/z+Q1qNwPQr7P5nWo3A9Cvc/847C9Shc8z9A///////vPz1RuB6F6+k/3hOuR+F65D9GjsL1KFzfPx3Wo3A9Ctc/cv7/////zz84E65H4XrEPx7Vo3A9Crc/7BGuR+F6pD9aD65H4XqEP1VVVVVV9So6yhmuR+F6hD8eF65H4XqkPwLZo3A9Crc/0RWuR+F6xD/aAAAAAADQPw7Yo3A9Ctc/ipDC9Shc3z8sFa5H4XrkP7VSuB6F6+k/cAAAAAAA8D/Uj8L1KFzzP5LXo3A9Cvc/otejcD0K+z/+j8L1KFz/P1QAAAAAAAJA2BSuR+F6BECGhetRuB4HQFZSuB6F6wlATnsUrkfhDEA8AAAAAAAQQOVwPQrXoxFAn4/C9ShcE0BsXI/C9SgVQFXXo3A9ChdAUAAAAAAAGUBa16NwPQobQHpcj8L1KB1AtY/C9ShcH0CBuB6F69EgQDAAAAAAACJA6B6F61E4I0CuFK5H4XokQIDhehSuxyVAVoXrUbgeJ0A4AAAAAIAoQCZSuB6F6ylAIXsUrkdhK0AhexSuR+EsQCpSuB6Fay5AIgAAAAAAMECzwvUoXM8wQMhwPQrXozFAYQrXo3B9MkCBj8L1KFwzQCgAAAAAQDRAUVyPwvUoNUAApHA9Chc2QDbXo3A9CjdA8PUoXI8COECu3d3d3V0eQIaBThvoNBxAdNMGOm0gGkB10wY6bSAYQIqBThvoNBZAtN3d3d1dFED057SBTpsSQEig0wY67RBAYA102kCnDkBYNtBpA50LQHq7u7u7uwhAxZw20GkDBkA42kCnDXQDQNZz2kCnDQFAONMGOm2g/T8Vd3d3d3f5P0jTBjptoPU/y+e0gU4b8j89aQOdNtDtP4lz2kCnDeg/fO7u7u7u4j8ktIFOG+jcP5ZsoNMGOtU/pQx02kCnzT+tAp020GnDP452d3d3d7c/xNlApw10qj+00GkDnTagP9rRaQOdNqA/Ot1Apw10qj99eXd3d3e3P8EEnTbQacM/SQ902kCnzT8wbqDTBjrVPwy2gU4b6Nw/mO/u7u7u4j/KdNpApw3oP51qA5020O0/jui0gU4b8j8i1AY6baD1PwF4d3d3d/k/MdQGOm2g/T9edNpApw0BQM7aQKcNdANAYJ020GkDBkAavLu7u7sIQAY30GkDnQtAGg502kCnDkCooNMGOu0QQFjotIFOmxJAH97d3d1dFED8gU4b6DQWQOjTBjptIBhA6dMGOm0gGkACgk4b6DQcQDHe3d3dXR5AOHTaQKdNIEBh0GkDnXYhQJkDnTbQqSJA2Q102kDnI0Ag7+7u7i4lQHKnDXTagCZA0jbQaQPdJ0A9nTbQaUMpQKzaQKcNtCpAKO/u7u4uLECx2kCnDbQtQESdNtBpQy9AbxvotIFuMEDA0wY6bUAxQJl3d3d3FzJA+AY6baDzMkDZgU4b6NQzQEDotIFOuzRALTptoNOmNUCgd3d3d5c2QJWg0wY6jTdAELWBThuIOEAStYFOG4g5QJqg0wY6jTpASHd3d3d3GUBUThvotIEXQHTTBjptoBVAqQY6baDTE0Dy57SBThsSQFB3d3d3dxBAhmkDnTbQDUCUQKcNdNoKQMpz2kCnDQhAKgOdNtBpBUC07u7u7u4CQGY20GkDnQBAgrSBThvo/D+JtIFOG+j4P+RsoNMGOvU/kd3d3d3d8T8hDXTaQKftP8DPaQOdNug/BwOdNtBp4z/iTRvotIHeP/52d3d3d9c/YoFOG+i00T8c2kCnDXTKPwV02kCnDcQ/gNBpA502wD8Z393d3d29PybRaQOdNsA/UnXaQKcNxD8Q3ECnDXTKP6+CThvotNE/nXh3d3d31z/VTxvotIHePyoEnTbQaeM/DtFpA5026D+WDnTaQKftP2De3d3d3fE/ym2g0wY69T+FtYFOG+j4P5C1gU4b6Pw/9zbQaQOdAEBP7+7u7u4CQM0DnTbQaQVAfHTaQKcNCEBSQacNdNoKQEpqA5020A1Atnd3d3d3EEBg6LSBThsSQB4HOm2g0xNA7NMGOm2gFUDOThvotIEXQMp3d3d3dxlA2U4b6LSBG0D60wY6baAdQC0HOm2g0x9APnTaQKcNIUDwu7u7uzsiQKjaQKcNdCNAbNBpA522JEA6nTbQaQMmQBVBpw10WidA+Lu7u7u7KEDiDXTaQCcqQN020GkDnStA4jbQaQMdLUDqDXTaQKcuQADe3d3dHTBAkKDTBjrtMECoThvotMExQELotIFOmzJAYG2g0wZ6M0AG3t3d3V00QDI6baDTRjVA4IFOG+g0NkAStYFOGyg3QM3TBjptIDhADd7d3d0dOUDQ0wY6bSA6QBa1gU4bKDtA5oFOG+g0PEA8Om2g00Y9QJ/MzMzMTBVA3tajcD2KE0Ayj8L1KNwRQJr1KFyPQhBALhSuR+F6DUBUmZmZmZkKQJ56FK5H4QdAFLgehetRBUCyUbgehesCQHpH4XoUrgBA1TIzMzMz/T8Gj8L1KFz5P4qjcD0K1/U/YHA9Ctej8j8S61G4HoXvPwhmZmZmZuo/oVG4HoXr5T/erUfhehTiP4L1KFyPwt0/kHA9Ctej2D/jzMzMzMzUP34K16NwPdI/ZSlcj8L10D+WKVyPwvXQPwkL16NwPdI/ws3MzMzM1D/NcT0K16PYPyL3KFyPwt0/2a5H4XoU4j/GUrgehevlP11nZmZmZuo/muxRuB6F7z85cT0K16PyP3WkcD0K1/U/CpDC9Shc+T/yMzMzMzP9PxNI4XoUrgBAVVK4HoXrAkDEuB6F61EFQF17FK5H4QdAGpqZmZmZCkAAFa5H4XoNQAr2KFyPQhBAqY/C9SjcEUBY16NwPYoTQB3NzMzMTBVA+nA9CtcjF0DswvUoXA8ZQO3C9ShcDxtAAnE9CtcjHUAwzczMzEwfQLzrUbgexSBA5EfhehTuIUAZexSuRyEjQFqF61G4XiRApWZmZmamJUD4HoXrUfgmQFSuR+F6VChAvRSuR+G6KUAyUrgehSsrQK5mZmZmpixANFK4HoUrLkDIFK5H4bovQDLXo3A9qjBAhI/C9Sh8MUBbMzMzM1MyQLnC9ShcLzNAnj0K16MQNEADpHA9Cvc0QO71KFyP4jVAYjMzMzPTNkBaXI/C9cg3QNVwPQrXwzhA1XA9CtfDOUBcXI/C9cg6QGkzMzMz0ztA+fUoXI/iPEANpHA9Cvc9QKw9CtejED9AZuF6FK4XQEC83d3d3d0RQC8b6LSBThBAbA102kCnDUChQKcNdNoKQAHQaQOdNghAiru7u7u7BUA+A5020GkDQBinDXTaQAFAOU4b6LSB/j+VBjptoNP6P0B3d3d3d/c/P6DTBjpt9D+PgU4b6LTxP2U20GkDne4/UNpApw106j/d7u7u7u7mPw502kCnDeQ/5WkDnTbQ4T9g0GkDnTbgPwFPG+i0gd4/gt7d3d3d3T9KTxvotIHeP7LQaQOdNuA/ZWoDnTbQ4T+1dNpApw3kP6nv7u7u7uY/SNtApw106j+NN9BpA53uPzaCThvotPE/+KDTBjpt9D8QeHd3d3f3P3wHOm2g0/o/Mk8b6LSB/j+dpw102kABQM4DnTbQaQNAKry7u7u7BUCo0GkDnTYIQFBBpw102gpAJg502kCnDUCSG+i0gU4QQCTe3d3d3RFAyU4b6LSBE0CIbaDTBjoVQFo6baDTBhdAPbWBThvoGEA03t3d3d0aQEK1gU4b6BxAaDptoNMGH0DONtBpA50gQHKnDXTawCFAJO/u7u7uIkDgDXTaQCckQKIDnTbQaSVAcNBpA522JkBKdNpApw0oQDDv7u7ubilAHEGnDXTaKkARagOdNlAsQBVqA5020C1AIkGnDXRaL0Ccd3d3d3cwQCs6baDTRjFAQei0gU4bMkDegU4b6PQyQPwGOm2g0zNAoHd3d3e3NEDM0wY6baA1QHob6LSBjjZAsE4b6LSBN0BobaDTBno4QKZ3d3d3dzlAbG2g0wZ6OkC0ThvotIE7QIAb6LSBjjxA1dMGOm2gPUCtd3d3d7c+QAkHOm2g0z9A9kCnDXR6QEAqdNpApw1BQCKdNtBpo0FAJlVVVVVVDkByNtBpA50LQOVz2kCnDQlAgg102kCnBkBIA5020GkEQDhVVVVVVQJATwOdNtBpAEAlG+i0gU79P/jntIFOG/o/Hm2g0wY69z+Xqqqqqqr0P2Kg0wY6bfI/fk4b6LSB8D/caQOdNtDtP16nDXTaQOs/hlVVVVVV6T9QdNpApw3oP7wDnTbQaec/0QOdNtBp5z+KdNpApw3oP+JVVVVVVek/3acNdNpA6z+FagOdNtDtP+hOG+i0gfA/3KDTBjpt8j8hq6qqqqr0P75toNMGOvc/rei0gU4b+j/pG+i0gU79P7oDnTbQaQBArVVVVVVVAkDJA5020GkEQAoOdNpApwZAdXTaQKcNCUANN9BpA50LQM1VVVVVVQ5AWei0gU6bEEDg0wY6bSASQH9toNMGuhNAMLWBThtoFUD1qqqqqioXQM1OG+i0ARlAvaDTBjrtGkDEoNMGOu0cQNlOG+i0AR9AgVVVVVWVIECk2kCnDbQhQNA20GkD3SJAAmoDnTYQJEBAdNpAp00lQIpVVVVVlSZA4Q102kDnJ0A9nTbQaUMpQKQDnTbQqSpAGkGnDXQaLECYVVVVVZUtQBxBpw10Gi9A1oFOG+hUMECkThvotCExQPgGOm2g8zFA0KqqqqrKMkArOm2g06YzQBC1gU4biDRAeBvotIFuNUBibaDTBlo2QNSqqqqqSjdAytMGOm1AOEBI6LSBTjs5QEnotIFOOzpAzdMGOm1AO0Dcqqqqqko8QGxtoNMGWj1AgBvotIFuPkAZtYFOG4g/QBydNtBpU0BAcFVVVVXlQECEA5020HlBQFynDXTaEEJA+ECnDXSqQkBU0GkDnUZDQEFmZmZmZgpA9K1H4XoUCEDQUbgehesFQNNRuB6F6wNAAK5H4XoUAkBXZmZmZmYAQKz1KFyPwv0/ANejcD0K+z+gcD0K16P4P5TC9Shcj/Y/3MzMzMzM9D92j8L1KFzzP2AK16NwPfI/nD0K16Nw8T8tKVyPwvXwPxDNzMzMzPA/Qilcj8L18D/GPQrXo3DxP6AK16NwPfI/zI/C9Shc8z9GzczMzMz0PxHD9Shcj/Y/MnE9Ctej+D+o16NwPQr7P2r2KFyPwv0/v2ZmZmZmAEB0rkfhehQCQFJSuB6F6wNAWFK4HoXrBUCFrkfhehQIQOFmZmZmZgpAYnsUrkfhDEAM7FG4HoUPQG5cj8L1KBFA7HA9CtejEkCAMzMzMzMUQCikcD0K1xVA4sL1KFyPF0C1j8L1KFwZQJoK16NwPRtAkjMzMzMzHUCdCtejcD0fQOBH4XoUriBAfuF6FK7HIUAiUrgehesiQNGZmZmZGSRAjbgehetRJUBSrkfhepQmQCB7FK5H4SdA9h6F61E4KUDamZmZmZkqQMzrUbgeBSxAwhSuR+F6LUDBFK5H4fouQOj1KFyPQjBA9MzMzMwMMUCEj8L1KNwxQJg9CtejsDJAM9ejcD2KM0BVXI/C9Wg0QPnMzMzMTDVAISlcj8I1NkDScD0K1yM3QAikcD0KFzhAwML1KFwPOUD9zMzMzAw6QMHC9ShcDztADKRwPQoXPEDZcD0K1yM9QCopXI/CNT5ABc3MzMxMP0AyrkfhejRAQKLrUbgexUBA1R6F61FYQUDMR+F6FO5BQIVmZmZmhkJAAHsUrkchQ0A9hetRuL5DQECF61G4XkRAA3sUrkcBRUDY7u7u7u4HQPKcNtBpAwZANKcNdNpABECeDXTaQKcCQDTQaQOdNgFA4d3d3d3d/z+t0wY6baD9P86BThvotPs/Pui0gU4b+j8ABzptoNP4Pxbe3d3d3fc/gG2g0wY69z84tYFOG+j2P0C1gU4b6PY/oG2g0wY69z9S3t3d3d33P1IHOm2g0/g/oui0gU4b+j9Kgk4b6LT7P0XUBjptoP0/jd7d3d3d/z+S0GkDnTYBQAsOdNpApwJAracNdNpABEB1nTbQaQMGQGXv7u7u7gdAhJ020GkDCkDIpw102kAMQDIOdNpApw5AZOi0gU6bEEDDd3d3d/cRQDq1gU4baBNAwaDTBjrtFEBdOm2g04YWQBKCThvoNBhA2Hd3d3f3GUCyG+i0gc4bQJ5toNMGuh1Aom2g0wa6H0DgDXTaQOcgQPW7u7u7+yFAFEGnDXQaI0BAnTbQaUMkQHjQaQOddiVAtdpApw20JkD9u7u7u/snQFJ02kCnTSlAtAOdNtCpKkAaagOdNhAsQIqnDXTagC1ACry7u7v7LkDJ0wY6bUAwQBG1gU4bCDFA3oFOG+jUMUAyOm2g06YyQAze3d3dfTNAaG2g0wZaNEBJ6LSBTjs1QLJOG+i0ITZAoKDTBjoNN0AQ3t3d3f03QAYHOm2g8zhAghvotIHuOUCFG+i0ge46QAoHOm2g8ztAFd7d3d39PECooNMGOg0+QL1OG+i0IT9AK3TaQKcdQEC6NtBpA61AQA7v7u7uPkFAJJ020GnTQUD6QKcNdGpCQJTaQKcNBENA8mkDnTagQ0AT7+7u7j5EQPJpA5024ERAltpApw2ERUAAQacNdCpGQCmdNtBp00ZA7O7u7u7uBkBsA5020GkFQBR02kCnDQRA5UCnDXTaAkDgaQOdNtABQALv7u7u7gBAUNBpA502AECNG+i0gU7/P8hOG+i0gf4/VDptoNMG/j843t3d3d39P206baDTBv4/8E4b6LSB/j/FG+i0gU7/P3jQaQOdNgBAOO/u7u7uAEAdagOdNtABQCxBpw102gJAZnTaQKcNBEDKA5020GkFQFTv7u7u7gZABTfQaQOdCEDo2kCnDXQKQO3aQKcNdAxAGjfQaQOdDkC4d3d3d3cQQPiBThvotBFAUDptoNMGE0C5oNMGOm0UQDW1gU4b6BVAynd3d3d3F0By6LSBThsZQC0HOm2g0xpA+tMGOm2gHEDgThvotIEeQO67u7u7OyBAdKcNdNpAIUAFagOdNlAiQKIDnTbQaSNASHTaQKeNJED4u7u7u7slQLDaQKcN9CZAdNBpA502KEBGnTbQaYMpQB1Bpw102ipA/ru7u7s7LEDwDXTaQKctQOg20GkDHS9AdBvotIFOMED5BjptoBMxQATe3d3d3TFAlqDTBjqtMkCsThvotIEzQETotIFOWzRAZm2g0wY6NUAM3t3d3R02QDU6baDTBjdA4oFOG+j0N0AWtYFOG+g4QNLTBjpt4DlAEN7d3d3dOkDS0wY6beA7QB61gU4b6DxA7IFOG+j0PUA9Om2g0wY/QArv7u7uDkBAuTbQaQOdQEAsdNpApy1BQF6nDXTawEFAVNBpA51WQkAP7+7u7u5CQIoDnTbQiUNAyA102kAnREDIDXTaQMdEQIoDnTbQaUVAEu/u7u4ORkBZ0GkDnbZGQGSnDXTaYEdAMnTaQKcNSEDCNtBpA71IQHJmZmZmZgdAWeF6FK5HBkBouB6F61EFQJ/rUbgehQRA/3oUrkfhA0CIZmZmZmYDQDyuR+F6FANAGFK4HoXrAkAcUrgehesCQEiuR+F6FANAoWZmZmZmA0AhexSuR+EDQMnrUbgehQRAmbgehetRBUCW4XoUrkcGQLxmZmZmZgdACEjhehSuCEB6hetRuB4KQB4fhetRuAtA6BSuR+F6DUDVZmZmZmYPQHYK16NwvRBAmI/C9SjcEUDRwvUoXA8TQBqkcD0KVxRAeDMzMzOzFUDucD0K1yMXQHhcj8L1qBhAEvYoXI9CGkDBPQrXo/AbQIgzMzMzsx1AZdejcD2KH0CpFK5H4bogQKoUrkfhuiFAtutRuB7FIkDOmZmZmdkjQO0ehetR+CRAFnsUrkchJkBNrkfhelQnQI24HoXrkShA1pmZmZnZKUAoUrgehSsrQIjhehSuhyxA8kfhehTuLUBihetRuF4vQO7MzMzMbDBAs8L1KFwvMUD8o3A9CvcxQMlwPQrXwzJAGilcj8KVM0D0zMzMzGw0QFJcj8L1SDVANNejcD0qNkCaPQrXoxA3QIiPwvUo/DdA+szMzMzsOEDw9Shcj+I5QGoK16Nw3TpAbQrXo3DdO0D19Shcj+I8QP7MzMzM7D1AjY/C9Sj8PkDSHoXrUQhAQKDrUbgelUBAL65H4XokQUCBZmZmZrZBQJgUrkfhSkJAcLgehevhQkAJUrgehXtDQGXhehSuF0RAhWZmZma2REBo4XoUrldFQAxSuB6F+0VAcrgeheuhRkCcFK5H4UpHQIhmZmZm9kdAOK5H4XqkSECo61G4HlVJQNwehetRCEpA1EfhehS+SkB1VVVVVVUJQME20GkDnQhAOHTaQKcNCEDWDXTaQKcHQJ0DnTbQaQdAjVVVVVVVB0CoA5020GkHQOwNdNpApwdAVnTaQKcNCEDpNtBpA50IQKZVVVVVVQlAkdBpA502CkCgpw102kALQNjaQKcNdAxAPGoDnTbQDUDGVVVVVVUPQLxOG+i0gRBAqqDTBjptEUCtoNMGOm0SQMZOG+i0gRNA8qqqqqqqFEAytYFOG+gVQIltoNMGOhdA8tMGOm2gGEBw6LSBThsaQAKrqqqqqhtAqBvotIFOHUBlOm2g0wYfQJoDnTbQaSBADEGnDXRaIUCLVVVVVVUiQBFBpw10WiNAoQOdNtBpJEA9nTbQaYMlQOENdNpApyZAlFVVVVXVJ0BNdNpApw0pQBBqA502UCpA4jbQaQOdK0C62kCnDfQsQJ1VVVVVVS5AiKcNdNrAL0BA6LSBTpswQEPotIFOWzFAyNMGOm0gMkDSqqqqquoyQGVtoNMGujNAehvotIGONEAUtYFOG2g1QDI6baDTRjZA2KqqqqoqN0AEBzptoBM4QLFOG+i0ATlA5YFOG+j0OUCgoNMGOu06QOCqqqqq6jtAoqDTBjrtPEDpgU4b6PQ9QLhOG+i0AT9AhgOdNtAJQEByVVVVVZVAQCCdNtBpI0FAktpApw20QUDGDXTaQEdCQLw20GkD3UJAdFVVVVV1Q0DwaQOdNhBEQC902kCnrURAL3TaQKdNRUDxaQOdNvBFQHhVVVVVlUZAwTbQaQM9R0DKDXTaQOdHQJjaQKcNlEhAKZ020GlDSUB9VVVVVfVJQJADnTbQqUpAaKcNdNpgS0ACQacNdBpMQGDQaQOd1kxA9bu7u7u7DECoA5020GkMQIWnDXTaQAxAjacNdNpADEC6A5020GkMQBC8u7u7uwxAldBpA502DUA+QacNdNoNQBAOdNpApw5ACTfQaQOdD0AX3t3d3V0QQMBOG+i0ARFAem2g0wa6EUBJOm2g04YSQDC1gU4baBNAKt7d3d1dFEA1tYFOG2gVQFY6baDThhZAjW2g0wa6F0DcThvotAEZQDre3d3dXRpArRvotIHOG0A4BzptoFMdQNWg0wY67R5AQnTaQKdNIEAl7+7u7i4hQBJBpw10GiJADGoDnTYQI0ANagOdNhAkQBhBpw10GiVAMe/u7u4uJkBRdNpAp00nQHrQaQOddihAsAOdNtCpKUDuDXTaQOcqQDrv7u7uLixAjacNdNqALUDqNtBpA90uQKtOG+i0ITBAZG2g0wbaMECid3d3d5cxQGVtoNMGWjJArU4b6LQhM0B9G+i0ge4zQM/TBjptwDRApnd3d3eXNUAFBzptoHM2QOmBThvoVDdATui0gU47OEA6Om2g0yY5QKx3d3d3FzpApaDTBjoNO0AgtYFOGwg8QCC1gU4bCD1AqqDTBjoNPkC1d3d3dxc/QCKdNtBpE0BALHTaQKedQED5QKcNdCpBQIoDnTbQuUFA3bu7u7tLQkDxaQOdNuBCQMoNdNpAd0NAZKcNdNoQREDBNtBpA61EQN+7u7u7S0VAwTbQaQPtRUBopw102pBGQM0NdNpAN0dA9mkDnTbgR0Dlu7u7u4tIQJIDnTbQOUlABEGnDXTqSUA2dNpAp51KQC2dNtBpU0tA6Lu7u7sLTEBi0GkDncZMQKDaQKcNhE1AotpApw1ETkBl0GkDnQZPQPHMzMzMzBBA/aNwPQrXEEAgKVyPwvUQQFZcj8L1KBFAnz0K16NwEUD9zMzMzMwRQHEK16NwPRJA+/UoXI/CEkCWj8L1KFwTQEbXo3A9ChRADs3MzMzMFEDocD0K16MVQNXC9ShcjxZA2ML1KFyPF0DucD0K16MYQB3NzMzMzBlAXdejcD0KG0Cwj8L1KFwcQB32KFyPwh1AnArXo3A9H0CWZmZmZmYgQOkehetROCFASK5H4XoUIkCxFK5H4foiQCJSuB6F6yNAnmZmZmbmJEAmUrgeheslQLgUrkfh+iZAUq5H4XoUKED4HoXrUTgpQKhmZmZmZipAZIXrUbieK0AoexSuR+EsQPVH4XoULi5A0OtRuB6FL0BaMzMzM3MwQFBcj8L1KDFAynA9CtfjMUDNcD0K16MyQFRcj8L1aDNAXjMzMzMzNEDt9ShcjwI1QAWkcD0K1zVAoD0K16OwNkDAwvUoXI83QGIzMzMzczhAjY/C9ShcOUA916NwPUo6QHEK16NwPTtAKSlcj8I1PEBpMzMzMzM9QC0pXI/CNT5AdQrXo3A9P0Ch61G4HiVAQMtH4XoUrkBAuJmZmZk5QUBm4XoUrsdBQNYehetRWEJADFK4HoXrQkACexSuR4FDQLqZmZmZGURANa5H4Xq0REB0uB6F61FFQHW4HoXr8UVAOK5H4XqURkC9mZmZmTlHQAZ7FK5H4UdAElK4HoWLSEDeHoXrUThJQG3hehSu50lAwZmZmZmZSkDWR+F6FE5LQK7rUbgeBUxARoXrUbi+TEClFK5H4XpNQMWZmZmZOU5AphSuR+H6TkBKhetRuL5PQNj1KFyPQlBA7qNwPQqnUECid3d3d/cTQOCBThvoNBRANTptoNOGFECgoNMGOu0UQBy1gU4baBVArXd3d3f3FUBW6LSBTpsWQBIHOm2gUxdA4NMGOm0gGEDCThvotAEZQLp3d3d39xlAyk4b6LQBG0Dq0wY6bSAcQCAHOm2gUx1Abei0gU6bHkDNd3d3d/cfQJ/aQKcNtCBAYtBpA512IUAwnTbQaUMiQAxBpw10GiNA7bu7u7v7I0DZDXTaQOckQNI20GkD3SVA1TbQaQPdJkDgDXTaQOcnQPW7u7u7+yhAFUGnDXQaKkBCnTbQaUMrQHXQaQOddixAstpApw20LUABvLu7u/suQCk6baDTJjBA2IFOG+jUMEALtYFOG4gxQMTTBjptQDJABd7d3d39MkDG0wY6bcAzQA61gU4biDRA34FOG+hUNUAyOm2g0yY2QAne3d3d/TZAZW2g0wbaN0BG6LSBTrs4QLFOG+i0oTlAnKDTBjqNOkAN3t3d3X07QAgHOm2gczxAghvotIFuPUCCG+i0gW4+QAgHOm2gcz9ACO/u7u4+QEBS0GkDncZAQF2nDXTaUEFAKXTaQKfdQUC6NtBpA21CQA7v7u7u/kJAIp020GmTQ0D5QKcNdCpEQJLaQKcNxERA8WkDnTZgRUAQ7+7u7v5FQPBpA502oEZAmNpApw1ER0D9QKcNdOpHQCWdNtBpk0hAEu/u7u4+SUDANtBpA+1JQDJ02kCnnUpAZacNdNpQS0Ba0GkDnQZMQBjv7u7uvkxAkgOdNtB5TUDQDXTaQDdOQNANdNpA905AkQOdNtC5T0CNd3d3dz9QQDHotIFOo1BAttMGOm0IUUAdOm2g025RQGQb6LSB1lFAGN7d3d3dF0CKG+i0gU4YQBIHOm2g0xhAsaDTBjptGUBi6LSBThsaQCXe3d3d3RpAAoJOG+i0G0Dx0wY6baAcQPLTBjptoB1ACYJOG+i0HkA13t3d3d0fQDx02kCnjSBAZtBpA502IUCaA5020OkhQNwNdNpApyJAJO/u7u5uI0B4pw102kAkQNQ20GkDHSVAPJ020GkDJkCw2kCnDfQmQC3v7u7u7idAstpApw30KEBInTbQaQMqQOE20GkDHStAhqcNdNpALEA17+7u7m4tQPANdNpApy5AtQOdNtDpL0BB6LSBTpswQC46baDTRjFAoXd3d3f3MUCYoNMGOq0yQBK1gU4baDNAErWBThsoNECYoNMGOu00QKV3d3d3tzVANTptoNOGNkBK6LSBTls3QOaBThvoNDhABQc6baATOUCqd3d3d/c5QNTTBjpt4DpAghvotIHOO0C4ThvotME8QHJtoNMGuj1Arnd3d3e3PkB1baDTBro/QF6nDXTaYEBAxQ102kDnQEDuaQOdNnBBQNq7u7u7+0FAigOdNtCJQkD8QKcNdBpDQC102kCnrUNAJZ020GlDREDeu7u7u9tEQFnQaQOddkVAmNpApw0URkCY2kCnDbRGQFzQaQOdVkdA4bu7u7v7R0ApnTbQaaNIQDV02kCnTUlABEGnDXT6SUCSA5020KlKQOS7u7u7W0tA+WkDnTYQTEDSDXTaQMdMQGynDXTagE1AyDbQaQM9TkDpu7u7u/tOQMo20GkDvU9At9MGOm1AUEDrBjptoKNQQAC1gU4bCFFA9t3d3d1tUUDMgU4b6NRRQIWg0wY6PVJAITptoNOmUkCcThvotBFTQEoAAAAAgBxA8HA9CtcjHUCuj8L1KNwdQIBcj8L1qB5AYtejcD2KH0AtAAAAAEAgQLPrUbgexSBARq5H4XpUIUDhR+F6FO4hQIW4HoXrkSJANgAAAABAI0DxHoXrUfgjQLQUrkfhuiRAguF6FK6HJUBchetRuF4mQEAAAAAAQCdALVK4HoUrKEAiexSuRyEpQCZ7FK5HISpAMlK4HoUrK0BJAAAAAEAsQGiF61G4Xi1AlOF6FK6HLkDKFK5H4bovQISPwvUofDBAKAAAAAAgMUBUXI/C9cgxQAKkcD0KdzJANtejcD0qM0Dw9Shcj+IzQC4AAAAAoDRA8vUoXI9iNUA616NwPSo2QAikcD0K9zZAXFyPwvXIN0A1AAAAAKA4QJKPwvUofDlAcgrXo3BdOkDacD0K10M7QMnC9ShcLzxAOgAAAAAgPUAwKVyPwhU+QK09CtejED9A2B6F61EIQECaFK5H4YpAQB8AAAAAEEFAaOF6FK6XQUB0uB6F6yFCQECF61G4rkJA0EfhehQ+Q0AkAAAAANBDQDmuR+F6ZERAEFK4HoX7RECp61G4HpVFQAZ7FK5HMUZAKAAAAADQRkAIexSuR3FHQKzrUbgeFUhAFFK4HoW7SEA+rkfhemRJQCkAAAAAEEpA2EfhehS+SkBKhetRuG5LQIC4HoXrIUxAdOF6FK7XTEAtAAAAAJBNQKkUrkfhSk5A5h6F61EIT0DoHoXrUchPQFYK16NwRVBAGAAAAACoUEC9cD0K1wtRQEJcj8L1cFFAqML1KFzXUUDxo3A9Cj9SQBsAAAAAqFJAJdejcD0SU0AQKVyPwn1TQN71KFyP6lNAjT0K16NYVEAX7+7u7u4gQAJBpw10WiFA+mkDnTbQIUD9aQOdNlAiQAhBpw102iJAHe/u7u5uI0BAdNpApw0kQGrQaQOdtiRAngOdNtBpJUDdDXTaQCcmQCXv7u7u7iZAfKcNdNrAJ0DYNtBpA50oQECdNtBpgylAtdpApw10KkAx7+7u7m4rQLjaQKcNdCxASJ020GmDLUDhNtBpA50uQIqnDXTawC9AnXd3d3d3MED5BjptoBMxQN2BThvotDFAROi0gU5bMkAwOm2g0wYzQKB3d3d3tzNAl6DTBjptNEAVtYFOGyg1QBW1gU4b6DVAmqDTBjqtNkCod3d3d3c3QDg6baDTRjhATei0gU4bOUDlgU4b6PQ5QAUHOm2g0zpArXd3d3e3O0DV0wY6baA8QIQb6LSBjj1Auk4b6LSBPkBybaDTBno/QNi7u7u7O0BAujbQaQO9QEBepw102kBBQMYNdNpAx0FA8GkDnTZQQkDau7u7u9tCQIwDnTbQaUNA/ECnDXT6Q0AwdNpAp41EQCWdNtBpI0VA3bu7u7u7RUBa0GkDnVZGQJjaQKcN9EZAmNpApw2UR0Bd0GkDnTZIQOK7u7u720hAKp020GmDSUA0dNpApy1KQAFBpw102kpAlAOdNtCJS0Dku7u7uztMQPlpA5028ExA1A102kCnTUBtpw102mBOQMk20GkDHU9A6Lu7u7vbT0BkG+i0gU5QQLjTBjptsFBA7AY6baATUUAAtYFOG3hRQPbd3d3d3VFAzYFOG+hEUkCGoNMGOq1SQCA6baDTFlNAmk4b6LSBU0D43d3d3e1TQDXotIFOW1RAVG2g0wbKVEBWbaDTBjpVQDjotIFOq1VA5bu7u7v7I0Brpw102oAkQP1pA502ECVAmQOdNtCpJUA9dNpAp00mQOy7u7u7+yZAptpApw20J0Bs0GkDnXYoQDqdNtBpQylAEEGnDXQaKkD1u7u7u/sqQOINdNpA5ytA2TbQaQPdLEDaNtBpA90tQOgNdNpA5y5A/ru7u7v7L0COoNMGOo0wQKNOG+i0ITFAPui0gU67MUBfbaDTBloyQAPe3d3d/TJALDptoNOmM0DcgU4b6FQ0QBG1gU4bCDVAydMGOm3ANUAG3t3d3X02QMrTBjptQDdAFbWBThsIOEDigU4b6NQ4QDQ6baDTpjlADN7d3d19OkBqbaDTBlo7QEzotIFOOzxAsk4b6LQhPUCgoNMGOg0+QBLe3d3d/T5ACQc6baDzP0DBDXTaQHdAQMINdNpA90BAhgOdNtB5QUAM7+7u7v5BQFPQaQOdhkJAX6cNdNoQQ0AtdNpAp51DQLw20GkDLURADu/u7u6+REAjnTbQaVNFQPxApw106kVAldpApw2ERkDxaQOdNiBHQBLv7u7uvkdA9GkDnTZgSECY2kCnDQRJQP5Apw10qklAKJ020GlTSkAV7+7u7v5KQMQ20GkDrUtANHTaQKddTEBopw102hBNQF7QaQOdxk1AGO/u7u5+TkCSA5020DlPQNINdNpA909A6QY6baBbUEDKgU4b6LxQQI13d3d3H1FAMei0gU6DUUC40wY6behRQB46baDTTlJAZRvotIG2UkCOd3d3dx9TQJpOG+i0iVNAhqDTBjr1U0BSbaDTBmJUQAG1gU4b0FRAkXd3d3c/VUACtYFOG7BVQFRtoNMGIlZAiKDTBjqVVkCdThvotAlXQJpmZmZmZidAuetRuB4FKEDiR+F6FK4oQBp7FK5HYSlAWIXrUbgeKkChZmZmZuYqQPgehetRuCtAVa5H4XqULEC8FK5H4XotQC1SuB6Fay5AqGZmZmZmL0AZKVyPwjUwQGEK16NwvTBALtejcD1KMUCDj8L1KNwxQFozMzMzczJAt8L1KFwPM0CYPQrXo7AzQACkcD0KVzRA7vUoXI8CNUBeMzMzM7M1QFVcj8L1aDZA0nA9CtcjN0DScD0K1+M3QFlcj8L1qDhAYjMzMzNzOUDy9Shcj0I6QAqkcD0KFztApT0K16PwO0DCwvUoXM88QGozMzMzsz1AlY/C9SicPkBC16NwPYo/QDqF61G4PkBAlxSuR+G6QEC4mZmZmTlBQJkUrkfhukFAPYXrUbg+QkCl61G4HsVCQM5H4XoUTkNAupmZmZnZQ0Bo4XoUrmdEQNkehetR+ERAEFK4HoWLRUAEexSuRyFGQL2ZmZmZuUZAOq5H4XpUR0B4uB6F6/FHQHi4HoXrkUhAOq5H4Xo0SUDAmZmZmdlJQAl7FK5HgUpAFFK4HoUrS0DgHoXrUdhLQHLhehSuh0xAxJmZmZk5TUDYR+F6FO5NQLHrUbgepU5ASoXrUbheT0BUCtejcA1QQOPMzMzMbFBAVArXo3DNUECnwvUoXC9RQNz1KFyPklFA8KNwPQr3UUDkzMzMzFxSQLxwPQrXw1JAdY/C9SgsU0AQKVyPwpVTQIo9CtejAFRA6MzMzMxsVEAl16NwPdpUQERcj8L1SFVARVyPwvW4VUAm16NwPSpWQOrMzMzMnFZAjT0K16MQV0ASKVyPwoVXQHqPwvUo/FdAxHA9CtdzWEAu7+7u7i4rQOgNdNpA5ytAqgOdNtCpLEB80GkDnXYtQFR02kCnTS5ANu/u7u4uL0CToNMGOg0wQA61gU4biDBAD7WBThsIMUCUoNMGOo0xQJ93d3d3FzJAMTptoNOmMkBG6LSBTjszQOCBThvo1DNAAgc6baBzNECmd3d3dxc1QNDTBjptwDVAfRvotIFuNkCyThvotCE3QG1toNMG2jdAqnd3d3eXOEBtbaDTBlo5QLhOG+i0ITpAhRvotIHuOkDY0wY6bcA7QK53d3d3lzxADAc6baBzPUDwgU4b6FQ+QFjotIFOOz9AIZ020GkTQEDcu7u7u4tAQFbQaQOdBkFAlNpApw2EQUCU2kCnDQRCQFfQaQOdhkJA3ru7u7sLQ0AmnTbQaZNDQDF02kCnHURAAEGnDXSqRECPA5020DlFQOG7u7u7y0VA9WkDnTZgRkDNDXTaQPdGQGmnDXTakEdAxTbQaQMtSEDku7u7u8tIQMg20GkDbUlAaqcNdNoQSkDSDXTaQLdKQPxpA502YEtA5ru7u7sLTECYA5020LlMQAZBpw10ak1AOnTaQKcdTkA0nTbQadNOQO27u7u7i09ANOi0gU4jUEBRbaDTBoJQQFJtoNMG4lBANOi0gU5DUUD43d3d3aVRQJtOG+i0CVJAIjptoNNuUkCIoNMGOtVSQNCBThvoPFNA+d3d3d2lU0ADtYFOGxBUQPAGOm2ge1RAvdMGOm3oVEBqG+i0gVZVQP3d3d3dxVVAbRvotIE2VkC+0wY6bahWQPEGOm2gG1dABrWBThuQV0D+3d3d3QVYQNaBThvofFhAjaDTBjr1WEAoOm2g025ZQKJOG+i06VlAllVVVVVVL0D0BjptoBMwQKROG+i0gTBA2IFOG+j0MECRoNMGOm0xQM6qqqqq6jFAkqDTBjptMkDcgU4b6PQyQKlOG+i0gTNA/AY6baATNEDUqqqqqqo0QDI6baDTRjVAErWBThvoNUB6G+i0gY42QGhtoNMGOjdA2qqqqqrqN0DQ0wY6baA4QErotIFOWzlATei0gU4bOkDS0wY6beA6QN6qqqqqqjtAbW2g0wZ6PECCG+i0gU49QCC1gU4bKD5APjptoNMGP0Diqqqqquo/QIcDnTbQaUBAXqcNdNrgQED4QKcNdFpBQFXQaQOd1kFAdFVVVVVVQkBW0GkDndZCQPpApw10WkNAYacNdNrgQ0CMA5020GlEQHhVVVVV9URAJp020GmDRUCW2kCnDRRGQMoNdNpAp0ZAwjbQaQM9R0B6VVVVVdVHQPVpA502cEhANHTaQKcNSUA2dNpAp61JQPhpA502UEpAelVVVVX1SkDFNtBpA51LQNENdNpAR0xAoNpApw30TEAtnTbQaaNNQIFVVVVVVU5AlgOdNtAJT0Btpw102sBPQISg0wY6PVBAMui0gU6bUEDCqqqqqvpQQDLotIFOW1FAhKDTBjq9UUC50wY6bSBSQM6BThvohFJAxKqqqqrqUkCaThvotFFTQFRtoNMGulNA7gY6baAjVEBqG+i0gY5UQMWqqqqq+lRABLWBThtoVUAiOm2g09ZVQCI6baDTRlZABbWBThu4VkDIqqqqqipXQG0b6LSBnldA8QY6baATWEBWbaDTBopYQKBOG+i0AVlAyqqqqqp6WUDVgU4b6PRZQL7TBjptcFpAjaDTBjrtWkA86LSBTmtbQO3MzMzM7DFA5PUoXI9iMkBeCtejcN0yQGEK16NwXTNA5vUoXI/iM0DxzMzMzGw0QIOPwvUo/DRAmD0K16OQNUAy16NwPSo2QFBcj8L1yDZA9czMzMxsN0AgKVyPwhU4QNBwPQrXwzhAAqRwPQp3OUC9wvUoXC86QPzMzMzM7DpAvsL1KFyvO0AFpHA9Cnc8QNJwPQrXQz1AKClcj8IVPkAAzczMzOw+QFxcj8L1yD9AoOtRuB5VQEDUHoXrUchAQMlH4XoUPkFAgmZmZma2QUD9ehSuRzFCQDyF61G4rkJAPIXrUbguQ0D/ehSuR7FDQIZmZmZmNkRAzkfhehS+REDYHoXrUUhFQKXrUbge1UVANK5H4XpkRkCJZmZmZvZGQJ0UrkfhikdAdLgeheshSEAQUrgehbtIQGzhehSuV0lAimZmZmb2SUBt4XoUrpdKQBBSuB6FO0tAebgehevhS0ChFK5H4YpMQI1mZmZmNk1APa5H4XrkTUCw61G4HpVOQOEehetRSE9A1kfhehT+T0BIMzMzM1tQQIY9CtejuFBApsL1KFwXUUClwvUoXHdRQIg9Ctej2FFASjMzMzM7UkDuo3A9Cp9SQHSPwvUoBFNA2fUoXI9qU0Ak16NwPdJTQEwzMzMzO1RAVgrXo3ClVEBDXI/C9RBVQBApXI/CfVVAvnA9CtfrVUBNMzMzM1tWQL1wPQrXy1ZAEilcj8I9V0BFXI/C9bBXQFgK16NwJVhAUTMzMzObWEAo16NwPRJZQOD1KFyPillAeY/C9SgEWkD0o3A9Cn9aQFIzMzMz+1pAkD0K16N4W0CuwvUoXPdbQLDC9Shcd1xAkT0K16P4XEAF3t3d3V00QMjTBjpt4DRAELWBThtoNUDggU4b6PQ1QDI6baDThjZACd7d3d0dN0BobaDTBro3QErotIFOWzhAsE4b6LQBOUCcoNMGOq05QA3e3d3dXTpABgc6baATO0CCG+i0gc47QIEb6LSBjjxACgc6baBTPUAV3t3d3R0+QKWg0wY67T5AuU4b6LTBP0ApdNpAp01AQLo20GkDvUBADe/u7u4uQUAhnTbQaaNBQPpApw10GkJAlNpApw2UQkDwaQOdNhBDQA/v7u7ujkNA8GkDnTYQRECW2kCnDZREQP1Apw10GkVAJp020GmjRUAS7+7u7i5GQME20GkDvUZAMnTaQKdNR0Bmpw102uBHQFrQaQOddkhAFu/u7u4OSUCQA5020KlJQM4NdNpAR0pA0Q102kDnSkCSA5020IlLQBjv7u7uLkxAYNBpA53WTEBqpw102oBNQDp02kCnLU5AyjbQaQPdTkAa7+7u7o5PQJlOG+i0IVBAhKDTBjp9UEBRbaDTBtpQQAC1gU4bOFFAjnd3d3eXUUAAtYFOG/hRQFJtoNMGWlJAhqDTBjq9UkCcThvotCFTQJJ3d3d3h1NAaRvotIHuU0AgOm2g01ZUQLvTBjptwFRANui0gU4rVUCUd3d3d5dVQNGBThvoBFZA8QY6baBzVkDxBjptoONWQNKBThvoVFdAlHd3d3fHV0A56LSBTjtYQMDTBjptsFhAJTptoNMmWUBtG+i0gZ5ZQJh3d3d3F1pAok4b6LSRWkCOoNMGOg1bQFptoNMGiltACLWBThsIXECad3d3d4dcQAq1gU4bCF1AWm2g0waKXUCRoNMGOg1eQKVOG+i0kV5ACt7d3d39NkCaoNMGOo03QLBOG+i0IThATOi0gU67OEBqbaDTBlo5QA7e3d3d/TlAOjptoNOmOkDqgU4b6FQ7QB21gU4bCDxA1dMGOm3APEAS3t3d3X09QNrTBjptQD5AIbWBThsIP0DtgU4b6NQ/QCGdNtBpU0BADe/u7u6+QEC8NtBpAy1BQCx02kCnnUFAYKcNdNoQQkBY0GkDnYZCQBDv7u7u/kJAigOdNtB5Q0DKDXTaQPdDQMoNdNpAd0RAjQOdNtD5REAS7+7u7n5FQFrQaQOdBkZAZqcNdNqQRkA1dNpApx1HQMI20GkDrUdAFu/u7u4+SEAqnTbQadNIQAJBpw10aklAndpApw0ESkD5aQOdNqBKQBrv7u7uPktA+mkDnTbgS0Cg2kCnDYRMQAhBpw10Kk1AMJ020GnTTUAd7+7u7n5OQMo20GkDLU9APHTaQKfdT0C40wY6bUhQQDTotIFOo1BAkHd3d3f/UEDOgU4b6FxRQO0GOm2gu1FA7QY6baAbUkDOgU4b6HxSQJF3d3d331JANui0gU5DU0C70wY6bahTQCI6baDTDlRAahvotIF2VECVd3d3d99UQJ5OG+i0SVVAiaDTBjq1VUBWbaDTBiJWQAa1gU4bkFZAlnd3d3f/VkAGtYFOG3BXQFltoNMG4ldAjKDTBjpVWEChThvotMlYQJh3d3d3P1lAbhvotIG2WUApOm2g0y5aQMDTBjptqFpAPei0gU4jW0Cad3d3d59bQNmBThvoHFxA+AY6baCbXED1BjptoBtdQNiBThvonF1AnHd3d3cfXkBB6LSBTqNeQMXTBjptKF9ALTptoNOuX0C6DXTaQBtgQPrMzMzMzDlAWFyPwvVoOkA516NwPQo7QKI9CtejsDtAjo/C9ShcPEAAzczMzAw9QPj1KFyPwj1AdArXo3B9PkB0CtejcD0/QPx6FK5HAUBAgWZmZmZmQEDKR+F6FM5AQNUehetROEFAoutRuB6lQUA0rkfhehRCQIZmZmZmhkJAmhSuR+H6QkBxuB6F63FDQApSuB6F60NAaeF6FK5nRECHZmZmZuZEQGnhehSuZ0VADlK4HoXrRUB1uB6F63FGQKAUrkfh+kZAimZmZmaGR0A4rkfhehRIQKzrUbgepUhA4B6F61E4SUDVR+F6FM5JQJBmZmZmZkpACnsUrkcBS0BIhetRuJ5LQEiF61G4PkxACnsUrkfhTECSZmZmZoZNQNhH4XoULk5A4h6F61HYTkCy61G4HoVPQCHXo3A9GlBASjMzMzNzUEBUCtejcM1QQEBcj8L1KFFADilcj8KFUUC8cD0K1+NRQEszMzMzQ1JAvXA9CtejUkAPKVyPwgVTQEJcj8L1aFNAWArXo3DNU0BNMzMzMzNUQCXXo3A9mlRA3fUoXI8CVUB4j8L1KGxVQPSjcD0K11VAUTMzMzNDVkCNPQrXo7BWQKrC9ShcH1dArML1KFyPV0COPQrXowBYQFIzMzMzc1hA9aNwPQrnWEB9j8L1KFxZQOL1KFyP0llAKtejcD1KWkBUMzMzM8NaQF0K16NwPVtASlyPwvW4W0AVKVyPwjVcQMVwPQrXs1xAVjMzMzMzXUDIcD0K17NdQBkpXI/CNV5ASlyPwvW4XkBgCtejcD1fQFgzMzMzw19AmOtRuB4lYED0ehSuR2lgQMFH4XoUrmBA/lG4HoXzYEDaqqqqqso8QAIHOm2gcz1Ask4b6LQhPkDogU4b6NQ+QKCg0wY6jT9Ab1VVVVUlQEBS0GkDnYZAQPZApw106kBAXKcNdNpQQUCFA5020LlBQHFVVVVVJUJAIZ020GmTQkCS2kCnDQRDQMUNdNpAd0NAvDbQaQPtQ0B0VVVVVWVEQPBpA5024ERALnTaQKddRUAtdNpAp91FQPJpA502YEZAdlVVVVXlRkC+NtBpA21HQMoNdNpA90dAmNpApw2ESEAonTbQaRNJQHpVVVVVpUlAkAOdNtA5SkBopw102tBKQAJBpw10aktAXdBpA50GTEB9VVVVVaVMQGDQaQOdRk1AAkGnDXTqTUBqpw102pBOQJUDnTbQOU9AgVVVVVXlT0CWThvotElQQFBtoNMGolBA6gY6baD7UEBlG+i0gVZRQMKqqqqqslFA/rSBThsQUkAeOm2g025SQB86baDTzlJAAbWBThswU0DDqqqqqpJTQGgb6LSB9lNA7QY6baBbVEBUbaDTBsJUQJxOG+i0KVVAxaqqqqqSVUDRgU4b6PxVQLrTBjptaFZAiKDTBjrVVkA46LSBTkNXQMiqqqqqsldAOOi0gU4jWECJoNMGOpVYQL3TBjptCFlA0oFOG+h8WUDKqqqqqvJZQKBOG+i0aVpAWm2g0wbiWkDyBjptoFtbQG4b6LSB1ltAzKqqqqpSXEAItYFOG9BcQCg6baDTTl1AJjptoNPOXUAItYFOG1BeQM2qqqqq0l5AchvotIFWX0D4BjptoNtfQK020GkDMWBAUqcNdNp0YEBoVVVVVblgQO1Apw10/mBA4mkDnTZEYUBJ0GkDnYphQCB02kCn0WFArXd3d3f3P0BR0GkDnVZAQI7aQKcNtEBAkNpApw0UQUBT0GkDnXZBQNi7u7u720FAIp020GlDQkAsdNpAp61CQPlApw10GkNAiAOdNtCJQ0Dau7u7u/tDQPFpA502cERAyQ102kDnREBipw102mBFQMA20GkD3UVA3bu7u7tbRkDANtBpA91GQGWnDXTaYEdAyg102kDnR0D1aQOdNnBIQOC7u7u7+0hAkAOdNtCJSUACQacNdBpKQDR02kCnrUpAKp020GlDS0Dlu7u7u9tLQGDQaQOddkxAntpApw0UTUCg2kCnDbRNQGHQaQOdVk5A6Lu7u7v7TkAwnTbQaaNPQB06baDTJlBAhKDTBjp9UEDMgU4b6NRQQPbd3d3dLVFA/7SBThuIUUDsBjptoONRQLnTBjptQFJAaBvotIGeUkD33d3d3f1SQGcb6LSBXlNAudMGOm3AU0DuBjptoCNUQAO1gU4biFRA+N3d3d3tVEDRgU4b6FRVQImg0wY6vVVAJDptoNMmVkCdThvotJFWQPrd3d3d/VZAOei0gU5rV0BYbaDTBtpXQFhtoNMGSlhAOui0gU67WED93d3d3S1ZQKFOG+i0oVlAJTptoNMWWkCMoNMGOo1aQNWBThvoBFtA/t3d3d19W0AItYFOG/hbQPUGOm2gc1xAwtMGOm3wXEBwG+i0gW5dQADe3d3d7V1AcRvotIFuXkDF0wY6bfBeQPgGOm2gc19ADLWBThv4X0AB7+7u7j5gQO1Apw10gmBASdBpA53GYEAWnTbQaQthQFSnDXTaUGFAAu/u7u6WYUAhdNpAp91hQLA20GkDJWJAsjbQaQNtYkAidNpAp7ViQLiZmZmZqUFAmhSuR+EKQkA9hetRuG5CQKbrUbge1UJAzkfhehQ+Q0C7mZmZmalDQGvhehSuF0RA2h6F61GIREAOUrgehftEQAV7FK5HcUVAvZmZmZnpRUA6rkfhemRGQHa4HoXr4UZAeLgehethR0A9rkfheuRHQMCZmZmZaUhACnsUrkfxSEAVUrgehXtJQOEehetRCEpAcuF6FK6XSkDFmZmZmSlLQNhH4XoUvktAsutRuB5VTEBKhetRuO5MQKgUrkfhik1AyJmZmZkpTkCoFK5H4cpOQE6F61G4bk9A2vUoXI8KUEDvo3A9Cl9QQObMzMzMtFBAvXA9CtcLUUB2j8L1KGRRQBApXI/CvVFAij0K16MYUkDozMzMzHRSQCbXo3A90lJARFyPwvUwU0BFXI/C9ZBTQCbXo3A98lNA6czMzMxUVECNPQrXo7hUQBIpXI/CHVVAeo/C9SiEVUDCcD0K1+tVQOrMzMzMVFZA9qNwPQq/VkDi9ShcjypXQLDC9Shcl1dAXQrXo3AFWEDszMzMzHRYQF4K16Nw5VhAsML1KFxXWUDi9Shcj8pZQPqjcD0KP1pA8MzMzMy0WkDGcD0K1ytbQICPwvUopFtAGClcj8IdXECVPQrXo5hcQPHMzMzMFF1ALtejcD2SXUBQXI/C9RBeQFBcj8L1kF5AMNejcD0SX0DyzMzMzJRfQMsehetRDGBAjhSuR+FOYEDCR+F6FJJgQGW4HoXr1WBAe2ZmZmYaYUAAUrgehV9hQPV6FK5HpWFAXOF6FK7rYUAzhetRuDJiQHxmZmZmemJANIXrUbjCYkBd4XoUrgtjQPh6FK5HVWNAAlK4HoWfY0AM7+7u7m5DQFXQaQOd1kNAX6cNdNpAREAtdNpAp61EQLw20GkDHUVADu/u7u6ORUAlnTbQaQNGQPpApw10ekZAltpApw30RkDyaQOdNnBHQBHv7u7u7kdA9WkDnTZwSECZ2kCnDfRIQP5Apw10eklAKp020GkDSkAV7+7u7o5KQMQ20GkDHUtANXTaQKetS0Bopw102kBMQGDQaQOd1kxAGO/u7u5uTUCSA5020AlOQNINdNpAp05A0g102kBHT0CVA5020OlPQI13d3d3R1BAMei0gU6bUEC30wY6bfBQQB46baDTRlFAZRvotIGeUUCQd3d3d/dRQJpOG+i0UVJAhaDTBjqtUkBTbaDTBgpTQAC1gU4baFNAkXd3d3fHU0ABtYFOGyhUQFRtoNMGilRAiKDTBjrtVECcThvotFFVQJJ3d3d3t1VAaBvotIEeVkAiOm2g04ZWQL3TBjpt8FZAOei0gU5bV0CUd3d3d8dXQNKBThvoNFhA8AY6baCjWEDxBjptoBNZQNSBThvohFlAlXd3d3f3WUA66LSBTmtaQMDTBjpt4FpAJjptoNNWW0BwG+i0gc5bQJp3d3d3R1xAok4b6LTBXECNoNMGOj1dQFptoNMGul1ACrWBThs4XkCcd3d3d7deQAq1gU4bOF9AXm2g0wa6X0BI0GkDnR5gQFKnDXTaYGBAzru7u7ujYEC5DXTaQOdgQBadNtBpK2FA42kDnTZwYUAgdNpAp7VhQNC7u7u7+2FA7kCnDXRCYkB+A5020IliQH0DnTbQ0WJA7kCnDXQaY0DRu7u7u2NjQCN02kCnrWNA5GkDnTb4Y0AZnTbQaUNkQLwNdNpAj2RA2ru7u7tLRUCJA5020LlFQPhApw10KkZALnTaQKedRkAinTbQaRNHQNy7u7u7i0dAWtBpA50GSECV2kCnDYRIQJbaQKcNBElAWtBpA52GSUDdu7u7uwtKQCidNtBpk0pAMnTaQKcdS0AAQacNdKpLQJEDnTbQOUxA4ru7u7vLTED4aQOdNmBNQNANdNpA901AaKcNdNqQTkDINtBpAy1PQOW7u7u7y09AYhvotIE2UEC20wY6bYhQQOkGOm2g21BA/rSBThswUUD03d3d3YVRQMqBThvo3FFAhKDTBjo1UkAeOm2g045SQJhOG+i06VJA9t3d3d1FU0A06LSBTqNTQFJtoNMGAlRAVG2g0wZiVEA06LSBTsNUQPjd3d3dJVVAmk4b6LSJVUAhOm2g0+5VQIig0wY6VVZA0IFOG+i8VkD53d3d3SVXQAK1gU4bkFdA7gY6baD7V0C90wY6bWhYQGwb6LSB1lhA+t3d3d1FWUBtG+i0gbZZQL3TBjptKFpA8gY6baCbWkAItYFOGxBbQPzd3d3dhVtA1YFOG+j8W0CMoNMGOnVcQCU6baDT7lxAok4b6LRpXUAA3t3d3eVdQD3otIFOY15AWW2g0wbiXkBabaDTBmJfQD3otIFO419AAe/u7u4yYEBSpw102nRgQBadNtBpt2BASNBpA536YEDsQKcNdD5hQALv7u7ugmFAhtpApw3IYUB8A5020A1iQOJpA502VGJAug102kCbYkAC7+7u7uJiQLwNdNpAK2NA5GkDnTZ0Y0B8A5020L1jQIfaQKcNCGRABO/u7u5SZEDwQKcNdJ5kQEvQaQOd6mRAGZ020Gk3ZUBVpw102oRlQCIAAAAAQEdAOa5H4Xq0R0AOUrgehStIQKrrUbgepUhACHsUrkchSUAlAAAAAKBJQAl7FK5HIUpAqutRuB6lSkASUrgehStLQD2uR+F6tEtAKAAAAABATEDYR+F6FM5MQEiF61G4Xk1AfLgehevxTUB14XoUrodOQCoAAAAAIE9AqBSuR+G6T0Byj8L1KCxQQHKPwvUofFBAVQrXo3DNUEAYAAAAACBRQLxwPQrXc1FAQVyPwvXIUUCowvUoXB9SQPCjcD0Kd1JAGQAAAADQUkAi16NwPSpTQBApXI/ChVNA3PUoXI/iU0CKPQrXo0BUQBwAAAAAoFRAjD0K16MAVUDe9Shcj2JVQBIpXI/CxVVAJdejcD0qVkAdAAAAAJBWQPWjcD0K91ZArcL1KFxfV0BGXI/C9chXQMFwPQrXM1hAHgAAAACgWEBdCtejcA1ZQHqPwvUofFlAfY/C9SjsWUBdCtejcF1aQCAAAAAA0FpAxXA9CtdDW0BMXI/C9bhbQLDC9ShcL1xA9qNwPQqnXEAiAAAAACBdQC3Xo3A9ml1AGilcj8IVXkDl9Shcj5JeQJU9CtejEF9AJAAAAACQX0DKHoXrUQhgQPR6FK5HSWBAjRSuR+GKYECY61G4Hs1gQBIAAAAAEGFA/lG4HoVTYUBc4XoUrpdhQCmuR+F63GFAZbgeheshYkASAAAAAGhiQDKF61G4rmJAwkfhehT2YkDER+F6FD5jQDOF61G4hmNAFgAAAADQY0BmuB6F6xlkQCquR+F6ZGRAXuF6FK6vZEABUrgehftkQBgAAAAASGVAmutRuB6VZUCRFK5H4eJlQPl6FK5HMWZA0R6F61GAZkDlu7u7u0tJQGDQaQOdxklAndpApw1ESkCg2kCnDcRKQGDQaQOdRktA6Lu7u7vLS0AwnTbQaVNMQDp02kCn3UxACEGnDXRqTUCYA5020PlNQOq7u7u7i05AAGoDnTYgT0DYDXTaQLdPQLjTBjptKFBAaBvotIF2UED23d3d3cVQQGgb6LSBFlFAutMGOm1oUUDtBjptoLtRQAK1gU4bEFJA+N3d3d1lUkDQgU4b6LxSQImg0wY6FVNAIjptoNNuU0CeThvotMlTQPrd3d3dJVRAOOi0gU6DVEBYbaDTBuJUQFltoNMGQlVAOOi0gU6jVUD93d3d3QVWQKBOG+i0aVZAJTptoNPOVkCNoNMGOjVXQNSBThvonFdA/t3d3d0FWEAItYFOG3BYQPUGOm2g21hAwtMGOm1IWUBwG+i0gbZZQADe3d3dJVpAcBvotIGWWkDC0wY6bQhbQPgGOm2ge1tADbWBThvwW0AC3t3d3WVcQNqBThvo3FxAkqDTBjpVXUAtOm2g085dQKhOG+i0SV5ABN7d3d3FXkBC6LSBTkNfQGBtoNMGwl9AsDbQaQMhYEAidNpAp2FgQATv7u7uomBAVacNdNrkYEAWnTbQaSdhQEvQaQOdamFA8ECnDXSuYUAF7+7u7vJhQInaQKcNOGJAgAOdNtB9YkDlaQOdNsRiQL0NdNpAC2NABe/u7u5SY0C+DXTaQJtjQOhpA5025GNAgQOdNtAtZECL2kCnDXhkQAbv7u7uwmRA9ECnDXQOZUBO0GkDnVplQBqdNtBpp2VAWacNdNr0ZUAI7+7u7kJmQCh02kCnkWZAtTbQaQPhZkC2NtBpAzFnQCh02kCngWdAFe/u7u5uS0D4aQOdNvBLQJraQKcNdExABEGnDXT6TEAunTbQaYNNQBjv7u7uDk5AyTbQaQOdTkA4dNpApy1PQG2nDXTawE9AMei0gU4rUECNd3d3d3dQQMyBThvoxFBA6gY6baATUUDqBjptoGNRQM2BThvotFFAkHd3d3cHUkA06LSBTltSQLnTBjptsFJAHjptoNMGU0BoG+i0gV5TQJJ3d3d3t1NAm04b6LQRVECJoNMGOm1UQFRtoNMGylRAA7WBThsoVUCUd3d3d4dVQAK1gU4b6FVAVm2g0wZKVkCJoNMGOq1WQJ5OG+i0EVdAlXd3d3d3V0BqG+i0gd5XQCU6baDTRlhAwNMGOm2wWEA46LSBThtZQJh3d3d3h1lA1YFOG+j0WUDyBjptoGNaQPUGOm2g01pA1YFOG+hEW0CYd3d3d7dbQD3otIFOK1xAwtMGOm2gXEAqOm2g0xZdQHEb6LSBjl1Amnd3d3cHXkClThvotIFeQJKg0wY6/V5AXm2g0wZ6X0AMtYFOG/hfQM67u7u7O2BAhtpApw18YECwNtBpA71gQEnQaQOd/mBAVacNdNpAYUDQu7u7u4NhQLsNdNpAx2FAF5020GkLYkDkaQOdNlBiQCJ02kCnlWJA0Lu7u7vbYkDvQKcNdCJjQH8DnTbQaWNAgAOdNtCxY0DwQKcNdPpjQNC7u7u7Q2RAInTaQKeNZEDmaQOdNthkQBqdNtBpI2VAvg102kBvZUDUu7u7u7tlQFinDXTaCGZATtBpA51WZkC1NtBpA6VmQIraQKcN9GZA1Lu7u7tDZ0CM2kCnDZRnQLU20GkD5WdAUNBpA502aEBapw102ohoQMCZmZmZqU1ACHsUrkcxTkASUrgehbtOQOAehetRSE9AbeF6FK7XT0DgzMzMzDRQQOyjcD0Kf1BA1/UoXI/KUECkwvUoXBdRQFIK16NwZVFA4szMzMy0UUBUCtejcAVSQKbC9ShcV1JA2PUoXI+qUkDuo3A9Cv9SQOTMzMzMVFNAu3A9CterU0B0j8L1KARUQA0pXI/CXVRAij0K16O4VEDkzMzMzBRVQCLXo3A9clVAQlyPwvXQVUBCXI/C9TBWQCTXo3A9klZA6MzMzMz0VkCKPQrXo1hXQBIpXI/CvVdAeY/C9SgkWEDAcD0K14tYQOrMzMzM9FhA8qNwPQpfWUDg9Shcj8pZQK3C9ShcN1pAWgrXo3ClWkDqzMzMzBRbQFoK16NwhVtArcL1KFz3W0Di9Shcj2pcQPWjcD0K31xA7czMzMxUXUDCcD0K18tdQHyPwvUoRF5AFilcj8K9XkCSPQrXozhfQO3MzMzMtF9AlutRuB4ZYEAlrkfhelhgQCWuR+F6mGBAlutRuB7ZYEB4ZmZmZhphQMoehetRXGFAjBSuR+GeYUDAR+F6FOJhQGS4HoXrJWJAemZmZmZqYkD+Ubgeha9iQPJ6FK5H9WJAWuF6FK47Y0AyhetRuIJjQHpmZmZmymNAMoXrUbgSZEBc4XoUrltkQPV6FK5HpWRAAFK4HoXvZEB8ZmZmZjplQGa4HoXrhWVAwkfhehTSZUCQFK5H4R5mQM4ehetRbGZAfWZmZma6ZkCd61G4HglnQCquR+F6WGdAKq5H4XqoZ0Ca61G4HvlnQH1mZmZmSmhA0B6F61GcaECRFK5H4e5oQMVH4XoUQmlAabgeheuVaUDou7u7u/tPQMqBThvoRFBAgqDTBjqNUEAeOm2g09ZQQJlOG+i0IVFA9d3d3d1tUUA06LSBTrtRQFFtoNMGClJAUm2g0wZaUkA06LSBTqtSQPbd3d3d/VJAm04b6LRRU0AgOm2g06ZTQIag0wY6/VNA0IFOG+hUVED43d3d3a1UQAK1gU4bCFVA8AY6baBjVUC60wY6bcBVQGob6LSBHlZA+t3d3d19VkBqG+i0gd5WQL3TBjptQFdA8AY6baCjV0AFtYFOGwhYQP3d3d3dbVhA0oFOG+jUWECNoNMGOj1ZQCU6baDTpllAoE4b6LQRWkD93d3d3X1aQDrotIFO61pAWm2g0wZaW0BdbaDTBspbQDzotIFOO1xAAN7d3d2tXEClThvotCFdQCg6baDTll1AkKDTBjoNXkDYgU4b6IReQALe3d3d/V5ADbWBTht4X0D4BjptoPNfQOJpA502OGBAuQ102kB3YEAB7+7u7rZgQLoNdNpA92BA5GkDnTY4YUB9A5020HlhQIbaQKcNvGFAAu/u7u7+YUDuQKcNdEJiQEvQaQOdhmJAF5020GnLYkBWpw102hBjQAPv7u7uVmNAInTaQKedY0CyNtBpA+VjQLI20GkDLWRAJHTaQKd1ZEAE7+7u7r5kQFenDXTaCGVAGp020GlTZUBO0GkDnZ5lQPJApw106mVABe/u7u42ZkCK2kCnDYRmQIIDnTbQ0WZA6WkDnTYgZ0C+DXTaQG9nQAjv7u7uvmdAvg102kAPaEDpaQOdNmBoQIQDnTbQsWhAjdpApw0EaUAI7+7u7lZpQPJApw10qmlAUNBpA53+aUAdnTbQaVNqQF2nDXTaqGpAw6qqqqoyUUDNgU4b6HxRQLnTBjptyFFAhqDTBjoVUkA06LSBTmNSQMSqqqqqslJANui0gU4DU0CIoNMGOlVTQLzTBjptqFNA0IFOG+j8U0DGqqqqqlJUQJ5OG+i0qVRAWG2g0wYCVUDwBjptoFtVQG0b6LSBtlVAyKqqqqoSVkAFtYFOG3BWQCU6baDTzlZAJTptoNMuV0AItYFOG5BXQMmqqqqq8ldAbRvotIFWWED1BjptoLtYQFptoNMGIllAok4b6LSJWUDNqqqqqvJZQNWBThvoXFpAwtMGOm3IWkCRoNMGOjVbQD3otIFOo1tA0KqqqqoSXEA+6LSBToNcQJKg0wY69VxAxdMGOm1oXUDYgU4b6NxdQNCqqqqqUl5ApU4b6LTJXkBgbaDTBkJfQPoGOm2gu19Aug102kAbYEBpVVVVVVlgQIfaQKcNmGBAFp020GnXYEAYnTbQaRdhQInaQKcNWGFAalVVVVWZYUC8DXTaQNthQH4DnTbQHWJAsjbQaQNhYkBWpw102qRiQGpVVVVV6WJA8ECnDXQuY0DlaQOdNnRjQEzQaQOdumNAJXTaQKcBZEBuVVVVVUlkQCV02kCnkWRATdBpA53aZEDnaQOdNiRlQPJApw10bmVAblVVVVW5ZUBZpw102gRmQLU20GkDUWZAggOdNtCdZkDADXTaQOtmQHBVVVVVOWdAjdpApw2IZ0AdnTbQaddnQBydNtBpJ2hAjdpApw14aEBxVVVVVcloQMINdNpAG2lAhQOdNtBtaUC2NtBpA8FpQFynDXTaFGpAcVVVVVVpakD4QKcNdL5qQOxpA502FGtAVNBpA51qa0ApdNpAp8FrQEwzMzMzc1JAij0K16PAUkCowvUoXA9TQKnC9ShcX1NAij0K16OwU0BNMzMzMwNUQPKjcD0KV1RAdo/C9SisVEDe9ShcjwJVQCbXo3A9WlVATjMzMzOzVUBaCtejcA1WQEhcj8L1aFZAEilcj8LFVkDCcD0K1yNXQFAzMzMzg1dAwnA9CtfjV0AVKVyPwkVYQEhcj8L1qFhAXQrXo3ANWUBRMzMzM3NZQCrXo3A92llA4vUoXI9CWkB9j8L1KKxaQPijcD0KF1tAVTMzMzODW0CSPQrXo/BbQLLC9ShcX1xAssL1KFzPXECSPQrXo0BdQFgzMzMzs11A+qNwPQonXkCAj8L1KJxeQOj1KFyPEl9ALtejcD2KX0CsmZmZmQFgQDGF61G4PmBAJ65H4Xp8YECOFK5H4bpgQGS4HoXr+WBArZmZmZk5YUBkuB6F63lhQI4UrkfhumFAKa5H4Xr8YUA0hetRuD5iQK6ZmZmZgWJAmutRuB7FYkD2ehSuRwljQMRH4XoUTmNAAVK4HoWTY0CvmZmZmdljQM4ehetRIGRAXeF6FK5nZEBe4XoUrq9kQM8ehetR+GRAsZmZmZlBZUACUrgehYtlQMVH4XoU1mVA+HoUrkchZkCd61G4Hm1mQLKZmZmZuWZANoXrUbgGZ0AtrkfhelRnQJIUrkfhomdAargehevxZ0CymZmZmUFoQGq4HoXrkWhAlRSuR+HiaEAtrkfhejRpQDiF61G4hmlAtJmZmZnZaUCh61G4Hi1qQP16FK5HgWpAyEfhehTWakAGUrgehStrQLWZmZmZgWtA1R6F61HYa0Bi4XoUri9sQGXhehSuh2xA1R6F61HgbECPd3d3d79TQAC1gU4bEFRAUW2g0wZiVECGoNMGOrVUQJpOG+i0CVVAkHd3d3dfVUBoG+i0gbZVQCA6baDTDlZAutMGOm1oVkA26LSBTsNWQJJ3d3d3H1dA0IFOG+h8V0DwBjptoNtXQPAGOm2gO1hA0oFOG+icWECSd3d3d/9YQDjotIFOY1lAvtMGOm3IWUAiOm2g0y5aQG0b6LSBllpAlXd3d3f/WkCgThvotGlbQI2g0wY61VtAWG2g0wZCXEAItYFOG7BcQJh3d3d3H11ACLWBThuQXUBabaDTBgJeQI2g0wY6dV5Aok4b6LTpXkCad3d3d19fQHAb6LSB1l9AFJ020GknYEDiaQOdNmRgQB502kCnoWBAzru7u7vfYEDsQKcNdB5hQHwDnTbQXWFAfAOdNtCdYUDsQKcNdN5hQM67u7u7H2JAIHTaQKdhYkDiaQOdNqRiQBedNtBp52JAug102kArY0DOu7u7u29jQFanDXTatGNATNBpA536Y0CxNtBpA0FkQIjaQKcNiGRA0Lu7u7vPZECJ2kCnDRhlQLI20GkDYWVATNBpA52qZUBWpw102vRlQNK7u7u7P2ZAvQ102kCLZkAanTbQaddmQOVpA502JGdAJXTaQKdxZ0DSu7u7u79nQPFApw10DmhAggOdNtBdaECCA5020K1oQPJApw10/mhA0ru7u7tPaUAldNpAp6FpQOlpA5029GlAHZ020GlHakDADXTaQJtqQNa7u7u772pAWqcNdNpEa0BQ0GkDnZprQLg20GkD8WtAjdpApw1IbEDWu7u7u59sQI7aQKcN+GxAuDbQaQNRbUBS0GkDnaptQF2nDXTaBG5Aknd3d3cXVUA26LSBTmtVQLrTBjptwFVAIjptoNMWVkBqG+i0gW5WQJJ3d3d3x1ZAoE4b6LQhV0CKoNMGOn1XQFhtoNMG2ldABrWBThs4WECVd3d3d5dYQAi1gU4b+FhAWW2g0wZaWUCNoNMGOr1ZQKJOG+i0IVpAlnd3d3eHWkBuG+i0ge5aQCg6baDTVltAwNMGOm3AW0A96LSBTitcQJp3d3d3l1xA1YFOG+gEXUD2BjptoHNdQPUGOm2g411A2IFOG+hUXkCad3d3d8deQD7otIFOO19AxdMGOm2wX0AVnTbQaRNgQLkNdNpAT2BAz7u7u7uLYEBTpw102shgQEnQaQOdBmFAsTbQaQNFYUCG2kCnDYRhQNC7u7u7w2FAiNpApw0EYkCwNtBpA0ViQEvQaQOdhmJAVacNdNrIYkDRu7u7uwtjQLwNdNpAT2NAGJ020GmTY0DmaQOdNthjQCN02kCnHWRA0bu7u7tjZEDxQKcNdKpkQIADnTbQ8WRAgAOdNtA5ZUDxQKcNdIJlQNK7u7u7y2VAJXTaQKcVZkDoaQOdNmBmQBqdNtBpq2ZAwA102kD3ZkDVu7u7u0NnQFmnDXTakGdATtBpA53eZ0C1NtBpAy1oQI3aQKcNfGhA1bu7u7vLaECN2kCnDRxpQLg20GkDbWlAUNBpA52+aUBapw102hBqQNa7u7u7Y2pAwQ102kC3akAenTbQaQtrQOppA502YGtAKXTaQKe1a0DYu7u7uwtsQPhApw10YmxAhQOdNtC5bECFA5020BFtQPZApw10am1A2bu7u7vDbUAqdNpApx1uQO1pA502eG5AIZ020GnTbkDFDXTaQC9vQFAzMzMze1ZAKNejcD3SVkDg9ShcjypXQHqPwvUohFdA9KNwPQrfV0BRMzMzMztYQJA9CtejmFhArcL1KFz3WECwwvUoXFdZQJE9CtejuFlAUjMzMzMbWkD4o3A9Cn9aQICPwvUo5FpA5PUoXI9KW0At16NwPbJbQFUzMzMzG1xAYArXo3CFXEBNXI/C9fBcQBkpXI/CXV1AyHA9CtfLXUBVMzMzMzteQMhwPQrXq15AGilcj8IdX0BNXI/C9ZBfQDGF61G4AmBArZmZmZk9YECY61G4HnlgQPV6FK5HtWBAwkfhehTyYED+UbgehS9hQK6ZmZmZbWFAzB6F61GsYUBc4XoUruthQFzhehSuK2JAzR6F61FsYkCvmZmZma1iQABSuB6F72JAw0fhehQyY0D3ehSuR3VjQJvrUbgeuWNAsJmZmZn9Y0A0hetRuEJkQCquR+F6iGRAkhSuR+HOZEBquB6F6xVlQLCZmZmZXWVAabgeheulZUCSFK5H4e5lQC2uR+F6OGZAOIXrUbiCZkCymZmZmc1mQJ3rUbgeGWdA+noUrkdlZ0DIR+F6FLJnQAVSuB6F/2dAtJmZmZlNaEDSHoXrUZxoQGHhehSu62hAYeF6FK47aUDUHoXrUYxpQLWZmZmZ3WlABVK4HoUvakDKR+F6FIJqQP16FK5H1WpAoetRuB4pa0C1mZmZmX1rQDqF61G40mtAMK5H4XoobECWFK5H4X5sQG64HoXr1WxAuJmZmZktbUBxuB6F64VtQJgUrkfh3m1AMa5H4Xo4bkA9hetRuJJuQLmZmZmZ7W5ApetRuB5Jb0AAexSuR6VvQOajcD0KAXBABSlcj8IvcEA=",
          "dtype": "f8",
          "shape": "80, 80"
         }
        },
        {
         "marker": {
          "color": "red",
          "size": 3
         },
         "mode": "markers",
         "name": "Mínimo global",
         "type": "scatter3d",
         "x": [
          2.6645352591003757e-15
         ],
         "y": [
          1.0000000000000036
         ],
         "z": [
          1.7013100189266487e-28
         ]
        }
       ],
       "layout": {
        "height": 600,
        "scene": {
         "camera": {
          "eye": {
           "x": 1.5,
           "y": 1.5,
           "z": 1.5
          }
         },
         "xaxis": {
          "title": {
           "text": "θ0"
          }
         },
         "yaxis": {
          "title": {
           "text": "θ1"
          }
         },
         "zaxis": {
          "title": {
           "text": "Loss"
          }
         }
        },
        "template": {
         "data": {
          "bar": [
           {
            "error_x": {
             "color": "#2a3f5f"
            },
            "error_y": {
             "color": "#2a3f5f"
            },
            "marker": {
             "line": {
              "color": "#E5ECF6",
              "width": 0.5
             },
             "pattern": {
              "fillmode": "overlay",
              "size": 10,
              "solidity": 0.2
             }
            },
            "type": "bar"
           }
          ],
          "barpolar": [
           {
            "marker": {
             "line": {
              "color": "#E5ECF6",
              "width": 0.5
             },
             "pattern": {
              "fillmode": "overlay",
              "size": 10,
              "solidity": 0.2
             }
            },
            "type": "barpolar"
           }
          ],
          "carpet": [
           {
            "aaxis": {
             "endlinecolor": "#2a3f5f",
             "gridcolor": "white",
             "linecolor": "white",
             "minorgridcolor": "white",
             "startlinecolor": "#2a3f5f"
            },
            "baxis": {
             "endlinecolor": "#2a3f5f",
             "gridcolor": "white",
             "linecolor": "white",
             "minorgridcolor": "white",
             "startlinecolor": "#2a3f5f"
            },
            "type": "carpet"
           }
          ],
          "choropleth": [
           {
            "colorbar": {
             "outlinewidth": 0,
             "ticks": ""
            },
            "type": "choropleth"
           }
          ],
          "contour": [
           {
            "colorbar": {
             "outlinewidth": 0,
             "ticks": ""
            },
            "colorscale": [
             [
              0,
              "#0d0887"
             ],
             [
              0.1111111111111111,
              "#46039f"
             ],
             [
              0.2222222222222222,
              "#7201a8"
             ],
             [
              0.3333333333333333,
              "#9c179e"
             ],
             [
              0.4444444444444444,
              "#bd3786"
             ],
             [
              0.5555555555555556,
              "#d8576b"
             ],
             [
              0.6666666666666666,
              "#ed7953"
             ],
             [
              0.7777777777777778,
              "#fb9f3a"
             ],
             [
              0.8888888888888888,
              "#fdca26"
             ],
             [
              1,
              "#f0f921"
             ]
            ],
            "type": "contour"
           }
          ],
          "contourcarpet": [
           {
            "colorbar": {
             "outlinewidth": 0,
             "ticks": ""
            },
            "type": "contourcarpet"
           }
          ],
          "heatmap": [
           {
            "colorbar": {
             "outlinewidth": 0,
             "ticks": ""
            },
            "colorscale": [
             [
              0,
              "#0d0887"
             ],
             [
              0.1111111111111111,
              "#46039f"
             ],
             [
              0.2222222222222222,
              "#7201a8"
             ],
             [
              0.3333333333333333,
              "#9c179e"
             ],
             [
              0.4444444444444444,
              "#bd3786"
             ],
             [
              0.5555555555555556,
              "#d8576b"
             ],
             [
              0.6666666666666666,
              "#ed7953"
             ],
             [
              0.7777777777777778,
              "#fb9f3a"
             ],
             [
              0.8888888888888888,
              "#fdca26"
             ],
             [
              1,
              "#f0f921"
             ]
            ],
            "type": "heatmap"
           }
          ],
          "histogram": [
           {
            "marker": {
             "pattern": {
              "fillmode": "overlay",
              "size": 10,
              "solidity": 0.2
             }
            },
            "type": "histogram"
           }
          ],
          "histogram2d": [
           {
            "colorbar": {
             "outlinewidth": 0,
             "ticks": ""
            },
            "colorscale": [
             [
              0,
              "#0d0887"
             ],
             [
              0.1111111111111111,
              "#46039f"
             ],
             [
              0.2222222222222222,
              "#7201a8"
             ],
             [
              0.3333333333333333,
              "#9c179e"
             ],
             [
              0.4444444444444444,
              "#bd3786"
             ],
             [
              0.5555555555555556,
              "#d8576b"
             ],
             [
              0.6666666666666666,
              "#ed7953"
             ],
             [
              0.7777777777777778,
              "#fb9f3a"
             ],
             [
              0.8888888888888888,
              "#fdca26"
             ],
             [
              1,
              "#f0f921"
             ]
            ],
            "type": "histogram2d"
           }
          ],
          "histogram2dcontour": [
           {
            "colorbar": {
             "outlinewidth": 0,
             "ticks": ""
            },
            "colorscale": [
             [
              0,
              "#0d0887"
             ],
             [
              0.1111111111111111,
              "#46039f"
             ],
             [
              0.2222222222222222,
              "#7201a8"
             ],
             [
              0.3333333333333333,
              "#9c179e"
             ],
             [
              0.4444444444444444,
              "#bd3786"
             ],
             [
              0.5555555555555556,
              "#d8576b"
             ],
             [
              0.6666666666666666,
              "#ed7953"
             ],
             [
              0.7777777777777778,
              "#fb9f3a"
             ],
             [
              0.8888888888888888,
              "#fdca26"
             ],
             [
              1,
              "#f0f921"
             ]
            ],
            "type": "histogram2dcontour"
           }
          ],
          "mesh3d": [
           {
            "colorbar": {
             "outlinewidth": 0,
             "ticks": ""
            },
            "type": "mesh3d"
           }
          ],
          "parcoords": [
           {
            "line": {
             "colorbar": {
              "outlinewidth": 0,
              "ticks": ""
             }
            },
            "type": "parcoords"
           }
          ],
          "pie": [
           {
            "automargin": true,
            "type": "pie"
           }
          ],
          "scatter": [
           {
            "fillpattern": {
             "fillmode": "overlay",
             "size": 10,
             "solidity": 0.2
            },
            "type": "scatter"
           }
          ],
          "scatter3d": [
           {
            "line": {
             "colorbar": {
              "outlinewidth": 0,
              "ticks": ""
             }
            },
            "marker": {
             "colorbar": {
              "outlinewidth": 0,
              "ticks": ""
             }
            },
            "type": "scatter3d"
           }
          ],
          "scattercarpet": [
           {
            "marker": {
             "colorbar": {
              "outlinewidth": 0,
              "ticks": ""
             }
            },
            "type": "scattercarpet"
           }
          ],
          "scattergeo": [
           {
            "marker": {
             "colorbar": {
              "outlinewidth": 0,
              "ticks": ""
             }
            },
            "type": "scattergeo"
           }
          ],
          "scattergl": [
           {
            "marker": {
             "colorbar": {
              "outlinewidth": 0,
              "ticks": ""
             }
            },
            "type": "scattergl"
           }
          ],
          "scattermap": [
           {
            "marker": {
             "colorbar": {
              "outlinewidth": 0,
              "ticks": ""
             }
            },
            "type": "scattermap"
           }
          ],
          "scattermapbox": [
           {
            "marker": {
             "colorbar": {
              "outlinewidth": 0,
              "ticks": ""
             }
            },
            "type": "scattermapbox"
           }
          ],
          "scatterpolar": [
           {
            "marker": {
             "colorbar": {
              "outlinewidth": 0,
              "ticks": ""
             }
            },
            "type": "scatterpolar"
           }
          ],
          "scatterpolargl": [
           {
            "marker": {
             "colorbar": {
              "outlinewidth": 0,
              "ticks": ""
             }
            },
            "type": "scatterpolargl"
           }
          ],
          "scatterternary": [
           {
            "marker": {
             "colorbar": {
              "outlinewidth": 0,
              "ticks": ""
             }
            },
            "type": "scatterternary"
           }
          ],
          "surface": [
           {
            "colorbar": {
             "outlinewidth": 0,
             "ticks": ""
            },
            "colorscale": [
             [
              0,
              "#0d0887"
             ],
             [
              0.1111111111111111,
              "#46039f"
             ],
             [
              0.2222222222222222,
              "#7201a8"
             ],
             [
              0.3333333333333333,
              "#9c179e"
             ],
             [
              0.4444444444444444,
              "#bd3786"
             ],
             [
              0.5555555555555556,
              "#d8576b"
             ],
             [
              0.6666666666666666,
              "#ed7953"
             ],
             [
              0.7777777777777778,
              "#fb9f3a"
             ],
             [
              0.8888888888888888,
              "#fdca26"
             ],
             [
              1,
              "#f0f921"
             ]
            ],
            "type": "surface"
           }
          ],
          "table": [
           {
            "cells": {
             "fill": {
              "color": "#EBF0F8"
             },
             "line": {
              "color": "white"
             }
            },
            "header": {
             "fill": {
              "color": "#C8D4E3"
             },
             "line": {
              "color": "white"
             }
            },
            "type": "table"
           }
          ]
         },
         "layout": {
          "annotationdefaults": {
           "arrowcolor": "#2a3f5f",
           "arrowhead": 0,
           "arrowwidth": 1
          },
          "autotypenumbers": "strict",
          "coloraxis": {
           "colorbar": {
            "outlinewidth": 0,
            "ticks": ""
           }
          },
          "colorscale": {
           "diverging": [
            [
             0,
             "#8e0152"
            ],
            [
             0.1,
             "#c51b7d"
            ],
            [
             0.2,
             "#de77ae"
            ],
            [
             0.3,
             "#f1b6da"
            ],
            [
             0.4,
             "#fde0ef"
            ],
            [
             0.5,
             "#f7f7f7"
            ],
            [
             0.6,
             "#e6f5d0"
            ],
            [
             0.7,
             "#b8e186"
            ],
            [
             0.8,
             "#7fbc41"
            ],
            [
             0.9,
             "#4d9221"
            ],
            [
             1,
             "#276419"
            ]
           ],
           "sequential": [
            [
             0,
             "#0d0887"
            ],
            [
             0.1111111111111111,
             "#46039f"
            ],
            [
             0.2222222222222222,
             "#7201a8"
            ],
            [
             0.3333333333333333,
             "#9c179e"
            ],
            [
             0.4444444444444444,
             "#bd3786"
            ],
            [
             0.5555555555555556,
             "#d8576b"
            ],
            [
             0.6666666666666666,
             "#ed7953"
            ],
            [
             0.7777777777777778,
             "#fb9f3a"
            ],
            [
             0.8888888888888888,
             "#fdca26"
            ],
            [
             1,
             "#f0f921"
            ]
           ],
           "sequentialminus": [
            [
             0,
             "#0d0887"
            ],
            [
             0.1111111111111111,
             "#46039f"
            ],
            [
             0.2222222222222222,
             "#7201a8"
            ],
            [
             0.3333333333333333,
             "#9c179e"
            ],
            [
             0.4444444444444444,
             "#bd3786"
            ],
            [
             0.5555555555555556,
             "#d8576b"
            ],
            [
             0.6666666666666666,
             "#ed7953"
            ],
            [
             0.7777777777777778,
             "#fb9f3a"
            ],
            [
             0.8888888888888888,
             "#fdca26"
            ],
            [
             1,
             "#f0f921"
            ]
           ]
          },
          "colorway": [
           "#636efa",
           "#EF553B",
           "#00cc96",
           "#ab63fa",
           "#FFA15A",
           "#19d3f3",
           "#FF6692",
           "#B6E880",
           "#FF97FF",
           "#FECB52"
          ],
          "font": {
           "color": "#2a3f5f"
          },
          "geo": {
           "bgcolor": "white",
           "lakecolor": "white",
           "landcolor": "#E5ECF6",
           "showlakes": true,
           "showland": true,
           "subunitcolor": "white"
          },
          "hoverlabel": {
           "align": "left"
          },
          "hovermode": "closest",
          "mapbox": {
           "style": "light"
          },
          "paper_bgcolor": "white",
          "plot_bgcolor": "#E5ECF6",
          "polar": {
           "angularaxis": {
            "gridcolor": "white",
            "linecolor": "white",
            "ticks": ""
           },
           "bgcolor": "#E5ECF6",
           "radialaxis": {
            "gridcolor": "white",
            "linecolor": "white",
            "ticks": ""
           }
          },
          "scene": {
           "xaxis": {
            "backgroundcolor": "#E5ECF6",
            "gridcolor": "white",
            "gridwidth": 2,
            "linecolor": "white",
            "showbackground": true,
            "ticks": "",
            "zerolinecolor": "white"
           },
           "yaxis": {
            "backgroundcolor": "#E5ECF6",
            "gridcolor": "white",
            "gridwidth": 2,
            "linecolor": "white",
            "showbackground": true,
            "ticks": "",
            "zerolinecolor": "white"
           },
           "zaxis": {
            "backgroundcolor": "#E5ECF6",
            "gridcolor": "white",
            "gridwidth": 2,
            "linecolor": "white",
            "showbackground": true,
            "ticks": "",
            "zerolinecolor": "white"
           }
          },
          "shapedefaults": {
           "line": {
            "color": "#2a3f5f"
           }
          },
          "ternary": {
           "aaxis": {
            "gridcolor": "white",
            "linecolor": "white",
            "ticks": ""
           },
           "baxis": {
            "gridcolor": "white",
            "linecolor": "white",
            "ticks": ""
           },
           "bgcolor": "#E5ECF6",
           "caxis": {
            "gridcolor": "white",
            "linecolor": "white",
            "ticks": ""
           }
          },
          "title": {
           "x": 0.05
          },
          "xaxis": {
           "automargin": true,
           "gridcolor": "white",
           "linecolor": "white",
           "ticks": "",
           "title": {
            "standoff": 15
           },
           "zerolinecolor": "white",
           "zerolinewidth": 2
          },
          "yaxis": {
           "automargin": true,
           "gridcolor": "white",
           "linecolor": "white",
           "ticks": "",
           "title": {
            "standoff": 15
           },
           "zerolinecolor": "white",
           "zerolinewidth": 2
          }
         }
        },
        "title": {
         "text": "Superficie de la Función de Pérdida"
        },
        "width": 800
       }
      }
     },
     "metadata": {},
     "output_type": "display_data"
    }
   ],
   "source": [
    "# Visualización 3D con plotly  (graficas asistidas por IA :p)\n",
    "import plotly.graph_objects as go\n",
    "\n",
    "# Encontrar el mínimo global\n",
    "min_idx = np.unravel_index(np.argmin(loss_surface), loss_surface.shape)\n",
    "min_theta0 = theta0_mesh[min_idx]\n",
    "min_theta1 = theta1_mesh[min_idx]\n",
    "min_loss = loss_surface[min_idx]\n",
    "\n",
    "# Crear la superficie 3D\n",
    "fig = go.Figure(data=[\n",
    "    go.Surface(\n",
    "        x=theta0_mesh,\n",
    "        y=theta1_mesh, \n",
    "        z=loss_surface,\n",
    "        colorscale='Blues',\n",
    "        opacity=0.6,\n",
    "        name='Función de pérdida'\n",
    "    ),\n",
    "\n",
    "    go.Scatter3d(\n",
    "        x=[min_theta0],\n",
    "        y=[min_theta1],\n",
    "        z=[min_loss],\n",
    "        mode='markers',\n",
    "        marker=dict(size=3, color='red'),\n",
    "        name='Mínimo global'\n",
    "    )\n",
    "])\n",
    "\n",
    "# Configurar el layout\n",
    "fig.update_layout(\n",
    "    title=f'Superficie de la Función de Pérdida',\n",
    "    scene=dict(\n",
    "        xaxis_title='θ0',\n",
    "        yaxis_title='θ1', \n",
    "        zaxis_title='Loss',\n",
    "        camera=dict(eye=dict(x=1.5, y=1.5, z=1.5))\n",
    "    ),\n",
    "    width=800,\n",
    "    height=600\n",
    ")\n",
    "\n",
    "# Mostrar la gráfica\n",
    "fig.show()\n"
   ]
  },
  {
   "cell_type": "markdown",
   "metadata": {
    "id": "bAOYPvHXYI0T"
   },
   "source": [
    "\n",
    "5. Encontrar la expresión teórica para la función de coste en el caso 1D y 2D."
   ]
  },
  {
   "cell_type": "markdown",
   "metadata": {},
   "source": [
    "asq2we"
   ]
  },
  {
   "cell_type": "markdown",
   "metadata": {
    "id": "vdv89BhSENWr"
   },
   "source": [
    "# Gradiente Descendente\n",
    "\n",
    "\n",
    "Para determinar el mínimo,  a través del gradiente descendente puede ser aplicada el siguiente algoritmo:\n",
    "\n",
    "- Proponer un número aleatorios inicial $\\omega_i$\n",
    "- Para descender al mínimo de la función, encontremos un  valor para el cual\n",
    "el deriva de la función descenciende, asi:\n",
    "\\begin{equation}\n",
    "\\omega_{i+1} = \\omega_{i} - \\alpha \\frac{\\mathrm{d}f(\\omega_i)}{\\mathrm{d}\\omega}\n",
    "\\end{equation}\n",
    "\n",
    "donde, $\\alpha$ es conocido como la tasa de aprendizaje del algoritmo.\n",
    "\n",
    "- Evaluar $f(\\omega_{i+1})$\n",
    "\n",
    "- Iterar hasta encontrar el mínimo de la función\n",
    "\n",
    "\n",
    "6. Construya un algoritmo en el que emplee el gradiente descente para determinar el minimo de una función, determine el mínimo con una error epsilon de  1E-4, pruebe su algoritmo para $f(x)= (x-4)^2$ y al menos 3 valores de $\\alpha$\n",
    "\n",
    "\n",
    "\n"
   ]
  },
  {
   "cell_type": "code",
   "execution_count": 95,
   "metadata": {},
   "outputs": [
    {
     "data": {
      "image/png": "[encoded data removed]",
      "text/plain": [
       "<Figure size 1500x500 with 3 Axes>"
      ]
     },
     "metadata": {},
     "output_type": "display_data"
    }
   ],
   "source": [
    "\n",
    "import numpy as np\n",
    "import matplotlib.pyplot as plt\n",
    "\n",
    "def f(x):\n",
    "    \"\"\"Función objetivo: f(x) = (x-4)**2\"\"\"\n",
    "    return (x - 4)**2\n",
    "\n",
    "def df_dx(x):\n",
    "    \"\"\"Derivada analítica: f'(x) = 2(x-4)\"\"\"\n",
    "    return 2 * (x - 4)\n",
    "\n",
    "def gradient_descent(alpha, epsilon=1e-4, max_iter=1000):\n",
    "    \"\"\"\n",
    "    Algoritmo de descenso de gradiente\n",
    "    \"\"\"\n",
    "    # Punto inicial aleatorio entre -10, 10\n",
    "    x = np.random.random() * 20 - 10\n",
    "    \n",
    "    # Historial para visualización\n",
    "    x_history = [x]\n",
    "    f_history = [f(x)]\n",
    "    \n",
    "    for i in range(max_iter):\n",
    "        # Calcular gradiente (derivada)\n",
    "        gradient = df_dx(x)\n",
    "        \n",
    "        # Actualizar posición\n",
    "        x_new = x - alpha * gradient\n",
    "        \n",
    "        # Verificar convergencia\n",
    "        if abs(x_new - x) < epsilon:\n",
    "            break\n",
    "            \n",
    "        x = x_new\n",
    "        x_history.append(x)\n",
    "        f_history.append(f(x))\n",
    "    \n",
    "    return x, f(x), x_history, f_history\n",
    "\n",
    "# Probar con 3 valores de alpha\n",
    "alphas = [0.1, 0.5, 0.7]\n",
    "results = {}\n",
    "\n",
    "plt.figure(figsize=(15, 5))\n",
    "\n",
    "for i, alpha in enumerate(alphas):\n",
    "    x_min, f_min, x_hist, f_hist = gradient_descent(alpha)\n",
    "    results[alpha] = {'x_min': x_min, 'f_min': f_min, 'x_hist': x_hist, 'f_hist': f_hist}\n",
    "    \n",
    "    # Gráfica de convergencia\n",
    "    plt.subplot(1, 3, i+1)\n",
    "    plt.plot(x_hist, f_hist, 'bo-', markersize=4)\n",
    "    plt.plot(x_hist[0], f_hist[0], 'go', markersize=8, label='Inicio')\n",
    "    plt.plot(x_hist[-1], f_hist[-1], 'ro', markersize=8, label='Final')\n",
    "    plt.xlabel('x')\n",
    "    plt.ylabel('f(x)')\n",
    "    plt.title(f'α = {alpha}')\n",
    "    plt.legend()\n",
    "    plt.grid(True)\n",
    "\n",
    "plt.tight_layout()\n",
    "plt.show()\n"
   ]
  },
  {
   "cell_type": "markdown",
   "metadata": {},
   "source": [
    "7. Para responder este punto puede consultar la siguiente  página y seguir el video[Ejemplo guia: dotcsv](https://www.youtube.com/watch?v=-_A_AAxqzCg):\n",
    "\n",
    "Encontrar el mínimo de la siguiente función a través del metodo del gradiente descendente https://en.wikipedia.org/wiki/Gradient_descent:\n",
    "\n",
    "\n",
    "\\begin{equation}\n",
    "F(x,y) = \\sin \\left( \\frac{1}{2}x^2-\\frac{1}{4}y^2 +3\\right) \\cos (2x+1-e^y)\n",
    "\\end{equation}\n",
    "\n",
    "  -  Para ello realice una gráfica de la función en 3D, y un mapa de contorno de la función.\n",
    "  - Determine el valor mínimo de la función con el metodo del gradiente descendente.\n"
   ]
  },
  {
   "cell_type": "code",
   "execution_count": 117,
   "metadata": {},
   "outputs": [
    {
     "data": {
      "application/vnd.plotly.v1+json": {
       "config": {
        "plotlyServerURL": "https://plot.ly"
       },
       "data": [
        {
         "colorscale": [
          [
           0,
           "rgb(247,251,255)"
          ],
          [
           0.125,
           "rgb(222,235,247)"
          ],
          [
           0.25,
           "rgb(198,219,239)"
          ],
          [
           0.375,
           "rgb(158,202,225)"
          ],
          [
           0.5,
           "rgb(107,174,214)"
          ],
          [
           0.625,
           "rgb(66,146,198)"
          ],
          [
           0.75,
           "rgb(33,113,181)"
          ],
          [
           0.875,
           "rgb(8,81,156)"
          ],
          [
           1,
           "rgb(8,48,107)"
          ]
         ],
         "name": "F(x,y)",
         "opacity": 0.8,
         "type": "surface",
         "x": {
          "bdata": "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",
          "dtype": "f8",
          "shape": "50, 50"
         },
         "y": {
          "bdata": "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",
          "dtype": "f8",
          "shape": "50, 50"
         },
         "z": {
          "bdata": "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",
          "dtype": "f8",
          "shape": "50, 50"
         }
        }
       ],
       "layout": {
        "scene": {
         "xaxis": {
          "title": {
           "text": "x"
          }
         },
         "yaxis": {
          "title": {
           "text": "y"
          }
         },
         "zaxis": {
          "title": {
           "text": "F(x,y)"
          }
         }
        },
        "template": {
         "data": {
          "bar": [
           {
            "error_x": {
             "color": "#2a3f5f"
            },
            "error_y": {
             "color": "#2a3f5f"
            },
            "marker": {
             "line": {
              "color": "#E5ECF6",
              "width": 0.5
             },
             "pattern": {
              "fillmode": "overlay",
              "size": 10,
              "solidity": 0.2
             }
            },
            "type": "bar"
           }
          ],
          "barpolar": [
           {
            "marker": {
             "line": {
              "color": "#E5ECF6",
              "width": 0.5
             },
             "pattern": {
              "fillmode": "overlay",
              "size": 10,
              "solidity": 0.2
             }
            },
            "type": "barpolar"
           }
          ],
          "carpet": [
           {
            "aaxis": {
             "endlinecolor": "#2a3f5f",
             "gridcolor": "white",
             "linecolor": "white",
             "minorgridcolor": "white",
             "startlinecolor": "#2a3f5f"
            },
            "baxis": {
             "endlinecolor": "#2a3f5f",
             "gridcolor": "white",
             "linecolor": "white",
             "minorgridcolor": "white",
             "startlinecolor": "#2a3f5f"
            },
            "type": "carpet"
           }
          ],
          "choropleth": [
           {
            "colorbar": {
             "outlinewidth": 0,
             "ticks": ""
            },
            "type": "choropleth"
           }
          ],
          "contour": [
           {
            "colorbar": {
             "outlinewidth": 0,
             "ticks": ""
            },
            "colorscale": [
             [
              0,
              "#0d0887"
             ],
             [
              0.1111111111111111,
              "#46039f"
             ],
             [
              0.2222222222222222,
              "#7201a8"
             ],
             [
              0.3333333333333333,
              "#9c179e"
             ],
             [
              0.4444444444444444,
              "#bd3786"
             ],
             [
              0.5555555555555556,
              "#d8576b"
             ],
             [
              0.6666666666666666,
              "#ed7953"
             ],
             [
              0.7777777777777778,
              "#fb9f3a"
             ],
             [
              0.8888888888888888,
              "#fdca26"
             ],
             [
              1,
              "#f0f921"
             ]
            ],
            "type": "contour"
           }
          ],
          "contourcarpet": [
           {
            "colorbar": {
             "outlinewidth": 0,
             "ticks": ""
            },
            "type": "contourcarpet"
           }
          ],
          "heatmap": [
           {
            "colorbar": {
             "outlinewidth": 0,
             "ticks": ""
            },
            "colorscale": [
             [
              0,
              "#0d0887"
             ],
             [
              0.1111111111111111,
              "#46039f"
             ],
             [
              0.2222222222222222,
              "#7201a8"
             ],
             [
              0.3333333333333333,
              "#9c179e"
             ],
             [
              0.4444444444444444,
              "#bd3786"
             ],
             [
              0.5555555555555556,
              "#d8576b"
             ],
             [
              0.6666666666666666,
              "#ed7953"
             ],
             [
              0.7777777777777778,
              "#fb9f3a"
             ],
             [
              0.8888888888888888,
              "#fdca26"
             ],
             [
              1,
              "#f0f921"
             ]
            ],
            "type": "heatmap"
           }
          ],
          "histogram": [
           {
            "marker": {
             "pattern": {
              "fillmode": "overlay",
              "size": 10,
              "solidity": 0.2
             }
            },
            "type": "histogram"
           }
          ],
          "histogram2d": [
           {
            "colorbar": {
             "outlinewidth": 0,
             "ticks": ""
            },
            "colorscale": [
             [
              0,
              "#0d0887"
             ],
             [
              0.1111111111111111,
              "#46039f"
             ],
             [
              0.2222222222222222,
              "#7201a8"
             ],
             [
              0.3333333333333333,
              "#9c179e"
             ],
             [
              0.4444444444444444,
              "#bd3786"
             ],
             [
              0.5555555555555556,
              "#d8576b"
             ],
             [
              0.6666666666666666,
              "#ed7953"
             ],
             [
              0.7777777777777778,
              "#fb9f3a"
             ],
             [
              0.8888888888888888,
              "#fdca26"
             ],
             [
              1,
              "#f0f921"
             ]
            ],
            "type": "histogram2d"
           }
          ],
          "histogram2dcontour": [
           {
            "colorbar": {
             "outlinewidth": 0,
             "ticks": ""
            },
            "colorscale": [
             [
              0,
              "#0d0887"
             ],
             [
              0.1111111111111111,
              "#46039f"
             ],
             [
              0.2222222222222222,
              "#7201a8"
             ],
             [
              0.3333333333333333,
              "#9c179e"
             ],
             [
              0.4444444444444444,
              "#bd3786"
             ],
             [
              0.5555555555555556,
              "#d8576b"
             ],
             [
              0.6666666666666666,
              "#ed7953"
             ],
             [
              0.7777777777777778,
              "#fb9f3a"
             ],
             [
              0.8888888888888888,
              "#fdca26"
             ],
             [
              1,
              "#f0f921"
             ]
            ],
            "type": "histogram2dcontour"
           }
          ],
          "mesh3d": [
           {
            "colorbar": {
             "outlinewidth": 0,
             "ticks": ""
            },
            "type": "mesh3d"
           }
          ],
          "parcoords": [
           {
            "line": {
             "colorbar": {
              "outlinewidth": 0,
              "ticks": ""
             }
            },
            "type": "parcoords"
           }
          ],
          "pie": [
           {
            "automargin": true,
            "type": "pie"
           }
          ],
          "scatter": [
           {
            "fillpattern": {
             "fillmode": "overlay",
             "size": 10,
             "solidity": 0.2
            },
            "type": "scatter"
           }
          ],
          "scatter3d": [
           {
            "line": {
             "colorbar": {
              "outlinewidth": 0,
              "ticks": ""
             }
            },
            "marker": {
             "colorbar": {
              "outlinewidth": 0,
              "ticks": ""
             }
            },
            "type": "scatter3d"
           }
          ],
          "scattercarpet": [
           {
            "marker": {
             "colorbar": {
              "outlinewidth": 0,
              "ticks": ""
             }
            },
            "type": "scattercarpet"
           }
          ],
          "scattergeo": [
           {
            "marker": {
             "colorbar": {
              "outlinewidth": 0,
              "ticks": ""
             }
            },
            "type": "scattergeo"
           }
          ],
          "scattergl": [
           {
            "marker": {
             "colorbar": {
              "outlinewidth": 0,
              "ticks": ""
             }
            },
            "type": "scattergl"
           }
          ],
          "scattermap": [
           {
            "marker": {
             "colorbar": {
              "outlinewidth": 0,
              "ticks": ""
             }
            },
            "type": "scattermap"
           }
          ],
          "scattermapbox": [
           {
            "marker": {
             "colorbar": {
              "outlinewidth": 0,
              "ticks": ""
             }
            },
            "type": "scattermapbox"
           }
          ],
          "scatterpolar": [
           {
            "marker": {
             "colorbar": {
              "outlinewidth": 0,
              "ticks": ""
             }
            },
            "type": "scatterpolar"
           }
          ],
          "scatterpolargl": [
           {
            "marker": {
             "colorbar": {
              "outlinewidth": 0,
              "ticks": ""
             }
            },
            "type": "scatterpolargl"
           }
          ],
          "scatterternary": [
           {
            "marker": {
             "colorbar": {
              "outlinewidth": 0,
              "ticks": ""
             }
            },
            "type": "scatterternary"
           }
          ],
          "surface": [
           {
            "colorbar": {
             "outlinewidth": 0,
             "ticks": ""
            },
            "colorscale": [
             [
              0,
              "#0d0887"
             ],
             [
              0.1111111111111111,
              "#46039f"
             ],
             [
              0.2222222222222222,
              "#7201a8"
             ],
             [
              0.3333333333333333,
              "#9c179e"
             ],
             [
              0.4444444444444444,
              "#bd3786"
             ],
             [
              0.5555555555555556,
              "#d8576b"
             ],
             [
              0.6666666666666666,
              "#ed7953"
             ],
             [
              0.7777777777777778,
              "#fb9f3a"
             ],
             [
              0.8888888888888888,
              "#fdca26"
             ],
             [
              1,
              "#f0f921"
             ]
            ],
            "type": "surface"
           }
          ],
          "table": [
           {
            "cells": {
             "fill": {
              "color": "#EBF0F8"
             },
             "line": {
              "color": "white"
             }
            },
            "header": {
             "fill": {
              "color": "#C8D4E3"
             },
             "line": {
              "color": "white"
             }
            },
            "type": "table"
           }
          ]
         },
         "layout": {
          "annotationdefaults": {
           "arrowcolor": "#2a3f5f",
           "arrowhead": 0,
           "arrowwidth": 1
          },
          "autotypenumbers": "strict",
          "coloraxis": {
           "colorbar": {
            "outlinewidth": 0,
            "ticks": ""
           }
          },
          "colorscale": {
           "diverging": [
            [
             0,
             "#8e0152"
            ],
            [
             0.1,
             "#c51b7d"
            ],
            [
             0.2,
             "#de77ae"
            ],
            [
             0.3,
             "#f1b6da"
            ],
            [
             0.4,
             "#fde0ef"
            ],
            [
             0.5,
             "#f7f7f7"
            ],
            [
             0.6,
             "#e6f5d0"
            ],
            [
             0.7,
             "#b8e186"
            ],
            [
             0.8,
             "#7fbc41"
            ],
            [
             0.9,
             "#4d9221"
            ],
            [
             1,
             "#276419"
            ]
           ],
           "sequential": [
            [
             0,
             "#0d0887"
            ],
            [
             0.1111111111111111,
             "#46039f"
            ],
            [
             0.2222222222222222,
             "#7201a8"
            ],
            [
             0.3333333333333333,
             "#9c179e"
            ],
            [
             0.4444444444444444,
             "#bd3786"
            ],
            [
             0.5555555555555556,
             "#d8576b"
            ],
            [
             0.6666666666666666,
             "#ed7953"
            ],
            [
             0.7777777777777778,
             "#fb9f3a"
            ],
            [
             0.8888888888888888,
             "#fdca26"
            ],
            [
             1,
             "#f0f921"
            ]
           ],
           "sequentialminus": [
            [
             0,
             "#0d0887"
            ],
            [
             0.1111111111111111,
             "#46039f"
            ],
            [
             0.2222222222222222,
             "#7201a8"
            ],
            [
             0.3333333333333333,
             "#9c179e"
            ],
            [
             0.4444444444444444,
             "#bd3786"
            ],
            [
             0.5555555555555556,
             "#d8576b"
            ],
            [
             0.6666666666666666,
             "#ed7953"
            ],
            [
             0.7777777777777778,
             "#fb9f3a"
            ],
            [
             0.8888888888888888,
             "#fdca26"
            ],
            [
             1,
             "#f0f921"
            ]
           ]
          },
          "colorway": [
           "#636efa",
           "#EF553B",
           "#00cc96",
           "#ab63fa",
           "#FFA15A",
           "#19d3f3",
           "#FF6692",
           "#B6E880",
           "#FF97FF",
           "#FECB52"
          ],
          "font": {
           "color": "#2a3f5f"
          },
          "geo": {
           "bgcolor": "white",
           "lakecolor": "white",
           "landcolor": "#E5ECF6",
           "showlakes": true,
           "showland": true,
           "subunitcolor": "white"
          },
          "hoverlabel": {
           "align": "left"
          },
          "hovermode": "closest",
          "mapbox": {
           "style": "light"
          },
          "paper_bgcolor": "white",
          "plot_bgcolor": "#E5ECF6",
          "polar": {
           "angularaxis": {
            "gridcolor": "white",
            "linecolor": "white",
            "ticks": ""
           },
           "bgcolor": "#E5ECF6",
           "radialaxis": {
            "gridcolor": "white",
            "linecolor": "white",
            "ticks": ""
           }
          },
          "scene": {
           "xaxis": {
            "backgroundcolor": "#E5ECF6",
            "gridcolor": "white",
            "gridwidth": 2,
            "linecolor": "white",
            "showbackground": true,
            "ticks": "",
            "zerolinecolor": "white"
           },
           "yaxis": {
            "backgroundcolor": "#E5ECF6",
            "gridcolor": "white",
            "gridwidth": 2,
            "linecolor": "white",
            "showbackground": true,
            "ticks": "",
            "zerolinecolor": "white"
           },
           "zaxis": {
            "backgroundcolor": "#E5ECF6",
            "gridcolor": "white",
            "gridwidth": 2,
            "linecolor": "white",
            "showbackground": true,
            "ticks": "",
            "zerolinecolor": "white"
           }
          },
          "shapedefaults": {
           "line": {
            "color": "#2a3f5f"
           }
          },
          "ternary": {
           "aaxis": {
            "gridcolor": "white",
            "linecolor": "white",
            "ticks": ""
           },
           "baxis": {
            "gridcolor": "white",
            "linecolor": "white",
            "ticks": ""
           },
           "bgcolor": "#E5ECF6",
           "caxis": {
            "gridcolor": "white",
            "linecolor": "white",
            "ticks": ""
           }
          },
          "title": {
           "x": 0.05
          },
          "xaxis": {
           "automargin": true,
           "gridcolor": "white",
           "linecolor": "white",
           "ticks": "",
           "title": {
            "standoff": 15
           },
           "zerolinecolor": "white",
           "zerolinewidth": 2
          },
          "yaxis": {
           "automargin": true,
           "gridcolor": "white",
           "linecolor": "white",
           "ticks": "",
           "title": {
            "standoff": 15
           },
           "zerolinecolor": "white",
           "zerolinewidth": 2
          }
         }
        },
        "title": {
         "text": "Superficie 3D de F(x, y)"
        }
       }
      }
     },
     "metadata": {},
     "output_type": "display_data"
    },
    {
     "data": {
      "application/vnd.plotly.v1+json": {
       "config": {
        "plotlyServerURL": "https://plot.ly"
       },
       "data": [
        {
         "colorscale": [
          [
           0,
           "#440154"
          ],
          [
           0.1111111111111111,
           "#482878"
          ],
          [
           0.2222222222222222,
           "#3e4989"
          ],
          [
           0.3333333333333333,
           "#31688e"
          ],
          [
           0.4444444444444444,
           "#26828e"
          ],
          [
           0.5555555555555556,
           "#1f9e89"
          ],
          [
           0.6666666666666666,
           "#35b779"
          ],
          [
           0.7777777777777778,
           "#6ece58"
          ],
          [
           0.8888888888888888,
           "#b5de2b"
          ],
          [
           1,
           "#fde725"
          ]
         ],
         "contours": {
          "showlabels": true
         },
         "type": "contour",
         "x": {
          "bdata": "AAAAAAAACMDByyl4OQUHwIOXU/ByCgbARGN9aKwPBcAFL6fg5RQEwMb60FgfGgPAiMb60FgfAsBJkiRJkiQBwApeTsHLKQDAmFPwcgpe/r8a60NjfWj8v52Cl1Pwcvq/IBrrQ2N9+L+isT401of2vyVJkiRJkvS/p+DlFLyc8r8qeDkFL6fwv1gfGutDY+2/YE7Byyl46b9kfWisD43lv2isD431oeG/4LZt27Zt27/oFLycgpfTv+DlFLycgse/AIjG+tBYr7/Ah8b60FivP+DlFLycgsc/6BS8nIKX0z/Ytm3btm3bP2isD431oeE/ZH1orA+N5T9cTsHLKXjpP1gfGutDY+0/KHg5BS+n8D+o4OUUvJzyPyRJkiRJkvQ/oLE+NNaH9j8gGutDY334P5yCl1Pwcvo/GOtDY31o/D+YU/ByCl7+PwpeTsHLKQBASJIkSZIkAUCIxvrQWB8CQMb60FgfGgNABC+n4OUUBEBEY31orA8FQIKXU/ByCgZAwMspeDkFB0AAAAAAAAAIQA==",
          "dtype": "f8"
         },
         "y": {
          "bdata": "AAAAAAAACMDByyl4OQUHwIOXU/ByCgbARGN9aKwPBcAFL6fg5RQEwMb60FgfGgPAiMb60FgfAsBJkiRJkiQBwApeTsHLKQDAmFPwcgpe/r8a60NjfWj8v52Cl1Pwcvq/IBrrQ2N9+L+isT401of2vyVJkiRJkvS/p+DlFLyc8r8qeDkFL6fwv1gfGutDY+2/YE7Byyl46b9kfWisD43lv2isD431oeG/4LZt27Zt27/oFLycgpfTv+DlFLycgse/AIjG+tBYr7/Ah8b60FivP+DlFLycgsc/6BS8nIKX0z/Ytm3btm3bP2isD431oeE/ZH1orA+N5T9cTsHLKXjpP1gfGutDY+0/KHg5BS+n8D+o4OUUvJzyPyRJkiRJkvQ/oLE+NNaH9j8gGutDY334P5yCl1Pwcvo/GOtDY31o/D+YU/ByCl7+PwpeTsHLKQBASJIkSZIkAUCIxvrQWB8CQMb60FgfGgNABC+n4OUUBEBEY31orA8FQIKXU/ByCgZAwMspeDkFB0AAAAAAAAAIQA==",
          "dtype": "f8"
         },
         "z": {
          "bdata": "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",
          "dtype": "f8",
          "shape": "50, 50"
         }
        }
       ],
       "layout": {
        "height": 500,
        "template": {
         "data": {
          "bar": [
           {
            "error_x": {
             "color": "#2a3f5f"
            },
            "error_y": {
             "color": "#2a3f5f"
            },
            "marker": {
             "line": {
              "color": "#E5ECF6",
              "width": 0.5
             },
             "pattern": {
              "fillmode": "overlay",
              "size": 10,
              "solidity": 0.2
             }
            },
            "type": "bar"
           }
          ],
          "barpolar": [
           {
            "marker": {
             "line": {
              "color": "#E5ECF6",
              "width": 0.5
             },
             "pattern": {
              "fillmode": "overlay",
              "size": 10,
              "solidity": 0.2
             }
            },
            "type": "barpolar"
           }
          ],
          "carpet": [
           {
            "aaxis": {
             "endlinecolor": "#2a3f5f",
             "gridcolor": "white",
             "linecolor": "white",
             "minorgridcolor": "white",
             "startlinecolor": "#2a3f5f"
            },
            "baxis": {
             "endlinecolor": "#2a3f5f",
             "gridcolor": "white",
             "linecolor": "white",
             "minorgridcolor": "white",
             "startlinecolor": "#2a3f5f"
            },
            "type": "carpet"
           }
          ],
          "choropleth": [
           {
            "colorbar": {
             "outlinewidth": 0,
             "ticks": ""
            },
            "type": "choropleth"
           }
          ],
          "contour": [
           {
            "colorbar": {
             "outlinewidth": 0,
             "ticks": ""
            },
            "colorscale": [
             [
              0,
              "#0d0887"
             ],
             [
              0.1111111111111111,
              "#46039f"
             ],
             [
              0.2222222222222222,
              "#7201a8"
             ],
             [
              0.3333333333333333,
              "#9c179e"
             ],
             [
              0.4444444444444444,
              "#bd3786"
             ],
             [
              0.5555555555555556,
              "#d8576b"
             ],
             [
              0.6666666666666666,
              "#ed7953"
             ],
             [
              0.7777777777777778,
              "#fb9f3a"
             ],
             [
              0.8888888888888888,
              "#fdca26"
             ],
             [
              1,
              "#f0f921"
             ]
            ],
            "type": "contour"
           }
          ],
          "contourcarpet": [
           {
            "colorbar": {
             "outlinewidth": 0,
             "ticks": ""
            },
            "type": "contourcarpet"
           }
          ],
          "heatmap": [
           {
            "colorbar": {
             "outlinewidth": 0,
             "ticks": ""
            },
            "colorscale": [
             [
              0,
              "#0d0887"
             ],
             [
              0.1111111111111111,
              "#46039f"
             ],
             [
              0.2222222222222222,
              "#7201a8"
             ],
             [
              0.3333333333333333,
              "#9c179e"
             ],
             [
              0.4444444444444444,
              "#bd3786"
             ],
             [
              0.5555555555555556,
              "#d8576b"
             ],
             [
              0.6666666666666666,
              "#ed7953"
             ],
             [
              0.7777777777777778,
              "#fb9f3a"
             ],
             [
              0.8888888888888888,
              "#fdca26"
             ],
             [
              1,
              "#f0f921"
             ]
            ],
            "type": "heatmap"
           }
          ],
          "histogram": [
           {
            "marker": {
             "pattern": {
              "fillmode": "overlay",
              "size": 10,
              "solidity": 0.2
             }
            },
            "type": "histogram"
           }
          ],
          "histogram2d": [
           {
            "colorbar": {
             "outlinewidth": 0,
             "ticks": ""
            },
            "colorscale": [
             [
              0,
              "#0d0887"
             ],
             [
              0.1111111111111111,
              "#46039f"
             ],
             [
              0.2222222222222222,
              "#7201a8"
             ],
             [
              0.3333333333333333,
              "#9c179e"
             ],
             [
              0.4444444444444444,
              "#bd3786"
             ],
             [
              0.5555555555555556,
              "#d8576b"
             ],
             [
              0.6666666666666666,
              "#ed7953"
             ],
             [
              0.7777777777777778,
              "#fb9f3a"
             ],
             [
              0.8888888888888888,
              "#fdca26"
             ],
             [
              1,
              "#f0f921"
             ]
            ],
            "type": "histogram2d"
           }
          ],
          "histogram2dcontour": [
           {
            "colorbar": {
             "outlinewidth": 0,
             "ticks": ""
            },
            "colorscale": [
             [
              0,
              "#0d0887"
             ],
             [
              0.1111111111111111,
              "#46039f"
             ],
             [
              0.2222222222222222,
              "#7201a8"
             ],
             [
              0.3333333333333333,
              "#9c179e"
             ],
             [
              0.4444444444444444,
              "#bd3786"
             ],
             [
              0.5555555555555556,
              "#d8576b"
             ],
             [
              0.6666666666666666,
              "#ed7953"
             ],
             [
              0.7777777777777778,
              "#fb9f3a"
             ],
             [
              0.8888888888888888,
              "#fdca26"
             ],
             [
              1,
              "#f0f921"
             ]
            ],
            "type": "histogram2dcontour"
           }
          ],
          "mesh3d": [
           {
            "colorbar": {
             "outlinewidth": 0,
             "ticks": ""
            },
            "type": "mesh3d"
           }
          ],
          "parcoords": [
           {
            "line": {
             "colorbar": {
              "outlinewidth": 0,
              "ticks": ""
             }
            },
            "type": "parcoords"
           }
          ],
          "pie": [
           {
            "automargin": true,
            "type": "pie"
           }
          ],
          "scatter": [
           {
            "fillpattern": {
             "fillmode": "overlay",
             "size": 10,
             "solidity": 0.2
            },
            "type": "scatter"
           }
          ],
          "scatter3d": [
           {
            "line": {
             "colorbar": {
              "outlinewidth": 0,
              "ticks": ""
             }
            },
            "marker": {
             "colorbar": {
              "outlinewidth": 0,
              "ticks": ""
             }
            },
            "type": "scatter3d"
           }
          ],
          "scattercarpet": [
           {
            "marker": {
             "colorbar": {
              "outlinewidth": 0,
              "ticks": ""
             }
            },
            "type": "scattercarpet"
           }
          ],
          "scattergeo": [
           {
            "marker": {
             "colorbar": {
              "outlinewidth": 0,
              "ticks": ""
             }
            },
            "type": "scattergeo"
           }
          ],
          "scattergl": [
           {
            "marker": {
             "colorbar": {
              "outlinewidth": 0,
              "ticks": ""
             }
            },
            "type": "scattergl"
           }
          ],
          "scattermap": [
           {
            "marker": {
             "colorbar": {
              "outlinewidth": 0,
              "ticks": ""
             }
            },
            "type": "scattermap"
           }
          ],
          "scattermapbox": [
           {
            "marker": {
             "colorbar": {
              "outlinewidth": 0,
              "ticks": ""
             }
            },
            "type": "scattermapbox"
           }
          ],
          "scatterpolar": [
           {
            "marker": {
             "colorbar": {
              "outlinewidth": 0,
              "ticks": ""
             }
            },
            "type": "scatterpolar"
           }
          ],
          "scatterpolargl": [
           {
            "marker": {
             "colorbar": {
              "outlinewidth": 0,
              "ticks": ""
             }
            },
            "type": "scatterpolargl"
           }
          ],
          "scatterternary": [
           {
            "marker": {
             "colorbar": {
              "outlinewidth": 0,
              "ticks": ""
             }
            },
            "type": "scatterternary"
           }
          ],
          "surface": [
           {
            "colorbar": {
             "outlinewidth": 0,
             "ticks": ""
            },
            "colorscale": [
             [
              0,
              "#0d0887"
             ],
             [
              0.1111111111111111,
              "#46039f"
             ],
             [
              0.2222222222222222,
              "#7201a8"
             ],
             [
              0.3333333333333333,
              "#9c179e"
             ],
             [
              0.4444444444444444,
              "#bd3786"
             ],
             [
              0.5555555555555556,
              "#d8576b"
             ],
             [
              0.6666666666666666,
              "#ed7953"
             ],
             [
              0.7777777777777778,
              "#fb9f3a"
             ],
             [
              0.8888888888888888,
              "#fdca26"
             ],
             [
              1,
              "#f0f921"
             ]
            ],
            "type": "surface"
           }
          ],
          "table": [
           {
            "cells": {
             "fill": {
              "color": "#EBF0F8"
             },
             "line": {
              "color": "white"
             }
            },
            "header": {
             "fill": {
              "color": "#C8D4E3"
             },
             "line": {
              "color": "white"
             }
            },
            "type": "table"
           }
          ]
         },
         "layout": {
          "annotationdefaults": {
           "arrowcolor": "#2a3f5f",
           "arrowhead": 0,
           "arrowwidth": 1
          },
          "autotypenumbers": "strict",
          "coloraxis": {
           "colorbar": {
            "outlinewidth": 0,
            "ticks": ""
           }
          },
          "colorscale": {
           "diverging": [
            [
             0,
             "#8e0152"
            ],
            [
             0.1,
             "#c51b7d"
            ],
            [
             0.2,
             "#de77ae"
            ],
            [
             0.3,
             "#f1b6da"
            ],
            [
             0.4,
             "#fde0ef"
            ],
            [
             0.5,
             "#f7f7f7"
            ],
            [
             0.6,
             "#e6f5d0"
            ],
            [
             0.7,
             "#b8e186"
            ],
            [
             0.8,
             "#7fbc41"
            ],
            [
             0.9,
             "#4d9221"
            ],
            [
             1,
             "#276419"
            ]
           ],
           "sequential": [
            [
             0,
             "#0d0887"
            ],
            [
             0.1111111111111111,
             "#46039f"
            ],
            [
             0.2222222222222222,
             "#7201a8"
            ],
            [
             0.3333333333333333,
             "#9c179e"
            ],
            [
             0.4444444444444444,
             "#bd3786"
            ],
            [
             0.5555555555555556,
             "#d8576b"
            ],
            [
             0.6666666666666666,
             "#ed7953"
            ],
            [
             0.7777777777777778,
             "#fb9f3a"
            ],
            [
             0.8888888888888888,
             "#fdca26"
            ],
            [
             1,
             "#f0f921"
            ]
           ],
           "sequentialminus": [
            [
             0,
             "#0d0887"
            ],
            [
             0.1111111111111111,
             "#46039f"
            ],
            [
             0.2222222222222222,
             "#7201a8"
            ],
            [
             0.3333333333333333,
             "#9c179e"
            ],
            [
             0.4444444444444444,
             "#bd3786"
            ],
            [
             0.5555555555555556,
             "#d8576b"
            ],
            [
             0.6666666666666666,
             "#ed7953"
            ],
            [
             0.7777777777777778,
             "#fb9f3a"
            ],
            [
             0.8888888888888888,
             "#fdca26"
            ],
            [
             1,
             "#f0f921"
            ]
           ]
          },
          "colorway": [
           "#636efa",
           "#EF553B",
           "#00cc96",
           "#ab63fa",
           "#FFA15A",
           "#19d3f3",
           "#FF6692",
           "#B6E880",
           "#FF97FF",
           "#FECB52"
          ],
          "font": {
           "color": "#2a3f5f"
          },
          "geo": {
           "bgcolor": "white",
           "lakecolor": "white",
           "landcolor": "#E5ECF6",
           "showlakes": true,
           "showland": true,
           "subunitcolor": "white"
          },
          "hoverlabel": {
           "align": "left"
          },
          "hovermode": "closest",
          "mapbox": {
           "style": "light"
          },
          "paper_bgcolor": "white",
          "plot_bgcolor": "#E5ECF6",
          "polar": {
           "angularaxis": {
            "gridcolor": "white",
            "linecolor": "white",
            "ticks": ""
           },
           "bgcolor": "#E5ECF6",
           "radialaxis": {
            "gridcolor": "white",
            "linecolor": "white",
            "ticks": ""
           }
          },
          "scene": {
           "xaxis": {
            "backgroundcolor": "#E5ECF6",
            "gridcolor": "white",
            "gridwidth": 2,
            "linecolor": "white",
            "showbackground": true,
            "ticks": "",
            "zerolinecolor": "white"
           },
           "yaxis": {
            "backgroundcolor": "#E5ECF6",
            "gridcolor": "white",
            "gridwidth": 2,
            "linecolor": "white",
            "showbackground": true,
            "ticks": "",
            "zerolinecolor": "white"
           },
           "zaxis": {
            "backgroundcolor": "#E5ECF6",
            "gridcolor": "white",
            "gridwidth": 2,
            "linecolor": "white",
            "showbackground": true,
            "ticks": "",
            "zerolinecolor": "white"
           }
          },
          "shapedefaults": {
           "line": {
            "color": "#2a3f5f"
           }
          },
          "ternary": {
           "aaxis": {
            "gridcolor": "white",
            "linecolor": "white",
            "ticks": ""
           },
           "baxis": {
            "gridcolor": "white",
            "linecolor": "white",
            "ticks": ""
           },
           "bgcolor": "#E5ECF6",
           "caxis": {
            "gridcolor": "white",
            "linecolor": "white",
            "ticks": ""
           }
          },
          "title": {
           "x": 0.05
          },
          "xaxis": {
           "automargin": true,
           "gridcolor": "white",
           "linecolor": "white",
           "ticks": "",
           "title": {
            "standoff": 15
           },
           "zerolinecolor": "white",
           "zerolinewidth": 2
          },
          "yaxis": {
           "automargin": true,
           "gridcolor": "white",
           "linecolor": "white",
           "ticks": "",
           "title": {
            "standoff": 15
           },
           "zerolinecolor": "white",
           "zerolinewidth": 2
          }
         }
        },
        "title": {
         "text": "Mapa de contorno de F(x,y)"
        },
        "width": 600,
        "xaxis": {
         "title": {
          "text": "x"
         }
        },
        "yaxis": {
         "title": {
          "text": "y"
         }
        }
       }
      }
     },
     "metadata": {},
     "output_type": "display_data"
    }
   ],
   "source": [
    "# Graficas 3d asisticas por IA\n",
    "import numpy as np\n",
    "import plotly.graph_objects as go\n",
    "\n",
    "def F(x, y):\n",
    "    return np.sin(0.5*x**2 - 0.25*y**2 + 3) * np.cos(2*x + 1 - np.exp(y))\n",
    "\n",
    "def dF_dx(x, y):\n",
    "    term1 = np.sin(0.5*x**2 - 0.25*y**2 + 3)\n",
    "    term2 = np.cos(2*x + 1 - np.exp(y))\n",
    "    dterm1_dx = np.cos(0.5*x**2 - 0.25*y**2 + 3) * x\n",
    "    dterm2_dx = -np.sin(2*x + 1 - np.exp(y)) * 2\n",
    "    return dterm1_dx * term2 + term1 * dterm2_dx\n",
    "\n",
    "def dF_dy(x, y):\n",
    "    term1 = np.sin(0.5*x**2 - 0.25*y**2 + 3)\n",
    "    term2 = np.cos(2*x + 1 - np.exp(y))\n",
    "    dterm1_dy = np.cos(0.5*x**2 - 0.25*y**2 + 3) * (-0.5*y)\n",
    "    dterm2_dy = -np.sin(2*x + 1 - np.exp(y)) * (-np.exp(y))\n",
    "    return dterm1_dy * term2 + term1 * dterm2_dy\n",
    "\n",
    "# Crear malla para visualización\n",
    "x_range = np.linspace(-3, 3, 50)\n",
    "y_range = np.linspace(-3, 3, 50)\n",
    "X, Y = np.meshgrid(x_range, y_range)\n",
    "Z = F(X, Y)\n",
    "\n",
    "# Gráfica 3D con mapa de contorno en el piso\n",
    "fig = go.Figure()\n",
    "\n",
    "# Superficie 3D\n",
    "fig.add_trace(go.Surface(x=X, y=Y, z=Z, colorscale='Blues', opacity=0.8, name='F(x,y)'))\n",
    "fig.update_layout(\n",
    "    title='Superficie 3D de F(x, y)',\n",
    "    scene = dict(\n",
    "        xaxis_title='x',\n",
    "        yaxis_title='y',\n",
    "        zaxis_title='F(x,y)'\n",
    "    )\n",
    ")\n",
    "\n",
    "\n",
    "fig.show()\n",
    "\n",
    "# Mapa de contorno separado\n",
    "fig_contour = go.Figure(data=[\n",
    "    go.Contour(x=x_range, y=y_range, z=Z, colorscale='Viridis', contours=dict(showlabels=True))\n",
    "])\n",
    "\n",
    "fig_contour.update_layout(\n",
    "    title='Mapa de contorno de F(x,y)',\n",
    "    xaxis_title='x', yaxis_title='y',\n",
    "    width=600, height=500\n",
    ")\n",
    "\n",
    "fig_contour.show()\n"
   ]
  },
  {
   "cell_type": "code",
   "execution_count": 122,
   "metadata": {},
   "outputs": [
    {
     "name": "stdout",
     "output_type": "stream",
     "text": [
      "Convergencia alcanzada en 865 iteraciones\n"
     ]
    },
    {
     "data": {
      "application/vnd.plotly.v1+json": {
       "config": {
        "plotlyServerURL": "https://plot.ly"
       },
       "data": [
        {
         "colorscale": [
          [
           0,
           "rgb(247,251,255)"
          ],
          [
           0.125,
           "rgb(222,235,247)"
          ],
          [
           0.25,
           "rgb(198,219,239)"
          ],
          [
           0.375,
           "rgb(158,202,225)"
          ],
          [
           0.5,
           "rgb(107,174,214)"
          ],
          [
           0.625,
           "rgb(66,146,198)"
          ],
          [
           0.75,
           "rgb(33,113,181)"
          ],
          [
           0.875,
           "rgb(8,81,156)"
          ],
          [
           1,
           "rgb(8,48,107)"
          ]
         ],
         "name": "F(x,y)",
         "opacity": 0.6,
         "type": "surface",
         "x": {
          "bdata": "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",
          "dtype": "f8",
          "shape": "50, 50"
         },
         "y": {
          "bdata": "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",
          "dtype": "f8",
          "shape": "50, 50"
         },
         "z": {
          "bdata": "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",
          "dtype": "f8",
          "shape": "50, 50"
         }
        },
        {
         "marker": {
          "color": "green",
          "size": 8
         },
         "mode": "markers",
         "name": "Inicio",
         "type": "scatter3d",
         "x": [
          0.655576285165735
         ],
         "y": [
          0.1468897902232622
         ],
         "z": [
          -0.027534997346012235
         ]
        },
        {
         "marker": {
          "color": "red",
          "size": 8
         },
         "mode": "markers",
         "name": "Final",
         "type": "scatter3d",
         "x": [
          2.1984215369846742
         ],
         "y": [
          1.685481024545533
         ],
         "z": [
          -0.9999799502423234
         ]
        },
        {
         "line": {
          "color": "orange",
          "width": 4
         },
         "marker": {
          "color": "orange",
          "size": 3
         },
         "mode": "lines+markers",
         "name": "Trayectoria",
         "type": "scatter3d",
         "x": [
          0.655576285165735,
          0.6569903205112273,
          0.6583782284699179,
          0.6597405308493073,
          0.6610777458764435,
          0.6623903878407231,
          0.6636789667621745,
          0.6649439880842886,
          0.6661859523904607,
          0.6674053551431122,
          0.6686026864445636,
          0.6697784308187449,
          0.6709330670128358,
          0.6720670678179455,
          0.6731808999079553,
          0.6742750236956679,
          0.6753498932054226,
          0.6764059559613574,
          0.6774436528905219,
          0.6784634182400625,
          0.6794656795077305,
          0.6804508573849793,
          0.6814193657119471,
          0.6823716114436411,
          0.6833079946266664,
          0.6842289083858614,
          0.6851347389202328,
          0.6860258655076005,
          0.6869026605173882,
          0.6877654894310217,
          0.6886147108694132,
          0.6894506766270395,
          0.6902737317121382,
          0.6910842143925697,
          0.691882456246915,
          0.6926687822203967,
          0.6934435106852324,
          0.6942069535050485,
          0.694959416103001,
          0.6957011975332678,
          0.6964325905555926,
          0.6971538817125833,
          0.6978653514094751,
          0.6985672739960918,
          0.6992599178507496,
          0.6999435454658645,
          0.7006184135350352,
          0.7012847730413905,
          0.7019428693469996,
          0.7025929422831582,
          0.7032352262413737,
          0.7038699502648837,
          0.7044973381405543,
          0.705117608491012,
          0.7057309748668767,
          0.7063376458389679,
          0.7069378250903677,
          0.7075317115082341,
          0.7081194992752597,
          0.7087013779606877,
          0.7092775326107941,
          0.7098481438387612,
          0.7104133879138663,
          0.7109734368499204,
          0.7115284584928948,
          0.7120786166076806,
          0.7126240709639299,
          0.7131649774209334,
          0.7137014880114928,
          0.71423375102475,
          0.7147619110879425,
          0.7152861092470537,
          0.7158064830463328,
          0.716323166606663,
          0.7168362907027579,
          0.7173459828391704,
          0.7178523673250996,
          0.7183555653479867,
          0.7188556950458893,
          0.7193528715786294,
          0.7198472071977098,
          0.7203388113149978,
          0.7208277905701744,
          0.7213142488969516,
          0.7217982875880593,
          0.7222800053590072,
          0.7227594984106265,
          0.7232368604903987,
          0.7237121829525786,
          0.7241855548171209,
          0.724657062827421,
          0.7251267915068796,
          0.7255948232143027,
          0.7260612381981497,
          0.7265261146496433,
          0.7269895287547522,
          0.7274515547450628,
          0.7279122649475542,
          0.7283717298332893,
          0.7288300180650398,
          0.7292871965438584,
          0.7297433304546164,
          0.7301984833105195,
          0.730652716996621,
          0.7311060918123471,
          0.7315586665130508,
          0.7320104983506116,
          0.7324616431130971,
          0.7329121551635036,
          0.7333620874775911,
          0.7338114916808313,
          0.7342604180844831,
          0.734708915720814,
          0.7351570323774822,
          0.735604814631097,
          0.7360523078799727,
          0.7364995563760937,
          0.7369466032563042,
          0.7373934905727418,
          0.7378402593225271,
          0.7382869494767272,
          0.7387336000086087,
          0.7391802489211922,
          0.7396269332741282,
          0.7400736892099047,
          0.7405205519794031,
          0.7409675559668176,
          0.74141473471395,
          0.741862120943896,
          0.7423097465841355,
          0.7427576427890408,
          0.7432058399618159,
          0.7436543677758806,
          0.744103255195711,
          0.7445525304971501,
          0.745002221287201,
          0.7454523545233136,
          0.7459029565321786,
          0.7463540530280389,
          0.746805669130531,
          0.7472578293820672,
          0.7477105577647696,
          0.7481638777169677,
          0.7486178121492687,
          0.7490723834602121,
          0.7495276135515185,
          0.7499835238429429,
          0.7504401352867413,
          0.7508974683817613,
          0.7513555431871664,
          0.7518143793358009,
          0.7522739960472076,
          0.7527344121403045,
          0.7531956460457305,
          0.7536577158178683,
          0.754120639146552,
          0.7545844333684688,
          0.755049115478261,
          0.7555147021393378,
          0.7559812096944029,
          0.756448654175706,
          0.7569170513150254,
          0.7573864165533883,
          0.7578567650505362,
          0.7583281116941414,
          0.7588004711087816,
          0.7592738576646796,
          0.7597482854862125,
          0.7602237684601985,
          0.7607003202439657,
          0.7611779542732102,
          0.7616566837696473,
          0.762136521748463,
          0.7626174810255703,
          0.7630995742246756,
          0.7635828137841609,
          0.7640672119637864,
          0.7645527808512174,
          0.7650395323683825,
          0.7655274782776662,
          0.76601663018794,
          0.7665069995604377,
          0.7669985977144786,
          0.7674914358330434,
          0.7679855249682045,
          0.7684808760464189,
          0.7689774998736837,
          0.7694754071405598,
          0.7699746084270679,
          0.7704751142074583,
          0.7709769348548614,
          0.7714800806458187,
          0.7719845617647004,
          0.7724903883080111,
          0.7729975702885877,
          0.7735061176396931,
          0.7740160402190065,
          0.7745273478125162,
          0.7750400501383152,
          0.7755541568503043,
          0.776069677541804,
          0.7765866217490789,
          0.7771049989547762,
          0.7776248185912826,
          0.7781460900439989,
          0.7786688226545383,
          0.7791930257238484,
          0.7797187085152598,
          0.7802458802574634,
          0.7807745501474194,
          0.7813047273531981,
          0.7818364210167575,
          0.7823696402566568,
          0.7829043941707091,
          0.7834406918385758,
          0.7839785423243032,
          0.784517954678804,
          0.7850589379422852,
          0.7856015011466236,
          0.7861456533176922,
          0.7866914034776364,
          0.7872387606471051,
          0.7877877338474344,
          0.7883383321027887,
          0.7888905644422587,
          0.7894444399019183,
          0.7899999675268421,
          0.7905571563730843,
          0.7911160155096207,
          0.7916765540202554,
          0.7922387810054919,
          0.7928027055843726,
          0.7933683368962847,
          0.7939356841027364,
          0.794504756389103,
          0.7950755629663441,
          0.7956481130726936,
          0.7962224159753233,
          0.7967984809719811,
          0.7973763173926044,
          0.7979559346009102,
          0.7985373419959635,
          0.7991205490137229,
          0.7997055651285664,
          0.8002923998547975,
          0.8008810627481321,
          0.8014715634071675,
          0.8020639114748346,
          0.802658116639833,
          0.8032541886380515,
          0.8038521372539731,
          0.8044519723220662,
          0.805053703728163,
          0.8056573414108242,
          0.8062628953626938,
          0.8068703756318403,
          0.8074797923230899,
          0.8080911555993482,
          0.8087044756829136,
          0.8093197628567822,
          0.8099370274659444,
          0.8105562799186748,
          0.8111775306878153,
          0.8118007903120517,
          0.812426069397186,
          0.8130533786174026,
          0.8136827287165307,
          0.8143141305093032,
          0.8149475948826121,
          0.815583132796761,
          0.8162207552867157,
          0.8168604734633531,
          0.8175022985147092,
          0.8181462417072259,
          0.8187923143869982,
          0.8194405279810211,
          0.8200908939984379,
          0.8207434240317898,
          0.8213981297582664,
          0.8220550229409593,
          0.822714115430118,
          0.8233754191644085,
          0.8240389461721764,
          0.8247047085727132,
          0.8253727185775266,
          0.826042988491617,
          0.8267155307147577,
          0.8273903577427821,
          0.828067482168876,
          0.8287469166848769,
          0.8294286740825797,
          0.8301127672550508,
          0.8307992091979483,
          0.8314880130108517,
          0.8321791918985997,
          0.832872759172636,
          0.833568728252366,
          0.8342671126665221,
          0.834967926054539,
          0.8356711821679401,
          0.8363768948717347,
          0.8370850781458258,
          0.83779574608643,
          0.8385089129075098,
          0.8392245929422173,
          0.8399428006443518,
          0.8406635505898299,
          0.8413868574781692,
          0.8421127361339866,
          0.8428412015085102,
          0.843572268681106,
          0.8443059528608207,
          0.8450422693879387,
          0.8457812337355561,
          0.8465228615111704,
          0.8472671684582873,
          0.8480141704580444,
          0.8487638835308524,
          0.8495163238380548,
          0.8502715076836049,
          0.8510294515157631,
          0.8517901719288117,
          0.8525536856647903,
          0.8533200096152512,
          0.8540891608230352,
          0.8548611564840678,
          0.8556360139491773,
          0.8564137507259345,
          0.8571943844805144,
          0.8579779330395809,
          0.8587644143921943,
          0.8595538466917424,
          0.8603462482578959,
          0.8611416375785875,
          0.8619400333120176,
          0.8627414542886833,
          0.863545919513435,
          0.8643534481675584,
          0.8651640596108846,
          0.865977773383926,
          0.8667946092100415,
          0.8676145869976294,
          0.8684377268423497,
          0.8692640490293754,
          0.8700935740356747,
          0.8709263225323227,
          0.8717623153868452,
          0.8726015736655935,
          0.873444118636152,
          0.8742899717697783,
          0.8751391547438772,
          0.8759916894445081,
          0.8768475979689279,
          0.8777069026281681,
          0.8785696259496489,
          0.8794357906798294,
          0.8803054197868942,
          0.8811785364634798,
          0.8820551641294372,
          0.8829353264346355,
          0.8838190472618043,
          0.8847063507294175,
          0.8855972611946178,
          0.8864918032561832,
          0.8873900017575367,
          0.8882918817897995,
          0.889197468694888,
          0.8901067880686567,
          0.8910198657640857,
          0.8919367278945158,
          0.8928574008369317,
          0.8937819112352914,
          0.8947102860039069,
          0.8956425523308739,
          0.8965787376815523,
          0.8975188698020992,
          0.8984629767230536,
          0.8994110867629762,
          0.9003632285321417,
          0.9013194309362887,
          0.902279723180425,
          0.9032441347726903,
          0.904212695528278,
          0.9051854355734165,
          0.9061623853494102,
          0.9071435756167436,
          0.908129037459247,
          0.9091188022883263,
          0.9101129018472585,
          0.9111113682155522,
          0.9121142338133764,
          0.9131215314060573,
          0.914133294108645,
          0.9151495553905507,
          0.9161703490802572,
          0.9171957093701016,
          0.9182256708211338,
          0.9192602683680505,
          0.9202995373242072,
          0.9213435133867085,
          0.9223922326415792,
          0.9234457315690171,
          0.9245040470487285,
          0.9255672163653487,
          0.9266352772139488,
          0.9277082677056299,
          0.9287862263732068,
          0.9298691921769828,
          0.9309572045106163,
          0.932050303207082,
          0.933148528544729,
          0.9342519212534341,
          0.9353605225208571,
          0.9364743739987951,
          0.9375935178096413,
          0.9387179965529477,
          0.939847853312095,
          0.9409831316610704,
          0.9421238756713571,
          0.9432701299189357,
          0.9444219394913999,
          0.9455793499951896,
          0.9467424075629424,
          0.947911158860966,
          0.9490856510968341,
          0.950265932027107,
          0.9514520499651802,
          0.952644053789263,
          0.9538419929504891,
          0.955045917481162,
          0.9562558780031372,
          0.9574719257363444,
          0.9586941125074515,
          0.9599224907586729,
          0.9611571135567255,
          0.9623980346019348,
          0.9636453082374925,
          0.9648989894588705,
          0.9661591339233927,
          0.9674257979599674,
          0.9686990385789839,
          0.9699789134823755,
          0.9712654810738531,
          0.9725588004693104,
          0.9738589315074059,
          0.9751659347603231,
          0.9764798715447139,
          0.9778008039328265,
          0.9791287947638224,
          0.9804639076552852,
          0.9818062070149254,
          0.9831557580524832,
          0.9845126267918346,
          0.9858768800833025,
          0.987248585616178,
          0.9886278119314541,
          0.9900146284347773,
          0.9914091054096186,
          0.9928113140306697,
          0.994221326377467,
          0.9956392154482481,
          0.9970650551740439,
          0.9984989204330111,
          0.9999408870650088,
          1.0013910318864232,
          1.0028494327052444,
          1.0043161683364004,
          1.0057913186173513,
          1.0072749644239483,
          1.0087671876865625,
          1.0102680714064876,
          1.0117776996726195,
          1.0132961576784194,
          1.0148235317391632,
          1.0163599093094824,
          1.0179053790012011,
          1.0194600306014732,
          1.0210239550912237,
          1.0225972446639005,
          1.0241799927445396,
          1.0257722940091492,
          1.0273742444044163,
          1.0289859411677413,
          1.0306074828476053,
          1.0322389693242724,
          1.0338805018308352,
          1.035532182974605,
          1.0371941167588516,
          1.038866408604899,
          1.0405491653745782,
          1.0422424953930438,
          1.0439465084719584,
          1.0456613159330472,
          1.047387030632029,
          1.049123766982925,
          1.0508716409827517,
          1.0526307702365998,
          1.0544012739831035,
          1.056183273120302,
          1.0579768902318987,
          1.0597822496139184,
          1.0615994773017676,
          1.0634287010976982,
          1.0652700505986774,
          1.067123657224667,
          1.0689896542473114,
          1.0708681768190373,
          1.0727593620025642,
          1.074663348800828,
          1.0765802781873157,
          1.0785102931368131,
          1.0804535386565612,
          1.0824101618178226,
          1.084380311787854,
          1.0863641398622834,
          1.0883617994978863,
          1.0903734463457595,
          1.092399238284885,
          1.0944393354560795,
          1.0964939002963223,
          1.0985630975734535,
          1.1006470944212354,
          1.1027460603747647,
          1.1048601674062262,
          1.106989589960976,
          1.1091345049939396,
          1.1112950920063094,
          1.1134715330825269,
          1.1156640129275306,
          1.1178727189042488,
          1.120097841071317,
          1.1223395722209955,
          1.124598107917262,
          1.126873646534051,
          1.1291663892936095,
          1.1314765403049374,
          1.1338043066022767,
          1.136149898183611,
          1.1385135280491347,
          1.1408954122396495,
          1.1432957698748363,
          1.1457148231913572,
          1.1481527975807284,
          1.1506099216269086,
          1.1530864271435377,
          1.1555825492107612,
          1.1580985262115655,
          1.1606345998675511,
          1.1631910152740588,
          1.1657680209345624,
          1.1683658687942373,
          1.1709848142726005,
          1.1736251162951221,
          1.1762870373236922,
          1.1789708433858246,
          1.1816768041024712,
          1.1844051927143104,
          1.1871562861063667,
          1.1899303648308106,
          1.1927277131277751,
          1.1955486189440199,
          1.19839337394926,
          1.201262273549969,
          1.2041556169004504,
          1.2070737069109663,
          1.2100168502526922,
          1.2129853573592604,
          1.2159795424246354,
          1.2189997233970569,
          1.2220462219687644,
          1.225119363561208,
          1.228219477305428,
          1.2313468960172758,
          1.2345019561671253,
          1.2376849978437099,
          1.2408963647116968,
          1.2441364039625984,
          1.2474054662585896,
          1.250703905668791,
          1.2540320795975435,
          1.2573903487041904,
          1.2607790768138478,
          1.2641986308186304,
          1.2676493805687683,
          1.2711316987530301,
          1.2746459607678382,
          1.2781925445744404,
          1.2817718305434718,
          1.285384201286215,
          1.2890300414718407,
          1.292709737629884,
          1.296423677937178,
          1.3001722519884509,
          1.303955850549752,
          1.3077748652938546,
          1.3116296885167544,
          1.3155207128343553,
          1.3194483308584108,
          1.3234129348507657,
          1.3274149163549218,
          1.3314546658039275,
          1.3355325721035765,
          1.339649022189885,
          1.343804400559799,
          1.3479990887740823,
          1.3522334649313175,
          1.3565079031119665,
          1.3608227727914233,
          1.3651784382210121,
          1.3695752577758926,
          1.3740135832688556,
          1.3784937592290214,
          1.3830161221444877,
          1.3875809996680182,
          1.3921887097849177,
          1.3968395599423047,
          1.4015338461390643,
          1.4062718519758541,
          1.4110538476646355,
          1.4158800889973142,
          1.4207508162732045,
          1.4256662531851712,
          1.430626605664467,
          1.4356320606844564,
          1.440682785023611,
          1.445778923988374,
          1.4509206000967247,
          1.456107911723519,
          1.4613409317089578,
          1.4666197059318227,
          1.4719442518494246,
          1.477314557006549,
          1.482730577516022,
          1.4881922365138944,
          1.493699422592623,
          1.499251988216034,
          1.5048497481202672,
          1.5104924777053308,
          1.5161799114223389,
          1.521911741161951,
          1.5276876146499885,
          1.533507133856658,
          1.5393698534262645,
          1.5452752791347482,
          1.551222866382805,
          1.557212018732781,
          1.5632420864979188,
          1.5693123653929053,
          1.5754220952550033,
          1.581570458845347,
          1.5877565807402185,
          1.5939795263223253,
          1.600238300882219,
          1.606531848840069,
          1.6128590530979878,
          1.6192187345330178,
          1.6256096516407166,
          1.6320305003390083,
          1.6384799139416109,
          1.6449564633098928,
          1.6514586571914531,
          1.6579849427530595,
          1.6645337063148173,
          1.6711032742915852,
          1.6776919143466893,
          1.684297836761939,
          1.6909191960268062,
          1.6975540926484127,
          1.7042005751826748,
          1.7108566424856022,
          1.7175202461823489,
          1.7241892933501621,
          1.7308616494099238,
          1.7375351412194915,
          1.7442075603605862,
          1.7508766666095248,
          1.7575401915806816,
          1.7641958425302149,
          1.7708413063063002,
          1.7774742534309154,
          1.7840923422971124,
          1.7906932234647228,
          1.7972745440365692,
          1.8038339520965236,
          1.810369101190158,
          1.8168776548282886,
          1.82335729099343,
          1.8298057066290399,
          1.8362206220914719,
          1.8425997855447345,
          1.848940977278507,
          1.8552420139303532,
          1.8615007525937228,
          1.8677150947941075,
          1.87388299031663,
          1.8800024408693754,
          1.8860715035679039,
          1.8920882942276185,
          1.8980509904519687,
          1.9039578345058463,
          1.9098071359649607,
          1.9155972741334446,
          1.9213267002234344,
          1.9269939392918622,
          1.932597591931196,
          1.9381363357123362,
          1.9436089263793228,
          1.9490141987969056,
          1.954351067653383,
          1.959618527922392,
          1.9648156550885483,
          1.9699416051429612,
          1.9749956143556975,
          1.9799769988332114,
          1.9848851538696233,
          1.989719553101474,
          1.9944797474762475,
          1.999165364045502,
          2.003776104593904,
          2.008311744115814,
          2.0127721291513296,
          2.0171571759938565,
          2.021466868781348,
          2.0257012574833495,
          2.02986045579589,
          2.033944638956105,
          2.0379540414882333,
          2.0418889548923596,
          2.0457497252869015,
          2.049536751015472,
          2.0532504802282907,
          2.056891408447861,
          2.060460076128123,
          2.0639570662157714,
          2.0673830017218875,
          2.070738543311482,
          2.0740243869179906,
          2.0772412613891986,
          2.080389926170518,
          2.0834711690309904,
          2.0864858038368443,
          2.089434668376908,
          2.0923186222436683,
          2.095138544773277,
          2.097895333047318,
          2.1005898999587096,
          2.103223172343683,
          2.1057960891813687,
          2.1083095998621406,
          2.1107646625255208,
          2.1131622424681016,
          2.1155033106216448,
          2.1177888421012314,
          2.1200198148230798,
          2.122197208191408,
          2.1243220018535136,
          2.1263951745220453,
          2.128417702863279,
          2.1303905604500524,
          2.1323147167778935,
          2.134191136342755,
          2.1360207777786777,
          2.1378045930536307,
          2.1395435267216953,
          2.1412385152297304,
          2.1428904862765994,
          2.144500358223029,
          2.146069039550134,
          2.147597428364663,
          2.149086411948989,
          2.1505368663539137,
          2.1519496560323432,
          2.153325633511936,
          2.1546656391048384,
          2.155970500652672,
          2.1572410333049605,
          2.158478039329235,
          2.1596823079511025,
          2.160854615222599,
          2.1619957239172116,
          2.163106383449993,
          2.164187329821256,
          2.1652392855823765,
          2.1662629598222938,
          2.167259048173353,
          2.168228232835182,
          2.1691711826153517,
          2.1700885529856246,
          2.170980986152642,
          2.1718491111419587,
          2.1726935438943835,
          2.1735148873736265,
          2.1743137316843133,
          2.175090654199467,
          2.175846219696604,
          2.17658098050164,
          2.1772954766398382,
          2.177990235993083,
          2.1786657744627886,
          2.179322596137809,
          2.179961193466737,
          2.1805820474340276,
          2.1811856277394046,
          2.181772392980054,
          2.182342790835129,
          2.182897258252134,
          2.183436221634763,
          2.1839600970318243,
          2.184469290326882,
          2.1849641974282887,
          2.1854452044592962,
          2.1859126879479627,
          2.186367015016586,
          2.1868085435704265,
          2.1872376224854855,
          2.1876545917951398,
          2.188059782875438,
          2.188453518628886,
          2.188836113666569,
          2.1892078744884547,
          2.1895690996617607,
          2.1899200799972607,
          2.190261098723426,
          2.19059243165831,
          2.190914347379093,
          2.1912271073892087,
          2.191530966282997,
          2.1918261719078194,
          2.1921129655235965,
          2.192391581959722,
          2.1926622497693273,
          2.1929251913808647,
          2.1931806232469935,
          2.193428755990752,
          2.193669794549011,
          2.193903938313196,
          2.1941313812672925,
          2.1943523121231223,
          2.194566914452914,
          2.194775366819171,
          2.1949778429018556,
          2.1951745116229056,
          2.1953655372681062,
          2.1955510796063384,
          2.195731294006231,
          2.195906331550242,
          2.1960763391462015,
          2.1962414596363438,
          2.1964018319038625,
          2.196557590977022,
          2.1967088681308606,
          2.196855790986521,
          2.1969984836082412,
          2.197137066598051,
          2.1972716571882014,
          2.1974023693313742,
          2.1975293137887073,
          2.197652598215672,
          2.197772327245845,
          2.197888602572616,
          2.1980015230288625,
          2.198111184664642,
          2.198217680822932,
          2.1983211022134617,
          2.1984215369846742
         ],
         "y": [
          0.1468897902232622,
          0.14731067696388284,
          0.1477428372881444,
          0.14818605492070439,
          0.14864011657717927,
          0.1491048120097171,
          0.14957993404635825,
          0.15006527862450134,
          0.1505606448187834,
          0.15106583486367445,
          0.1515806541710785,
          0.15210491134322326,
          0.15263841818111226,
          0.1531809896888033,
          0.15373244407376813,
          0.15429260274357823,
          0.15486129029915296,
          0.15543833452479627,
          0.156023566375239,
          0.15661681995989535,
          0.15721793252453167,
          0.15782674443053862,
          0.15844309913198742,
          0.15906684315064365,
          0.15969782604910307,
          0.16033590040220644,
          0.160980921766882,
          0.16163274865055713,
          0.16229124247827317,
          0.16295626755863027,
          0.1636276910486827,
          0.16430538291789776,
          0.16498921591128615,
          0.1656790655118042,
          0.166374809902124,
          0.1670763299258608,
          0.16778350904834205,
          0.16849623331699762,
          0.16921439132144514,
          0.16993787415334052,
          0.17066657536605861,
          0.17140039093426498,
          0.17213921921343586,
          0.17288296089937902,
          0.17363151898780513,
          0.1743847987339955,
          0.1751427076126086,
          0.17590515527766487,
          0.17667205352274623,
          0.1774433162414441,
          0.17821885938808651,
          0.178998600938773,
          0.17978246085274335,
          0.18057036103410384,
          0.18136222529393264,
          0.18215797931278416,
          0.18295755060361002,
          0.18376086847511253,
          0.1845678639955452,
          0.18537846995697285,
          0.1861926208400026,
          0.18701025277899566,
          0.18783130352776842,
          0.1886557124257902,
          0.18948342036488397,
          0.19031436975643476,
          0.19114850449911064,
          0.19198576994709862,
          0.19282611287885845,
          0.19366948146639545,
          0.19451582524505334,
          0.19536509508382707,
          0.19621724315619501,
          0.1970722229114695,
          0.1979299890466637,
          0.1987904974788728,
          0.19965370531816679,
          0.20051957084099137,
          0.20138805346407382,
          0.2022591137188296,
          0.2031327132262656,
          0.2040088146723753,
          0.20488738178402108,
          0.20576837930529865,
          0.20665177297437812,
          0.2075375295008163,
          0.2084256165433344,
          0.20931600268805542,
          0.21020865742719494,
          0.2111035511381996,
          0.21200065506332655,
          0.21289994128965792,
          0.21380138272954355,
          0.21470495310146584,
          0.2156106269113199,
          0.21651837943410274,
          0.2174281866960045,
          0.21834002545689551,
          0.21925387319320236,
          0.22016970808116632,
          0.22108750898047766,
          0.22200725541827915,
          0.22292892757353217,
          0.22385250626173905,
          0.22477797292001497,
          0.22570530959250298,
          0.22663449891612578,
          0.227565524106668,
          0.2284983689451824,
          0.22943301776471406,
          0.23036945543733606,
          0.23130766736149086,
          0.2322476394496312,
          0.23318935811615424,
          0.2341328102656237,
          0.2350779832812734,
          0.23602486501378736,
          0.2369734437703496,
          0.2379237083039593,
          0.23887564780300502,
          0.2398292518810926,
          0.24078451056712188,
          0.24174141429560644,
          0.24269995389723145,
          0.24366012058964454,
          0.24462190596847458,
          0.24558530199857362,
          0.2465503010054768,
          0.247516895667076,
          0.24848507900550196,
          0.24945484437921092,
          0.25042618547527074,
          0.2513990963018422,
          0.25237357118085163,
          0.2533496047408497,
          0.25432719191005315,
          0.25530632790956453,
          0.2562870082467668,
          0.257269228708888,
          0.2582529853567326,
          0.25923827451857573,
          0.2602250927842167,
          0.2612134369991875,
          0.26220330425911365,
          0.26319469190422345,
          0.26418759751400217,
          0.26518201890198784,
          0.26617795411070566,
          0.26717540140673757,
          0.26817435927592376,
          0.2691748264186936,
          0.2701768017455222,
          0.27118028437251024,
          0.272185273617084,
          0.273191768993813,
          0.274199770210342,
          0.2752092771634352,
          0.2762202899351299,
          0.27723280878899687,
          0.2782468341665047,
          0.2792623666834868,
          0.280279407126707,
          0.28129795645052297,
          0.2823180157736438,
          0.2833395863759809,
          0.28436266969558865,
          0.2853872673256939,
          0.28641338101181124,
          0.2874410126489426,
          0.2884701642788592,
          0.2895008380874632,
          0.29053303640222855,
          0.29156676168971757,
          0.29260201655317253,
          0.2936388037301801,
          0.29467712609040714,
          0.29571698663340584,
          0.29675838848648683,
          0.2978013349026587,
          0.29884582925863185,
          0.2998918750528861,
          0.30093947590379966,
          0.3019886355478384,
          0.30303935783780406,
          0.30409164674114,
          0.30514550633829296,
          0.3062009408211298,
          0.3072579544914076,
          0.308316551759296,
          0.30937673714195124,
          0.3104385152621393,
          0.3115018908469081,
          0.3125668687263078,
          0.31363345383215674,
          0.3147016511968536,
          0.31577146595223354,
          0.316842903328468,
          0.31791596865300675,
          0.31899066734956155,
          0.32006700493713014,
          0.32114498702905997,
          0.3222246193321507,
          0.3233059076457944,
          0.32438885786115296,
          0.3254734759603713,
          0.3265597680158265,
          0.3276477401894111,
          0.3287373987318507,
          0.32982874998205414,
          0.33092180036649654,
          0.33201655639863387,
          0.3331130246783485,
          0.33421121189142544,
          0.33531112480905767,
          0.3364127702873815,
          0.3375161552670396,
          0.3386212867727724,
          0.33972817191303684,
          0.34083681787965164,
          0.34194723194746923,
          0.34305942147407303,
          0.34417339389950036,
          0.3452891567459897,
          0.3464067176177524,
          0.3475260842007682,
          0.3486472642626042,
          0.34977026565225633,
          0.350895096300014,
          0.352021764217346,
          0.3531502774968088,
          0.35428064431197576,
          0.3554128729173874,
          0.3565469716485221,
          0.35768294892178726,
          0.3588208132345301,
          0.359960573165068,
          0.36110223737273855,
          0.36224581459796773,
          0.36339131366235755,
          0.36453874346879134,
          0.36568811300155774,
          0.36683943132649194,
          0.36799270759113506,
          0.36914795102491027,
          0.3703051709393165,
          0.3714643767281385,
          0.37262557786767414,
          0.3737887839169777,
          0.3749540045181193,
          0.3761212493964609,
          0.3772905283609477,
          0.3784618513044151,
          0.37963522820391193,
          0.38081066912103795,
          0.38198818420229746,
          0.38316778367946747,
          0.3843494778699809,
          0.3855332771773246,
          0.38671919209145195,
          0.38790723318921,
          0.38909741113478125,
          0.3902897366801393,
          0.39148422066551913,
          0.3926808740199015,
          0.3938797077615109,
          0.39508073299832813,
          0.39628396092861645,
          0.39748940284146145,
          0.39869707011732486,
          0.39990697422861204,
          0.4011191267402532,
          0.4023335393102978,
          0.4035502236905234,
          0.4047691917270571,
          0.4059904553610111,
          0.40721402662913136,
          0.40843991766446036,
          0.4096681406970126,
          0.4108987080544637,
          0.41213163216285364,
          0.41336692554730237,
          0.41460460083273976,
          0.4158446707446486,
          0.4170871481098212,
          0.4183320458571296,
          0.4195793770183089,
          0.4208291547287549,
          0.42208139222833446,
          0.42333610286221035,
          0.42459330008167917,
          0.4258529974450233,
          0.4271152086183765,
          0.42837994737660345,
          0.4296472276041934,
          0.4309170632961671,
          0.4321894685589987,
          0.4334644576115511,
          0.43474204478602574,
          0.4360222445289266,
          0.4373050714020386,
          0.43859054008342074,
          0.4398786653684131,
          0.44116946217065905,
          0.4424629455231423,
          0.4437591305792384,
          0.44505803261378135,
          0.4463596670241456,
          0.44766404933134263,
          0.4489711951811337,
          0.45028112034515727,
          0.4515938407220725,
          0.4529093723387182,
          0.454227731351288,
          0.4555489340465212,
          0.4568729968429097,
          0.45819993629192174,
          0.4595297690792415,
          0.4608625120260258,
          0.4621981820901773,
          0.4635367963676349,
          0.46487837209368077,
          0.4662229266442655,
          0.46757047753734987,
          0.46892104243426486,
          0.47027463914108936,
          0.4716312856100457,
          0.4729909999409138,
          0.4743538003824636,
          0.47571970533390584,
          0.4770887333463622,
          0.47846090312435424,
          0.47983623352731153,
          0.48121474357109945,
          0.4825964524295667,
          0.48398137943611275,
          0.4853695440852753,
          0.4867609660343384,
          0.4881556651049612,
          0.48955366128482775,
          0.4909549747293173,
          0.4923596257631971,
          0.4937676348823357,
          0.4951790227554394,
          0.4965938102258098,
          0.4980120183131246,
          0.4994336682152409,
          0.5008587813100214,
          0.502287379157184,
          0.5037194835001757,
          0.505155116268069,
          0.5065942995774837,
          0.5080370557345331,
          0.5094834072367942,
          0.5109333767753044,
          0.5123869872365823,
          0.513844261704675,
          0.5153052234632318,
          0.5167698959976034,
          0.5182383029969687,
          0.5197104683564888,
          0.5211864161794878,
          0.5226661707796617,
          0.5241497566833161,
          0.5256371986316315,
          0.5271285215829584,
          0.5286237507151409,
          0.5301229114278705,
          0.5316260293450699,
          0.5331331303173071,
          0.5346442404242406,
          0.5361593859770953,
          0.5376785935211706,
          0.5392018898383804,
          0.5407293019498254,
          0.5422608571183984,
          0.5437965828514232,
          0.5453365069033262,
          0.5468806572783439,
          0.5484290622332632,
          0.5499817502801979,
          0.5515387501894006,
          0.5531000909921098,
          0.5546658019834344,
          0.5562359127252745,
          0.5578104530492797,
          0.559389453059845,
          0.5609729431371454,
          0.5625609539402092,
          0.5641535164100303,
          0.5657506617727203,
          0.5673524215427012,
          0.5689588275259385,
          0.5705699118232161,
          0.5721857068334522,
          0.5738062452570578,
          0.5754315600993387,
          0.5770616846739397,
          0.5786966526063335,
          0.5803364978373537,
          0.5819812546267726,
          0.5836309575569248,
          0.5852856415363763,
          0.5869453418036409,
          0.5886100939309428,
          0.5902799338280276,
          0.591954897746021,
          0.5936350222813366,
          0.5953203443796327,
          0.597010901339819,
          0.598706730818114,
          0.6004078708321529,
          0.6021143597651473,
          0.6038262363700972,
          0.6055435397740554,
          0.6072663094824445,
          0.6089945853834291,
          0.6107284077523406,
          0.6124678172561584,
          0.6142128549580455,
          0.6159635623219403,
          0.6177199812172052,
          0.6194821539233316,
          0.6212501231347033,
          0.6230239319654173,
          0.6248036239541633,
          0.6265892430691629,
          0.6283808337131673,
          0.6301784407285168,
          0.6319821094022589,
          0.6337918854713289,
          0.6356078151277919,
          0.6374299450241458,
          0.6392583222786885,
          0.6410929944809456,
          0.6429340096971633,
          0.6447814164758643,
          0.6466352638534673,
          0.6484956013599711,
          0.6503624790247037,
          0.6522359473821356,
          0.6541160574777591,
          0.6560028608740325,
          0.6578964096563898,
          0.6597967564393176,
          0.6617039543724956,
          0.6636180571470061,
          0.6655391190016067,
          0.6674671947290719,
          0.669402339682599,
          0.6713446097822812,
          0.6732940615216458,
          0.6752507519742598,
          0.6772147388003992,
          0.6791860802537854,
          0.6811648351883856,
          0.6831510630652784,
          0.6851448239595835,
          0.6871461785674549,
          0.6891551882131369,
          0.6911719148560835,
          0.6931964210981378,
          0.6952287701907734,
          0.697269026042395,
          0.6993172532256974,
          0.7013735169850821,
          0.7034378832441307,
          0.7055104186131317,
          0.7075911903966617,
          0.7096802666012179,
          0.7117777159428995,
          0.7138836078551382,
          0.7159980124964731,
          0.7181210007583699,
          0.7202526442730804,
          0.7223930154215408,
          0.7245421873413049,
          0.7267002339345108,
          0.7288672298758756,
          0.7310432506207167,
          0.7332283724129955,
          0.7354226722933783,
          0.7376262281073122,
          0.7398391185131102,
          0.7420614229900415,
          0.7442932218464211,
          0.7465345962276944,
          0.7487856281245104,
          0.7510464003807786,
          0.7533169967017007,
          0.755597501661774,
          0.757888000712756,
          0.7601885801915849,
          0.7624993273282469,
          0.7648203302535821,
          0.7671516780070203,
          0.769493460544237,
          0.7718457687447191,
          0.774208694419232,
          0.7765823303171738,
          0.7789667701338071,
          0.7813621085173555,
          0.7837684410759521,
          0.786185864384425,
          0.788614475990907,
          0.7910543744232537,
          0.7935056591952533,
          0.795968430812612,
          0.7984427907786973,
          0.8009288416000195,
          0.803426686791434,
          0.8059364308810405,
          0.8084581794147603,
          0.8109920389605674,
          0.8135381171123498,
          0.8160965224933759,
          0.818667364759339,
          0.8212507546009526,
          0.8238468037460681,
          0.8264556249612821,
          0.8290773320530032,
          0.8317120398679436,
          0.8343598642930012,
          0.8370209222544926,
          0.8396953317167015,
          0.8423832116796988,
          0.8450846821763935,
          0.847799864268769,
          0.8505288800432569,
          0.8532718526052014,
          0.8560289060723607,
          0.8588001655673921,
          0.8615857572092652,
          0.8643858081035433,
          0.867200446331471,
          0.8700298009378047,
          0.8728740019173168,
          0.8757331801999039,
          0.8786074676342253,
          0.8814969969697936,
          0.884401901837438,
          0.8873223167280557,
          0.890258376969562,
          0.8932102187019503,
          0.8961779788503635,
          0.8991617950960784,
          0.9021618058452977,
          0.9051781501956428,
          0.9082109679002325,
          0.9112603993292301,
          0.9143265854287371,
          0.9174096676769044,
          0.9205097880371282,
          0.923627088908194,
          0.9267617130712216,
          0.9299138036332656,
          0.9330835039674129,
          0.9362709576492184,
          0.9394763083893106,
          0.9426996999619941,
          0.9459412761296704,
          0.9492011805628893,
          0.9524795567558406,
          0.9557765479370859,
          0.9590922969753245,
          0.9624269462799835,
          0.96578063769641,
          0.9691535123954426,
          0.9725457107571281,
          0.9759573722483452,
          0.9793886352940888,
          0.9828396371421645,
          0.9863105137210328,
          0.9898013994905407,
          0.9933124272852679,
          0.9968437281502145,
          1.0003954311685461,
          1.003967663281113,
          1.0075605490974506,
          1.0111742106979693,
          1.0148087674270345,
          1.0184643356766385,
          1.0221410286603625,
          1.0258389561773271,
          1.029558224365829,
          1.033298935446365,
          1.037061187453746,
          1.0408450739580069,
          1.0446506837738272,
          1.0484781006581834,
          1.0523274029959597,
          1.0561986634732636,
          1.0600919487381981,
          1.0640073190488648,
          1.0679448279083872,
          1.0719045216867678,
          1.0758864392294158,
          1.0798906114522135,
          1.0839170609230144,
          1.0879658014295124,
          1.0920368375334497,
          1.096130164111185,
          1.1002457658806835,
          1.1043836169150514,
          1.1085436801427893,
          1.1127259068350073,
          1.116930236079911,
          1.1211565942449446,
          1.1254048944270563,
          1.1296750358916376,
          1.1339669035007856,
          1.1382803671316284,
          1.1426152810855708,
          1.1469714834894167,
          1.151348795689455,
          1.1557470216397112,
          1.160165947285703,
          1.1646053399451737,
          1.1690649476874144,
          1.1735444987129415,
          1.1780437007354365,
          1.1825622403680192,
          1.1870997825160754,
          1.1916559697790257,
          1.1962304218635764,
          1.2008227350111575,
          1.2054324814424082,
          1.2100592088217261,
          1.2147024397450428,
          1.2193616712541337,
          1.2240363743809017,
          1.2287259937251935,
          1.233429947069821,
          1.2381476250365453,
          1.242878390786862,
          1.2476215797714696,
          1.2523764995323439,
          1.257142429561328,
          1.2619186212191364,
          1.2667042977186005,
          1.2714986541758986,
          1.276300857733382,
          1.2811100477574406,
          1.2859253361146483,
          1.2907458075291802,
          1.2955705200242016,
          1.300398505449602,
          1.30522877009807,
          1.3100602954110956,
          1.3148920387760255,
          1.3197229344148154,
          1.3245518943645913,
          1.329377809549581,
          1.3341995509433942,
          1.33901597082003,
          1.3438259040913747,
          1.348628169728329,
          1.3534215722620817,
          1.3582049033614276,
          1.362976943481432,
          1.3677364635781577,
          1.372482226883631,
          1.3772129907347144,
          1.381927508449092,
          1.3866245312411716,
          1.3913028101703606,
          1.3959610981138992,
          1.400598151756223,
          1.405212733586699,
          1.4098036138975232,
          1.4143695727735854,
          1.4189094020662132,
          1.4234219073428698,
          1.4279059098051305,
          1.432360248167569,
          1.436783780490548,
          1.4411753859603365,
          1.445533966610436,
          1.4498584489784974,
          1.4541477856937388,
          1.4584009569903218,
          1.4626169721426894,
          1.4667948708194305,
          1.4709337243527743,
          1.475032636921353,
          1.4790907466443746,
          1.4831072265858363,
          1.4870812856678515,
          1.4910121694925904,
          1.49489916107271,
          1.498741581470501,
          1.502538790346287,
          1.5062901864168978,
          1.5099952078252745,
          1.513653332422496,
          1.5172640779637003,
          1.520827002219554,
          1.5243417030050699,
          1.5278078181277208,
          1.5312250252569208,
          1.5345930417170668,
          1.5379116242064472,
          1.541180568444438,
          1.5443997087495105,
          1.5475689175506853,
          1.5506881048351704,
          1.553757217535028,
          1.5567762388558162,
          1.5597451875502495,
          1.5626641171400257,
          1.5655331150890472,
          1.5683523019313574,
          1.5711218303571854,
          1.5738418842605535,
          1.5765126777519642,
          1.579134454139715,
          1.5817074848834207,
          1.5842320685233355,
          1.5867085295890562,
          1.5891372174911729,
          1.5915185053993948,
          1.5938527891106213,
          1.5961404859103647,
          1.59838203343084,
          1.600577888508942,
          1.6027285260472128,
          1.604834437880783,
          1.6068961316531225,
          1.6089141297033038,
          1.6108889679673146,
          1.6128211948958018,
          1.6147113703904563,
          1.6165600647610858,
          1.6183678577052383,
          1.6201353373120757,
          1.6218630990920164,
          1.6235517450334953,
          1.6252018826880206,
          1.6268141242845415,
          1.6283890858739767,
          1.6299273865046005,
          1.631429647428833,
          1.6328964913418376,
          1.634328541652191,
          1.6357264217847678,
          1.6370907545158544,
          1.6384221613404024,
          1.6397212618712178,
          1.6409886732697954,
          1.6422250097084148,
          1.6434308818630328,
          1.6446068964364402,
          1.6457536557110812,
          1.64687175713088,
          1.6479617929113641,
          1.6490243496773407,
          1.6500600081273302,
          1.6510693427239473,
          1.6520529214093809,
          1.6530113053451136,
          1.6539450486750034,
          1.6548546983108388,
          1.65574079373948,
          1.656603866850687,
          1.657444441784748,
          1.6582630347990173,
          1.6590601541524888,
          1.6598363000075362,
          1.660591964347967,
          1.6613276309125509,
          1.6620437751432047,
          1.6627408641470278,
          1.6634193566714104,
          1.6640797030914496,
          1.6647223454089386,
          1.6653477172622115,
          1.6659562439461515,
          1.6665483424416958,
          1.6671244214541916,
          1.6676848814599852,
          1.668230114760647,
          1.6687605055442638,
          1.6692764299532492,
          1.66977825615815,
          1.6702663444369503,
          1.6707410472593942,
          1.671202709375876,
          1.671651667910465,
          1.6720882524576555,
          1.6725127851824537,
          1.672925580923432,
          1.6733269472984034,
          1.6737171848123884,
          1.6740965869675604,
          1.6744654403748802,
          1.674824024867144,
          1.6751726136131848,
          1.675511473232988,
          1.6758408639134905,
          1.6761610395248536,
          1.6764722477370106,
          1.6767747301363045,
          1.6770687223420433,
          1.6773544541228151,
          1.677632149512413,
          1.6779020269252338,
          1.678164299271025,
          1.678419174068863,
          1.6786668535602558,
          1.6789075348212739,
          1.6791414098736177,
          1.679368665794544,
          1.6795894848255732,
          1.6798040444799174,
          1.6800125176485634,
          1.6802150727049618,
          1.680411873608274,
          1.6806030800051344,
          1.680788847329894,
          1.6809693269033124,
          1.6811446660296716,
          1.681315008092291,
          1.6814804926474234,
          1.6816412555165197,
          1.6817974288768487,
          1.6819491413504684,
          1.6820965180915393,
          1.6822396808719833,
          1.6823787481654846,
          1.6825138352298377,
          1.6826450541876496,
          1.682772514105401,
          1.6828963210708776,
          1.6830165782689817,
          1.6831333860559388,
          1.6832468420319109,
          1.683357041112034,
          1.683464075595895,
          1.683568035235466,
          1.6836690073015177,
          1.6837670766485242,
          1.6838623257780887,
          1.6839548349009044,
          1.6840446819972732,
          1.684131942876208,
          1.684216691233136,
          1.6842989987062293,
          1.6843789349313845,
          1.6844565675958754,
          1.684531962490701,
          1.684605183561655,
          1.6846762929591375,
          1.6847453510867352,
          1.6848124166485927,
          1.6848775466955987,
          1.6849407966704115,
          1.6850022204513468,
          1.6850618703951517,
          1.6851197973786873,
          1.685176050839545,
          1.6852306788156168,
          1.6852837279836452,
          1.6853352436967723,
          1.6853852700211134,
          1.6854338497713737,
          1.685481024545533
         ],
         "z": [
          -0.027534997346012235,
          -0.027751052909724547,
          -0.027960821337957676,
          -0.028164584996381838,
          -0.02836261616209109,
          -0.028555177223912036,
          -0.028742520892405518,
          -0.028924890418057837,
          -0.029102519816262513,
          -0.02927563409779454,
          -0.02944444950357222,
          -0.029609173742600053,
          -0.029770006232070146,
          -0.029927138338693055,
          -0.030080753620399994,
          -0.030231028067646416,
          -0.030378130343610883,
          -0.03052222202266129,
          -0.03066345782651821,
          -0.03080198585760957,
          -0.030937947829171693,
          -0.031071479291698456,
          -0.03120270985539469,
          -0.03133176340833887,
          -0.031458758330096225,
          -0.031583807700570066,
          -0.0317070195039118,
          -0.03182849682734727,
          -0.031948338054804,
          -0.032066637055257044,
          -0.032183483365731756,
          -0.03229896236893193,
          -0.03241315546547642,
          -0.03252614024074996,
          -0.03263799062639187,
          -0.03274877705646014,
          -0.03285856661832173,
          -0.032967423198334476,
          -0.03307540762239315,
          -0.03318257779142537,
          -0.033288988811928606,
          -0.0333946931216465,
          -0.0334997406104896,
          -0.03360417873681135,
          -0.0337080526391496,
          -0.033811405243554256,
          -0.03391427736661716,
          -0.034016707814326495,
          -0.034118733476868064,
          -0.034220389419493416,
          -0.03432170896958278,
          -0.03442272380001919,
          -0.03452346400899939,
          -0.034623958196401905,
          -0.0347242335368294,
          -0.03482431584944453,
          -0.03492422966471595,
          -0.03502399828818584,
          -0.03512364386137113,
          -0.035223187419909686,
          -0.0353226489490548,
          -0.03542204743662322,
          -0.0355214009234987,
          -0.03562072655178917,
          -0.03572004061073138,
          -0.03581935858044025,
          -0.0359186951735876,
          -0.03601806437510117,
          -0.036117479479968295,
          -0.03621695312922335,
          -0.03631649734420002,
          -0.03641612355912389,
          -0.036515842652117644,
          -0.03661566497469155,
          -0.03671560037978523,
          -0.03681565824842774,
          -0.036915847515077364,
          -0.0370161766917039,
          -0.0371166538906689,
          -0.03721728684646209,
          -0.037318082936344935,
          -0.03741904919995595,
          -0.03752019235792336,
          -0.03762151882953566,
          -0.03772303474951131,
          -0.0378247459839159,
          -0.03792665814526253,
          -0.03802877660683915,
          -0.038131106516298446,
          -0.03823365280854683,
          -0.03833642021796823,
          -0.03843941329001323,
          -0.038542636392186885,
          -0.03864609372446493,
          -0.038749789329166305,
          -0.038853727100309605,
          -0.03895791079248016,
          -0.03906234402923113,
          -0.03916703031104334,
          -0.039271973022866793,
          -0.039377175441263,
          -0.0394826407411714,
          -0.03958837200231807,
          -0.0396943722152834,
          -0.0398006442872504,
          -0.03990719104744621,
          -0.04001401525229536,
          -0.04012111959029879,
          -0.040228506686653544,
          -0.04033617910762592,
          -0.04044413936469213,
          -0.04055238991845919,
          -0.040660933182374265,
          -0.040769771526239784,
          -0.04087890727953824,
          -0.04098834273458167,
          -0.04109808014949312,
          -0.04120812175102843,
          -0.041318469737249945,
          -0.04142912628005616,
          -0.04154009352757876,
          -0.04165137360645189,
          -0.04176296862396185,
          -0.04187488067008355,
          -0.04198711181940881,
          -0.04209966413297524,
          -0.04221253965999835,
          -0.042325740439512476,
          -0.04243926850192862,
          -0.04255312587051034,
          -0.04266731456277357,
          -0.04278183659181538,
          -0.04289669396757505,
          -0.04301188869803059,
          -0.043127422790335705,
          -0.043243298251900625,
          -0.043359517091417346,
          -0.04347608131983739,
          -0.043592992951299286,
          -0.04371025400401345,
          -0.04382786650110366,
          -0.04394583247140962,
          -0.044064153950252066,
          -0.04418283298016252,
          -0.04430187161158061,
          -0.04442127190351965,
          -0.04454103592420409,
          -0.04466116575167925,
          -0.04478166347439411,
          -0.04490253119176327,
          -0.045023771014702375,
          -0.04514538506614519,
          -0.0452673754815402,
          -0.0453897444093283,
          -0.04551249401140352,
          -0.045635626463556934,
          -0.04575914395590708,
          -0.0458830486933144,
          -0.046007342895783364,
          -0.04613202879885279,
          -0.0462571086539747,
          -0.04638258472888129,
          -0.04650845930794457,
          -0.04663473469252476,
          -0.04676141320131131,
          -0.04688849717065671,
          -0.04701598895490211,
          -0.04714389092669746,
          -0.0472722054773147,
          -0.047400935016956684,
          -0.04753008197506073,
          -0.04765964880059688,
          -0.04778963796236413,
          -0.047920051949280666,
          -0.048050893270673106,
          -0.04818216445656158,
          -0.04831386805794323,
          -0.04844600664707267,
          -0.04857858281774167,
          -0.04871159918555688,
          -0.0488450583882168,
          -0.048978963085786996,
          -0.04911331596097533,
          -0.049248119719407964,
          -0.04938337708990196,
          -0.04951909082474252,
          -0.04965526369995604,
          -0.04979189851558715,
          -0.04992899809597512,
          -0.050066565290029764,
          -0.05020460297151233,
          -0.050343114039313276,
          -0.05048210141773466,
          -0.050621568056772225,
          -0.050761516932400975,
          -0.05090195104686061,
          -0.05104287342894552,
          -0.051184287134294494,
          -0.05132619524568426,
          -0.05146860087332593,
          -0.051611507155161815,
          -0.05175491725716783,
          -0.05189883437365615,
          -0.05204326172758334,
          -0.052188202570858815,
          -0.05233366018465876,
          -0.05247963787974235,
          -0.052626138996771,
          -0.05277316690663198,
          -0.052920725010765446,
          -0.05306881674149441,
          -0.053217445562359106,
          -0.05336661496845555,
          -0.053516328486777176,
          -0.05366658967656146,
          -0.053817402129640535,
          -0.05396876947079471,
          -0.05412069535811313,
          -0.05427318348335605,
          -0.054426237572323205,
          -0.05457986138522688,
          -0.05473405871706847,
          -0.054888833398021225,
          -0.055044189293817485,
          -0.05520013030614028,
          -0.05535666037302061,
          -0.055513783469240234,
          -0.055671503606738976,
          -0.055829824835027596,
          -0.055988751241606814,
          -0.0561482869523902,
          -0.05630843613213543,
          -0.05646920298487844,
          -0.05663059175437499,
          -0.05679260672454846,
          -0.05695525221994223,
          -0.05711853260617941,
          -0.057282452290429046,
          -0.05744701572187677,
          -0.05761222739220478,
          -0.05777809183607545,
          -0.05794461363162399,
          -0.0581117974009562,
          -0.058279647810654076,
          -0.058448169572287906,
          -0.05861736744293561,
          -0.05878724622570978,
          -0.05895781077029084,
          -0.059129065973469334,
          -0.059301016779693946,
          -0.059473668181628817,
          -0.05964702522071782,
          -0.05982109298775672,
          -0.0599958766234743,
          -0.060171381319119775,
          -0.0603476123170619,
          -0.06052457491139203,
          -0.060702274448540164,
          -0.06088071632789668,
          -0.06105990600244444,
          -0.061239848979399734,
          -0.06142055082086165,
          -0.061602017144472235,
          -0.06178425362408461,
          -0.06196726599044134,
          -0.062151060031862916,
          -0.06233564159494611,
          -0.06252101658527143,
          -0.06270719096812274,
          -0.06289417076921547,
          -0.06308196207543666,
          -0.06327057103559555,
          -0.06346000386118429,
          -0.0636502668271517,
          -0.06384136627268587,
          -0.06403330860201108,
          -0.0642261002851942,
          -0.06441974785896391,
          -0.06461425792754244,
          -0.06480963716348856,
          -0.06500589230855468,
          -0.06520303017455448,
          -0.06540105764424699,
          -0.06559998167222933,
          -0.06579980928584678,
          -0.06600054758611457,
          -0.06620220374865408,
          -0.06640478502464273,
          -0.06660829874177883,
          -0.06681275230526058,
          -0.06701815319878078,
          -0.06722450898553442,
          -0.06743182730924532,
          -0.06764011589520447,
          -0.06784938255132734,
          -0.06805963516922538,
          -0.06827088172529526,
          -0.06848313028182446,
          -0.06869638898811327,
          -0.06891066608161588,
          -0.06912596988909646,
          -0.069342308827806,
          -0.06955969140667617,
          -0.06977812622753085,
          -0.06999762198631831,
          -0.07021818747436229,
          -0.07043983157963159,
          -0.07066256328803062,
          -0.07088639168471066,
          -0.07111132595540051,
          -0.07133737538775974,
          -0.07156454937275153,
          -0.07179285740603948,
          -0.07202230908940556,
          -0.07225291413218986,
          -0.07248468235275496,
          -0.0727176236799735,
          -0.07295174815473818,
          -0.07318706593149811,
          -0.0734235872798185,
          -0.07366132258596642,
          -0.07390028235452151,
          -0.07414047721001396,
          -0.0743819178985875,
          -0.07462461528969183,
          -0.0748685803778003,
          -0.07511382428415705,
          -0.07536035825855326,
          -0.07560819368113178,
          -0.07585734206422126,
          -0.07610781505420164,
          -0.07635962443340052,
          -0.07661278212201982,
          -0.07686730018009516,
          -0.07712319080948918,
          -0.0773804663559158,
          -0.07763913931100008,
          -0.0778992223143731,
          -0.07816072815579976,
          -0.0784236697773449,
          -0.07868806027557516,
          -0.07895391290379816,
          -0.07922124107433894,
          -0.07949005836085643,
          -0.07976037850069949,
          -0.08003221539730124,
          -0.08030558312261737,
          -0.08058049591960338,
          -0.08085696820473706,
          -0.08113501457058238,
          -0.08141464978839946,
          -0.08169588881079808,
          -0.081978746774439,
          -0.0822632390027813,
          -0.08254938100887751,
          -0.08283718849821767,
          -0.0831266773716247,
          -0.08341786372819814,
          -0.08371076386831183,
          -0.08400539429666402,
          -0.08430177172537948,
          -0.08459991307717042,
          -0.0848998354885498,
          -0.08520155631310392,
          -0.08550509312482331,
          -0.08581046372149224,
          -0.08611768612814003,
          -0.08642677860055373,
          -0.0867377596288543,
          -0.08705064794113783,
          -0.08736546250718079,
          -0.08768222254221561,
          -0.08800094751077141,
          -0.08832165713058762,
          -0.08864437137659698,
          -0.0889691104849827,
          -0.08929589495730855,
          -0.08962474556472771,
          -0.08995568335226511,
          -0.09028872964318237,
          -0.09062390604342188,
          -0.09096123444613298,
          -0.09130073703628397,
          -0.09164243629535726,
          -0.09198635500613543,
          -0.09233251625757426,
          -0.09268094344976803,
          -0.09303166029900904,
          -0.09338469084294061,
          -0.09374005944580942,
          -0.09409779080381499,
          -0.09445790995056279,
          -0.0948204422626193,
          -0.09518541346517449,
          -0.09555284963780972,
          -0.09592277722037999,
          -0.09629522301900476,
          -0.09667021421217661,
          -0.09704777835698665,
          -0.09742794339547084,
          -0.09781073766107698,
          -0.09819618988525979,
          -0.09858432920420167,
          -0.09897518516566603,
          -0.09936878773598394,
          -0.09976516730717574,
          -0.10016435470421543,
          -0.10056638119243419,
          -0.10097127848507159,
          -0.10137907875097629,
          -0.10178981462245588,
          -0.10220351920328628,
          -0.10262022607687644,
          -0.10303996931459691,
          -0.10346278348427566,
          -0.10388870365886077,
          -0.10431776542525785,
          -0.10475000489334582,
          -0.10518545870517096,
          -0.10562416404432923,
          -0.10606615864553466,
          -0.10651148080438398,
          -0.10696016938731694,
          -0.10741226384177963,
          -0.10786780420659485,
          -0.10832683112254146,
          -0.10878938584315273,
          -0.10925551024573443,
          -0.10972524684260597,
          -0.11019863879257734,
          -0.11067572991265667,
          -0.11115656469000375,
          -0.1116411882941257,
          -0.11212964658932968,
          -0.11262198614742915,
          -0.11311825426071596,
          -0.11361849895520251,
          -0.11412276900413822,
          -0.11463111394180855,
          -0.11514358407762287,
          -0.1156602305104964,
          -0.11618110514353422,
          -0.11670626069902265,
          -0.1172357507337373,
          -0.11776962965457274,
          -0.11830795273450133,
          -0.11885077612887114,
          -0.11939815689204679,
          -0.11995015299440281,
          -0.12050682333968028,
          -0.12106822778270901,
          -0.12163442714750883,
          -0.122205483245776,
          -0.12278145889576403,
          -0.12336241794156802,
          -0.123948425272821,
          -0.12453954684481236,
          -0.1251358496990379,
          -0.12573740198419003,
          -0.12634427297759965,
          -0.1269565331071388,
          -0.12757425397359476,
          -0.12819750837352664,
          -0.12882637032261388,
          -0.1294609150795096,
          -0.13010121917020842,
          -0.13074736041294183,
          -0.13139941794361001,
          -0.13205747224176673,
          -0.13272160515716364,
          -0.13339189993687328,
          -0.13406844125299455,
          -0.13475131523096476,
          -0.13544060947847997,
          -0.13613641311504562,
          -0.13683881680216703,
          -0.1375479127741945,
          -0.13826379486983661,
          -0.1389865585643574,
          -0.13971630100247154,
          -0.14045312103195046,
          -0.1411971192379583,
          -0.14194839797812867,
          -0.14270706141840309,
          -0.14347321556963916,
          -0.1442469683250141,
          -0.1450284294982307,
          -0.14581771086254935,
          -0.14661492619065733,
          -0.1474201912953958,
          -0.1482336240713604,
          -0.1490553445373914,
          -0.14988547487997228,
          -0.1507241394975538,
          -0.15157146504582064,
          -0.1524275804839191,
          -0.15329261712166273,
          -0.15416670866773435,
          -0.1550499912789018,
          -0.1559426036102674,
          -0.15684468686656375,
          -0.15775638485452229,
          -0.15867784403632224,
          -0.1596092135841469,
          -0.16055064543585768,
          -0.16150229435180863,
          -0.1624643179728139,
          -0.16343687687928854,
          -0.16442013465157812,
          -0.16541425793149095,
          -0.16641941648505196,
          -0.16743578326649172,
          -0.1684635344834838,
          -0.16950284966364698,
          -0.1705539117223228,
          -0.17161690703164242,
          -0.17269202549089302,
          -0.1737794605981937,
          -0.17487940952349101,
          -0.17599207318288046,
          -0.1771176563142614,
          -0.17825636755432897,
          -0.1794084195169076,
          -0.18057402887262425,
          -0.18175341642992465,
          -0.18294680721742596,
          -0.1841544305676019,
          -0.18537652020179152,
          -0.18661331431652248,
          -0.1878650556711312,
          -0.18913199167666636,
          -0.19041437448605267,
          -0.1917124610854895,
          -0.19302651338705873,
          -0.19435679832250452,
          -0.1957035879381472,
          -0.19706715949089226,
          -0.1984477955452777,
          -0.19984578407151302,
          -0.20126141854444105,
          -0.20269499804335964,
          -0.2041468273526233,
          -0.20561721706294553,
          -0.20710648367330445,
          -0.20861494969335712,
          -0.21014294374624373,
          -0.21169080067166982,
          -0.21325886162912577,
          -0.21484747420110648,
          -0.216456992496172,
          -0.21808777725167966,
          -0.21974019593600458,
          -0.22141462285005198,
          -0.22311143922784307,
          -0.2248310333359454,
          -0.2265738005715008,
          -0.22834014355857696,
          -0.2301304722425561,
          -0.2319452039822567,
          -0.2337847636394459,
          -0.23564958366539265,
          -0.2375401041840793,
          -0.2394567730716609,
          -0.24140004603173695,
          -0.24337038666597072,
          -0.24536826653955532,
          -0.24739416524100025,
          -0.24944857043566934,
          -0.2515319779124732,
          -0.2536448916230714,
          -0.2557878237129125,
          -0.2579612945433814,
          -0.2601658327042979,
          -0.2624019750159508,
          -0.2646702665198113,
          -0.26697126045701597,
          -0.26930551823366217,
          -0.2716736093719007,
          -0.2740761114457598,
          -0.2765136100005681,
          -0.2789866984548007,
          -0.28149597798308923,
          -0.2840420573790957,
          -0.2866255528968691,
          -0.28924708806924837,
          -0.2919072935017975,
          -0.2946068066406996,
          -0.2973462715129608,
          -0.30012633843720743,
          -0.3029476637032844,
          -0.305810909218802,
          -0.30871674212069317,
          -0.31166583434978784,
          -0.3146588621863342,
          -0.31769650574432745,
          -0.32077944842245726,
          -0.3239083763094018,
          -0.327083977541161,
          -0.33030694160805346,
          -0.3335779586089634,
          -0.3368977184503802,
          -0.34026690998774545,
          -0.3436862201065883,
          -0.3471563327409335,
          -0.35067792782645013,
          -0.35425168018582837,
          -0.3578782583438957,
          -0.36155832327002907,
          -0.3652925270454738,
          -0.3690815114532706,
          -0.37292590648858337,
          -0.3768263287873574,
          -0.3807833799713773,
          -0.384797644907989,
          -0.38886968988294474,
          -0.3930000606850835,
          -0.3971892806018301,
          -0.4014378483248157,
          -0.4057462357652609,
          -0.4101148857791739,
          -0.41454420980283535,
          -0.41903458539952826,
          -0.4235863537189908,
          -0.4281998168716536,
          -0.4328752352203154,
          -0.4376128245926166,
          -0.44241275341834996,
          -0.44727513979643313,
          -0.4522000484971693,
          -0.45718748790628916,
          -0.4622374069181497,
          -0.46734969178642977,
          -0.47252416294161537,
          -0.4777605717856057,
          -0.4830585974747797,
          -0.48841784370394686,
          -0.49383783550466076,
          -0.4993180160724616,
          -0.5048577436386827,
          -0.5104562884035122,
          -0.5161128295480438,
          -0.5218264523440378,
          -0.5275961453810543,
          -0.5334207979315173,
          -0.5392991974750473,
          -0.5452300274041124,
          -0.5512118649336537,
          -0.557243179237784,
          -0.5633223298370008,
          -0.5694475652595163,
          -0.5756170220002828,
          -0.5818287238011192,
          -0.5880805812749041,
          -0.5943703918962088,
          -0.6006958403798717,
          -0.6070544994679389,
          -0.6134438311440404,
          -0.619861188292694,
          -0.6263038168191718,
          -0.6327688582434609,
          -0.6392533527794898,
          -0.6457542429081933,
          -0.6522683774501218,
          -0.6587925161402619,
          -0.6653233347044358,
          -0.6718574304331866,
          -0.6783913282454437,
          -0.6849214872304905,
          -0.6914443076529028,
          -0.6979561384012104,
          -0.704453284857068,
          -0.7109320171577984,
          -0.7173885788213004,
          -0.7238191956985223,
          -0.7302200852151094,
          -0.7365874658603997,
          -0.7429175668787755,
          -0.7492066381155028,
          -0.7554509599666567,
          -0.761646853380573,
          -0.7677906898565259,
          -0.7738789013850754,
          -0.7799079902736936,
          -0.7858745388010634,
          -0.7917752186436063,
          -0.7976068000186628,
          -0.8033661604900212,
          -0.8090502933833761,
          -0.8146563157617015,
          -0.8201814759134084,
          -0.825623160309548,
          -0.8309788999901355,
          -0.8362463763439097,
          -0.841423426250409,
          -0.8465080465581372,
          -0.85149839787771,
          -0.8563928076741728,
          -0.8611897726481023,
          -0.8658879604005641,
          -0.8704862103824562,
          -0.8749835341341272,
          -0.8793791148263809,
          -0.8836723061190062,
          -0.8878626303577006,
          -0.8919497761347386,
          -0.8959335952427859,
          -0.8998140990549811,
          -0.9035914543676596,
          -0.9072659787449245,
          -0.9108381354066032,
          -0.9143085277030228,
          -0.9176778932214208,
          -0.9209470975697234,
          -0.924117127883907,
          -0.9271890861051376,
          -0.9301641820724955,
          -0.9330437264762748,
          -0.9358291237156727,
          -0.9385218647031734,
          -0.9411235196561366,
          -0.9436357309140324,
          -0.9460602058174857,
          -0.9483987096828448,
          -0.9506530589033698,
          -0.952825114205457,
          -0.9549167740855282,
          -0.9569299684504189,
          -0.9588666524813061,
          -0.9607288007384233,
          -0.9625184015211168,
          -0.9642374514951387,
          -0.9658879505965479,
          -0.967471897219161,
          -0.9689912836902103,
          -0.9704480920367156,
          -0.9718442900430865,
          -0.9731818275986328,
          -0.9744626333319889,
          -0.9756886115279411,
          -0.9768616393208114,
          -0.9779835641573454,
          -0.979056201521035,
          -0.980081332908915,
          -0.9810607040511428,
          -0.981996023363065,
          -0.9828889606190069,
          -0.9837411458366674,
          -0.9845541683607645,
          -0.9853295761344354,
          -0.9860688751468567,
          -0.9867735290455807,
          -0.9874449589022032,
          -0.9880845431201596,
          -0.9886936174736752,
          -0.9892734752671924,
          -0.9898253676049157,
          -0.9903505037604899,
          -0.9908500516372121,
          -0.9913251383095896,
          -0.9917768506374949,
          -0.9922062359446038,
          -0.9926143027532524,
          -0.9930020215683037,
          -0.9933703257030597,
          -0.993720112140705,
          -0.9940522424252052,
          -0.994367543576015,
          -0.9946668090213657,
          -0.9949507995453132,
          -0.9952202442441113,
          -0.9954758414878591,
          -0.9957182598837208,
          -0.9959481392373685,
          -0.9961660915096172,
          -0.9963727017655288,
          -0.9965685291135566,
          -0.9967541076325709,
          -0.9969299472848606,
          -0.9970965348134515,
          -0.9972543346222924,
          -0.9974037896380793,
          -0.9975453221526716,
          -0.9976793346452278,
          -0.9978062105833626,
          -0.997926315202758,
          -0.9980399962648131,
          -0.9981475847920325,
          -0.9982493957809623,
          -0.9983457288925955,
          -0.9984368691202447,
          -0.9985230874349742,
          -0.9986046414087482,
          -0.9986817758155183,
          -0.9987547232105339,
          -0.9988237044882005,
          -0.9988889294188608,
          -0.9989505971649094,
          -0.9990088967766768,
          -0.9990640076685553,
          -0.9991161000758499,
          -0.9991653354928626,
          -0.9992118670927277,
          -0.999255840129527,
          -0.9992973923232199,
          -0.9993366542279294,
          -0.999373749584121,
          -0.9994087956552199,
          -0.9994419035491986,
          -0.9994731785256701,
          -0.9995027202890122,
          -0.9995306232680427,
          -0.9995569768827531,
          -0.9995818657986051,
          -0.9996053701688775,
          -0.9996275658655417,
          -0.999648524699136,
          -0.9996683146280901,
          -0.9996869999579449,
          -0.9997046415308944,
          -0.9997212969060694,
          -0.9997370205309609,
          -0.9997518639043809,
          -0.9997658757313289,
          -0.9997791020701345,
          -0.999791586472223,
          -0.9998033701148429,
          -0.9998144919270816,
          -0.9998249887094798,
          -0.999834895247546,
          -0.9998442444194607,
          -0.9998530672982459,
          -0.9998613932486645,
          -0.999869250019107,
          -0.9998766638287047,
          -0.9998836594499075,
          -0.9998902602867452,
          -0.9998964884489873,
          -0.9999023648224044,
          -0.9999079091353278,
          -0.99991314002169,
          -0.9999180750807245,
          -0.9999227309334962,
          -0.9999271232764188,
          -0.9999312669319191,
          -0.9999351758963885,
          -0.9999388633855645,
          -0.9999423418774745,
          -0.9999456231530683,
          -0.9999487183346575,
          -0.9999516379222781,
          -0.9999543918280867,
          -0.9999569894088866,
          -0.9999594394968916,
          -0.9999617504288123,
          -0.9999639300733592,
          -0.999965985857242,
          -0.9999679247897502,
          -0.9999697534859857,
          -0.9999714781888227,
          -0.9999731047896616,
          -0.9999746388480415,
          -0.999976085610174,
          -0.9999774500264549,
          -0.9999787367680091,
          -0.9999799502423234
         ]
        }
       ],
       "layout": {
        "height": 800,
        "scene": {
         "camera": {
          "eye": {
           "x": 1.5,
           "y": 1.5,
           "z": 1.2
          }
         },
         "xaxis": {
          "title": {
           "text": "x"
          }
         },
         "yaxis": {
          "title": {
           "text": "y"
          }
         },
         "zaxis": {
          "title": {
           "text": "F(x,y)"
          }
         }
        },
        "template": {
         "data": {
          "bar": [
           {
            "error_x": {
             "color": "#2a3f5f"
            },
            "error_y": {
             "color": "#2a3f5f"
            },
            "marker": {
             "line": {
              "color": "#E5ECF6",
              "width": 0.5
             },
             "pattern": {
              "fillmode": "overlay",
              "size": 10,
              "solidity": 0.2
             }
            },
            "type": "bar"
           }
          ],
          "barpolar": [
           {
            "marker": {
             "line": {
              "color": "#E5ECF6",
              "width": 0.5
             },
             "pattern": {
              "fillmode": "overlay",
              "size": 10,
              "solidity": 0.2
             }
            },
            "type": "barpolar"
           }
          ],
          "carpet": [
           {
            "aaxis": {
             "endlinecolor": "#2a3f5f",
             "gridcolor": "white",
             "linecolor": "white",
             "minorgridcolor": "white",
             "startlinecolor": "#2a3f5f"
            },
            "baxis": {
             "endlinecolor": "#2a3f5f",
             "gridcolor": "white",
             "linecolor": "white",
             "minorgridcolor": "white",
             "startlinecolor": "#2a3f5f"
            },
            "type": "carpet"
           }
          ],
          "choropleth": [
           {
            "colorbar": {
             "outlinewidth": 0,
             "ticks": ""
            },
            "type": "choropleth"
           }
          ],
          "contour": [
           {
            "colorbar": {
             "outlinewidth": 0,
             "ticks": ""
            },
            "colorscale": [
             [
              0,
              "#0d0887"
             ],
             [
              0.1111111111111111,
              "#46039f"
             ],
             [
              0.2222222222222222,
              "#7201a8"
             ],
             [
              0.3333333333333333,
              "#9c179e"
             ],
             [
              0.4444444444444444,
              "#bd3786"
             ],
             [
              0.5555555555555556,
              "#d8576b"
             ],
             [
              0.6666666666666666,
              "#ed7953"
             ],
             [
              0.7777777777777778,
              "#fb9f3a"
             ],
             [
              0.8888888888888888,
              "#fdca26"
             ],
             [
              1,
              "#f0f921"
             ]
            ],
            "type": "contour"
           }
          ],
          "contourcarpet": [
           {
            "colorbar": {
             "outlinewidth": 0,
             "ticks": ""
            },
            "type": "contourcarpet"
           }
          ],
          "heatmap": [
           {
            "colorbar": {
             "outlinewidth": 0,
             "ticks": ""
            },
            "colorscale": [
             [
              0,
              "#0d0887"
             ],
             [
              0.1111111111111111,
              "#46039f"
             ],
             [
              0.2222222222222222,
              "#7201a8"
             ],
             [
              0.3333333333333333,
              "#9c179e"
             ],
             [
              0.4444444444444444,
              "#bd3786"
             ],
             [
              0.5555555555555556,
              "#d8576b"
             ],
             [
              0.6666666666666666,
              "#ed7953"
             ],
             [
              0.7777777777777778,
              "#fb9f3a"
             ],
             [
              0.8888888888888888,
              "#fdca26"
             ],
             [
              1,
              "#f0f921"
             ]
            ],
            "type": "heatmap"
           }
          ],
          "histogram": [
           {
            "marker": {
             "pattern": {
              "fillmode": "overlay",
              "size": 10,
              "solidity": 0.2
             }
            },
            "type": "histogram"
           }
          ],
          "histogram2d": [
           {
            "colorbar": {
             "outlinewidth": 0,
             "ticks": ""
            },
            "colorscale": [
             [
              0,
              "#0d0887"
             ],
             [
              0.1111111111111111,
              "#46039f"
             ],
             [
              0.2222222222222222,
              "#7201a8"
             ],
             [
              0.3333333333333333,
              "#9c179e"
             ],
             [
              0.4444444444444444,
              "#bd3786"
             ],
             [
              0.5555555555555556,
              "#d8576b"
             ],
             [
              0.6666666666666666,
              "#ed7953"
             ],
             [
              0.7777777777777778,
              "#fb9f3a"
             ],
             [
              0.8888888888888888,
              "#fdca26"
             ],
             [
              1,
              "#f0f921"
             ]
            ],
            "type": "histogram2d"
           }
          ],
          "histogram2dcontour": [
           {
            "colorbar": {
             "outlinewidth": 0,
             "ticks": ""
            },
            "colorscale": [
             [
              0,
              "#0d0887"
             ],
             [
              0.1111111111111111,
              "#46039f"
             ],
             [
              0.2222222222222222,
              "#7201a8"
             ],
             [
              0.3333333333333333,
              "#9c179e"
             ],
             [
              0.4444444444444444,
              "#bd3786"
             ],
             [
              0.5555555555555556,
              "#d8576b"
             ],
             [
              0.6666666666666666,
              "#ed7953"
             ],
             [
              0.7777777777777778,
              "#fb9f3a"
             ],
             [
              0.8888888888888888,
              "#fdca26"
             ],
             [
              1,
              "#f0f921"
             ]
            ],
            "type": "histogram2dcontour"
           }
          ],
          "mesh3d": [
           {
            "colorbar": {
             "outlinewidth": 0,
             "ticks": ""
            },
            "type": "mesh3d"
           }
          ],
          "parcoords": [
           {
            "line": {
             "colorbar": {
              "outlinewidth": 0,
              "ticks": ""
             }
            },
            "type": "parcoords"
           }
          ],
          "pie": [
           {
            "automargin": true,
            "type": "pie"
           }
          ],
          "scatter": [
           {
            "fillpattern": {
             "fillmode": "overlay",
             "size": 10,
             "solidity": 0.2
            },
            "type": "scatter"
           }
          ],
          "scatter3d": [
           {
            "line": {
             "colorbar": {
              "outlinewidth": 0,
              "ticks": ""
             }
            },
            "marker": {
             "colorbar": {
              "outlinewidth": 0,
              "ticks": ""
             }
            },
            "type": "scatter3d"
           }
          ],
          "scattercarpet": [
           {
            "marker": {
             "colorbar": {
              "outlinewidth": 0,
              "ticks": ""
             }
            },
            "type": "scattercarpet"
           }
          ],
          "scattergeo": [
           {
            "marker": {
             "colorbar": {
              "outlinewidth": 0,
              "ticks": ""
             }
            },
            "type": "scattergeo"
           }
          ],
          "scattergl": [
           {
            "marker": {
             "colorbar": {
              "outlinewidth": 0,
              "ticks": ""
             }
            },
            "type": "scattergl"
           }
          ],
          "scattermap": [
           {
            "marker": {
             "colorbar": {
              "outlinewidth": 0,
              "ticks": ""
             }
            },
            "type": "scattermap"
           }
          ],
          "scattermapbox": [
           {
            "marker": {
             "colorbar": {
              "outlinewidth": 0,
              "ticks": ""
             }
            },
            "type": "scattermapbox"
           }
          ],
          "scatterpolar": [
           {
            "marker": {
             "colorbar": {
              "outlinewidth": 0,
              "ticks": ""
             }
            },
            "type": "scatterpolar"
           }
          ],
          "scatterpolargl": [
           {
            "marker": {
             "colorbar": {
              "outlinewidth": 0,
              "ticks": ""
             }
            },
            "type": "scatterpolargl"
           }
          ],
          "scatterternary": [
           {
            "marker": {
             "colorbar": {
              "outlinewidth": 0,
              "ticks": ""
             }
            },
            "type": "scatterternary"
           }
          ],
          "surface": [
           {
            "colorbar": {
             "outlinewidth": 0,
             "ticks": ""
            },
            "colorscale": [
             [
              0,
              "#0d0887"
             ],
             [
              0.1111111111111111,
              "#46039f"
             ],
             [
              0.2222222222222222,
              "#7201a8"
             ],
             [
              0.3333333333333333,
              "#9c179e"
             ],
             [
              0.4444444444444444,
              "#bd3786"
             ],
             [
              0.5555555555555556,
              "#d8576b"
             ],
             [
              0.6666666666666666,
              "#ed7953"
             ],
             [
              0.7777777777777778,
              "#fb9f3a"
             ],
             [
              0.8888888888888888,
              "#fdca26"
             ],
             [
              1,
              "#f0f921"
             ]
            ],
            "type": "surface"
           }
          ],
          "table": [
           {
            "cells": {
             "fill": {
              "color": "#EBF0F8"
             },
             "line": {
              "color": "white"
             }
            },
            "header": {
             "fill": {
              "color": "#C8D4E3"
             },
             "line": {
              "color": "white"
             }
            },
            "type": "table"
           }
          ]
         },
         "layout": {
          "annotationdefaults": {
           "arrowcolor": "#2a3f5f",
           "arrowhead": 0,
           "arrowwidth": 1
          },
          "autotypenumbers": "strict",
          "coloraxis": {
           "colorbar": {
            "outlinewidth": 0,
            "ticks": ""
           }
          },
          "colorscale": {
           "diverging": [
            [
             0,
             "#8e0152"
            ],
            [
             0.1,
             "#c51b7d"
            ],
            [
             0.2,
             "#de77ae"
            ],
            [
             0.3,
             "#f1b6da"
            ],
            [
             0.4,
             "#fde0ef"
            ],
            [
             0.5,
             "#f7f7f7"
            ],
            [
             0.6,
             "#e6f5d0"
            ],
            [
             0.7,
             "#b8e186"
            ],
            [
             0.8,
             "#7fbc41"
            ],
            [
             0.9,
             "#4d9221"
            ],
            [
             1,
             "#276419"
            ]
           ],
           "sequential": [
            [
             0,
             "#0d0887"
            ],
            [
             0.1111111111111111,
             "#46039f"
            ],
            [
             0.2222222222222222,
             "#7201a8"
            ],
            [
             0.3333333333333333,
             "#9c179e"
            ],
            [
             0.4444444444444444,
             "#bd3786"
            ],
            [
             0.5555555555555556,
             "#d8576b"
            ],
            [
             0.6666666666666666,
             "#ed7953"
            ],
            [
             0.7777777777777778,
             "#fb9f3a"
            ],
            [
             0.8888888888888888,
             "#fdca26"
            ],
            [
             1,
             "#f0f921"
            ]
           ],
           "sequentialminus": [
            [
             0,
             "#0d0887"
            ],
            [
             0.1111111111111111,
             "#46039f"
            ],
            [
             0.2222222222222222,
             "#7201a8"
            ],
            [
             0.3333333333333333,
             "#9c179e"
            ],
            [
             0.4444444444444444,
             "#bd3786"
            ],
            [
             0.5555555555555556,
             "#d8576b"
            ],
            [
             0.6666666666666666,
             "#ed7953"
            ],
            [
             0.7777777777777778,
             "#fb9f3a"
            ],
            [
             0.8888888888888888,
             "#fdca26"
            ],
            [
             1,
             "#f0f921"
            ]
           ]
          },
          "colorway": [
           "#636efa",
           "#EF553B",
           "#00cc96",
           "#ab63fa",
           "#FFA15A",
           "#19d3f3",
           "#FF6692",
           "#B6E880",
           "#FF97FF",
           "#FECB52"
          ],
          "font": {
           "color": "#2a3f5f"
          },
          "geo": {
           "bgcolor": "white",
           "lakecolor": "white",
           "landcolor": "#E5ECF6",
           "showlakes": true,
           "showland": true,
           "subunitcolor": "white"
          },
          "hoverlabel": {
           "align": "left"
          },
          "hovermode": "closest",
          "mapbox": {
           "style": "light"
          },
          "paper_bgcolor": "white",
          "plot_bgcolor": "#E5ECF6",
          "polar": {
           "angularaxis": {
            "gridcolor": "white",
            "linecolor": "white",
            "ticks": ""
           },
           "bgcolor": "#E5ECF6",
           "radialaxis": {
            "gridcolor": "white",
            "linecolor": "white",
            "ticks": ""
           }
          },
          "scene": {
           "xaxis": {
            "backgroundcolor": "#E5ECF6",
            "gridcolor": "white",
            "gridwidth": 2,
            "linecolor": "white",
            "showbackground": true,
            "ticks": "",
            "zerolinecolor": "white"
           },
           "yaxis": {
            "backgroundcolor": "#E5ECF6",
            "gridcolor": "white",
            "gridwidth": 2,
            "linecolor": "white",
            "showbackground": true,
            "ticks": "",
            "zerolinecolor": "white"
           },
           "zaxis": {
            "backgroundcolor": "#E5ECF6",
            "gridcolor": "white",
            "gridwidth": 2,
            "linecolor": "white",
            "showbackground": true,
            "ticks": "",
            "zerolinecolor": "white"
           }
          },
          "shapedefaults": {
           "line": {
            "color": "#2a3f5f"
           }
          },
          "ternary": {
           "aaxis": {
            "gridcolor": "white",
            "linecolor": "white",
            "ticks": ""
           },
           "baxis": {
            "gridcolor": "white",
            "linecolor": "white",
            "ticks": ""
           },
           "bgcolor": "#E5ECF6",
           "caxis": {
            "gridcolor": "white",
            "linecolor": "white",
            "ticks": ""
           }
          },
          "title": {
           "x": 0.05
          },
          "xaxis": {
           "automargin": true,
           "gridcolor": "white",
           "linecolor": "white",
           "ticks": "",
           "title": {
            "standoff": 15
           },
           "zerolinecolor": "white",
           "zerolinewidth": 2
          },
          "yaxis": {
           "automargin": true,
           "gridcolor": "white",
           "linecolor": "white",
           "ticks": "",
           "title": {
            "standoff": 15
           },
           "zerolinecolor": "white",
           "zerolinewidth": 2
          }
         }
        },
        "title": {
         "text": "Descenso de Gradiente"
        },
        "width": 1000
       }
      }
     },
     "metadata": {},
     "output_type": "display_data"
    }
   ],
   "source": [
    "def gradient_descent_3d(alpha=0.01, epsilon=1e-4, max_iter=1000):\n",
    "    # Punto inicial aleatorio\n",
    "    x = np.random.uniform(-2, 2)\n",
    "    y = np.random.uniform(-2, 2)\n",
    "    \n",
    "    # Historial para visualización\n",
    "    x_hist = [x]\n",
    "    y_hist = [y]\n",
    "    f_hist = [F(x, y)]\n",
    "    \n",
    "    for i in range(max_iter):\n",
    "        # Calcular gradientes\n",
    "        grad_x = dF_dx(x, y)\n",
    "        grad_y = dF_dy(x, y)\n",
    "        \n",
    "        # Actualizar posición\n",
    "        x_new = x - alpha * grad_x\n",
    "        y_new = y - alpha * grad_y\n",
    "        \n",
    "        # Verificar convergencia\n",
    "        if abs(x_new - x) < epsilon and abs(y_new - y) < epsilon:\n",
    "            print(f\"Convergencia alcanzada en {i+1} iteraciones\")\n",
    "            break\n",
    "            \n",
    "        x, y = x_new, y_new\n",
    "        x_hist.append(x)\n",
    "        y_hist.append(y)\n",
    "        f_hist.append(F(x, y))\n",
    "    \n",
    "    return x, y, F(x, y), x_hist, y_hist, f_hist\n",
    "\n",
    "# Ejecutar descenso de gradiente\n",
    "x_min, y_min, f_min, x_hist, y_hist, f_hist = gradient_descent_3d(alpha=0.01)\n",
    "\n",
    "\n",
    "# Visualización 3D con trayectoria y mapa de contorno en el piso\n",
    "fig = go.Figure()\n",
    "\n",
    "# Superficie principal\n",
    "fig.add_trace(go.Surface(x=X, y=Y, z=Z, colorscale='Blues', opacity=0.6, name='F(x,y)'))\n",
    "\n",
    "\n",
    "# Punto inicial\n",
    "fig.add_trace(go.Scatter3d(\n",
    "    x=[x_hist[0]], y=[y_hist[0]], z=[f_hist[0]],\n",
    "    mode='markers', marker=dict(size=8, color='green'),\n",
    "    name='Inicio'\n",
    "))\n",
    "\n",
    "# Punto final\n",
    "fig.add_trace(go.Scatter3d(\n",
    "    x=[x_hist[-1]], y=[y_hist[-1]], z=[f_hist[-1]],\n",
    "    mode='markers', marker=dict(size=8, color='red'),\n",
    "    name='Final'\n",
    "))\n",
    "\n",
    "# Trayectoria\n",
    "fig.add_trace(go.Scatter3d(\n",
    "    x=x_hist, y=y_hist, z=f_hist,\n",
    "    mode='lines+markers', line=dict(color='orange', width=4),\n",
    "    marker=dict(size=3, color='orange'),\n",
    "    name='Trayectoria'\n",
    "))\n",
    "\n",
    "\n",
    "\n",
    "fig.update_layout(\n",
    "    title=f'Descenso de Gradiente',\n",
    "    scene=dict(\n",
    "        xaxis_title='x', \n",
    "        yaxis_title='y', \n",
    "        zaxis_title='F(x,y)',\n",
    "        camera=dict(eye=dict(x=1.5, y=1.5, z=1.2))\n",
    "    ),\n",
    "    width=1000, height=800\n",
    ")\n",
    "\n",
    "fig.show()\n"
   ]
  },
  {
   "cell_type": "markdown",
   "metadata": {
    "id": "jQ1475YqGXXB"
   },
   "source": [
    "# Modelo de *machine learning*: Solución general\n",
    "\n",
    "Un modelo general para solucionar un problema de machinine learning puede ser estructurado como sigue:\n",
    "\n",
    "\n",
    "a. Eliger el modelo a emplear:\n",
    "\\begin{equation}\n",
    "h(X,\\Theta)\n",
    "\\end{equation}\n",
    "\n",
    "- En el caso de una regresion lineal tenemos que $h(X,\\Theta=(\\theta_0, \\theta_1))$:\n",
    "\n",
    "    \\begin{equation}\n",
    "    h(X) = (\\theta_0 + \\theta_1 X)\n",
    "    \\end{equation}\n",
    "\n",
    "\n",
    "b. Eligir la funcion de coste :\n",
    "-  Metrica Ecuclidiana:\n",
    "\\begin{equation}\n",
    "J(\\Theta)=\\frac{1}{2m} \\sum_{i=1}^m ( h_{\\theta} (X^{(i)})-y^{(i)})^2\n",
    "\\end{equation}\n",
    "- [Lista de funciones de coste que pueden ser empleadas](https://jmlb.github.io/flashcards/2018/04/21/list_cost_functions_fo_neuralnets/)\n",
    "\n",
    "\n",
    "c. Aplicar el gradiente descendente iterativamente, hasta encontrar el minimo:  \n",
    "\n",
    "\\begin{equation}\n",
    "\\Delta \\vec{\\Theta} =  - \\alpha \\nabla J(\\Theta)\n",
    "\\end{equation}\n",
    "\n",
    "\n",
    "\n",
    "- En el caso de una regresion lineal tenemos que $h(X,\\Theta=(\\theta_0, \\theta_1))$:\n",
    "\n",
    "\n",
    "\\begin{equation}\n",
    "\\theta_0 := \\theta_0 - \\alpha \\frac{\\partial J}{\\partial \\theta_0}\n",
    "\\end{equation}\n",
    "\n",
    "\\begin{equation}\n",
    "\\theta_1 := \\theta_1 - \\alpha \\frac{\\partial J}{\\partial \\theta_1}\n",
    "\\end{equation}"
   ]
  },
  {
   "cell_type": "code",
   "execution_count": null,
   "metadata": {},
   "outputs": [],
   "source": [
    "# Punto 8: Regresión lineal con gradiente descendente\n",
    "\n",
    "# Generar datos\n",
    "X = np.linspace(0, 1, 100)\n",
    "y = 0.2 + 0.2*X + 0.02*np.random.random(100)\n",
    "\n",
    "# Agregar columna de unos para theta_0\n",
    "X_with_bias = np.column_stack([np.ones(len(X)), X])\n",
    "\n",
    "def MSE_loss(y_true, y_pred):\n",
    "    return np.mean((y_true - y_pred)**2)\n",
    "\n",
    "def gradient_descent_linear(X, y, alpha=0.01, max_iter=1000, epsilon=1e-6):\n",
    "    # Inicializar parámetros aleatoriamente\n",
    "    theta = np.random.normal(0, 0.1, X.shape[1])\n",
    "    \n",
    "    for i in range(max_iter):\n",
    "        # Predicciones\n",
    "        y_pred = X @ theta\n",
    "        \n",
    "        # Calcular gradientes\n",
    "        gradient = (1/len(y)) * X.T @ (y_pred - y)\n",
    "        \n",
    "        # Actualizar parámetros\n",
    "        theta_new = theta - alpha * gradient\n",
    "        \n",
    "        # Verificar convergencia\n",
    "        if np.linalg.norm(theta_new - theta) < epsilon:\n",
    "            break\n",
    "            \n",
    "        theta = theta_new\n",
    "    \n",
    "    return theta\n",
    "\n",
    "# Ejecutar gradiente descendente\n",
    "theta_optimal = gradient_descent_linear(X_with_bias, y, alpha=0.1)\n",
    "\n",
    "# Predicciones finales\n",
    "y_pred = X_with_bias @ theta_optimal\n",
    "final_loss = MSE_loss(y, y_pred)\n",
    "print(f\"Pérdida final (MSE): {final_loss:.6f}\")\n",
    "\n",
    "# Visualización\n",
    "plt.figure(figsize=(8, 6))\n",
    "plt.scatter(X, y, alpha=0.6, label='Datos')\n",
    "plt.plot(X, y_pred, 'r-', linewidth=2, label='Modelo GD')\n",
    "plt.xlabel('X')\n",
    "plt.ylabel('y')\n",
    "plt.title('Regresión Lineal con Gradiente Descendente')\n",
    "plt.legend()\n",
    "plt.grid(True)\n",
    "plt.show()\n"
   ]
  },
  {
   "cell_type": "code",
   "execution_count": null,
   "metadata": {},
   "outputs": [],
   "source": [
    "# Punto 9: Comparación con sklearn LinearRegression\n",
    "\n",
    "from sklearn.linear_model import LinearRegression\n",
    "\n",
    "# Usar sklearn\n",
    "sklearn_model = LinearRegression()\n",
    "sklearn_model.fit(X.reshape(-1, 1), y)\n",
    "y_pred_sklearn = sklearn_model.predict(X.reshape(-1, 1))\n",
    "\n",
    "# Visualización comparativa\n",
    "plt.figure(figsize=(8, 6))\n",
    "plt.scatter(X, y, alpha=0.6, label='Datos', color='gray')\n",
    "plt.plot(X, y_pred, 'r-', linewidth=2, label='Gradiente Descendente')\n",
    "plt.plot(X, y_pred_sklearn, 'b--', linewidth=2, label='Sklearn')\n",
    "plt.xlabel('X')\n",
    "plt.ylabel('y')\n",
    "plt.title('Comparación: Gradiente Descendente vs Sklearn')\n",
    "plt.legend()\n",
    "plt.grid(True)\n",
    "plt.show()\n"
   ]
  },
  {
   "cell_type": "markdown",
   "metadata": {
    "id": "lJs2ytT8IVW4"
   },
   "source": [
    "8. Empleando los siguientes datos :\n",
    "\n",
    "```\n",
    "X = np.linspace(0, 1, 100)\n",
    "y = 0.2 + 0.2*X + 0.02*np.random.random(100)\n",
    "```\n",
    "\n",
    "y las herramientas desarrolladas en los apartados anteriores,\n",
    "construya un algorítmo que permita determinar una regresión lineal.\n",
    "\n",
    "\n"
   ]
  },
  {
   "cell_type": "code",
   "execution_count": null,
   "metadata": {},
   "outputs": [
    {
     "data": {
      "image/png": "[encoded data removed]",
      "text/plain": [
       "<Figure size 640x480 with 1 Axes>"
      ]
     },
     "metadata": {},
     "output_type": "display_data"
    }
   ],
   "source": [
    "\n",
    "\n",
    "# Generar datos\n",
    "X = np.linspace(0, 1, 100)\n",
    "y = 0.2 + 0.2*X + 0.02*np.random.random(100)\n",
    "\n",
    "# Agregar columna de unos para theta_0\n",
    "X_with_bias = np.column_stack([np.ones(len(X)), X])\n",
    "\n",
    "def MSE_loss(y_true, y_pred):\n",
    "    return np.mean((y_true - y_pred)**2)\n",
    "\n",
    "def gradient_descent_linear(X, y, alpha=0.01, max_iter=1000, epsilon=1e-6):\n",
    "    # Inicializar parámetros aleatoriamente\n",
    "    theta = np.random.normal(0, 0.1, X.shape[1])\n",
    "    \n",
    "    \n",
    "    for i in range(max_iter):\n",
    "        # Predicciones\n",
    "        y_pred = X @ theta\n",
    "        \n",
    "        # Calcular pérdida\n",
    "        loss = MSE_loss(y, y_pred)\n",
    "\n",
    "        # Calcular gradientes\n",
    "        gradient = (1/len(y)) * X.T @ (y_pred - y)\n",
    "        \n",
    "        # Actualizar parámetros\n",
    "        theta_new = theta - alpha * gradient\n",
    "        \n",
    "        # Verificar convergencia\n",
    "        if np.linalg.norm(theta_new - theta) < epsilon:\n",
    "            break\n",
    "            \n",
    "        theta = theta_new\n",
    "\n",
    "    return theta\n",
    "\n",
    "# Ejecutar gradiente descendente\n",
    "theta_optimal = gradient_descent_linear(X_with_bias, y, alpha=0.1)\n",
    "\n",
    "# Predicciones finales\n",
    "y_pred = X_with_bias @ theta_optimal\n",
    "final_loss = MSE_loss(y, y_pred)\n",
    "\n",
    "# Datos y modelo\n",
    "plt.scatter(X, y, alpha=0.6, label='Datos')\n",
    "plt.plot(X, y_pred, 'r-', linewidth=2, label='Modelo GD')\n",
    "plt.xlabel('X')\n",
    "plt.ylabel('y')\n",
    "plt.title('Regresión Lineal con Gradiente Descendente')\n",
    "plt.legend()\n",
    "plt.grid(True)\n",
    "\n",
    "plt.show()"
   ]
  },
  {
   "cell_type": "markdown",
   "metadata": {},
   "source": [
    "9. Compare su resultado empleando la libreria linearRegresion() de sklearn."
   ]
  },
  {
   "cell_type": "code",
   "execution_count": 132,
   "metadata": {},
   "outputs": [
    {
     "data": {
      "image/png": "[encoded data removed]",
      "text/plain": [
       "<Figure size 800x600 with 1 Axes>"
      ]
     },
     "metadata": {},
     "output_type": "display_data"
    }
   ],
   "source": [
    "from sklearn.linear_model import LinearRegression\n",
    "\n",
    "# Usar sklearn\n",
    "sklearn_model = LinearRegression()\n",
    "sklearn_model.fit(X.reshape(-1, 1), y)\n",
    "y_pred_sklearn = sklearn_model.predict(X.reshape(-1, 1))\n",
    "\n",
    "# Visualización comparativa\n",
    "plt.figure(figsize=(8, 6))\n",
    "plt.scatter(X, y, alpha=0.6, label='Datos', color='gray')\n",
    "plt.plot(X, y_pred, 'r-', linewidth=2, label='Gradiente Descendente')\n",
    "plt.plot(X, y_pred_sklearn, 'b--', linewidth=2, label='Sklearn')\n",
    "plt.xlabel('X')\n",
    "plt.ylabel('y')\n",
    "plt.title('Comparación: Gradiente Descendente vs Sklearn')\n",
    "plt.legend()\n",
    "plt.grid(True)\n",
    "plt.show()\n"
   ]
  },
  {
   "cell_type": "markdown",
   "metadata": {
    "id": "yDn1cNi0OUj_"
   },
   "source": [
    "Hint:\n",
    "\n",
    "Pueden comprobar la solución de la superficie con el siguiente cálculo:\n",
    "\n",
    "\n",
    "\\begin{equation}\n",
    "J(\\Theta)=\\frac{1}{2m} \\sum_{i=1}^m ( h_{\\theta} (X^{(i)})-y^{(i)})^2\n",
    "\\end{equation}\n",
    "\n",
    "\n",
    "\n",
    "Sea $\\Theta^T = [\\theta_0,\\theta_1]$\n",
    "\n",
    "\n",
    "\\begin{equation}\n",
    "X =\n",
    "\\begin{bmatrix}\n",
    "1& 1 & 1 & .&.&.&1\\\\\n",
    "x_1^{(1)}&x_1^{(2)} & x_1^{(3)} & .&.&.&x_1^{(m)}\\\\\n",
    "\\end{bmatrix}_{(n+1) \\times m}\n",
    "\\end{equation}\n",
    "\n",
    "Luego:\n",
    "\n",
    "\\begin{equation}\n",
    "\\Lambda = \\Theta^T X=\n",
    "\\begin{bmatrix}\n",
    "(\\theta_0 1 + \\theta_1 x_1^1)\\\\\n",
    "(\\theta_0 1 + \\theta_1 x_1^2)\\\\\n",
    ".\\\\\n",
    ".\\\\\n",
    ".\\\\\n",
    "(\\theta_0 1 + \\theta_1 x_1^m)\\\\\n",
    "\\end{bmatrix}\n",
    "\\end{equation}\n",
    "\n",
    "\n",
    "Sumando sobre todos los elementos de matriz se puede encontrar la función de coste $J = \\mathrm{\\Lambda.mean()^2}$."
   ]
  }
 ],
 "metadata": {
  "colab": {
   "provenance": [
    {
     "file_id": "https://github.com/CienciaDatosUdea/002_EstudiantesAprendizajeEstadistico/blob/main/semestre2025-2/Laboratorios/Laboratorio_03_reg_lin_grad_descV1.ipynb",
     "timestamp": 1760456219493
    }
   ]
  },
  "kernelspec": {
   "display_name": "Python 3",
   "language": "python",
   "name": "python3"
  },
  "language_info": {
   "codemirror_mode": {
    "name": "ipython",
    "version": 3
   },
   "file_extension": ".py",
   "mimetype": "text/x-python",
   "name": "python",
   "nbconvert_exporter": "python",
   "pygments_lexer": "ipython3",
   "version": "3.12.4"
  }
 },
 "nbformat": 4,
 "nbformat_minor": 0
}
