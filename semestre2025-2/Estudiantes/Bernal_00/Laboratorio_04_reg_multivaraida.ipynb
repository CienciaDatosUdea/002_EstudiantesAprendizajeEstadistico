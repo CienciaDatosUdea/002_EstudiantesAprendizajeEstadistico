{
 "cells": [
  {
   "cell_type": "markdown",
   "metadata": {
    "id": "qiRIfl4W2cLM"
   },
   "source": [
    "# Regresion multivariada\n",
    "\n",
    "Supongamos que tenemos un conjunto de caracteristicas $X = X_1,X_2...X_j...X_n$ para realizar una  predicción $y$ con valores esperados $\\hat{y}$.  \n",
    "\n",
    "Cada X, puede ser escrito como:\n",
    " $X_1 = x_1^{(1)},x_1^{(2)}, x_1^{(3)}...x_1^{(m)}$,\n",
    "\n",
    " $X_2 = x_2^{(1)},x_2^{(2)}, x_2^{(3)}...x_2^{(m)}$,\n",
    "\n",
    " .\n",
    "\n",
    " .\n",
    "\n",
    " .\n",
    "\n",
    " $X_n = x_n^{(1)},x_n^{(2)}, x_n^{(3)}...x_n^{(m)}$.\n",
    "\n",
    "\n",
    "Siendo n el número de caracteristicas y m el número de datos de datos,\n",
    "$\\hat{y} = \\hat{y}_1^{(1)}, \\hat{y}_1^{(2)}...\\hat{y}_1^{(m)} $, el conjunto de datos etiquetados  y $y = y_1^{(1)}, y_1^{(2)}...y_1^{(m)} $ los valores predichos por un modelo\n",
    "\n",
    "\n",
    "\n",
    "\n",
    "Lo anterior puede ser resumido  como:\n",
    "\n",
    "\n",
    "\n",
    "|Training|$\\hat{y}$      | X_1  | X_2  |  .  | .|. |. | X_n|\n",
    "|--------|-------|------|------|-----|--|--|--|----|\n",
    "|1|$\\hat{y}_1^{1}$ | $x_1^{1}$|$x_2^{1}$| .  | .|. |. | $x_n^{1}$|\n",
    "|2|$\\hat{y}_1^{2}$ | $x_1^{2}$|$x_2^{2}$| .  | .|. |. | $x_n^{2}$|\n",
    "|.|.         | .        |.| .  | .|. |. | |\n",
    "|.|.         | .        |.| .  | .|. |. | |\n",
    "|.|.         | .        |.| .  | .|. |. | |\n",
    "|m|$\\hat{y}_1^{m}$ | $x_1^{m}$  |$x_2^{m}$| .  | .|. |. | $x_n^{m}$|\n",
    "\n",
    "\n",
    "y el el modelo puede ser ajustado como sigue:\n",
    "\n",
    "Para un solo conjunto de datos de entrenamiento tentemos que:\n",
    "\n",
    "$y = h(\\theta_0,\\theta_1,\\theta_2,...,\\theta_n ) = \\theta_0 + \\theta_1 x_1+\\theta_2 x_2 + \\theta_3 x_3 +...+ \\theta_n x_n $.\n",
    "\n",
    "$$\n",
    "\n",
    "\\begin{equation}\n",
    "h_{\\Theta}(x) = \n",
    "[\\theta_0,\\theta_1,\\ldots,\\theta_n]\n",
    "\\begin{bmatrix}\n",
    "1\\\\\n",
    "x_1\\\\\n",
    "x_2\\\\\n",
    "\\vdots\\\\\n",
    "x_n\n",
    "\\end{bmatrix}\n",
    "= \\Theta^T X\n",
    "\\end{equation}\n",
    "\n",
    "$$\n",
    "\n",
    "Para todo el conjunto de datos, tenemos que:\n",
    "\n",
    "Sea $\\Theta^T = [\\theta_0,\\theta_1,\\theta_2,...,\\theta_n]$ una matrix $1 \\times (n+1)$ y  \n",
    "\n",
    "\n",
    "\\begin{equation}\n",
    "X =\n",
    "\\begin{bmatrix}\n",
    "1& 1 & 1 & .&.&.&1\\\\\n",
    "x_1^{(1)}&x_2^{(1)} & x_3^{(1)} & .&.&.&x_m^{1}\\\\\n",
    ".&. & . &.&.&.& .\\\\\n",
    ".&. & . & .&.&.&.\\\\\n",
    ".&. & . & .&.&.&.\\\\\n",
    "x_1^{(n+1)}&x_2^{(n+1)} & x_3^{(n+1)} & .&.&.&x_m^{(n+1)}\\\\\n",
    "\\end{bmatrix}_{(n+1) \\times m}\n",
    "\\end{equation}\n",
    "\n",
    "\n",
    "\n",
    "\n",
    "luego $h = \\Theta^{T} X $ con dimension $1\\times m$\n",
    "\n",
    "\n",
    "\n",
    "\n",
    "La anterior ecuación, es un hiperplano en $\\mathbb{R}^n$. Notese que en caso de tener una sola característica, la ecuación puede ser análizada según lo visto en la sesión de regresion lineal.\n",
    "\n",
    "\n",
    "Para la optimización, vamos a definir la función de coste **$J(\\theta_1,\\theta_2,\\theta_3, ...,\\theta_n )$** , como la función  asociada a la minima distancia entre dos puntos, según la metrica euclidiana.\n",
    "\n",
    "- Metrica Eculidiana\n",
    "\n",
    "\\begin{equation}\n",
    "J(\\theta_1,\\theta_2,\\theta_3, ...,\\theta_n )=\\frac{1}{2m} \\sum_{i=1}^m ( h_{\\Theta} (X)-\\hat{y}^{(i)})^2 =\\frac{1}{2m} \\sum_{i = 1}^m (\\Theta^{T} X - \\hat{y}^{(i)})^2\n",
    "\\end{equation}\n",
    "\n",
    "Otras métricas pueden ser definidas como sigue en la siguiente referencia.  [Metricas](https://jmlb.github.io/flashcards/2018/04/21/list_cost_functions_fo_neuralnets/).\n",
    "\n",
    "Nuestro objetivo será encontrar los valores mínimos\n",
    "$\\Theta = \\theta_0,\\theta_1,\\theta_2,...,\\theta_n$ que minimizan el error, respecto a los valores etiquetados y esperados $\\hat{y}$\n",
    "\n",
    "\n",
    "Para encontrar $\\Theta$ optimo, se necesita  minimizar la función de coste, que permite obtener los valores más cercanos,  esta minimización podrá ser realizada a través de diferentes metodos, el más conocido es el gradiente descendente.\n",
    "\n",
    "\n",
    "\n",
    "\n",
    "\n"
   ]
  },
  {
   "cell_type": "markdown",
   "metadata": {
    "id": "E5ApulK23HfL"
   },
   "source": [
    "\n",
    "## Gradiente descendente\n",
    "\n",
    "Consideremos la función de coste sin realizar el promedio  de funcion de coste:\n",
    "\\begin{equation}\n",
    "\\Lambda^T =\n",
    "\\begin{bmatrix}\n",
    "(\\theta_0 1 + \\theta_1 x_1^1+\\theta_2 x_2^2 + \\theta_3 x_3^3 +...+ \\theta_n x_n^n - \\hat{y}^{1})^2 \\\\\n",
    "(\\theta_0 1+ \\theta_1 x_1^1+\\theta_2 x_2^2 + \\theta_3 x_3^3 +...+ \\theta_n x_n^n - \\hat{y}^{2})^2\\\\\n",
    ".\\\\\n",
    ".\\\\\n",
    ".\\\\\n",
    "(\\theta_0 1 + \\theta_1 x_1^m+\\theta_2 x_2^m + \\theta_3 x_3^m +...+ \\theta_n x_n^m - \\hat{y}^{m})^2\\\\\n",
    "\\end{bmatrix}\n",
    "\\end{equation}\n",
    "\n",
    "$\\Lambda= [\\Lambda_1,\\Lambda_2, ...,\\Lambda_m]$\n",
    "\n",
    "$J = \\frac{1}{2m} \\sum_{i}^m \\Lambda_i $\n",
    "\n",
    "El gradiente descente, puede ser escrito como:\n",
    "\n",
    "\\begin{equation}\n",
    "\\Delta \\vec{\\Theta} =  - \\alpha \\nabla J(\\theta_0, \\theta_1,...,\\theta_n)\n",
    "\\end{equation}\n",
    "\n",
    "escogiendo el valor j-esimo tenemos que:\n",
    "\n",
    "\\begin{equation}\n",
    "\\theta_j :=  - \\alpha \\frac{\\partial J(\\theta_0, \\theta_1,...\\theta_j...,\\theta_n)}{\\partial \\theta_j}\n",
    "\\end{equation}\n",
    "\n",
    "Aplicando lo anterior a a función de coste asociada a la métrica ecuclidiana, tenemos que:\n",
    "\n",
    "Para $j = 0$,\n",
    "\n",
    "\n",
    "\\begin{equation}\n",
    "\\theta_0 :=  - \\alpha \\frac{\\partial J(\\theta_0, \\theta_1,...\\theta_j...,\\theta_n)}{\\partial \\theta_0} = \\frac{1}{m}\\alpha \\sum_{i=1}^m (\\theta_j X_{ji} - \\hat{y}^{(i)}) 1\n",
    "\\end{equation}\n",
    "\n",
    "\n",
    "\n",
    "Para $0<j<n $\n",
    "\n",
    "\\begin{equation}\n",
    "\\theta_j :=  - \\alpha \\frac{\\partial J(\\theta_0, \\theta_1,...\\theta_j...,\\theta_n)}{\\partial \\theta_j} = \\frac{1}{m} \\alpha\\sum_{i=1}^m (\\theta_{j} X_{ji} - \\hat{y}^{(i)}) X_j\n",
    "\\end{equation}\n",
    "\n",
    "donde X_j es el vector de entrenamiento j-esimo.\n",
    "\n",
    "Lo  anterior puede ser generalizado como siguem, teniendo presente que $X_0 = \\vec{1}$\n",
    "\n",
    "\n",
    "Para $0\\leq j<n$,\n",
    "\n",
    "\\begin{equation}\n",
    "\\theta_j :=  - \\alpha \\frac{\\partial J(\\theta_0, \\theta_1,...\\theta_j...,\\theta_n)}{\\partial \\theta_j} = \\frac{1}{m} \\alpha\\sum_{i=1}^m (\\theta_j X_{ji} - \\hat{y}^{(i)}) X_j\n",
    "\\end{equation}\n",
    "\n",
    "\n",
    "\n",
    "# Vectorizando el grandiente descendete, tenemos que:\n",
    "\\begin{equation}\n",
    "\\nabla J = \\Lambda^T X\n",
    "\\end{equation}\n",
    "\n",
    "Luego:\n",
    "\n",
    "\\begin{equation}\n",
    "\\Theta=\\Theta-\\alpha \\nabla J\n",
    "\\end{equation}\n"
   ]
  },
  {
   "cell_type": "code",
   "execution_count": 22,
   "metadata": {
    "executionInfo": {
     "elapsed": 12,
     "status": "ok",
     "timestamp": 1760632232498,
     "user": {
      "displayName": "JOSE DAVID BERNAL RESTREPO",
      "userId": "01465524678283613080"
     },
     "user_tz": 300
    },
    "id": "kKBb82y6oomw"
   },
   "outputs": [],
   "source": [
    "import numpy as np\n",
    "import matplotlib.pyplot as plt\n",
    "import seaborn as sns\n",
    "import plotly.express as px"
   ]
  },
  {
   "cell_type": "markdown",
   "metadata": {
    "id": "7eavd6K24VDP"
   },
   "source": [
    "# Laboratorio 04\n",
    "Objetivo: Programar una regresión multivariada\n",
    "\n",
    "\n",
    "1. Para simular un conjunto de características $x_1$ , $x_2$,..., $x_n$ trabajaremos en la primera parte con dos características de datos aleatorios que presentan un plano y mostraremos que los párametros optimizados se corresponden con el valor esperado.\n",
    "\n",
    "- Definir la ecuación  $y = 2.1*x_1 - 3.1*x_2$, y generar números aleatorios que pertenecen al plano.\n",
    "\n",
    "- Realizar un diagrama 3D de los puntos generados aleatoriamente.\n",
    "\n",
    "\n",
    "Nuestro objetivo será encontrar los valores $\\theta_0 = 0, \\theta_1=2.1, \\theta_1=3.1$ que mejor ajustar el plano, empleando cálculos vectorizados.\n"
   ]
  },
  {
   "cell_type": "code",
   "execution_count": 23,
   "metadata": {
    "colab": {
     "base_uri": "https://localhost:8080/",
     "height": 542
    },
    "executionInfo": {
     "elapsed": 70,
     "status": "ok",
     "timestamp": 1760632232570,
     "user": {
      "displayName": "JOSE DAVID BERNAL RESTREPO",
      "userId": "01465524678283613080"
     },
     "user_tz": 300
    },
    "id": "8wgVHQk6oJpV",
    "outputId": "715bf69b-fee9-4713-a6d7-c3b051aab681"
   },
   "outputs": [
    {
     "data": {
      "application/vnd.plotly.v1+json": {
       "config": {
        "plotlyServerURL": "https://plot.ly"
       },
       "data": [
        {
         "hovertemplate": "x=%{x}<br>y=%{y}<br>z=%{z}<extra></extra>",
         "legendgroup": "",
         "marker": {
          "color": "#636efa",
          "symbol": "circle"
         },
         "mode": "markers",
         "name": "",
         "scene": "scene",
         "showlegend": false,
         "type": "scatter3d",
         "x": {
          "bdata": "x6+bludLIMAYmh4YKkkbQFAS4EeGxBFAwJa4Xr0kxT98ke3HbBkPwKBDu/AR3h7AwHk72try5D8Yy3QGsSQYQAaQA/Q9IiJAoEDKRqJC8j9GAKCofiUawIzMLUAmuQTAkGzdU2C58z9ULckVAksGwGzehBXr6A7AQNn45g385j/yCzHQjyAgwCB851wBuBtAwBxO1O4HIcAEHpBCuecfQBC4lbwzIBhAGrlbaoFxEkA8JdFK9ioVQJQflhU/+g/AANa7IMk4kr8EHWnf7tMAwHSD2fFPIwrAqJxlC74H/T9wlF18cg3+P5AGP+eCXBpAAMxu38Mw+z9KGwakv1IiQGSWJ80L6g7AkMO4Sm1/5T+UbkUAb/kSwLj2ECAWZgVAdnX01k+sIcAT/SdCvmMjwNSVDWEUfQLA7PExfJtdIEDUC9DLs84LwOV9DDyMIRXA0JTXZNSVI0CHoxK5hR4gwG9o9TsykyPAQKqBRfpB9b8IRdcUgaQhQHlxgYtB7x3AmjM+t7LjIsAoYOLPZyQUQA==",
          "dtype": "f8"
         },
         "y": {
          "bdata": "pAfnncsSBMAcmCBKrYQVQHRx6/NlegnAPvEsUAwAFUBHIIWIcPwYwED6x41Hm9E/iLlE0tycFkBgGMDZK8LYPyB4+8Np6QdAgMCYl2fMGEDk74kNxNISQLbHMM4cayFAEE1UICeOHkBgXAbxI9Xev2cteyKCORLAEkPr5y/lGsD4A0NsdxUgwBSv8AjGYAFAIH/TZGJ85r/SLQX/UREjQBw/LFzU+hLAmF6ZgGeGGsAw4NQEA0LiP4qDeTGGkxJAvDaBQyRuGUDiUb/wT5MjQOT58WDtwghAOMg+Tpf/H0C4rzMV0fwbQGC42O+FbwHAThW0LzXzAsA0YX70vhkEwEBAblP7U+I/0L93JpkLEkAq6euO/QQdwKB79jRJryDA1X5/n8RgHMCB1XRf+78gwBDSz9Aatvm/F2bfh/Q4IsAYC/SLpVMJwLQD8xqk1Q7AgKnay2RdIEDo3lp2EKH8v3ZbFiTu/BJAsL8qJSYTIED2Z+V/hmgiwNTuS/aqQQ5AzOaZtMELGEDQiF26vqocQA==",
          "dtype": "f8"
         },
         "z": {
          "bdata": "+mwMmbzhIsC4e3jcUa0DwH8Be8XAFzNAkkTBREkJMMAXFxkNbi8mQE53OVGPKjHArmwCNRVCMMDsfSOQabwmQGTcmERPVSNAl00rnh7uMMCLxGSrR2w8wERZaFzwRUDA9e+e6RYzNcDTqkRbq90RwBJGAabnmxdAWzEfaII+NkC0byDguY0fQMQx88Zn1x5AHJdz8dyfL8BKEJ5USdMpwHdtEYJyRDtAz4yHubMhPkBMoEZbBHkiQOoLlZcS5jbAt8oU85PaM8CDAH1SAm9BwGyHOZp0kDDAsWKE87cYNcBiCkilntoxwM9mkpfufDRA5h3gXpWbJUAJ65dinOs6QCutasE//yPAAkuQGltdKcDvOUyZU9coQIBvidjWXj9A0OOu8iCgCkCwJ0jlKPsVQMTzIQh0ypQ/SZ+37A6pRkC0tRD20EADQM4Ba1Hk4+c/OLrZacOiE8DMQonn/PgmwINvDHhQsEHAi4vnZ2TQO8CS39/Ji3lHQM2lDbFOjDvA+GySTexJQ8BDNyLkIYAnwA==",
          "dtype": "f8"
         }
        }
       ],
       "layout": {
        "legend": {
         "tracegroupgap": 0
        },
        "scene": {
         "domain": {
          "x": [
           0,
           1
          ],
          "y": [
           0,
           1
          ]
         },
         "xaxis": {
          "title": {
           "text": "x"
          }
         },
         "yaxis": {
          "title": {
           "text": "y"
          }
         },
         "zaxis": {
          "title": {
           "text": "z"
          }
         }
        },
        "template": {
         "data": {
          "bar": [
           {
            "error_x": {
             "color": "#2a3f5f"
            },
            "error_y": {
             "color": "#2a3f5f"
            },
            "marker": {
             "line": {
              "color": "#E5ECF6",
              "width": 0.5
             },
             "pattern": {
              "fillmode": "overlay",
              "size": 10,
              "solidity": 0.2
             }
            },
            "type": "bar"
           }
          ],
          "barpolar": [
           {
            "marker": {
             "line": {
              "color": "#E5ECF6",
              "width": 0.5
             },
             "pattern": {
              "fillmode": "overlay",
              "size": 10,
              "solidity": 0.2
             }
            },
            "type": "barpolar"
           }
          ],
          "carpet": [
           {
            "aaxis": {
             "endlinecolor": "#2a3f5f",
             "gridcolor": "white",
             "linecolor": "white",
             "minorgridcolor": "white",
             "startlinecolor": "#2a3f5f"
            },
            "baxis": {
             "endlinecolor": "#2a3f5f",
             "gridcolor": "white",
             "linecolor": "white",
             "minorgridcolor": "white",
             "startlinecolor": "#2a3f5f"
            },
            "type": "carpet"
           }
          ],
          "choropleth": [
           {
            "colorbar": {
             "outlinewidth": 0,
             "ticks": ""
            },
            "type": "choropleth"
           }
          ],
          "contour": [
           {
            "colorbar": {
             "outlinewidth": 0,
             "ticks": ""
            },
            "colorscale": [
             [
              0,
              "#0d0887"
             ],
             [
              0.1111111111111111,
              "#46039f"
             ],
             [
              0.2222222222222222,
              "#7201a8"
             ],
             [
              0.3333333333333333,
              "#9c179e"
             ],
             [
              0.4444444444444444,
              "#bd3786"
             ],
             [
              0.5555555555555556,
              "#d8576b"
             ],
             [
              0.6666666666666666,
              "#ed7953"
             ],
             [
              0.7777777777777778,
              "#fb9f3a"
             ],
             [
              0.8888888888888888,
              "#fdca26"
             ],
             [
              1,
              "#f0f921"
             ]
            ],
            "type": "contour"
           }
          ],
          "contourcarpet": [
           {
            "colorbar": {
             "outlinewidth": 0,
             "ticks": ""
            },
            "type": "contourcarpet"
           }
          ],
          "heatmap": [
           {
            "colorbar": {
             "outlinewidth": 0,
             "ticks": ""
            },
            "colorscale": [
             [
              0,
              "#0d0887"
             ],
             [
              0.1111111111111111,
              "#46039f"
             ],
             [
              0.2222222222222222,
              "#7201a8"
             ],
             [
              0.3333333333333333,
              "#9c179e"
             ],
             [
              0.4444444444444444,
              "#bd3786"
             ],
             [
              0.5555555555555556,
              "#d8576b"
             ],
             [
              0.6666666666666666,
              "#ed7953"
             ],
             [
              0.7777777777777778,
              "#fb9f3a"
             ],
             [
              0.8888888888888888,
              "#fdca26"
             ],
             [
              1,
              "#f0f921"
             ]
            ],
            "type": "heatmap"
           }
          ],
          "histogram": [
           {
            "marker": {
             "pattern": {
              "fillmode": "overlay",
              "size": 10,
              "solidity": 0.2
             }
            },
            "type": "histogram"
           }
          ],
          "histogram2d": [
           {
            "colorbar": {
             "outlinewidth": 0,
             "ticks": ""
            },
            "colorscale": [
             [
              0,
              "#0d0887"
             ],
             [
              0.1111111111111111,
              "#46039f"
             ],
             [
              0.2222222222222222,
              "#7201a8"
             ],
             [
              0.3333333333333333,
              "#9c179e"
             ],
             [
              0.4444444444444444,
              "#bd3786"
             ],
             [
              0.5555555555555556,
              "#d8576b"
             ],
             [
              0.6666666666666666,
              "#ed7953"
             ],
             [
              0.7777777777777778,
              "#fb9f3a"
             ],
             [
              0.8888888888888888,
              "#fdca26"
             ],
             [
              1,
              "#f0f921"
             ]
            ],
            "type": "histogram2d"
           }
          ],
          "histogram2dcontour": [
           {
            "colorbar": {
             "outlinewidth": 0,
             "ticks": ""
            },
            "colorscale": [
             [
              0,
              "#0d0887"
             ],
             [
              0.1111111111111111,
              "#46039f"
             ],
             [
              0.2222222222222222,
              "#7201a8"
             ],
             [
              0.3333333333333333,
              "#9c179e"
             ],
             [
              0.4444444444444444,
              "#bd3786"
             ],
             [
              0.5555555555555556,
              "#d8576b"
             ],
             [
              0.6666666666666666,
              "#ed7953"
             ],
             [
              0.7777777777777778,
              "#fb9f3a"
             ],
             [
              0.8888888888888888,
              "#fdca26"
             ],
             [
              1,
              "#f0f921"
             ]
            ],
            "type": "histogram2dcontour"
           }
          ],
          "mesh3d": [
           {
            "colorbar": {
             "outlinewidth": 0,
             "ticks": ""
            },
            "type": "mesh3d"
           }
          ],
          "parcoords": [
           {
            "line": {
             "colorbar": {
              "outlinewidth": 0,
              "ticks": ""
             }
            },
            "type": "parcoords"
           }
          ],
          "pie": [
           {
            "automargin": true,
            "type": "pie"
           }
          ],
          "scatter": [
           {
            "fillpattern": {
             "fillmode": "overlay",
             "size": 10,
             "solidity": 0.2
            },
            "type": "scatter"
           }
          ],
          "scatter3d": [
           {
            "line": {
             "colorbar": {
              "outlinewidth": 0,
              "ticks": ""
             }
            },
            "marker": {
             "colorbar": {
              "outlinewidth": 0,
              "ticks": ""
             }
            },
            "type": "scatter3d"
           }
          ],
          "scattercarpet": [
           {
            "marker": {
             "colorbar": {
              "outlinewidth": 0,
              "ticks": ""
             }
            },
            "type": "scattercarpet"
           }
          ],
          "scattergeo": [
           {
            "marker": {
             "colorbar": {
              "outlinewidth": 0,
              "ticks": ""
             }
            },
            "type": "scattergeo"
           }
          ],
          "scattergl": [
           {
            "marker": {
             "colorbar": {
              "outlinewidth": 0,
              "ticks": ""
             }
            },
            "type": "scattergl"
           }
          ],
          "scattermap": [
           {
            "marker": {
             "colorbar": {
              "outlinewidth": 0,
              "ticks": ""
             }
            },
            "type": "scattermap"
           }
          ],
          "scattermapbox": [
           {
            "marker": {
             "colorbar": {
              "outlinewidth": 0,
              "ticks": ""
             }
            },
            "type": "scattermapbox"
           }
          ],
          "scatterpolar": [
           {
            "marker": {
             "colorbar": {
              "outlinewidth": 0,
              "ticks": ""
             }
            },
            "type": "scatterpolar"
           }
          ],
          "scatterpolargl": [
           {
            "marker": {
             "colorbar": {
              "outlinewidth": 0,
              "ticks": ""
             }
            },
            "type": "scatterpolargl"
           }
          ],
          "scatterternary": [
           {
            "marker": {
             "colorbar": {
              "outlinewidth": 0,
              "ticks": ""
             }
            },
            "type": "scatterternary"
           }
          ],
          "surface": [
           {
            "colorbar": {
             "outlinewidth": 0,
             "ticks": ""
            },
            "colorscale": [
             [
              0,
              "#0d0887"
             ],
             [
              0.1111111111111111,
              "#46039f"
             ],
             [
              0.2222222222222222,
              "#7201a8"
             ],
             [
              0.3333333333333333,
              "#9c179e"
             ],
             [
              0.4444444444444444,
              "#bd3786"
             ],
             [
              0.5555555555555556,
              "#d8576b"
             ],
             [
              0.6666666666666666,
              "#ed7953"
             ],
             [
              0.7777777777777778,
              "#fb9f3a"
             ],
             [
              0.8888888888888888,
              "#fdca26"
             ],
             [
              1,
              "#f0f921"
             ]
            ],
            "type": "surface"
           }
          ],
          "table": [
           {
            "cells": {
             "fill": {
              "color": "#EBF0F8"
             },
             "line": {
              "color": "white"
             }
            },
            "header": {
             "fill": {
              "color": "#C8D4E3"
             },
             "line": {
              "color": "white"
             }
            },
            "type": "table"
           }
          ]
         },
         "layout": {
          "annotationdefaults": {
           "arrowcolor": "#2a3f5f",
           "arrowhead": 0,
           "arrowwidth": 1
          },
          "autotypenumbers": "strict",
          "coloraxis": {
           "colorbar": {
            "outlinewidth": 0,
            "ticks": ""
           }
          },
          "colorscale": {
           "diverging": [
            [
             0,
             "#8e0152"
            ],
            [
             0.1,
             "#c51b7d"
            ],
            [
             0.2,
             "#de77ae"
            ],
            [
             0.3,
             "#f1b6da"
            ],
            [
             0.4,
             "#fde0ef"
            ],
            [
             0.5,
             "#f7f7f7"
            ],
            [
             0.6,
             "#e6f5d0"
            ],
            [
             0.7,
             "#b8e186"
            ],
            [
             0.8,
             "#7fbc41"
            ],
            [
             0.9,
             "#4d9221"
            ],
            [
             1,
             "#276419"
            ]
           ],
           "sequential": [
            [
             0,
             "#0d0887"
            ],
            [
             0.1111111111111111,
             "#46039f"
            ],
            [
             0.2222222222222222,
             "#7201a8"
            ],
            [
             0.3333333333333333,
             "#9c179e"
            ],
            [
             0.4444444444444444,
             "#bd3786"
            ],
            [
             0.5555555555555556,
             "#d8576b"
            ],
            [
             0.6666666666666666,
             "#ed7953"
            ],
            [
             0.7777777777777778,
             "#fb9f3a"
            ],
            [
             0.8888888888888888,
             "#fdca26"
            ],
            [
             1,
             "#f0f921"
            ]
           ],
           "sequentialminus": [
            [
             0,
             "#0d0887"
            ],
            [
             0.1111111111111111,
             "#46039f"
            ],
            [
             0.2222222222222222,
             "#7201a8"
            ],
            [
             0.3333333333333333,
             "#9c179e"
            ],
            [
             0.4444444444444444,
             "#bd3786"
            ],
            [
             0.5555555555555556,
             "#d8576b"
            ],
            [
             0.6666666666666666,
             "#ed7953"
            ],
            [
             0.7777777777777778,
             "#fb9f3a"
            ],
            [
             0.8888888888888888,
             "#fdca26"
            ],
            [
             1,
             "#f0f921"
            ]
           ]
          },
          "colorway": [
           "#636efa",
           "#EF553B",
           "#00cc96",
           "#ab63fa",
           "#FFA15A",
           "#19d3f3",
           "#FF6692",
           "#B6E880",
           "#FF97FF",
           "#FECB52"
          ],
          "font": {
           "color": "#2a3f5f"
          },
          "geo": {
           "bgcolor": "white",
           "lakecolor": "white",
           "landcolor": "#E5ECF6",
           "showlakes": true,
           "showland": true,
           "subunitcolor": "white"
          },
          "hoverlabel": {
           "align": "left"
          },
          "hovermode": "closest",
          "mapbox": {
           "style": "light"
          },
          "paper_bgcolor": "white",
          "plot_bgcolor": "#E5ECF6",
          "polar": {
           "angularaxis": {
            "gridcolor": "white",
            "linecolor": "white",
            "ticks": ""
           },
           "bgcolor": "#E5ECF6",
           "radialaxis": {
            "gridcolor": "white",
            "linecolor": "white",
            "ticks": ""
           }
          },
          "scene": {
           "xaxis": {
            "backgroundcolor": "#E5ECF6",
            "gridcolor": "white",
            "gridwidth": 2,
            "linecolor": "white",
            "showbackground": true,
            "ticks": "",
            "zerolinecolor": "white"
           },
           "yaxis": {
            "backgroundcolor": "#E5ECF6",
            "gridcolor": "white",
            "gridwidth": 2,
            "linecolor": "white",
            "showbackground": true,
            "ticks": "",
            "zerolinecolor": "white"
           },
           "zaxis": {
            "backgroundcolor": "#E5ECF6",
            "gridcolor": "white",
            "gridwidth": 2,
            "linecolor": "white",
            "showbackground": true,
            "ticks": "",
            "zerolinecolor": "white"
           }
          },
          "shapedefaults": {
           "line": {
            "color": "#2a3f5f"
           }
          },
          "ternary": {
           "aaxis": {
            "gridcolor": "white",
            "linecolor": "white",
            "ticks": ""
           },
           "baxis": {
            "gridcolor": "white",
            "linecolor": "white",
            "ticks": ""
           },
           "bgcolor": "#E5ECF6",
           "caxis": {
            "gridcolor": "white",
            "linecolor": "white",
            "ticks": ""
           }
          },
          "title": {
           "x": 0.05
          },
          "xaxis": {
           "automargin": true,
           "gridcolor": "white",
           "linecolor": "white",
           "ticks": "",
           "title": {
            "standoff": 15
           },
           "zerolinecolor": "white",
           "zerolinewidth": 2
          },
          "yaxis": {
           "automargin": true,
           "gridcolor": "white",
           "linecolor": "white",
           "ticks": "",
           "title": {
            "standoff": 15
           },
           "zerolinecolor": "white",
           "zerolinewidth": 2
          }
         }
        },
        "title": {
         "text": "3D Scatter Plot of Generated Data"
        }
       }
      }
     },
     "metadata": {},
     "output_type": "display_data"
    }
   ],
   "source": [
    "y = lambda x_1, x_2: 2.1*x_1 - 3.1*x_2 + np.random.normal(0, 0.1)\n",
    "\n",
    "n = 50\n",
    "# Create input values X as numpy arrays\n",
    "X_1 = np.random.random(n) * 20 - 10  # Rango entre -10, 10\n",
    "X_2 = np.random.random(n) * 20 - 10\n",
    "X = np.column_stack([X_1, X_2])  # Stack as columns using numpy\n",
    "Y = y(X_1, X_2)\n",
    "\n",
    "# Plot generated data\n",
    "fig = px.scatter_3d(x=X_1, y=X_2, z=Y, title='3D Scatter Plot of Generated Data')\n",
    "fig.show()\n"
   ]
  },
  {
   "cell_type": "markdown",
   "metadata": {
    "id": "ll3VscZzoBSM"
   },
   "source": [
    "\n",
    "2. Inicializar conjunto de parámetros $\\Theta$ de manera aleatoria.\n",
    "\n",
    "\n",
    "\n",
    "\n",
    "\n"
   ]
  },
  {
   "cell_type": "code",
   "execution_count": 24,
   "metadata": {
    "colab": {
     "base_uri": "https://localhost:8080/"
    },
    "executionInfo": {
     "elapsed": 10,
     "status": "ok",
     "timestamp": 1760632232582,
     "user": {
      "displayName": "JOSE DAVID BERNAL RESTREPO",
      "userId": "01465524678283613080"
     },
     "user_tz": 300
    },
    "id": "e675bd60",
    "outputId": "0b861dea-cfc2-4480-df00-5176e450df23"
   },
   "outputs": [
    {
     "data": {
      "text/plain": [
       "array([0.45917029, 0.7750707 , 0.49142816])"
      ]
     },
     "execution_count": 24,
     "metadata": {},
     "output_type": "execute_result"
    }
   ],
   "source": [
    "Theta = np.random.random(3)  # theta_0, theta_1, theta_2\n",
    "Theta"
   ]
  },
  {
   "cell_type": "markdown",
   "metadata": {
    "id": "_D60L520oC-N"
   },
   "source": [
    "3. Construir la matrix X con dimensiones $(n+1, m)$, m es el numero de datos de entrenamiento y (n) el número de caracteristicas.\n",
    "\n",
    "\n"
   ]
  },
  {
   "cell_type": "code",
   "execution_count": 36,
   "metadata": {
    "executionInfo": {
     "elapsed": 2,
     "status": "ok",
     "timestamp": 1760632232585,
     "user": {
      "displayName": "JOSE DAVID BERNAL RESTREPO",
      "userId": "01465524678283613080"
     },
     "user_tz": 300
    },
    "id": "zBqjc6QWoKd1"
   },
   "outputs": [
    {
     "data": {
      "text/plain": [
       "(3, 100)"
      ]
     },
     "execution_count": 36,
     "metadata": {},
     "output_type": "execute_result"
    }
   ],
   "source": [
    "X = np.array([X_1, X_2])\n",
    "X = np.vstack([np.ones(X.shape[1]), X])\n",
    "X.shape"
   ]
  },
  {
   "cell_type": "code",
   "execution_count": 37,
   "metadata": {},
   "outputs": [
    {
     "data": {
      "text/plain": [
       "array([[ 1.        ,  1.        ,  1.        ,  1.        ,  1.        ,\n",
       "         1.        ,  1.        ,  1.        ,  1.        ,  1.        ,\n",
       "         1.        ,  1.        ,  1.        ,  1.        ,  1.        ,\n",
       "         1.        ,  1.        ,  1.        ,  1.        ,  1.        ,\n",
       "         1.        ,  1.        ,  1.        ,  1.        ,  1.        ,\n",
       "         1.        ,  1.        ,  1.        ,  1.        ,  1.        ,\n",
       "         1.        ,  1.        ,  1.        ,  1.        ,  1.        ,\n",
       "         1.        ,  1.        ,  1.        ,  1.        ,  1.        ,\n",
       "         1.        ,  1.        ,  1.        ,  1.        ,  1.        ,\n",
       "         1.        ,  1.        ,  1.        ,  1.        ,  1.        ,\n",
       "         1.        ,  1.        ,  1.        ,  1.        ,  1.        ,\n",
       "         1.        ,  1.        ,  1.        ,  1.        ,  1.        ,\n",
       "         1.        ,  1.        ,  1.        ,  1.        ,  1.        ,\n",
       "         1.        ,  1.        ,  1.        ,  1.        ,  1.        ,\n",
       "         1.        ,  1.        ,  1.        ,  1.        ,  1.        ,\n",
       "         1.        ,  1.        ,  1.        ,  1.        ,  1.        ,\n",
       "         1.        ,  1.        ,  1.        ,  1.        ,  1.        ,\n",
       "         1.        ,  1.        ,  1.        ,  1.        ,  1.        ,\n",
       "         1.        ,  1.        ,  1.        ,  1.        ,  1.        ,\n",
       "         1.        ,  1.        ,  1.        ,  1.        ,  1.        ],\n",
       "       [-5.42167267,  6.02106093,  9.37263092,  5.83396831, -2.6532545 ,\n",
       "         3.26284794, -2.09027685,  2.30707824, -2.20410417, -1.40046018,\n",
       "        -3.53019642,  1.43961933, -7.86811058, -8.05803158,  8.42937686,\n",
       "        -4.67494435,  2.91662393,  6.43132533, -1.96640329,  3.45022149,\n",
       "         8.16369031, -2.75953447, -1.76391018, -1.16781119, -7.22441795,\n",
       "         6.81531375,  8.1510128 , -9.20580828,  8.32376741,  1.76056998,\n",
       "         6.57250851,  0.01823549,  4.62269781, -7.87216994, -5.4194567 ,\n",
       "         7.99893412, -2.2740648 ,  7.20213895, -5.73016733,  3.34922938,\n",
       "         9.77223805,  2.83656367, -9.60046265, -5.74432352, -6.13071645,\n",
       "         6.65879364, -4.64452623,  8.12866726,  3.14211444, -3.96715218,\n",
       "         5.91159386,  1.83764676,  7.15910573,  4.33645623,  4.7962634 ,\n",
       "        -9.65789891, -5.79587667,  9.8648304 , -7.19298994, -2.07595891,\n",
       "        -2.30333016, -0.75726075,  0.63172776, -9.7403901 , -2.69708749,\n",
       "         7.89111298, -2.79802345,  6.80560652,  2.65358078,  0.47090647,\n",
       "         6.82976446, -0.80985109, -3.11343704,  4.31741423, -4.86608497,\n",
       "        -5.00116718,  8.86025983,  8.23268047, -5.01060389,  8.05117828,\n",
       "        -4.52036486, -5.20257085, -9.30998544, -4.18677872, -9.25807764,\n",
       "         2.58507369,  8.60890419,  4.64585293, -0.2362599 ,  5.01627375,\n",
       "         8.35737395,  8.52677582, -8.74368866, -9.41614155,  5.74502079,\n",
       "        -8.28688729,  5.36514748, -2.77634528, -8.77957067, -9.80541682],\n",
       "       [ 4.74627346,  3.24298615,  8.55509018,  7.90270978,  5.23100764,\n",
       "        -7.08497121, -4.42393292, -3.5954425 , -3.0472435 , -8.29350412,\n",
       "        -0.42155221,  2.99921171,  2.73213931, -0.90373703, -2.44865789,\n",
       "        -0.0112918 , -1.9979883 ,  4.00594163,  0.17579913,  9.16279187,\n",
       "         2.61626889, -7.61683593,  1.25646693, -5.91282185, -7.14074453,\n",
       "         2.82786052,  8.31690055,  1.56398734,  8.80268829, -5.95224606,\n",
       "         7.08268498, -9.00749769,  5.09646744, -6.21043429,  3.85521766,\n",
       "         1.39545726, -8.69932191, -1.6246169 , -9.20715858,  3.58756586,\n",
       "         4.61229164, -3.90895543, -1.71742386,  4.24086948,  9.79687544,\n",
       "         4.62415923, -9.86686991,  4.55302923,  0.1445772 , -7.8308357 ,\n",
       "         1.25644704, -0.66396026, -3.28436034,  8.83977212, -3.79507727,\n",
       "        -5.37949605, -6.22359893, -4.97885834, -2.52579765, -4.27118497,\n",
       "         7.1789882 , -0.42282971, -3.02710955, -0.02955152, -0.38335795,\n",
       "         5.88199035,  7.90217827, -0.64455425,  7.56361109,  2.07938014,\n",
       "         6.07709016,  9.87852575,  9.08658725, -5.87879397,  3.18295479,\n",
       "         5.6357878 , -5.72465513, -7.96450247,  3.28265375, -2.36093895,\n",
       "        -9.14053711,  6.40759294, -9.2758876 ,  2.58943452,  2.26217424,\n",
       "         9.86729836, -2.17484695,  7.46258125, -9.91816042, -8.38523017,\n",
       "        -5.36757088,  0.67342143, -2.40570346, -0.24691326, -5.91231779,\n",
       "         8.71082389,  8.85973668, -3.68415563,  8.3648718 ,  0.51763226]])"
      ]
     },
     "execution_count": 37,
     "metadata": {},
     "output_type": "execute_result"
    }
   ],
   "source": [
    "X"
   ]
  },
  {
   "cell_type": "markdown",
   "metadata": {
    "id": "KHKpOlxDoEJM"
   },
   "source": [
    "4. Calcular la función de coste(revise cuidosamente las dimensiones de cada matriz):\n",
    "\n",
    "  - $h = \\Theta^{T} X $\n",
    "  - $\\Lambda= (h -Y) $\n",
    "  - $\\Lambda*= (h -Y)^2 $\n",
    "  - $\\Lambda= [\\Lambda_1,\\Lambda_2, ...,\\Lambda_m]$\n",
    "  - $J = \\frac{1}{2m} \\sum_{i}^m \\Lambda_i $\n",
    "\n"
   ]
  },
  {
   "cell_type": "code",
   "execution_count": 26,
   "metadata": {
    "colab": {
     "base_uri": "https://localhost:8080/"
    },
    "executionInfo": {
     "elapsed": 7,
     "status": "ok",
     "timestamp": 1760632272424,
     "user": {
      "displayName": "JOSE DAVID BERNAL RESTREPO",
      "userId": "01465524678283613080"
     },
     "user_tz": 300
    },
    "id": "y2hC5NpxoLBs",
    "outputId": "bed4f105-cb7d-4374-ce23-106deef1fc02"
   },
   "outputs": [],
   "source": [
    "m = X.shape[1]       # Number of samples\n",
    "h = np.dot(Theta, X) # Lineal model \n",
    "Y = Y.reshape(1, -1)  \n",
    "\n",
    "error = h - Y\n",
    "lmd = np.square(error) \n",
    "J = np.sum(lmd) / (2 * m)  # Loss function\n"
   ]
  },
  {
   "cell_type": "markdown",
   "metadata": {
    "id": "iiLxNKiPoF-0"
   },
   "source": [
    "5. Aplicar el gradiente descendente:\n",
    "  - Encontrar el gradiente.\n",
    "    $\\nabla J = \\Lambda X.T$\n",
    "  \n",
    "  - Actualizar los nuevos parametros:    $ \\Theta_{n+1}=\\Theta_{n}-\\alpha\\nabla J$\n",
    "\n",
    "\n"
   ]
  },
  {
   "cell_type": "code",
   "execution_count": 27,
   "metadata": {
    "colab": {
     "base_uri": "https://localhost:8080/"
    },
    "executionInfo": {
     "elapsed": 8,
     "status": "ok",
     "timestamp": 1760632699105,
     "user": {
      "displayName": "JOSE DAVID BERNAL RESTREPO",
      "userId": "01465524678283613080"
     },
     "user_tz": 300
    },
    "id": "FCZGbRlb3JKd",
    "outputId": "40b0c106-7ab2-4071-ebd1-cd2c08c89292"
   },
   "outputs": [
    {
     "data": {
      "text/plain": [
       "array([[  3.25711496, -36.02769507, 115.51227652]])"
      ]
     },
     "execution_count": 27,
     "metadata": {},
     "output_type": "execute_result"
    }
   ],
   "source": [
    "grad_J = np.array((1/m) * np.dot(error, X.T))\n",
    "grad_J"
   ]
  },
  {
   "cell_type": "code",
   "execution_count": 28,
   "metadata": {},
   "outputs": [],
   "source": [
    "alpha = 0.5\n",
    "Theta = Theta - alpha*grad_J"
   ]
  },
  {
   "cell_type": "markdown",
   "metadata": {
    "id": "IZ-AOPZ6oH8F"
   },
   "source": [
    "6. Iterar para encontrar los valores $\\Theta$ que se ajustan el plano."
   ]
  },
  {
   "cell_type": "code",
   "execution_count": 29,
   "metadata": {
    "executionInfo": {
     "elapsed": 34,
     "status": "ok",
     "timestamp": 1760632232660,
     "user": {
      "displayName": "JOSE DAVID BERNAL RESTREPO",
      "userId": "01465524678283613080"
     },
     "user_tz": 300
    },
    "id": "Ji9CPDlhoQp2"
   },
   "outputs": [
    {
     "data": {
      "text/plain": [
       "array([[-0.08745668,  2.10025843, -3.10041545]])"
      ]
     },
     "execution_count": 29,
     "metadata": {},
     "output_type": "execute_result"
    }
   ],
   "source": [
    "Theta = np.random.random(3) * 0.1  \n",
    "alpha = 0.01 # Learnigng rate\n",
    "\n",
    "\n",
    "for iteration in range(100):  \n",
    "    h = np.dot(Theta, X) # Linear model \n",
    "    \n",
    "    # Error and loss function\n",
    "    error = h - Y\n",
    "    lmd_squared = np.square(error)\n",
    "    J = np.sum(lmd_squared) / (2 * m)\n",
    "    \n",
    "    # Descending gradient\n",
    "    grad_J = (1/m) * np.dot(error, X.T)\n",
    "    Theta = Theta - alpha * grad_J\n",
    "    \n",
    "    # Break if converges\n",
    "    if J < 1e-6:\n",
    "        break\n",
    "\n",
    "Theta"
   ]
  },
  {
   "cell_type": "markdown",
   "metadata": {
    "id": "_GsMY4oEly7R"
   },
   "source": [
    "7. Reescribir su código como una clase (ver ayuda)"
   ]
  },
  {
   "cell_type": "code",
   "execution_count": null,
   "metadata": {},
   "outputs": [],
   "source": [
    "class MultilinearRegresion():\n",
    "    \"\"\"\n",
    "    Multiple Linear Regression model using Gradient Descent\n",
    "    \"\"\"\n",
    "    \n",
    "    def __init__(self, X, Y):\n",
    "        \"\"\"\n",
    "        Initialize the model\n",
    "        \n",
    "        Parameters:\n",
    "        -----------\n",
    "        X : numpy array, shape (n_features, m_samples)\n",
    "            Input features matrix\n",
    "        Y : numpy array shape (n_samples,)\n",
    "            Target values\n",
    "        \"\"\"\n",
    "        n = X.shape[0]  # number of features\n",
    "        m = X.shape[1]  # number of samples\n",
    "\n",
    "        # Add bias column. X -> shape (n+1) × m\n",
    "        self.X_ = np.vstack([np.ones(m), X])\n",
    "        self.Y_ = Y\n",
    "        \n",
    "        # Initialize parameters randomly\n",
    "        self.Theta_ = np.random.random(n+1)\n",
    "        \n",
    "    def model(self):\n",
    "        \"\"\"Calculate model predictions: h = Θ.t X\"\"\"\n",
    "        self.h_ = np.dot(self.Theta_, self.X_)\n",
    "    \n",
    "    def loss(self):\n",
    "        \"\"\"Calculate cost function (mse)\"\"\"\n",
    "        m = self.X_.shape[1]\n",
    "        self.J_ = np.sum((self.h_ - self.Y_)**2) / (2 * m)\n",
    "\n",
    "    def upgrade_params(self, alpha):\n",
    "        \"\"\"\n",
    "        Update parameters using gradient descent\n",
    "        \n",
    "        Parameters:\n",
    "        -----------\n",
    "        alpha : float\n",
    "            Learning rate\n",
    "        \"\"\"\n",
    "        m = self.X_.shape[1]\n",
    "        error = self.h_ - self.Y_\n",
    "        grad = (1/m) * np.dot(error, self.X_.T) # Calculate gradient\n",
    "        self.Theta_ -= (alpha * grad)            # Update parameters\n",
    "    \n",
    "    def fit(self, alpha=0.5, error=1e-6, max_iter=100, verbose=False):\n",
    "        \"\"\"\n",
    "        Train the model using gradient descent\n",
    "        \n",
    "        Parameters:\n",
    "        -----------\n",
    "        alpha : float, default=0.5\n",
    "            Learning rate\n",
    "        error : float, default=1e-6\n",
    "            Convergence threshold\n",
    "        max_iter : int, default=100\n",
    "            Maximum iterations\n",
    "        \"\"\"\n",
    "        for i in range(max_iter):\n",
    "            self.model()\n",
    "            self.loss()\n",
    "            self.upgrade_params(alpha)\n",
    "\n",
    "            if self.J_ < error:\n",
    "                break\n",
    "        if verbose:\n",
    "            print(f\"Training completed in {i} iterations. Final J = {self.J_:.6f}\")\n",
    "    \n",
    "    def predict(self, x):\n",
    "        \"\"\"\n",
    "        Make predictions for new data\n",
    "        \n",
    "        Parameters:\n",
    "        -----------\n",
    "        x : array-like, shape (n_features, n_samples) or (n_features,)\n",
    "            Input data for prediction\n",
    "            \n",
    "        Returns:\n",
    "        --------\n",
    "        array\n",
    "            Model predictions\n",
    "        \"\"\"\n",
    "        \n",
    "        if x.ndim == 1:                                     # Ensure correct shape\n",
    "            x = x.reshape(-1, 1)\n",
    "        \n",
    "        x_with_bias = np.vstack([np.ones(x.shape[1]), x])   # Add bias column\n",
    "        return self.Theta_ @ x_with_bias                    # Make prediction\n",
    "\n",
    "    def get_params(self):\n",
    "        \"\"\"\n",
    "        Get the current parameter values (Theta) of the model.\n",
    "\n",
    "        Returns\n",
    "        -------\n",
    "        array\n",
    "            The coefficients (including bias) learned by the model.\n",
    "        \"\"\"\n",
    "        return self.Theta_\n",
    "\n",
    "y = lambda x_1, x_2: 5*x_1 - 1*x_2 + np.random.normal(0, 0.1) + 2\n",
    "n = 100\n",
    "X_1 = np.random.random(n) * 20 - 10  \n",
    "X_2 = np.random.random(n) * 20 - 10\n",
    "\n",
    "X = np.array([X_1, X_2])\n",
    "Y = y(X_1, X_2)  \n",
    "\n",
    "model = MultilinearRegresion(X, Y)\n",
    "model.fit(alpha=0.01)\n",
    "\n",
    "Theta = model.get_params()\n"
   ]
  },
  {
   "cell_type": "code",
   "execution_count": 143,
   "metadata": {},
   "outputs": [
    {
     "data": {
      "application/vnd.plotly.v1+json": {
       "config": {
        "plotlyServerURL": "https://plot.ly"
       },
       "data": [
        {
         "marker": {
          "color": "red",
          "opacity": 0.8,
          "size": 3
         },
         "mode": "markers",
         "name": "Datos",
         "type": "scatter3d",
         "x": {
          "bdata": "XFf/XOrpEECaySuEkHAIwNht/YId/QdAQBlPx69bGEB+Ye52EaIjQACNi1Soot0/MCUNTFp/979AT77ju4TTv6SDOkYj7R1A6GpVPnJ+H0CAf70zKrnIv15V87VsixFAIOe2AYEH2T+iS+zXwwcgwGDt86f3tAXAeHyUipIh9T8UZugxS/MNwP5h/JUiQQ3AyHlmtodMAsAQIBj0nsoOQE5JDPFjoRrAhOki5zBzIkCQCDM7Pzj/vzRnpzGjxxBAIMSJL/2/FEDelA9DkOIZwJSoJD4/nhLANlBy5Z2MFcDQEYrWoIcYQILyGfQCcyHA6HjpH8M6C0DEqg9+SicgQMDAbW5zgg5A4IG2yKEAHEBkvdnD67MeQC5dpZBhbR/AkBS2jqIA9j9cQiRRfTAiQJdy7GPYqB/AdLnGt1qlFECiY+rV/i4UwCD/4x7ztAjAnMJXlPe9B0AMFBh0v24KQA5JrKneMBRAKBd9cD/UF8COlppZ6+kRQGi4ZeijYvy/IFHsj5Ah5D9K+7CuzjgewNtnlDLg2iHAgNp895ypIsBgTOf97Nvlv3BQgARlHuo/7A8292a1CsBgIQtN70UiQMDpmv+aCci/vAiMb5L6B0Cwe4GZjwUgQE9YwZ6d5yLAkCc8gHAW7z/ckZWepTUAQI4L1QwMhwnA/IBO15VHC8Cw0CPaRbkAQCQcUdrzdh5AQiPqrmDDFMC8jludhUEJwEyEZ9iLkxpAOTmAn9RwGcDgSsqhp6flv8iRSGBTqyJAF1c0cNZ7E8AA6p/yG1sUQEDnuBYyRd+/zvpEnJC8IEA6dTMg3YwPwBAaym3AePE/dako/A26F8CoMAZANUMQwMRaOCP+NBvA7iGCjhXNF8CwYtEHC+weQIoqwLfDZh/AGqRkciriGcDSubwpXkEUwFhz0+9QWQlAMKlGU/hv4T9jW5TFb5MWwMAY3nOaTO+/mEAenxUfGkAoblhzqg4EQEhoZ8joqhDAEKKxnvYzGUC0Wt9Ij40fwBAvrHnsF/S/VL2hqHyJHEDeba5v3jsQwLB80KmOriJAgHOxSBb50z8=",
          "dtype": "f8"
         },
         "y": {
          "bdata": "wP723iL0AcCYcEDJB8cjQIDLx63ozBfAEgILtnp1HMAsCYAMgAoDwCAhlRelAuO/KglfBtISFkCx1CYnWGcSwKSqI8kA+hfArRTOabvlIMB9HG06KbYRwPC2KHuRoCHA3k940AI1HMDwaqsrNPzqPwB2aO0lKPI/ROFn/eX5DEAYALfE998SQKjPonD7sCHAWOQ2Wp7WFkDQIvqxUCUPQLhEn6k0LxrAZnvq0URHGsDOQtgjKrYewN4pZeA51SNA5kIsh8nkEMAI7Mg2M9ryvxChIwjWVhRATgkeQf5/IMAcdKUxT9YdwNhsFyaqixfAqE7REsXQG0BZX9DPV7MgwPbfNAkpTiNAMJkPnnGmAUAAAKWWnxsIQJSFZb6b1RpAmOj9/Kwz/D/AYDhD/0kGwMpe+TGylSDA4EFNTSXE7D9Qm8mztE4HwLCRToUiVPm/1VJCdJYxE8Com6eMFxIVwHizA8FbQhhABFiC8B7UHkDYKWaudsIdQOIn5hQdnx7AMCRMuQg0FEB8KyNQJ+0UQCQEBH/7ZhPAdFeamO3vGEBE/WGG1eIjwNJ7+6WnCyPAKGfAZMvDIEDWClRWlosWQKgJ8YjLOw1AcL3MsMNqI0BWUqLnIZMgwMinimkW8wjAAAwCpwJVqj8o056HYWD1vxRnULKiDCFAJEd4mu3yD0CSipTJitcRQOZnLa9k+w/AOfMaNRfTIsAkNY11ZJkOwFIYPDLmqCHAUDCqIteTF8Dek5cMAwYhQOiILBGdKhRAdtnCcgXnIsC4zS9+tcICQDTNL+p9YxrADPOTZ5C5FcDJFHAVFWQZwJj8Plv//xVAfltv4BYkF0CyKvIdEXUiQCzkCMIgNhlA2FW7f2p/AUDQaOu/oGTgv9Aoxs70oBHAoPe9raKy5z+WH2rOW2gjwEQirvhpwwpAwJ4eoBVr/r/nPdMREpojwITr10jFJg9ARFUf14k0HcDY086v6fYdQATeTbfCFR3A0LBG9lDOEUCoWq++d8AQwCTOEhhQzx1A6E0QblR9HkAYj5PX5tMUQLL3rEexqSFAyBz21TSqAUA=",
          "dtype": "f8"
         },
         "z": {
          "bdata": "x1ljEbJvOUCQSfZ1FR03wEOklV41/jZAaHb1k2HOQ0DPoBQ2osFKQCVzc0JM1hNAWiIt8G+fJcDejhB1AIEUQPitq4XauUZAWo4LotruSECCs2ynXQwWQHXpJLGsZUBAhVULEz8dJkDYZfM9QW9DwP9dE82oTSnA5d2aMycgFEAWsxkvRGM1wLoinJC8jR3A7vCQTmcxLsBsHJUDwmYxQLg9ogEnsTjAsJnLG0pfS0AA9VQS4QGdv53xR55vNypAT0k+z/saQECaniFfyCA9wEFucc67TjrA4ZL6fP2iMMAEoO3M8hVEQCnbugvq10HAR8kF4aI6KECpUypyV2RJQHPqXsN47iZA970zZGJsQUC8bKDBHbVCQJJkkRGs+EXAf1I5+AKnHEBdf0P6oCdJQBuTpaJsOz3AfkqT/Fj1OkBkfKYzH0Q0wDmTaBManifAE7sMG+mvNUAuQP5MhtY3QDC7GyVIOTVAHNO7I8e4QcB4/qxFkQAxQIqi4buZt+o/qC6Yt5SCwj8gXJC2wXpEwPBatm5U3kLAsLXMh51rScDeTpT5rCchQG4u7rm4Ti9AzLCcS30GN8C7Dia2XAxFQNIMp+6FWATA581ZuglQHUCQFW1aIDJJQIhdNj/vC0XAk8fsT39sG0Axarm5rAgrQAcO6B/wbTbAxsyamFL+MsAMGW1uYxUgQHIuCBRzEEZAdMuj/cj7LMCpi8Rk/NEjwCJfclTVDEZAt25wPUvbN8DLMZzs1bAjwHvL1/Y410VAy2Y1IwG1KcCFN8cAVSY5QOE3K0gB0RhAQl7rMEupSECrrv1aeKQmwNqtJWYoFABA+64EOWeyQMBvhbtdwoE7wOKuoY1+IUPAacjUgH/jPcCvMYXIfZtEQB6vXFi3ZUDAIHAmY4ELP8B9F2MXfiErwBZhJzBcGC1AXwQpoeOzGkCMhsrseV4wwEiSwScg8BrAZnn5HmMARUB9cqN142AcQDn80BbTBifAHKsRyigaPUD9BhM1BppAwANrilUKXSfA6mWLeE8ZPkBgoDkAB3M3wE4E/GIq9kNAlWJGQ35v9j8=",
          "dtype": "f8"
         }
        },
        {
         "colorscale": [
          [
           0,
           "rgb(247,251,255)"
          ],
          [
           0.125,
           "rgb(222,235,247)"
          ],
          [
           0.25,
           "rgb(198,219,239)"
          ],
          [
           0.375,
           "rgb(158,202,225)"
          ],
          [
           0.5,
           "rgb(107,174,214)"
          ],
          [
           0.625,
           "rgb(66,146,198)"
          ],
          [
           0.75,
           "rgb(33,113,181)"
          ],
          [
           0.875,
           "rgb(8,81,156)"
          ],
          [
           1,
           "rgb(8,48,107)"
          ]
         ],
         "name": "Plano de regresión",
         "opacity": 0.6,
         "type": "surface",
         "x": {
          "bdata": "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",
          "dtype": "f8",
          "shape": "20, 20"
         },
         "y": {
          "bdata": "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",
          "dtype": "f8",
          "shape": "20, 20"
         },
         "z": {
          "bdata": "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",
          "dtype": "f8",
          "shape": "20, 20"
         }
        }
       ],
       "layout": {
        "height": 600,
        "scene": {
         "xaxis": {
          "title": {
           "text": "X₁"
          }
         },
         "yaxis": {
          "title": {
           "text": "X₂"
          }
         },
         "zaxis": {
          "title": {
           "text": "Y"
          }
         }
        },
        "template": {
         "data": {
          "bar": [
           {
            "error_x": {
             "color": "#2a3f5f"
            },
            "error_y": {
             "color": "#2a3f5f"
            },
            "marker": {
             "line": {
              "color": "#E5ECF6",
              "width": 0.5
             },
             "pattern": {
              "fillmode": "overlay",
              "size": 10,
              "solidity": 0.2
             }
            },
            "type": "bar"
           }
          ],
          "barpolar": [
           {
            "marker": {
             "line": {
              "color": "#E5ECF6",
              "width": 0.5
             },
             "pattern": {
              "fillmode": "overlay",
              "size": 10,
              "solidity": 0.2
             }
            },
            "type": "barpolar"
           }
          ],
          "carpet": [
           {
            "aaxis": {
             "endlinecolor": "#2a3f5f",
             "gridcolor": "white",
             "linecolor": "white",
             "minorgridcolor": "white",
             "startlinecolor": "#2a3f5f"
            },
            "baxis": {
             "endlinecolor": "#2a3f5f",
             "gridcolor": "white",
             "linecolor": "white",
             "minorgridcolor": "white",
             "startlinecolor": "#2a3f5f"
            },
            "type": "carpet"
           }
          ],
          "choropleth": [
           {
            "colorbar": {
             "outlinewidth": 0,
             "ticks": ""
            },
            "type": "choropleth"
           }
          ],
          "contour": [
           {
            "colorbar": {
             "outlinewidth": 0,
             "ticks": ""
            },
            "colorscale": [
             [
              0,
              "#0d0887"
             ],
             [
              0.1111111111111111,
              "#46039f"
             ],
             [
              0.2222222222222222,
              "#7201a8"
             ],
             [
              0.3333333333333333,
              "#9c179e"
             ],
             [
              0.4444444444444444,
              "#bd3786"
             ],
             [
              0.5555555555555556,
              "#d8576b"
             ],
             [
              0.6666666666666666,
              "#ed7953"
             ],
             [
              0.7777777777777778,
              "#fb9f3a"
             ],
             [
              0.8888888888888888,
              "#fdca26"
             ],
             [
              1,
              "#f0f921"
             ]
            ],
            "type": "contour"
           }
          ],
          "contourcarpet": [
           {
            "colorbar": {
             "outlinewidth": 0,
             "ticks": ""
            },
            "type": "contourcarpet"
           }
          ],
          "heatmap": [
           {
            "colorbar": {
             "outlinewidth": 0,
             "ticks": ""
            },
            "colorscale": [
             [
              0,
              "#0d0887"
             ],
             [
              0.1111111111111111,
              "#46039f"
             ],
             [
              0.2222222222222222,
              "#7201a8"
             ],
             [
              0.3333333333333333,
              "#9c179e"
             ],
             [
              0.4444444444444444,
              "#bd3786"
             ],
             [
              0.5555555555555556,
              "#d8576b"
             ],
             [
              0.6666666666666666,
              "#ed7953"
             ],
             [
              0.7777777777777778,
              "#fb9f3a"
             ],
             [
              0.8888888888888888,
              "#fdca26"
             ],
             [
              1,
              "#f0f921"
             ]
            ],
            "type": "heatmap"
           }
          ],
          "histogram": [
           {
            "marker": {
             "pattern": {
              "fillmode": "overlay",
              "size": 10,
              "solidity": 0.2
             }
            },
            "type": "histogram"
           }
          ],
          "histogram2d": [
           {
            "colorbar": {
             "outlinewidth": 0,
             "ticks": ""
            },
            "colorscale": [
             [
              0,
              "#0d0887"
             ],
             [
              0.1111111111111111,
              "#46039f"
             ],
             [
              0.2222222222222222,
              "#7201a8"
             ],
             [
              0.3333333333333333,
              "#9c179e"
             ],
             [
              0.4444444444444444,
              "#bd3786"
             ],
             [
              0.5555555555555556,
              "#d8576b"
             ],
             [
              0.6666666666666666,
              "#ed7953"
             ],
             [
              0.7777777777777778,
              "#fb9f3a"
             ],
             [
              0.8888888888888888,
              "#fdca26"
             ],
             [
              1,
              "#f0f921"
             ]
            ],
            "type": "histogram2d"
           }
          ],
          "histogram2dcontour": [
           {
            "colorbar": {
             "outlinewidth": 0,
             "ticks": ""
            },
            "colorscale": [
             [
              0,
              "#0d0887"
             ],
             [
              0.1111111111111111,
              "#46039f"
             ],
             [
              0.2222222222222222,
              "#7201a8"
             ],
             [
              0.3333333333333333,
              "#9c179e"
             ],
             [
              0.4444444444444444,
              "#bd3786"
             ],
             [
              0.5555555555555556,
              "#d8576b"
             ],
             [
              0.6666666666666666,
              "#ed7953"
             ],
             [
              0.7777777777777778,
              "#fb9f3a"
             ],
             [
              0.8888888888888888,
              "#fdca26"
             ],
             [
              1,
              "#f0f921"
             ]
            ],
            "type": "histogram2dcontour"
           }
          ],
          "mesh3d": [
           {
            "colorbar": {
             "outlinewidth": 0,
             "ticks": ""
            },
            "type": "mesh3d"
           }
          ],
          "parcoords": [
           {
            "line": {
             "colorbar": {
              "outlinewidth": 0,
              "ticks": ""
             }
            },
            "type": "parcoords"
           }
          ],
          "pie": [
           {
            "automargin": true,
            "type": "pie"
           }
          ],
          "scatter": [
           {
            "fillpattern": {
             "fillmode": "overlay",
             "size": 10,
             "solidity": 0.2
            },
            "type": "scatter"
           }
          ],
          "scatter3d": [
           {
            "line": {
             "colorbar": {
              "outlinewidth": 0,
              "ticks": ""
             }
            },
            "marker": {
             "colorbar": {
              "outlinewidth": 0,
              "ticks": ""
             }
            },
            "type": "scatter3d"
           }
          ],
          "scattercarpet": [
           {
            "marker": {
             "colorbar": {
              "outlinewidth": 0,
              "ticks": ""
             }
            },
            "type": "scattercarpet"
           }
          ],
          "scattergeo": [
           {
            "marker": {
             "colorbar": {
              "outlinewidth": 0,
              "ticks": ""
             }
            },
            "type": "scattergeo"
           }
          ],
          "scattergl": [
           {
            "marker": {
             "colorbar": {
              "outlinewidth": 0,
              "ticks": ""
             }
            },
            "type": "scattergl"
           }
          ],
          "scattermap": [
           {
            "marker": {
             "colorbar": {
              "outlinewidth": 0,
              "ticks": ""
             }
            },
            "type": "scattermap"
           }
          ],
          "scattermapbox": [
           {
            "marker": {
             "colorbar": {
              "outlinewidth": 0,
              "ticks": ""
             }
            },
            "type": "scattermapbox"
           }
          ],
          "scatterpolar": [
           {
            "marker": {
             "colorbar": {
              "outlinewidth": 0,
              "ticks": ""
             }
            },
            "type": "scatterpolar"
           }
          ],
          "scatterpolargl": [
           {
            "marker": {
             "colorbar": {
              "outlinewidth": 0,
              "ticks": ""
             }
            },
            "type": "scatterpolargl"
           }
          ],
          "scatterternary": [
           {
            "marker": {
             "colorbar": {
              "outlinewidth": 0,
              "ticks": ""
             }
            },
            "type": "scatterternary"
           }
          ],
          "surface": [
           {
            "colorbar": {
             "outlinewidth": 0,
             "ticks": ""
            },
            "colorscale": [
             [
              0,
              "#0d0887"
             ],
             [
              0.1111111111111111,
              "#46039f"
             ],
             [
              0.2222222222222222,
              "#7201a8"
             ],
             [
              0.3333333333333333,
              "#9c179e"
             ],
             [
              0.4444444444444444,
              "#bd3786"
             ],
             [
              0.5555555555555556,
              "#d8576b"
             ],
             [
              0.6666666666666666,
              "#ed7953"
             ],
             [
              0.7777777777777778,
              "#fb9f3a"
             ],
             [
              0.8888888888888888,
              "#fdca26"
             ],
             [
              1,
              "#f0f921"
             ]
            ],
            "type": "surface"
           }
          ],
          "table": [
           {
            "cells": {
             "fill": {
              "color": "#EBF0F8"
             },
             "line": {
              "color": "white"
             }
            },
            "header": {
             "fill": {
              "color": "#C8D4E3"
             },
             "line": {
              "color": "white"
             }
            },
            "type": "table"
           }
          ]
         },
         "layout": {
          "annotationdefaults": {
           "arrowcolor": "#2a3f5f",
           "arrowhead": 0,
           "arrowwidth": 1
          },
          "autotypenumbers": "strict",
          "coloraxis": {
           "colorbar": {
            "outlinewidth": 0,
            "ticks": ""
           }
          },
          "colorscale": {
           "diverging": [
            [
             0,
             "#8e0152"
            ],
            [
             0.1,
             "#c51b7d"
            ],
            [
             0.2,
             "#de77ae"
            ],
            [
             0.3,
             "#f1b6da"
            ],
            [
             0.4,
             "#fde0ef"
            ],
            [
             0.5,
             "#f7f7f7"
            ],
            [
             0.6,
             "#e6f5d0"
            ],
            [
             0.7,
             "#b8e186"
            ],
            [
             0.8,
             "#7fbc41"
            ],
            [
             0.9,
             "#4d9221"
            ],
            [
             1,
             "#276419"
            ]
           ],
           "sequential": [
            [
             0,
             "#0d0887"
            ],
            [
             0.1111111111111111,
             "#46039f"
            ],
            [
             0.2222222222222222,
             "#7201a8"
            ],
            [
             0.3333333333333333,
             "#9c179e"
            ],
            [
             0.4444444444444444,
             "#bd3786"
            ],
            [
             0.5555555555555556,
             "#d8576b"
            ],
            [
             0.6666666666666666,
             "#ed7953"
            ],
            [
             0.7777777777777778,
             "#fb9f3a"
            ],
            [
             0.8888888888888888,
             "#fdca26"
            ],
            [
             1,
             "#f0f921"
            ]
           ],
           "sequentialminus": [
            [
             0,
             "#0d0887"
            ],
            [
             0.1111111111111111,
             "#46039f"
            ],
            [
             0.2222222222222222,
             "#7201a8"
            ],
            [
             0.3333333333333333,
             "#9c179e"
            ],
            [
             0.4444444444444444,
             "#bd3786"
            ],
            [
             0.5555555555555556,
             "#d8576b"
            ],
            [
             0.6666666666666666,
             "#ed7953"
            ],
            [
             0.7777777777777778,
             "#fb9f3a"
            ],
            [
             0.8888888888888888,
             "#fdca26"
            ],
            [
             1,
             "#f0f921"
            ]
           ]
          },
          "colorway": [
           "#636efa",
           "#EF553B",
           "#00cc96",
           "#ab63fa",
           "#FFA15A",
           "#19d3f3",
           "#FF6692",
           "#B6E880",
           "#FF97FF",
           "#FECB52"
          ],
          "font": {
           "color": "#2a3f5f"
          },
          "geo": {
           "bgcolor": "white",
           "lakecolor": "white",
           "landcolor": "#E5ECF6",
           "showlakes": true,
           "showland": true,
           "subunitcolor": "white"
          },
          "hoverlabel": {
           "align": "left"
          },
          "hovermode": "closest",
          "mapbox": {
           "style": "light"
          },
          "paper_bgcolor": "white",
          "plot_bgcolor": "#E5ECF6",
          "polar": {
           "angularaxis": {
            "gridcolor": "white",
            "linecolor": "white",
            "ticks": ""
           },
           "bgcolor": "#E5ECF6",
           "radialaxis": {
            "gridcolor": "white",
            "linecolor": "white",
            "ticks": ""
           }
          },
          "scene": {
           "xaxis": {
            "backgroundcolor": "#E5ECF6",
            "gridcolor": "white",
            "gridwidth": 2,
            "linecolor": "white",
            "showbackground": true,
            "ticks": "",
            "zerolinecolor": "white"
           },
           "yaxis": {
            "backgroundcolor": "#E5ECF6",
            "gridcolor": "white",
            "gridwidth": 2,
            "linecolor": "white",
            "showbackground": true,
            "ticks": "",
            "zerolinecolor": "white"
           },
           "zaxis": {
            "backgroundcolor": "#E5ECF6",
            "gridcolor": "white",
            "gridwidth": 2,
            "linecolor": "white",
            "showbackground": true,
            "ticks": "",
            "zerolinecolor": "white"
           }
          },
          "shapedefaults": {
           "line": {
            "color": "#2a3f5f"
           }
          },
          "ternary": {
           "aaxis": {
            "gridcolor": "white",
            "linecolor": "white",
            "ticks": ""
           },
           "baxis": {
            "gridcolor": "white",
            "linecolor": "white",
            "ticks": ""
           },
           "bgcolor": "#E5ECF6",
           "caxis": {
            "gridcolor": "white",
            "linecolor": "white",
            "ticks": ""
           }
          },
          "title": {
           "x": 0.05
          },
          "xaxis": {
           "automargin": true,
           "gridcolor": "white",
           "linecolor": "white",
           "ticks": "",
           "title": {
            "standoff": 15
           },
           "zerolinecolor": "white",
           "zerolinewidth": 2
          },
          "yaxis": {
           "automargin": true,
           "gridcolor": "white",
           "linecolor": "white",
           "ticks": "",
           "title": {
            "standoff": 15
           },
           "zerolinecolor": "white",
           "zerolinewidth": 2
          }
         }
        },
        "title": {
         "text": "Plano de Regresión vs Puntos de Datos"
        },
        "width": 800
       }
      }
     },
     "metadata": {},
     "output_type": "display_data"
    }
   ],
   "source": [
    "# Gráfico 3D del plano vs los puntos\n",
    "import plotly.graph_objects as go\n",
    "\n",
    "# Obtener los parámetros theta\n",
    "theta_0, theta_1, theta_2 = Theta\n",
    "\n",
    "# Crear una malla para el plano\n",
    "x1_range = np.linspace(X_1.min(), X_1.max(), 20)\n",
    "x2_range = np.linspace(X_2.min(), X_2.max(), 20)\n",
    "X1_mesh, X2_mesh = np.meshgrid(x1_range, x2_range)\n",
    "\n",
    "# Calcular el plano usando los parámetros theta\n",
    "Y_plane = theta_0 + theta_1 * X1_mesh + theta_2 * X2_mesh\n",
    "\n",
    "# Crear la figura 3D\n",
    "fig = go.Figure()\n",
    "\n",
    "# Agregar los puntos de datos\n",
    "fig.add_trace(go.Scatter3d(\n",
    "    x=X_1,\n",
    "    y=X_2,\n",
    "    z=Y,\n",
    "    mode='markers',\n",
    "    marker=dict(size=3, color='red', opacity=0.8),\n",
    "    name='Datos'\n",
    "))\n",
    "\n",
    "# Agregar el plano de regresión\n",
    "fig.add_trace(go.Surface(\n",
    "    x=X1_mesh,\n",
    "    y=X2_mesh,\n",
    "    z=Y_plane,\n",
    "    colorscale='Blues',\n",
    "    opacity=0.6,\n",
    "    name='Plano de regresión'\n",
    "))\n",
    "\n",
    "# Configurar el layout\n",
    "fig.update_layout(\n",
    "    title='Plano de Regresión vs Puntos de Datos',\n",
    "    scene=dict(\n",
    "        xaxis_title='X₁',\n",
    "        yaxis_title='X₂',\n",
    "        zaxis_title='Y'\n",
    "    ),\n",
    "    width=800,\n",
    "    height=600\n",
    ")\n",
    "\n",
    "fig.show()\n"
   ]
  }
 ],
 "metadata": {
  "colab": {
   "provenance": [
    {
     "file_id": "https://github.com/CienciaDatosUdea/002_EstudiantesAprendizajeEstadistico/blob/main/semestre2025-2/Laboratorios/Laboratorio_04_reg_multivariada_v2.ipynb",
     "timestamp": 1760628193900
    }
   ]
  },
  "kernelspec": {
   "display_name": "Python 3",
   "language": "python",
   "name": "python3"
  },
  "language_info": {
   "codemirror_mode": {
    "name": "ipython",
    "version": 3
   },
   "file_extension": ".py",
   "mimetype": "text/x-python",
   "name": "python",
   "nbconvert_exporter": "python",
   "pygments_lexer": "ipython3",
   "version": "3.12.4"
  }
 },
 "nbformat": 4,
 "nbformat_minor": 0
}
