{
  "cells": [
    {
      "cell_type": "markdown",
      "metadata": {
        "id": "WJIhy6_oT9Og"
      },
      "source": [
        "<a href=\"https://colab.research.google.com/github/CienciaDatosUdea/002_EstudiantesAprendizajeEstadistico/blob/main/semestre2025-2/Laboratorios/Laboratorio_04_reg_multivariada_v2.ipynb\" target=\"_parent\"><img src=\"https://colab.research.google.com/assets/colab-badge.svg\" alt=\"Open In Colab\"/></a>\n"
      ]
    },
    {
      "cell_type": "markdown",
      "metadata": {
        "id": "qiRIfl4W2cLM"
      },
      "source": [
        "# Regresion multivariada\n",
        "\n",
        "Supongamos que tenemos un conjunto de caracteristicas $X = X_1,X_2...X_j...X_n$ para realizar una  predicción $y$ con valores esperados $\\hat{y}$.  \n",
        "\n",
        "Cada X, puede ser escrito como:\n",
        " $X_1 = x_1^{(1)},x_1^{(2)}, x_1^{(3)}...x_1^{(m)}$,\n",
        "\n",
        " $X_2 = x_2^{(1)},x_2^{(2)}, x_2^{(3)}...x_2^{(m)}$,\n",
        "\n",
        " .\n",
        "\n",
        " .\n",
        "\n",
        " .\n",
        "\n",
        " $X_n = x_n^{(1)},x_n^{(2)}, x_n^{(3)}...x_n^{(m)}$.\n",
        "\n",
        "\n",
        "Siendo n el número de caracteristicas y m el número de datos de datos,\n",
        "$\\hat{y} = \\hat{y}_1^{(1)}, \\hat{y}_1^{(2)}...\\hat{y}_1^{(m)} $, el conjunto de datos etiquetados  y $y = y_1^{(1)}, y_1^{(2)}...y_1^{(m)} $ los valores predichos por un modelo\n",
        "\n",
        "\n",
        "\n",
        "\n",
        "Lo anterior puede ser resumido  como:\n",
        "\n",
        "\n",
        "\n",
        "|Training|$\\hat{y}$      | X_1  | X_2  |  .  | .|. |. | X_n|\n",
        "|--------|-------|------|------|-----|--|--|--|----|\n",
        "|1|$\\hat{y}_1^{1}$ | $x_1^{1}$|$x_2^{1}$| .  | .|. |. | $x_n^{1}$|\n",
        "|2|$\\hat{y}_1^{2}$ | $x_1^{2}$|$x_2^{2}$| .  | .|. |. | $x_n^{2}$|\n",
        "|.|.         | .        |.| .  | .|. |. | |\n",
        "|.|.         | .        |.| .  | .|. |. | |\n",
        "|.|.         | .        |.| .  | .|. |. | |\n",
        "|m|$\\hat{y}_1^{m}$ | $x_1^{m}$  |$x_2^{m}$| .  | .|. |. | $x_n^{m}$|\n",
        "\n",
        "\n",
        "y el el modelo puede ser ajustado como sigue:\n",
        "\n",
        "Para un solo conjunto de datos de entrenamiento tentemos que:\n",
        "\n",
        "$y = h(\\theta_0,\\theta_1,\\theta_2,...,\\theta_n ) = \\theta_0 + \\theta_1 x_1+\\theta_2 x_2 + \\theta_3 x_3 +...+ \\theta_n x_n $.\n",
        "\n",
        "\\begin{equation}\n",
        "h_{\\Theta}(x) = [\\theta_0,\\theta_1,...,\\theta_n ]\\begin{bmatrix}\n",
        "1\\\\\n",
        "x_1\\\\\n",
        "x_2\\\\\n",
        ".\\\\\n",
        ".\\\\\n",
        ".\\\\\n",
        "x_n\\\\\n",
        "\\end{bmatrix} = \\Theta^T X}\n",
        "\\end{equation}\n",
        "\n",
        "\n",
        "\n",
        "Para todo el conjunto de datos, tenemos que:\n",
        "\n",
        "Sea $\\Theta^T = [\\theta_0,\\theta_1,\\theta_2,...,\\theta_n]$ una matrix $1 \\times (n+1)$ y  \n",
        "\n",
        "\n",
        "\\begin{equation}\n",
        "X =\n",
        "\\begin{bmatrix}\n",
        "1& 1 & 1 & .&.&.&1\\\\\n",
        "x_1^{(1)}&x_2^{(1)} & x_3^{(1)} & .&.&.&x_m^{1}\\\\\n",
        ".&. & . &.&.&.& .\\\\\n",
        ".&. & . & .&.&.&.\\\\\n",
        ".&. & . & .&.&.&.\\\\\n",
        "x_1^{(n+1)}&x_2^{(n+1)} & x_3^{(n+1)} & .&.&.&x_m^{(n+1)}\\\\\n",
        "\\end{bmatrix}_{(n+1) \\times m}\n",
        "\\end{equation}\n",
        "\n",
        "\n",
        "\n",
        "\n",
        "luego $h = \\Theta^{T} X $ con dimension $1\\times m$\n",
        "\n",
        "\n",
        "\n",
        "\n",
        "La anterior ecuación, es un hiperplano en $\\mathbb{R}^n$. Notese que en caso de tener una sola característica, la ecuación puede ser análizada según lo visto en la sesión de regresion lineal.\n",
        "\n",
        "\n",
        "Para la optimización, vamos a definir la función de coste **$J(\\theta_1,\\theta_2,\\theta_3, ...,\\theta_n )$** , como la función  asociada a la minima distancia entre dos puntos, según la metrica euclidiana.\n",
        "\n",
        "- Metrica Eculidiana\n",
        "\n",
        "\\begin{equation}\n",
        "J(\\theta_1,\\theta_2,\\theta_3, ...,\\theta_n )=\\frac{1}{2m} \\sum_{i=1}^m ( h_{\\Theta} (X)-\\hat{y}^{(i)})^2 =\\frac{1}{2m} \\sum_{i = 1}^m (\\Theta^{T} X - \\hat{y}^{(i)})^2\n",
        "\\end{equation}\n",
        "\n",
        "Otras métricas pueden ser definidas como sigue en la siguiente referencia.  [Metricas](https://jmlb.github.io/flashcards/2018/04/21/list_cost_functions_fo_neuralnets/).\n",
        "\n",
        "Nuestro objetivo será encontrar los valores mínimos\n",
        "$\\Theta = \\theta_0,\\theta_1,\\theta_2,...,\\theta_n$ que minimizan el error, respecto a los valores etiquetados y esperados $\\hat{y}$\n",
        "\n",
        "\n",
        "Para encontrar $\\Theta$ optimo, se necesita  minimizar la función de coste, que permite obtener los valores más cercanos,  esta minimización podrá ser realizada a través de diferentes metodos, el más conocido es el gradiente descendente.\n",
        "\n",
        "\n",
        "\n",
        "\n",
        "\n"
      ]
    },
    {
      "cell_type": "markdown",
      "metadata": {
        "id": "E5ApulK23HfL"
      },
      "source": [
        "\n",
        "## Gradiente descendente\n",
        "\n",
        "Consideremos la función de coste sin realizar el promedio  de funcion de coste:\n",
        "\\begin{equation}\n",
        "\\Lambda^T =\n",
        "\\begin{bmatrix}\n",
        "(\\theta_0 1 + \\theta_1 x_1^1+\\theta_2 x_2^2 + \\theta_3 x_3^3 +...+ \\theta_n x_n^n - \\hat{y}^{1})^2 \\\\\n",
        "(\\theta_0 1+ \\theta_1 x_1^1+\\theta_2 x_2^2 + \\theta_3 x_3^3 +...+ \\theta_n x_n^n - \\hat{y}^{2})^2\\\\\n",
        ".\\\\\n",
        ".\\\\\n",
        ".\\\\\n",
        "(\\theta_0 1 + \\theta_1 x_1^m+\\theta_2 x_2^m + \\theta_3 x_3^m +...+ \\theta_n x_n^m - \\hat{y}^{m})^2\\\\\n",
        "\\end{bmatrix}\n",
        "\\end{equation}\n",
        "\n",
        "$\\Lambda= [\\Lambda_1,\\Lambda_2, ...,\\Lambda_m]$\n",
        "\n",
        "$J = \\frac{1}{2m} \\sum_{i}^m \\Lambda_i $\n",
        "\n",
        "El gradiente descente, puede ser escrito como:\n",
        "\n",
        "\\begin{equation}\n",
        "\\Delta \\vec{\\Theta} =  - \\alpha \\nabla J(\\theta_0, \\theta_1,...,\\theta_n)\n",
        "\\end{equation}\n",
        "\n",
        "escogiendo el valor j-esimo tenemos que:\n",
        "\n",
        "\\begin{equation}\n",
        "\\theta_j :=  - \\alpha \\frac{\\partial J(\\theta_0, \\theta_1,...\\theta_j...,\\theta_n)}{\\partial \\theta_j}\n",
        "\\end{equation}\n",
        "\n",
        "Aplicando lo anterior a a función de coste asociada a la métrica ecuclidiana, tenemos que:\n",
        "\n",
        "Para $j = 0$,\n",
        "\n",
        "\n",
        "\\begin{equation}\n",
        "\\theta_0 :=  - \\alpha \\frac{\\partial J(\\theta_0, \\theta_1,...\\theta_j...,\\theta_n)}{\\partial \\theta_0} = \\frac{1}{m}\\alpha \\sum_{i=1}^m (\\theta_j X_{ji} - \\hat{y}^{(i)}) 1\n",
        "\\end{equation}\n",
        "\n",
        "\n",
        "\n",
        "Para $0<j<n $\n",
        "\n",
        "\\begin{equation}\n",
        "\\theta_j :=  - \\alpha \\frac{\\partial J(\\theta_0, \\theta_1,...\\theta_j...,\\theta_n)}{\\partial \\theta_j} = \\frac{1}{m} \\alpha\\sum_{i=1}^m (\\theta_{j} X_{ji} - \\hat{y}^{(i)}) X_j\n",
        "\\end{equation}\n",
        "\n",
        "donde X_j es el vector de entrenamiento j-esimo.\n",
        "\n",
        "Lo  anterior puede ser generalizado como siguem, teniendo presente que $X_0 = \\vec{1}$\n",
        "\n",
        "\n",
        "Para $0\\leq j<n$,\n",
        "\n",
        "\\begin{equation}\n",
        "\\theta_j :=  - \\alpha \\frac{\\partial J(\\theta_0, \\theta_1,...\\theta_j...,\\theta_n)}{\\partial \\theta_j} = \\frac{1}{m} \\alpha\\sum_{i=1}^m (\\theta_j X_{ji} - \\hat{y}^{(i)}) X_j\n",
        "\\end{equation}\n",
        "\n",
        "\n",
        "\n",
        "# Vectorizando el grandiente descendete, tenemos que:\n",
        "\\begin{equation}\n",
        "\\nabla J = \\Lambda^T X\n",
        "\\end{equation}\n",
        "\n",
        "Luego:\n",
        "\n",
        "\\begin{equation}\n",
        "\\Theta=\\Theta-\\alpha \\nabla J\n",
        "\\end{equation}\n"
      ]
    },
    {
      "cell_type": "markdown",
      "metadata": {
        "id": "7eavd6K24VDP"
      },
      "source": [
        "# Laboratorio 04\n",
        "Objetivo: Programar una regresión multivariada\n",
        "\n",
        "\n",
        "1. Para simular un conjunto de características $x_1$ , $x_2$,..., $x_n$ trabajaremos en la primera parte con dos características de datos aleatorios que presentan un plano y mostraremos que los párametros optimizados se corresponden con el valor esperado.\n",
        "\n",
        "- Definir la ecuación  $y = 2.1*x_1 - 3.1*x_2$, y generar números aleatorios que pertenecen al plano.\n",
        "\n",
        "- Realizar un diagrama 3D de los puntos generados aleatoriamente.\n",
        "\n",
        "\n",
        "Nuestro objetivo será encontrar los valores $\\theta_0 = 0, \\theta_1=2.1, \\theta_1=3.1$ que mejor ajustar el plano, empleando cálculos vectorizados.\n",
        "\n",
        "2. Inicializar conjunto de parámetros $\\Theta$ de manera aleatoria.\n",
        "3. Construir la matrix X con dimensiones $(n+1, m)$, m es el numero de datos de entrenamiento y (n) el número de caracteristicas.\n",
        "4. Calcular la función de coste(revise cuidosamente las dimensiones de cada matriz):\n",
        "\n",
        "  - $h = \\Theta^{T} X $\n",
        "  - $\\Lambda= (h -Y) $\n",
        "  - $\\Lambda*= (h -Y)^2 $\n",
        "  - $\\Lambda= [\\Lambda_1,\\Lambda_2, ...,\\Lambda_m]$\n",
        "  - $J = \\frac{1}{2m} \\sum_{i}^m \\Lambda_i $\n",
        "\n",
        "5. Aplicar el gradiente descendente:\n",
        "  - Encontrar el gradiente.\n",
        "    $\\nabla J = \\Lambda X.T$\n",
        "  \n",
        "  - Actualizar los nuevos parametros:\n",
        "    $\\Theta_{n+1}=\\Theta_{n}-\\alpha\\nabla J$\n",
        "\n",
        "\n",
        "6. Iterar para encontrar los valores $\\Theta$ que se ajustan el plano.\n",
        "\n",
        "\n",
        "\n",
        "\n",
        "\n",
        "\n"
      ]
    },
    {
      "cell_type": "markdown",
      "metadata": {
        "id": "CWvGOVTdT9Ol"
      },
      "source": [
        "7. Reescribir su código como una clase (ver ayuda)"
      ]
    },
    {
      "cell_type": "code",
      "execution_count": null,
      "metadata": {
        "id": "9OriGxD33w_f"
      },
      "outputs": [],
      "source": [
        "class MultilinearRegresion():\n",
        "  def __init__(self, X, Y):\n",
        "    self.X = ...\n",
        "    self.Y = ...\n",
        "    Nfeatures = ...\n",
        "    m = ....\n",
        "    self.theta = np.random.random(Nfeatures).reshape(Nfeatures, 1)\n",
        "\n",
        "  def model(self):\n",
        "    self.h = ...\n",
        "\n",
        "  def costo(self):\n",
        "    self.J =  ....\n",
        "\n",
        "  def update_params(self, learning_rate):\n",
        "    \"\"\"\n",
        "    Gradiente descendente\n",
        "    \"\"\"\n",
        "    grad = ....#\n",
        "    self.theta = #...\n",
        "\n",
        "  def fit(self, learning_rate):\n",
        "    for i in range(0, 100):\n",
        "      self.model()\n",
        "      self.costo()\n",
        "      self.update_params(learning_rate)"
      ]
    },
    {
      "cell_type": "markdown",
      "source": [
        "### Solución\n",
        "\n",
        "# Laboratorio 04\n",
        "Objetivo: Programar una regresión multivariada\n",
        "\n",
        "\n",
        "1. Para simular un conjunto de características $x_1$ , $x_2$,..., $x_n$ trabajaremos en la primera parte con dos características de datos aleatorios que presentan un plano y mostraremos que los párametros optimizados se corresponden con el valor esperado.\n",
        "\n",
        "- Definir la ecuación  $y = 2.1*x_1 - 3.1*x_2$, y generar números aleatorios que pertenecen al plano.\n",
        "\n",
        "- Realizar un diagrama 3D de los puntos generados aleatoriamente.\n",
        "\n",
        "\n",
        "Nuestro objetivo será encontrar los valores $\\theta_0 = 0, \\theta_1=2.1, \\theta_1=3.1$ que mejor ajustar el plano, empleando cálculos vectorizados."
      ],
      "metadata": {
        "id": "p_ZnbP6rUr9w"
      }
    },
    {
      "cell_type": "code",
      "source": [
        "import numpy as np\n",
        "import matplotlib.pyplot as plt\n",
        "from mpl_toolkits.mplot3d import Axes3D\n",
        "\n",
        "rng = np.random.default_rng(42)\n",
        "m = 100\n",
        "x1 = rng.uniform(-5, 5, m)\n",
        "x2 = rng.uniform(-5, 5, m)\n",
        "y = 2.1 * x1 - 3.1 * x2\n",
        "\n",
        "fig = plt.figure()\n",
        "ax = fig.add_subplot(111, projection='3d')\n",
        "ax.scatter(x1, x2, y)\n",
        "xx, yy = np.meshgrid(np.linspace(x1.min(), x1.max(), 30), np.linspace(x2.min(), x2.max(), 30))\n",
        "zz = 2.1 * xx - 3.1 * yy\n",
        "ax.plot_surface(xx, yy, zz, alpha=0.3)\n",
        "ax.set_xlabel('x1')\n",
        "ax.set_ylabel('x2')\n",
        "ax.set_zlabel('y')\n",
        "plt.show()\n",
        "\n",
        "X = np.column_stack([np.ones(m), x1, x2])\n",
        "theta = np.linalg.pinv(X.T @ X) @ (X.T @ y)\n",
        "theta\n"
      ],
      "metadata": {
        "colab": {
          "base_uri": "https://localhost:8080/",
          "height": 428
        },
        "id": "2D5nlv1kUvVF",
        "outputId": "988174be-fea1-48a7-e991-ce0f92796970"
      },
      "execution_count": 1,
      "outputs": [
        {
          "output_type": "display_data",
          "data": {
            "text/plain": [
              "<Figure size 640x480 with 1 Axes>"
            ],
            "image/png": "[encoded data removed]"
          },
          "metadata": {}
        },
        {
          "output_type": "execute_result",
          "data": {
            "text/plain": [
              "array([-2.2337323e-15,  2.1000000e+00, -3.1000000e+00])"
            ]
          },
          "metadata": {},
          "execution_count": 1
        }
      ]
    },
    {
      "cell_type": "markdown",
      "source": [
        "2. Inicializar conjunto de parámetros $\\Theta$ de manera aleatoria."
      ],
      "metadata": {
        "id": "WRG8YbnWW4Se"
      }
    },
    {
      "cell_type": "code",
      "source": [
        "Theta = np.random.uniform(-1, 1, 3)\n",
        "Theta\n"
      ],
      "metadata": {
        "colab": {
          "base_uri": "https://localhost:8080/"
        },
        "id": "8ONjflHxW5V5",
        "outputId": "ec69cd3a-25a5-421e-e0b7-1ec778b1985a"
      },
      "execution_count": 2,
      "outputs": [
        {
          "output_type": "execute_result",
          "data": {
            "text/plain": [
              "array([-0.00548602, -0.05583461, -0.62103368])"
            ]
          },
          "metadata": {},
          "execution_count": 2
        }
      ]
    },
    {
      "cell_type": "markdown",
      "source": [
        "3. Construir la matrix X con dimensiones $(n+1, m)$, m es el numero de datos de entrenamiento y (n) el número de caracteristicas."
      ],
      "metadata": {
        "id": "E-oIvA1zZdNO"
      }
    },
    {
      "cell_type": "code",
      "source": [
        "X = np.vstack((np.ones(m), x1, x2))\n",
        "X.shape\n"
      ],
      "metadata": {
        "colab": {
          "base_uri": "https://localhost:8080/"
        },
        "id": "OIF7un8oZeSz",
        "outputId": "34045455-34b6-49f0-882b-8fa787053ad0"
      },
      "execution_count": 3,
      "outputs": [
        {
          "output_type": "execute_result",
          "data": {
            "text/plain": [
              "(3, 100)"
            ]
          },
          "metadata": {},
          "execution_count": 3
        }
      ]
    },
    {
      "cell_type": "markdown",
      "source": [
        "4. Calcular la función de coste(revise cuidosamente las dimensiones de cada matriz):\n",
        "\n",
        "  - $h = \\Theta^{T} X $\n",
        "  - $\\Lambda= (h -Y) $\n",
        "  - $\\Lambda*= (h -Y)^2 $\n",
        "  - $\\Lambda= [\\Lambda_1,\\Lambda_2, ...,\\Lambda_m]$\n",
        "  - $J = \\frac{1}{2m} \\sum_{i}^m \\Lambda_i $"
      ],
      "metadata": {
        "id": "sdfwN9fYZ0Le"
      }
    },
    {
      "cell_type": "code",
      "source": [
        "Y = y.reshape(1, m)\n",
        "h = Theta.reshape(1, 3) @ X\n",
        "Lambda = h - Y\n",
        "Lambda_sq = Lambda ** 2\n",
        "J = (1 / (2 * m)) * np.sum(Lambda_sq)\n",
        "J"
      ],
      "metadata": {
        "colab": {
          "base_uri": "https://localhost:8080/"
        },
        "id": "aSGapULWZylo",
        "outputId": "eb358f9d-14b1-4b9c-99c1-586ea6a6e7c7"
      },
      "execution_count": 5,
      "outputs": [
        {
          "output_type": "execute_result",
          "data": {
            "text/plain": [
              "np.float64(48.97603860817235)"
            ]
          },
          "metadata": {},
          "execution_count": 5
        }
      ]
    },
    {
      "cell_type": "markdown",
      "source": [
        "5. Aplicar el gradiente descendente:\n",
        "  - Encontrar el gradiente.\n",
        "    $\\nabla J = \\Lambda X.T$\n",
        "  \n",
        "  - Actualizar los nuevos parametros:\n",
        "    $\\Theta_{n+1}=\\Theta_{n}-\\alpha\\nabla J$\n"
      ],
      "metadata": {
        "id": "QrdgygNCZ3y1"
      }
    },
    {
      "cell_type": "code",
      "source": [
        "alpha = 0.01\n",
        "grad = (Lambda @ X.T) / m\n",
        "Theta = Theta - alpha * grad.flatten()\n",
        "Theta\n"
      ],
      "metadata": {
        "colab": {
          "base_uri": "https://localhost:8080/"
        },
        "id": "bj8m-_nlZ5Nn",
        "outputId": "9d6d6e91-d5fd-4d08-cd48-14bad56f21af"
      },
      "execution_count": 6,
      "outputs": [
        {
          "output_type": "execute_result",
          "data": {
            "text/plain": [
              "array([-0.00854745,  0.13116197, -0.85355151])"
            ]
          },
          "metadata": {},
          "execution_count": 6
        }
      ]
    },
    {
      "cell_type": "markdown",
      "source": [
        "6. Iterar para encontrar los valores $\\Theta$ que se ajustan el plano."
      ],
      "metadata": {
        "id": "55s4ix2CbsmE"
      }
    },
    {
      "cell_type": "code",
      "source": [
        "alpha = 0.01\n",
        "epochs = 2000\n",
        "\n",
        "for _ in range(epochs):\n",
        "    h = Theta.reshape(1, 3) @ X\n",
        "    Lambda = h - Y\n",
        "    grad = (Lambda @ X.T) / m\n",
        "    Theta = Theta - alpha * grad.flatten()\n",
        "\n",
        "Theta\n"
      ],
      "metadata": {
        "colab": {
          "base_uri": "https://localhost:8080/"
        },
        "id": "nbbQeObVbtWC",
        "outputId": "81da56f7-e32e-4374-bb35-5862bcb7720f"
      },
      "execution_count": 7,
      "outputs": [
        {
          "output_type": "execute_result",
          "data": {
            "text/plain": [
              "array([-9.06060063e-11,  2.10000000e+00, -3.10000000e+00])"
            ]
          },
          "metadata": {},
          "execution_count": 7
        }
      ]
    },
    {
      "cell_type": "markdown",
      "source": [
        "7. Reescribir su código como una clase (ver ayuda)"
      ],
      "metadata": {
        "id": "2dQZo-ahcTCY"
      }
    },
    {
      "cell_type": "code",
      "source": [
        "import numpy as np\n",
        "\n",
        "class MultilinearRegresion:\n",
        "    def __init__(self, X, Y):\n",
        "        self.X = X\n",
        "        self.Y = Y.reshape(1, -1)\n",
        "        self.Nfeatures = X.shape[0]\n",
        "        self.m = X.shape[1]\n",
        "        self.theta = np.random.random(self.Nfeatures).reshape(self.Nfeatures, 1)\n",
        "\n",
        "    def model(self):\n",
        "        self.h = self.theta.T @ self.X\n",
        "\n",
        "    def costo(self):\n",
        "        self.J = (1 / (2 * self.m)) * np.sum((self.h - self.Y) ** 2)\n",
        "\n",
        "    def update_params(self, learning_rate):\n",
        "        grad = ((self.h - self.Y) @ self.X.T) / self.m\n",
        "        self.theta = self.theta - learning_rate * grad.T\n",
        "\n",
        "    def fit(self, learning_rate):\n",
        "        for _ in range(1000):\n",
        "            self.model()\n",
        "            self.costo()\n",
        "            self.update_params(learning_rate)\n"
      ],
      "metadata": {
        "id": "kk9WVbsQcUIf"
      },
      "execution_count": 9,
      "outputs": []
    },
    {
      "cell_type": "code",
      "source": [
        "modelo = MultilinearRegresion(X, y)\n",
        "modelo.fit(0.01)\n",
        "modelo.theta"
      ],
      "metadata": {
        "colab": {
          "base_uri": "https://localhost:8080/"
        },
        "id": "a9Swm0f1cg3G",
        "outputId": "f9401f1d-850a-4716-d1a3-9f531768f45f"
      },
      "execution_count": 10,
      "outputs": [
        {
          "output_type": "execute_result",
          "data": {
            "text/plain": [
              "array([[ 4.10981119e-05],\n",
              "       [ 2.10000086e+00],\n",
              "       [-3.09999993e+00]])"
            ]
          },
          "metadata": {},
          "execution_count": 10
        }
      ]
    }
  ],
  "metadata": {
    "colab": {
      "provenance": []
    },
    "kernelspec": {
      "display_name": "Python 3 (ipykernel)",
      "language": "python",
      "name": "python3"
    },
    "language_info": {
      "codemirror_mode": {
        "name": "ipython",
        "version": 3
      },
      "file_extension": ".py",
      "mimetype": "text/x-python",
      "name": "python",
      "nbconvert_exporter": "python",
      "pygments_lexer": "ipython3",
      "version": "3.10.9"
    }
  },
  "nbformat": 4,
  "nbformat_minor": 0
}