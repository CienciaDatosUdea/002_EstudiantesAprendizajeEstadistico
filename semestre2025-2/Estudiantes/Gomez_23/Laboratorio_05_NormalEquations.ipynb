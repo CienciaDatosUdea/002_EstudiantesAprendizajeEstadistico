{
  "nbformat": 4,
  "nbformat_minor": 0,
  "metadata": {
    "colab": {
      "provenance": []
    },
    "kernelspec": {
      "name": "python3",
      "display_name": "Python 3"
    },
    "language_info": {
      "name": "python"
    }
  },
  "cells": [
    {
      "cell_type": "code",
      "source": [
        "#from sklearn.datasets import load_boston\n",
        "import pandas as pd\n",
        "import numpy as np\n",
        "import matplotlib.pyplot as plt\n",
        "from matplotlib import cm\n",
        "#from matplotlib.ticker import LinearLocator\n",
        "import numpy as np"
      ],
      "metadata": {
        "id": "hbqaKjD9FvBR"
      },
      "execution_count": 4,
      "outputs": []
    },
    {
      "cell_type": "markdown",
      "source": [
        "Demostración solicitada:"
      ],
      "metadata": {
        "id": "g-H1VIGNqmeE"
      }
    },
    {
      "cell_type": "markdown",
      "source": [
        "Demostracion\n",
        "sea X∈ℝ^{n×m} , Xᵀ∈ℝ^{m×n}\n",
        "\n",
        "sea Y∈ℝ^{m×1} , Yᵀ∈ℝ^{1×m}\n",
        "\n",
        "sea Θ∈ℝ^{n×1} , Θᵀ∈ℝ^{1×n}\n",
        "\n",
        "Luego la función de coste puede ser escrita como:\n",
        "\n",
        "J = (ΘᵀX − Yᵀ)(ΘᵀX − Yᵀ)ᵀ\n",
        "\n",
        "Primero desarrollamos el producto:\n",
        "\n",
        "J = (ΘᵀX)(ΘᵀX)ᵀ − (ΘᵀX)Y − Yᵀ(ΘᵀX)ᵀ + YᵀY\n",
        "\n",
        "Ahora reordenamos los términos para que se vea igual a una resta doble:\n",
        "\n",
        "J = (ΘᵀX)(ΘᵀX)ᵀ − (Yᵀ(ΘᵀX)ᵀ)ᵀ − Yᵀ(ΘᵀX)ᵀ + YᵀY\n",
        "\n",
        "Como los dos términos del medio son iguales, los juntamos y queda:\n",
        "\n",
        "J = (ΘᵀX)(ΘᵀX)ᵀ − 2(ΘᵀX)Y + YᵀY\n",
        "\n",
        "Ahora derivamos J con respecto a Θ paso a paso.\n",
        "\n",
        "dJ/dΘ = X(ΘᵀX)ᵀ + (ΘᵀX)Xᵀ − 2XY\n",
        "\n",
        "Simplificamos los dos primeros términos, que son iguales:\n",
        "\n",
        "dJ/dΘ = 2X(ΘᵀX)ᵀ − 2XY\n",
        "\n",
        "El término (ΘᵀX)ᵀ es igual a XᵀΘ, entonces:\n",
        "\n",
        "dJ/dΘ = 2X(XᵀΘ) − 2XY\n",
        "\n",
        "Igualamos la derivada a cero para encontrar el mínimo:\n",
        "\n",
        "2X(XᵀΘ) − 2XY = 0\n",
        "\n",
        "Simplificamos quitando el 2:\n",
        "\n",
        "(XXᵀ)Θ = XY\n",
        "\n",
        "Multiplicamos por la inversa de (XXᵀ) en ambos lados:\n",
        "\n",
        "(XXᵀ)(XXᵀ)⁻¹Θ = (XXᵀ)⁻¹XY\n",
        "\n",
        "Entonces obtenemos la solución final:\n",
        "\n",
        "Θ = (XXᵀ)⁻¹XY"
      ],
      "metadata": {
        "id": "inGIoeWbqoJA"
      }
    },
    {
      "cell_type": "markdown",
      "source": [
        "1. Para los datos del laboratorio anterior aplicar la ecuacion normal."
      ],
      "metadata": {
        "id": "Hlj5KLV7QyhT"
      }
    },
    {
      "cell_type": "code",
      "source": [
        "np.random.seed(123)\n",
        "n = 100\n",
        "x1 = np.random.rand(n,1)\n",
        "x2 = np.random.rand(n,1)\n",
        "coso1 = 5\n",
        "coefx1 = 2.1\n",
        "coefx2 = -3.1\n",
        "y = coso1 + coefx1 * x1 + coefx2 * x2\n",
        "\n",
        "f = len(y)\n",
        "unos = np.ones((f,1))\n",
        "x = np.hstack((unos, x1, x2))\n",
        "y = y.reshape(f,1)\n",
        "\n",
        "xt = x.T\n",
        "xtx = np.dot(xt, x)\n",
        "xtx_inv = np.linalg.inv(xtx)\n",
        "xty = np.dot(xt, y)\n",
        "theta = np.dot(xtx_inv, xty)\n",
        "\n",
        "pred = np.dot(x, theta)\n",
        "\n",
        "print(theta)\n"
      ],
      "metadata": {
        "id": "5QxGMcI3Qw-9",
        "colab": {
          "base_uri": "https://localhost:8080/"
        },
        "outputId": "c9be1cfb-5ba3-44ed-e19a-d518415b2547"
      },
      "execution_count": 3,
      "outputs": [
        {
          "output_type": "stream",
          "name": "stdout",
          "text": [
            "[[ 5. ]\n",
            " [ 2.1]\n",
            " [-3.1]]\n"
          ]
        }
      ]
    },
    {
      "cell_type": "markdown",
      "source": [
        "El código genera datos aleatorios con dos variables y una salida que depende linealmente de ellas (recordar datos del laboratorio 4). Aquí se aplica la ecuación normal para calcular los parámetros del modelo de regresión lineal múltiple. El resultado muestra los coeficientes estimados, que se acercan a los valores originales usados para crear los datos, donde se confirmaque el método logra recuperarbien la relación entre las variables y la salida."
      ],
      "metadata": {
        "id": "cKLWlH4ExWOm"
      }
    },
    {
      "cell_type": "markdown",
      "source": [
        "2. Tomar el dataset de las casas de Boston y construir un modelo de regresión mutivariada."
      ],
      "metadata": {
        "id": "q60dDyv2wS36"
      }
    },
    {
      "cell_type": "code",
      "source": [
        "\n",
        "datosurl = \"http://lib.stat.cmu.edu/datasets/boston\"\n",
        "raw = pd.read_csv(datosurl, sep=\"\\s+\", skiprows=22, header=None)\n",
        "\n",
        "parte1 = raw.values[::2, :]\n",
        "parte2 = raw.values[1::2, :2]\n",
        "datos = np.hstack([parte1, parte2])\n",
        "objetivo = raw.values[1::2, 2]\n",
        "\n",
        "filas = datos.shape[0]\n",
        "cols = datos.shape[1]\n",
        "\n",
        "unos = np.ones((filas,1))\n",
        "X = np.hstack((unos, datos))\n",
        "Y = objetivo.reshape(filas,1)\n",
        "\n",
        "print(\"filas\", filas)\n",
        "print(\"columnas datos\", cols)\n",
        "print(\"primeras filas X\")\n",
        "print(X[:5])\n",
        "print(\"primeros valores Y\")\n",
        "print(Y[:5])\n",
        "\n",
        "XT = X.T\n",
        "XTX = np.dot(XT, X)\n",
        "XTY = np.dot(XT, Y)\n",
        "\n",
        "print(\"shape XT\", XT.shape)\n",
        "print(\"shape XTX\", XTX.shape)\n",
        "print(\"shape XTY\", XTY.shape)\n",
        "\n",
        "XTXinv = np.linalg.inv(XTX)\n",
        "\n",
        "theta = np.dot(XTXinv, XTY)\n",
        "\n",
        "print(\"parametros theta\")\n",
        "for i, val in enumerate(theta.flatten()):\n",
        "    print(i, val)\n",
        "\n",
        "pred = np.dot(X, theta)\n",
        "\n",
        "resid = Y - pred\n",
        "SSE = np.sum(resid**2)\n",
        "MSE = SSE / filas\n",
        "RMSE = np.sqrt(MSE)\n",
        "\n",
        "mediaY = np.mean(Y)\n",
        "SST = np.sum((Y - mediaY)**2)\n",
        "R2 = 1 - SSE / SST\n",
        "\n",
        "print(\"SSE\", SSE)\n",
        "print(\"MSE\", MSE)\n",
        "print(\"RMSE\", RMSE)\n",
        "print(\"SST\", SST)\n",
        "print(\"R2\", R2)\n",
        "\n",
        "primeraspred = np.hstack((Y[:10], pred[:10]))\n",
        "print(\"real predicho\")\n",
        "print(primeraspred)\n",
        "\n",
        "coefdic = {}\n",
        "for i in range(theta.shape[0]):\n",
        "    coefdic[\"b\"+str(i)] = float(theta[i,0])\n",
        "\n",
        "print(\"diccionario coeficientes\")\n",
        "print(coefdic)"
      ],
      "metadata": {
        "colab": {
          "base_uri": "https://localhost:8080/"
        },
        "id": "hGdIoBE2wRyN",
        "outputId": "b42de802-fcc3-4d83-dca3-beba3338a757"
      },
      "execution_count": 6,
      "outputs": [
        {
          "output_type": "stream",
          "name": "stderr",
          "text": [
            "<>:2: SyntaxWarning: invalid escape sequence '\\s'\n",
            "<>:2: SyntaxWarning: invalid escape sequence '\\s'\n",
            "/tmp/ipython-input-157592516.py:2: SyntaxWarning: invalid escape sequence '\\s'\n",
            "  raw = pd.read_csv(datosurl, sep=\"\\s+\", skiprows=22, header=None)\n"
          ]
        },
        {
          "output_type": "stream",
          "name": "stdout",
          "text": [
            "filas 506\n",
            "columnas datos 13\n",
            "primeras filas X\n",
            "[[1.0000e+00 6.3200e-03 1.8000e+01 2.3100e+00 0.0000e+00 5.3800e-01\n",
            "  6.5750e+00 6.5200e+01 4.0900e+00 1.0000e+00 2.9600e+02 1.5300e+01\n",
            "  3.9690e+02 4.9800e+00]\n",
            " [1.0000e+00 2.7310e-02 0.0000e+00 7.0700e+00 0.0000e+00 4.6900e-01\n",
            "  6.4210e+00 7.8900e+01 4.9671e+00 2.0000e+00 2.4200e+02 1.7800e+01\n",
            "  3.9690e+02 9.1400e+00]\n",
            " [1.0000e+00 2.7290e-02 0.0000e+00 7.0700e+00 0.0000e+00 4.6900e-01\n",
            "  7.1850e+00 6.1100e+01 4.9671e+00 2.0000e+00 2.4200e+02 1.7800e+01\n",
            "  3.9283e+02 4.0300e+00]\n",
            " [1.0000e+00 3.2370e-02 0.0000e+00 2.1800e+00 0.0000e+00 4.5800e-01\n",
            "  6.9980e+00 4.5800e+01 6.0622e+00 3.0000e+00 2.2200e+02 1.8700e+01\n",
            "  3.9463e+02 2.9400e+00]\n",
            " [1.0000e+00 6.9050e-02 0.0000e+00 2.1800e+00 0.0000e+00 4.5800e-01\n",
            "  7.1470e+00 5.4200e+01 6.0622e+00 3.0000e+00 2.2200e+02 1.8700e+01\n",
            "  3.9690e+02 5.3300e+00]]\n",
            "primeros valores Y\n",
            "[[24. ]\n",
            " [21.6]\n",
            " [34.7]\n",
            " [33.4]\n",
            " [36.2]]\n",
            "shape XT (14, 506)\n",
            "shape XTX (14, 14)\n",
            "shape XTY (14, 1)\n",
            "parametros theta\n",
            "0 36.45948838506433\n",
            "1 -0.10801135783679694\n",
            "2 0.046420458366892015\n",
            "3 0.020558626367204874\n",
            "4 2.686733819344317\n",
            "5 -17.76661122830167\n",
            "6 3.8098652068108265\n",
            "7 0.0006922246403513466\n",
            "8 -1.4755668455999777\n",
            "9 0.30604947898513246\n",
            "10 -0.012334593916575848\n",
            "11 -0.9527472317068577\n",
            "12 0.009311683273796723\n",
            "13 -0.5247583778554024\n",
            "SSE 11078.784577954977\n",
            "MSE 21.894831181729202\n",
            "RMSE 4.679191295697281\n",
            "SST 42716.29541501977\n",
            "R2 0.7406426641094095\n",
            "real predicho\n",
            "[[24.         30.00384338]\n",
            " [21.6        25.02556238]\n",
            " [34.7        30.56759672]\n",
            " [33.4        28.60703649]\n",
            " [36.2        27.94352423]\n",
            " [28.7        25.25628446]\n",
            " [22.9        23.00180827]\n",
            " [27.1        19.53598843]\n",
            " [16.5        11.52363685]\n",
            " [18.9        18.92026211]]\n",
            "diccionario coeficientes\n",
            "{'b0': 36.45948838506433, 'b1': -0.10801135783679694, 'b2': 0.046420458366892015, 'b3': 0.020558626367204874, 'b4': 2.686733819344317, 'b5': -17.76661122830167, 'b6': 3.8098652068108265, 'b7': 0.0006922246403513466, 'b8': -1.4755668455999777, 'b9': 0.30604947898513246, 'b10': -0.012334593916575848, 'b11': -0.9527472317068577, 'b12': 0.009311683273796723, 'b13': -0.5247583778554024}\n"
          ]
        }
      ]
    },
    {
      "cell_type": "markdown",
      "source": [
        "El código anterior toma los datos del conjunto de viviendas de Boston y aplica la ecuación normal para construir un modelo de regresión lineal múltiple. Primero organiza los datos y les agrega una columna de unos para incluir el término independiente. Despúes observar que se calculan los parámetros del modelo usando operaciones de matrices, obteniendo así los coeficientes que mejor ajustan las variables de entrada a los valores reales del precio de las casas. Después de generar las predicciones, mide el error y la calidad del ajuste mediante métricas como el error cuadrático medio y el coeficiente de determinación R². aquí podemos ver que el modelo logra estimar los precios con un buen nivel de precisión al cogerr la relación entre las características de las viviendas y su valor, donde se ve la utilidad de la regresión multivariada en este tipo de problemas."
      ],
      "metadata": {
        "id": "O6AivP2Dw7dD"
      }
    }
  ]
}