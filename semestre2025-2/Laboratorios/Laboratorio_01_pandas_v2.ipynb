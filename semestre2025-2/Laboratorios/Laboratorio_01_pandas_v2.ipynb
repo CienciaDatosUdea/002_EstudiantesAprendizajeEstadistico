{
 "cells": [
  {
   "cell_type": "markdown",
   "metadata": {
    "id": "nB0enqgBgefd"
   },
   "source": [
    "<a href=\"https://colab.research.google.com/github/CienciaDatosUdea/002_EstudiantesAprendizajeEstadistico/blob/main/semestre2025-2/Laboratorios/Laboratorio_01_pandas_v2.ipynb\" target=\"_parent\"><img src=\"https://colab.research.google.com/assets/colab-badge.svg\" alt=\"Open In Colab\"/></a>\n"
   ]
  },
  {
   "cell_type": "markdown",
   "metadata": {
    "id": "dzhBd58dWJXq"
   },
   "source": [
    "## Análisis de datos con pandas. \n",
    "\n",
    "Para el siguiente [dataset](https://archive.ics.uci.edu/ml/datasets/Breast+Cancer+Wisconsin+%28Diagnostic%29) realizar lo siguiente:\n",
    "\n",
    "\n",
    "1. Leer los datos desde una página web.\n",
    "\n",
    "2. Renombrar las columnas en formato PascalCase.\n",
    "\n",
    "3. Utilizar los métodos `head()`, `tail()`, `describe()` e `info()` para obtener información sobre el `DataFrame`.\n",
    "\n",
    "4. Contabilizar la cantidad de valores nulos (`null` o `NaN`) en el `DataFrame`.\n",
    "   Si se encuentran valores nulos, ¿qué estrategia propondrías para reemplazarlos?\n",
    "\n",
    "5. Identificar los valores únicos en la columna `target` que representan las etiquetas B y M (Benigno y Maligno, respectivamente).\n",
    "   Utiliza el método `unique()` para mostrar estos valores.\n",
    "\n",
    "6. Realizar un conteo de los casos etiquetados como B y M utilizando la librería `seaborn` y el método `countplot()`:\n",
    "\n",
    "```python\n",
    "import seaborn as sns\n",
    "sns.countplot?\n",
    "```\n",
    "\n",
    "7. Agregar una nueva columna llamada `DiagnosisNumeric` donde se asigna el valor 0 a la etiqueta B (Benigno) y el valor 1 a la etiqueta M (Maligno).\n",
    "\n",
    "\n",
    "8. Normalizar cada columna respecto a su media y desviación estándar utilizando la fórmula:  \n",
    "   `(x - mean(x)) / std(x)`\n",
    "\n",
    "9. Agrupar características similares y calcular su promedio.\n",
    "   Para las siguientes características:\n",
    "\n",
    "```python\n",
    "['RadiusMean', 'TextureMean', 'PerimeterMean', 'AreaMean', 'SmoothnessMean', 'CompactnessMean', 'ConcavityMean', 'ConcavePointsMean', \"SymmetryMean\", \"FractalDimensionMean\"]\n",
    "```\n",
    "\n",
    "Usa expresiones regulares para identificar patrones comunes, como `radius1`, `radius2`,`radius3`, etc., y calcular los promedios. Por ejemplo:\n",
    "\n",
    "```python\n",
    "re.match(r'^[a-zA-Z_]+', \"holamundo12341\").group(0)\n",
    "```\n",
    "\n",
    "También puedes utilizar el método `startswith()` para buscar estos patrones en los nombres de las columnas.\n",
    "\n",
    "\n",
    "10. Crear un gráfico donde se muestre el histograma de la columna `RadiusMean` separado por las etiquetas B y M, utilizando colores diferentes (naranja y azul, respectivamente) para cada diagnóstico.\n",
    "\n",
    "11. Generar gráficos de violín para múltiples características.\n",
    "   Para las columnas:\n",
    "\n",
    "   - `RadiusMean`\n",
    "   - `TextureMean`\n",
    "   - `PerimeterMean`\n",
    "   - `AreaMean`\n",
    "   - `SmoothnessMean`\n",
    "   - `CompactnessMean`\n",
    "   - `ConcavityMean`\n",
    "   - `ConcavePointsMean`\n",
    "   - `Symmetry3`\n",
    "   - `FractalDimension3`\n",
    "\n",
    "   Realiza un gráfico múltiple tipo violín, como en el siguiente ejemplo:\n",
    "\n",
    "```python\n",
    "data = pd.melt(df.iloc[:, 0:10], id_vars=\"Diagnosis\", var_name=\"features\", value_name=\"value\")\n",
    "sns.violinplot(x=\"features\", y=\"value\", hue=\"Diagnosis\", data=data, split=True, inner=\"quart\")\n",
    "plt.xticks(rotation=45)\n",
    "```\n",
    "\n",
    "\n",
    "12.  Determinar y eliminar los valores atípicos (`outliers`) en la columna `RadiusMean`.\n",
    "\n",
    "Para identificarlos, construye un gráfico tipo `boxplot`:\n",
    "\n",
    "```python\n",
    "df.boxplot(column=\"RadiusMean\", by='Diagnosis', sym='k.', figsize=(18,6))\n",
    "```\n",
    "\n",
    "Usa el rango intercuartílico (IQR) para definir los outliers. Los valores fuera del rango [Q1 - 1.5 * IQR, Q3 + 1.5 * IQR] se consideran outliers. Ejemplo de cómo eliminar estos valores:\n",
    "\n",
    "```python\n",
    "Q1 = df['edad'].quantile(0.25)\n",
    "Q3 = df['edad'].quantile(0.75)\n",
    "IQR = Q3 - Q1\n",
    "df = df[~((df['edad'] < (Q1 - 1.5 * IQR)) | (df['edad'] > (Q3 + 1.5 * IQR)))]\n",
    "```\n",
    "\n",
    "Otra alternativa es utilizar el puntaje Z para detectar `outliers`:\n",
    "\n",
    "```python \n",
    "df = df[(np.abs(stats.zscore(df['edad'])) < 3)]\n",
    "```\n",
    "\n",
    "\n",
    "\n",
    "13. Encontrar la matrix de correlación, emplear el metodo corr(), dentro de seaborn buscar el metodo heatmap() para realizar un grafico de la matrix de correlación.\n",
    "\n",
    "14. ¿Que otro tipo de gráficos pueden ser realizados para entender mejor los datos?\n",
    "\n"
   ]
  },
  {
   "cell_type": "markdown",
   "metadata": {
    "id": "dg5T-MejYZf-"
   },
   "source": []
  },
  {
   "cell_type": "code",
   "execution_count": null,
   "metadata": {
    "id": "nyhIUpJmfXQr"
   },
   "outputs": [],
   "source": []
  }
 ],
 "metadata": {
  "colab": {
   "provenance": []
  },
  "kernelspec": {
   "display_name": "python-ml",
   "language": "python",
   "name": "python3"
  },
  "language_info": {
   "codemirror_mode": {
    "name": "ipython",
    "version": 3
   },
   "file_extension": ".py",
   "mimetype": "text/x-python",
   "name": "python",
   "nbconvert_exporter": "python",
   "pygments_lexer": "ipython3",
   "version": "3.12.3"
  }
 },
 "nbformat": 4,
 "nbformat_minor": 1
}
